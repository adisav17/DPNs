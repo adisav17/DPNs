{
  "cells": [
    {
      "cell_type": "markdown",
      "metadata": {
        "id": "view-in-github",
        "colab_type": "text"
      },
      "source": [
        "<a href=\"https://colab.research.google.com/github/sakshamgarg/Augmenting-Dirichlet-Network/blob/main/New_2_CV_dirichlet_3_Resnet_Temp_Scaling_old_loss_fgsm.ipynb\" target=\"_parent\"><img src=\"https://colab.research.google.com/assets/colab-badge.svg\" alt=\"Open In Colab\"/></a>"
      ]
    },
    {
      "cell_type": "code",
      "execution_count": 2,
      "metadata": {
        "id": "TouVm6f1TKxR"
      },
      "outputs": [],
      "source": [
        "import torch\n",
        "import torch.nn as nn\n",
        "import torch.nn.functional as F\n",
        "import torch.optim as optim\n",
        "import seaborn as sns\n",
        "import torch.distributions as dist\n",
        "from mpl_toolkits import mplot3d\n",
        "from torch.distributions.dirichlet import Dirichlet\n",
        "\n",
        "from scipy.stats import multivariate_normal\n",
        "from scipy.stats import norm\n",
        "\n",
        "import torchvision\n",
        "import numpy as np\n",
        "import matplotlib.pyplot as plt\n",
        "from matplotlib import cm\n",
        "import sys\n",
        "import pandas as pd\n",
        "\n",
        "import torch\n",
        "import torch.nn as nn\n",
        "import torch.nn.functional as F\n",
        "import torch.optim as optim\n",
        "import torchvision.transforms as transforms\n",
        "\n",
        "from scipy.stats import multivariate_normal\n",
        "from scipy.stats import norm\n",
        "\n",
        "import matplotlib.pyplot as plt\n",
        "from matplotlib import cm\n",
        "import sys\n",
        "\n",
        "import torch.distributions as dist\n",
        "from torch.distributions.dirichlet import Dirichlet\n",
        "import torch\n",
        "import torch.nn as nn\n",
        "import torch.nn.functional as F\n",
        "import torch.optim as optim\n",
        "\n",
        "import torch.distributions as dist\n",
        "from torch.distributions.dirichlet import Dirichlet\n",
        "\n",
        "from sklearn.metrics import roc_auc_score, roc_curve\n",
        "from sklearn.metrics import precision_recall_curve, auc\n",
        "\n",
        "device = torch.device('cuda' if torch.cuda.is_available() else 'cpu')\n",
        "     "
      ]
    },
    {
      "cell_type": "code",
      "execution_count": 3,
      "metadata": {
        "id": "IFojIpBuTldv"
      },
      "outputs": [],
      "source": [
        "cifar_mean = (0.4914, 0.4822, 0.4465)\n",
        "cifar_std = (0.2470, 0.2435, 0.2616)                                             \n",
        "cifar_transform =  transforms.Compose(\n",
        "      [transforms.ToTensor(),\n",
        "     transforms.Normalize(cifar_mean, cifar_std)])"
      ]
    },
    {
      "cell_type": "code",
      "execution_count": 4,
      "metadata": {
        "colab": {
          "base_uri": "https://localhost:8080/",
          "height": 288,
          "referenced_widgets": [
            "ca319797cff6425ca445f73361d2cb9c",
            "6a420b3319c447bf80578ef1bef9ad34",
            "bf9309f20bcb4ae6aa48fc5ac73ef7bd",
            "3e0cc348f83e487fb0a2906f9dee0068",
            "cf8ac1db1949417392e20db7009a36c1",
            "080d2e31d2b649feba83cb117c674fb4",
            "12aef78cdda7493597da7869cd74e42d",
            "79b2bc3e12e447859b58c85a0a59b5cc",
            "0f1e7402737141de82596ed9c47ed496",
            "cc0d204541d443e0821298f5273e4e76",
            "9bda1ce2ad5d4c73afe446cadf86f40c",
            "129856872e9947fe89486205e4060ac4",
            "2f81aa58146d46feb44093f34bafe90f",
            "175e8c5198b44cad9ff6e228eb397475",
            "aa0952ae7afa4e5cbf3e83f77f283d98",
            "ecb9c838ea9e47e0a778ab4e9419f038",
            "44f871748cff4d75abd80bd32013a34f",
            "72d3816c462e41fab03f916961d7651b",
            "4eeb178426964271834789b4c164d746",
            "0d3c0a714191442584649477d265b903",
            "e559332f71bd430485171b64d39e4396",
            "ec59d56f741947eaabed88ae90536b7f",
            "5b16e0a6427b4f94aca6a15a85a9a114",
            "aaf25e51ac82422e82c619fba430c0a7",
            "bcbaa94e2ed44433b2482420df8cb378",
            "045a2e1e977041edb198f3d04a50965e",
            "c5675a72dc8b481faebeb80cc6215973",
            "29624c4b50b841aa8528c82f2373fd4e",
            "86bcc7c426964bbe8448e1879d520d2b",
            "f9a4378f86264e3596c4c7a496c9029b",
            "b8aecf53dfc54ce8a670edc8aeec2225",
            "7f3aba0050e94f2ea4072f181a2505c3",
            "a75e6db916254cfeae1be65be4f2cb5d",
            "c9a0e42449474ff3a8288892f25ee65b",
            "7dac81858b204fb888dbf5755e140ef9",
            "b9b5d309b810458487290812770248f5",
            "0a197d5d85f74b529d58d2a6e9fd6a10",
            "dc7431a47ef74d9ab6ee66a9b36f40cb",
            "de516bac7c204dbd8596d2e2a5a20294",
            "67bfb4d256c04d5daee6836b422fe728",
            "aaa837d1000d4e81b5bc2e72c73dea16",
            "e7c1abfdbbe548b6a44507d9d6c0cbf9",
            "2008028a2d0a440fa4f9029ce874d408",
            "7ade1133ba0b4fbabc73635d49ba87e7"
          ]
        },
        "id": "qmHF1WeETrVK",
        "outputId": "51e8f602-7ab5-4d56-8710-0f81c5d47292"
      },
      "outputs": [
        {
          "output_type": "stream",
          "name": "stdout",
          "text": [
            "Downloading https://www.cs.toronto.edu/~kriz/cifar-10-python.tar.gz to ./files/cifar-10-python.tar.gz\n"
          ]
        },
        {
          "output_type": "display_data",
          "data": {
            "text/plain": [
              "  0%|          | 0/170498071 [00:00<?, ?it/s]"
            ],
            "application/vnd.jupyter.widget-view+json": {
              "version_major": 2,
              "version_minor": 0,
              "model_id": "ca319797cff6425ca445f73361d2cb9c"
            }
          },
          "metadata": {}
        },
        {
          "output_type": "stream",
          "name": "stdout",
          "text": [
            "Extracting ./files/cifar-10-python.tar.gz to ./files/\n",
            "Files already downloaded and verified\n",
            "Downloading https://www.cs.toronto.edu/~kriz/cifar-10-python.tar.gz to ./data/cifar-10-python.tar.gz\n"
          ]
        },
        {
          "output_type": "display_data",
          "data": {
            "text/plain": [
              "  0%|          | 0/170498071 [00:00<?, ?it/s]"
            ],
            "application/vnd.jupyter.widget-view+json": {
              "version_major": 2,
              "version_minor": 0,
              "model_id": "129856872e9947fe89486205e4060ac4"
            }
          },
          "metadata": {}
        },
        {
          "output_type": "stream",
          "name": "stdout",
          "text": [
            "Extracting ./data/cifar-10-python.tar.gz to ./data\n",
            "Files already downloaded and verified\n",
            "Downloading http://ufldl.stanford.edu/housenumbers/train_32x32.mat to ./data/train_32x32.mat\n"
          ]
        },
        {
          "output_type": "display_data",
          "data": {
            "text/plain": [
              "  0%|          | 0/182040794 [00:00<?, ?it/s]"
            ],
            "application/vnd.jupyter.widget-view+json": {
              "version_major": 2,
              "version_minor": 0,
              "model_id": "5b16e0a6427b4f94aca6a15a85a9a114"
            }
          },
          "metadata": {}
        },
        {
          "output_type": "stream",
          "name": "stdout",
          "text": [
            "Downloading http://ufldl.stanford.edu/housenumbers/test_32x32.mat to ./data/test_32x32.mat\n"
          ]
        },
        {
          "output_type": "display_data",
          "data": {
            "text/plain": [
              "  0%|          | 0/64275384 [00:00<?, ?it/s]"
            ],
            "application/vnd.jupyter.widget-view+json": {
              "version_major": 2,
              "version_minor": 0,
              "model_id": "c9a0e42449474ff3a8288892f25ee65b"
            }
          },
          "metadata": {}
        }
      ],
      "source": [
        "train_in = torchvision.datasets.CIFAR10('./files/', train=True, download=True,\n",
        "                                        transform=cifar_transform)\n",
        "test_in = torchvision.datasets.CIFAR10('./files/', train=False, download=True,\n",
        "                                        transform=cifar_transform)\n",
        "train_out_new = torchvision.datasets.CIFAR10('./data', train=True, download=True,\n",
        "                                        transform=cifar_transform)\n",
        "test_out_new = torchvision.datasets.CIFAR10('./data', train=False, download=True,\n",
        "                                        transform=cifar_transform)\n",
        "train_out = torchvision.datasets.SVHN('./data', split ='train', download=True,\n",
        "                                        transform=cifar_transform)\n",
        "test_out = torchvision.datasets.SVHN('./data', split ='test', download=True,\n",
        "                                        transform=cifar_transform)"
      ]
    },
    {
      "cell_type": "code",
      "execution_count": 7,
      "metadata": {
        "colab": {
          "base_uri": "https://localhost:8080/"
        },
        "id": "OpuFL-dLT_-D",
        "outputId": "8910cc84-303c-4311-aaec-3cac4f02a3c1"
      },
      "outputs": [
        {
          "output_type": "stream",
          "name": "stdout",
          "text": [
            "Mounted at /content/drive\n",
            "/content/drive/My Drive\n"
          ]
        },
        {
          "output_type": "execute_result",
          "data": {
            "text/plain": [
              "<All keys matched successfully>"
            ]
          },
          "metadata": {},
          "execution_count": 7
        }
      ],
      "source": [
        "from google.colab import drive\n",
        "drive.mount('/content/drive')\n",
        "%cd /content/drive/My Drive/\n",
        "! python resnet.py\n",
        "from resnet import *\n",
        "model = resnet18()\n",
        "model.load_state_dict(torch.load('resnet18.pt'))\n"
      ]
    },
    {
      "cell_type": "code",
      "source": [
        "from torch.autograd import Variable\n",
        "args_logscale = False\n",
        "criterion = nn.CrossEntropyLoss()\n",
        "criterion.to(device)\n",
        "min_pixel = -3\n",
        "max_pixel = 3\n",
        "args_epsilon = 0.2\n",
        "model = model.to(device)\n",
        "\n",
        "def fgsm(cnn, images, labels, eps=0.03):\n",
        "    images_adv = Variable(images.data, requires_grad=True).cuda()\n",
        "    images_adv.retain_grad()\n",
        "    pre_logits = cnn(images_adv)\n",
        "    cost = -criterion(pre_logits, labels)\n",
        "    \n",
        "    cnn.zero_grad()\n",
        "    if images_adv.grad is not None:\n",
        "        images_adv.grad.data.fill_(0)\n",
        "    cost.backward()\n",
        "\n",
        "    images_adv.grad.sign_()\n",
        "    images_adv = images_adv - eps * images_adv.grad\n",
        "    images_adv = torch.clamp(images_adv, min_pixel, max_pixel)\n",
        "    return images_adv\n",
        "\n",
        "def get_fgsm_images(data_loader):\n",
        "  fgsm_new_images = None\n",
        "  for i, ind_data in enumerate(data_loader):\n",
        "    if type(ind_data) == list:\n",
        "        images, labels = ind_data\n",
        "    else:\n",
        "        images = ind_data\n",
        "    labels = Variable(labels).cuda()\n",
        "\n",
        "    adv_images = fgsm(model, images, labels, eps=args_epsilon)\n",
        "    if i == 0:\n",
        "      fgsm_new_images = adv_images\n",
        "    else:\n",
        "      fgsm_new_images = torch.cat((fgsm_new_images, adv_images))\n",
        "  return fgsm_new_images\n",
        "\n",
        "\n",
        "train_out_new_loader = torch.utils.data.DataLoader(dataset=train_out_new,\n",
        "                                         batch_size=64,\n",
        "                                         shuffle=True,\n",
        "                                         pin_memory=True)\n",
        "\n",
        "test_out_new_loader = torch.utils.data.DataLoader(dataset=test_out_new,\n",
        "                                         batch_size=64,\n",
        "                                         shuffle=True,\n",
        "                                         pin_memory=True)\n",
        "\n",
        "train_out_new.data = get_fgsm_images(train_out_new_loader)\n",
        "test_out_new.data = get_fgsm_images(test_out_new_loader)\n",
        "\n",
        "train_out_new.targets = torch.tensor(np.ones(len(train_out_new.targets))*10, dtype=torch.long)\n",
        "test_out_new.targets = torch.tensor(np.ones(len(test_out_new.targets))*10, dtype=torch.long)\n"
      ],
      "metadata": {
        "id": "TPS2Rd-6G56x"
      },
      "execution_count": 8,
      "outputs": []
    },
    {
      "cell_type": "code",
      "execution_count": 9,
      "metadata": {
        "id": "Ry_6bN88Tvc9"
      },
      "outputs": [],
      "source": [
        "# train_out.data = np.vstack(train_out.data).reshape(-1, 32, 32, 3)\n",
        "train_out_new.data = train_out_new.data.cpu().detach().numpy()\n",
        "train_out_new.data = train_out_new.data.reshape(-1, 32, 32, 3).astype(np.uint8)"
      ]
    },
    {
      "cell_type": "code",
      "execution_count": 10,
      "metadata": {
        "id": "fR_B6S6HT1Yr"
      },
      "outputs": [],
      "source": [
        "train_in.data = torch.from_numpy(train_in.data)\n",
        "# train_out.data = torch.from_numpy(train_out.data)"
      ]
    },
    {
      "cell_type": "code",
      "execution_count": 11,
      "metadata": {
        "id": "zFWYYA0oT4XW"
      },
      "outputs": [],
      "source": [
        "# train_out.targets = torch.tensor(np.ones(len(train_out.labels))*10, dtype=torch.long)\n",
        "# test_out.targets = torch.tensor(np.ones(len(test_out.labels))*10, dtype=torch.long)\n",
        "\n",
        "# train_all = train_in\n",
        "# train_all.data = torch.cat((train_in.data, train_out.data))\n",
        "# train_all.targets = torch.cat((torch.IntTensor(np.array(train_in.targets)), torch.IntTensor(np.array(train_out.targets))))\n",
        "# train_all.data = train_all.data.cpu().detach().numpy()\n",
        "# train_all.targets = train_all.targets.data.cpu().detach().numpy()\n",
        "train_all = train_in\n",
        "train_all.data = torch.cat((train_in.data, torch.tensor(train_out_new.data)))\n",
        "train_all.targets = torch.cat((torch.IntTensor(np.array(train_in.targets)), train_out_new.targets))\n",
        "train_all.data = train_all.data.cpu().detach().numpy()\n",
        "train_all.targets = train_all.targets.data.cpu().detach().numpy()"
      ]
    },
    {
      "cell_type": "code",
      "execution_count": 12,
      "metadata": {
        "id": "zu0G5E1IT81_"
      },
      "outputs": [],
      "source": [
        "train_loader = torch.utils.data.DataLoader(train_all, batch_size=64)"
      ]
    },
    {
      "cell_type": "code",
      "execution_count": 13,
      "metadata": {
        "id": "aZz-haFIVN8J"
      },
      "outputs": [],
      "source": [
        "def get_resnet_features(data, model):\n",
        "  \n",
        "      x = model.conv1(data)\n",
        "      x = model.bn1(x)\n",
        "      x = model.relu(x)\n",
        "      x = model.maxpool(x)\n",
        "\n",
        "      x = model.layer1(x)\n",
        "      x = model.layer2(x)\n",
        "      x = model.layer3(x)\n",
        "      x = model.layer4(x)\n",
        "\n",
        "      x = model.avgpool(x)\n",
        "      x = x.reshape(x.size(0), -1)\n",
        "\n",
        "      return x"
      ]
    },
    {
      "cell_type": "code",
      "source": [
        "def get_temperatures(targets):\n",
        "    temperature = targets.clone().cpu().detach()\n",
        "    temperature = temperature.apply_(lambda x: 1 if (x == 10) else 5)\n",
        "    return temperature.to(device)"
      ],
      "metadata": {
        "id": "7l6qE0mNGLJJ"
      },
      "execution_count": 14,
      "outputs": []
    },
    {
      "cell_type": "code",
      "execution_count": 15,
      "metadata": {
        "id": "njva0ZFfVcFE"
      },
      "outputs": [],
      "source": [
        "def get_resnet_output(data, model, targets):\n",
        "  temp = get_temperatures(targets)\n",
        "  y = model.forward(data)\n",
        "  try:\n",
        "      exp_y = temp.unsqueeze(1) * y \n",
        "  except:\n",
        "      exp_y = temp * y\n",
        "  y = torch.nn.functional.softmax(exp_y, dim = 1)\n",
        "  return y"
      ]
    },
    {
      "cell_type": "code",
      "execution_count": 16,
      "metadata": {
        "id": "OXZPaW3QgYEu"
      },
      "outputs": [],
      "source": [
        "model = model.to(device)\n",
        "model = model.to(torch.float64)\n",
        "\n",
        "model = model.type(torch.FloatTensor).to(device)"
      ]
    },
    {
      "cell_type": "code",
      "execution_count": null,
      "metadata": {
        "id": "IKk7D2v5mjaf"
      },
      "outputs": [],
      "source": [
        "\n",
        "\n",
        "# testdata = torchvision.datasets.CIFAR10('/files/', train=False, download=True,\n",
        "#                                         transform=cifar_transform)\n",
        "# testloader = torch.utils.data.DataLoader(testdata, batch_size=32)\n"
      ]
    },
    {
      "cell_type": "code",
      "execution_count": null,
      "metadata": {
        "id": "OpXAQDFuifJP"
      },
      "outputs": [],
      "source": [
        "# RUN EVAL\n",
        "# my_model = resnet18()\n",
        "# my_model.load_state_dict(torch.load('resnet18.pt'))\n",
        "# model = model.cuda()\n",
        "# model.eval()\n",
        "# correct = 0\n",
        "# total = 0\n",
        "# for data in testloader:\n",
        "#     inputs, labels = data\n",
        "#     inputs, labels = inputs.cuda(), labels.cuda()\n",
        "#     outputs = model(torch.autograd.Variable(inputs))\n",
        "#     _, predicted = torch.max(outputs.data, 1)\n",
        "#     total += labels.size(0)\n",
        "#     correct += (predicted == labels).sum()\n",
        "\n",
        "# accuracy = correct / float(total)\n",
        "# print(accuracy)"
      ]
    },
    {
      "cell_type": "code",
      "execution_count": 17,
      "metadata": {
        "id": "hJ0rDwEoab5K"
      },
      "outputs": [],
      "source": [
        "# targets is a torch tensor of targets [3,4,5] for 3 in, [10,10,10] for 3 out, [3,10,1] in,out,im\n",
        "def target_alpha(targets):\n",
        "  target = targets.cpu().detach().numpy()\n",
        "  def gen_onehot(category, total_cat=10):\n",
        "    label = np.ones(total_cat)\n",
        "    label[category] = 20\n",
        "    return label\n",
        "  target_alphas = []\n",
        "  for i in target:\n",
        "    if i==10:\n",
        "      target_alphas.append(torch.tensor(np.ones(10)))\n",
        "    else:\n",
        "      target_alphas.append(torch.tensor(gen_onehot(i)))\n",
        "  return torch.stack(target_alphas).to(device)"
      ]
    },
    {
      "cell_type": "code",
      "execution_count": 18,
      "metadata": {
        "id": "cjiXRTN8bIKb"
      },
      "outputs": [],
      "source": [
        "# 1 for out, -1 for in\n",
        "def check_in_out_lambdas(target_alphas):\n",
        "\n",
        "  alpha_sum = target_alphas.sum(axis = 1)\n",
        "  alpha_sum = alpha_sum.cpu().detach()\n",
        "  lambdas =  alpha_sum.apply_(lambda x: 1 if(x==10) else -1)\n",
        "  return lambdas.to(device)\n"
      ]
    },
    {
      "cell_type": "code",
      "execution_count": 19,
      "metadata": {
        "id": "kr7USs8eZ5mz"
      },
      "outputs": [],
      "source": [
        "class PriorNet(nn.Module):\n",
        "    def __init__(self, input_dim=1, hidden_dim=1):\n",
        "        super().__init__()\n",
        "        self.fc1 = nn.Linear(input_dim, hidden_dim)\n",
        "        self.fc2 = nn.Linear(hidden_dim, 3)         # output_dim = 4\n",
        "\n",
        "    def forward(self, x):\n",
        "        x = F.relu(self.fc1(x))\n",
        "        x = self.fc2(x)\n",
        "        return x #F.softmax(x, dim=1)\n",
        "\n",
        "    def predict_alpha(self, x):\n",
        "      src = torch.Tensor(x).to(device)\n",
        "      output = torch.exp(self.forward(src))\n",
        "      return output\n",
        "\n",
        "    def predict_dir(self, x):\n",
        "      alpha = self.predict_alpha(x)\n",
        "      dirichlet = Dirichlet(alpha)\n",
        "      return dirichlet\n",
        "\n",
        "    def fit(self, epoch_num, optimizer, train_X, train_Y):\n",
        "      self.train()\n",
        "\n",
        "      n_train = len(train_X)\n",
        "\n",
        "      # Shuffle the input\n",
        "      index = np.arange(n_train)\n",
        "      np.random.shuffle(index)\n",
        "      train_x = train_X[index]\n",
        "      train_y = train_Y[index]\n",
        "\n",
        "      for epoch in range(epoch_num):\n",
        "        for i in range(n_train):\n",
        "          optimizer.zero_grad()\n",
        "          src = torch.Tensor(train_x[i:i+1]).to(device)\n",
        "          target = torch.Tensor(train_y[i:i+1]).to(device)\n",
        "          # Predicted alpha\n",
        "          output = torch.exp(self.forward(src))\n",
        "          dirichlet1 = Dirichlet(output)\n",
        "          dirichlet2 = Dirichlet(target)\n",
        "          loss = dist.kl.kl_divergence(dirichlet1, dirichlet2)\n",
        "          loss.backward()\n",
        "          optimizer.step()\n",
        "        print('Train Epoch: {} \\t Loss: {:.6f}'.format(epoch, loss.item()))\n",
        "    \n",
        "    def expected_entropy_from_alphas(self, alphas, alpha0):\n",
        "        return -torch.sum((alphas/alpha0)*(torch.digamma(alphas+1)-torch.digamma(alpha0+1)), dim=1)\n",
        "    \n",
        "    def categorical_entropy_torch(self, probs):\n",
        "        log_probs = torch.log(probs)\n",
        "        log_probs = torch.where(torch.isfinite(log_probs), log_probs, torch.zeros_like(log_probs))\n",
        "        entropy = -torch.sum(probs*log_probs, dim=1, keepdim=False)\n",
        "        return entropy\n",
        "\n",
        "    def mutual_information(self, x, tar):\n",
        "        \n",
        "        alphas = self.predict_alpha(x, model, tar)\n",
        "        alpha0 = torch.sum(alphas, dim=1, keepdim=True)\n",
        "        probs = alphas / alpha0\n",
        "\n",
        "        expected_entropy = self.expected_entropy_from_alphas(alphas, alpha0)\n",
        "        entropy_of_exp = self.categorical_entropy_torch(probs)\n",
        "        mutual_info = entropy_of_exp - expected_entropy\n",
        "        return mutual_info\n",
        "\n",
        "    def diffenrential_entropy(self, x, tar):\n",
        "        alphas = self.predict_alpha(x, model, tar)\n",
        "        alpha0 = torch.sum(alphas, dim=1, keepdim=True)\n",
        "        return torch.sum(\n",
        "            torch.lgamma(alphas)-(alphas-1)*(torch.digamma(alphas)-torch.digamma(alpha0)),\n",
        "            dim=1) - torch.lgamma(alpha0)\n",
        "\n",
        "    def entropy(self, x, tar):\n",
        "        alphas = self.predict_alpha(x, model, tar)\n",
        "        alpha0 = torch.sum(alphas, dim=1, keepdim=True)\n",
        "        probs = alphas / alpha0\n",
        "        ret = -torch.sum(probs*torch.log(probs), dim=1)\n",
        "        return ret"
      ]
    },
    {
      "cell_type": "code",
      "execution_count": 20,
      "metadata": {
        "id": "TqILo-m3a3k5"
      },
      "outputs": [],
      "source": [
        "\n",
        "augnet_path =  '/content/drive/MyDrive/CV_Project/augnet'\n",
        "file_name = 'augnet_resnet_temp_scale_old_loss'\n",
        "from os import truncate\n",
        "\n",
        "class AugNet(PriorNet):\n",
        "\n",
        "    def __init__(self, old_preds_dim, feature_dim, target_dim):\n",
        "        super().__init__()\n",
        "        self.y_dim = old_preds_dim\n",
        "        self.feature_dim = feature_dim\n",
        "        self.target_dim = target_dim\n",
        "        self.fc1 = nn.Linear(feature_dim, 1024)   \n",
        "        self.relu = torch.nn.ReLU()\n",
        "        self.fc2_1 = nn.Linear(1024, 512) \n",
        "        self.fc2_2 = nn.Linear(512,256)\n",
        "        #self.fc2 = nn.Linear(1024, 256)        \n",
        "        self.fc3 = nn.Linear(10 + 256, 512) \n",
        "        self.fc4 = nn.Linear(512, 256)\n",
        "        self.fc5 = nn.Linear(256,64)\n",
        "        self.fc6 = nn.Linear(64,10)\n",
        "        #self.fc6 = nn.Linear(128,10)\n",
        "     \n",
        "  \n",
        "\n",
        "    def forward(self, features, y):\n",
        "\n",
        "      x = self.fc1(features)\n",
        "      x = self.relu(x)\n",
        "      x = self.fc2_1(x)\n",
        "      x = self.relu(x)\n",
        "      x = self.fc2_2(x)\n",
        "      x = self.relu(x)\n",
        "      #x = self.fc3(x)\n",
        "      # print(\"x\")\n",
        "      # print(x.shape)\n",
        "      # print(\"y\")\n",
        "      # print(y.shape)\n",
        "\n",
        "      x = self.fc3(torch.cat((x,y), dim = 1) )\n",
        "      x = self.relu(x)\n",
        "      x = self.fc4(x)\n",
        "      x = self.relu(x)\n",
        "      x = self.fc5(x)\n",
        "      x = self.relu(x)\n",
        "      x = self.fc6(x)\n",
        "\n",
        "      return x\n",
        "\n",
        "\n",
        "    def predict_alpha(self, x, model, tar):\n",
        "            x = torch.FloatTensor(x).unsqueeze(0) \n",
        "            x = x.to(device)\n",
        "            x = x.reshape(-1, 3, 32, 32)\n",
        "            features = get_resnet_features(x, model)\n",
        "            t = torch.tensor(tar)\n",
        "            pred_outputs = get_resnet_output(x, model, t)\n",
        "#           src = torch.Tensor(x).to(device)\n",
        "            output = torch.exp(self.forward(features, pred_outputs))\n",
        "            return output\n",
        "\n",
        "    def predict_dir(self, x):\n",
        "      alpha = self.predict_alpha(x)\n",
        "      dirichlet = Dirichlet(alpha)\n",
        "      return dirichlet\n",
        "  \n",
        "    def fit(self, epoch_num, optimizer, model):\n",
        "      self.train()\n",
        "      loss_track = []\n",
        "      # Shuffle the input\n",
        "      train_loader = torch.utils.data.DataLoader(train_all, batch_size=64)\n",
        "\n",
        "      for epoch in range(epoch_num):\n",
        "\n",
        "\n",
        "        loss_total = 0\n",
        "        for batch_idx, (data, target) in enumerate(train_loader):\n",
        "\n",
        "          #print(type(data))\n",
        "          #print(data.shape)\n",
        "          #break\n",
        "\n",
        "          optimizer.zero_grad()\n",
        "          target = target.to(device)\n",
        "          data= data.type(torch.FloatTensor).to(device)\n",
        "          features = get_resnet_features(data,model)\n",
        "          features = features.detach().requires_grad_(False)\n",
        "          y = get_resnet_output(data,model,target)\n",
        "          y = y.detach().requires_grad_(False)\n",
        "\n",
        "        \n",
        "        #  # data = data.to(device)\n",
        "        #   target = target.to(device)\n",
        "         \n",
        "        #   #data = data.permute(0,3,1,2)\n",
        "        #   #data= data.to(torch.float64)\n",
        "        #   data= data.type(torch.FloatTensor).to(device)\n",
        "        #   #x =x.unsqueeze(0)\n",
        "          \n",
        "        #   features = get_resnet_features(data,model)\n",
        "        #   features = features.detach().requires_grad_(False)\n",
        "\n",
        "        #   y = get_resnet_output(data,model)\n",
        "        #   y = y.detach().requires_grad_(False)\n",
        "  \n",
        "          # predict alpha\n",
        "          target_a = target_alpha(target)\n",
        "          target_a = target_a.to(device)\n",
        "          out = self.forward(features, y)\n",
        "          output_alpha = torch.exp(out)\n",
        "          # residual_alpha = output_alpha + \n",
        "\n",
        "          dirichlet1 = Dirichlet(output_alpha)\n",
        "          dirichlet2 = Dirichlet(target_a)\n",
        "          lambdas = check_in_out_lambdas(target_a)\n",
        "          sgm_alpha = torch.sigmoid(output_alpha) \n",
        "\n",
        "\n",
        "          loss = torch.sum(dist.kl.kl_divergence(dirichlet1, dirichlet2))  + torch.sum(lambdas * torch.mean(sgm_alpha,1))\n",
        "          loss_total += loss.item()\n",
        "          loss.backward(retain_graph=True)\n",
        "          optimizer.step()\n",
        "\n",
        "\n",
        "        print('Train Epoch: {} \\t Loss: {:.6f}'.format(epoch, loss_total/120000))\n",
        "        loss_track.append(loss_total)\n",
        "\n",
        "        if(epoch%4 == 0):\n",
        "        \n",
        "          torch.save({\n",
        "              'epoch': epoch,\n",
        "              'model_state_dict': self.state_dict(),\n",
        "              'optimizer_state_dict': optimizer.state_dict(),\n",
        "              'loss': loss_track,\n",
        "              }, f\"{augnet_path}/{file_name+str(epoch)+'.pth'}\")\n",
        "        \n",
        "      return loss_track\n",
        "    \n",
        "    def max_prob(self, x, tar):\n",
        "        alphas = self.predict_alpha(x, model, tar)\n",
        "        alpha0 = torch.sum(alphas, dim=1, keepdim=True)\n",
        "        probs = alphas / alpha0\n",
        "        conf = torch.max(probs, dim=1)\n",
        "        return conf.values"
      ]
    },
    {
      "cell_type": "code",
      "execution_count": 21,
      "metadata": {
        "colab": {
          "base_uri": "https://localhost:8080/"
        },
        "id": "_8PmctqndsB_",
        "outputId": "6e16a2ae-88b4-4971-d7e5-c61ee39e8fe8"
      },
      "outputs": [
        {
          "output_type": "stream",
          "name": "stdout",
          "text": [
            "Train Epoch: 0 \t Loss: 0.971798\n",
            "Train Epoch: 1 \t Loss: 1.126683\n",
            "Train Epoch: 2 \t Loss: 0.797849\n",
            "Train Epoch: 3 \t Loss: 0.862438\n",
            "Train Epoch: 4 \t Loss: 0.790347\n",
            "Train Epoch: 5 \t Loss: 0.777156\n",
            "Train Epoch: 6 \t Loss: 0.863618\n",
            "Train Epoch: 7 \t Loss: 0.744665\n",
            "Train Epoch: 8 \t Loss: 0.762681\n",
            "Train Epoch: 9 \t Loss: 0.816513\n",
            "Train Epoch: 10 \t Loss: 0.928355\n",
            "Train Epoch: 11 \t Loss: 0.765192\n",
            "Train Epoch: 12 \t Loss: 0.760482\n",
            "Train Epoch: 13 \t Loss: 0.846140\n",
            "Train Epoch: 14 \t Loss: 0.668013\n",
            "Train Epoch: 15 \t Loss: 0.678873\n",
            "Train Epoch: 16 \t Loss: 0.791097\n",
            "Train Epoch: 17 \t Loss: 0.710420\n",
            "Train Epoch: 18 \t Loss: 0.697385\n",
            "Train Epoch: 19 \t Loss: 0.800766\n",
            "Train Epoch: 20 \t Loss: 0.661022\n",
            "Train Epoch: 21 \t Loss: 1.325196\n",
            "Train Epoch: 22 \t Loss: 0.680251\n",
            "Train Epoch: 23 \t Loss: 0.767423\n",
            "Train Epoch: 24 \t Loss: 0.740001\n",
            "Train Epoch: 25 \t Loss: 0.695722\n",
            "Train Epoch: 26 \t Loss: 0.701285\n",
            "Train Epoch: 27 \t Loss: 0.665919\n",
            "Train Epoch: 28 \t Loss: 0.887563\n",
            "Train Epoch: 29 \t Loss: 0.760051\n",
            "Train Epoch: 30 \t Loss: 0.663348\n",
            "Train Epoch: 31 \t Loss: 0.749551\n"
          ]
        }
      ],
      "source": [
        "dpn = AugNet(10,512,10)\n",
        "dpn.to(device)\n",
        "optimizer = optim.Adam(dpn.parameters(), lr=0.001)\n",
        "torch.nn.utils.clip_grad_norm_(dpn.parameters(), 3.0)\n",
        "losses = dpn.fit(32, optimizer, model)"
      ]
    },
    {
      "cell_type": "code",
      "source": [
        "dpn_model = torch.load('/content/drive/MyDrive/CV_Project/augnet/augnet_resnet_temp_scale_old_loss20.pth')\n",
        "dpn.load_state_dict(dpn_model['model_state_dict'])"
      ],
      "metadata": {
        "colab": {
          "base_uri": "https://localhost:8080/"
        },
        "id": "oA801-NLTWC6",
        "outputId": "0dcfd5b7-2c12-4b7a-815b-40d2680b2104"
      },
      "execution_count": 27,
      "outputs": [
        {
          "output_type": "execute_result",
          "data": {
            "text/plain": [
              "<All keys matched successfully>"
            ]
          },
          "metadata": {},
          "execution_count": 27
        }
      ]
    },
    {
      "cell_type": "code",
      "execution_count": 28,
      "metadata": {
        "id": "QwZUpf0j0iTC",
        "colab": {
          "base_uri": "https://localhost:8080/"
        },
        "outputId": "f7a1e9b9-4ea8-4182-a9bf-1082c3bf2466"
      },
      "outputs": [
        {
          "output_type": "stream",
          "name": "stdout",
          "text": [
            "Files already downloaded and verified\n",
            "Using downloaded and verified file: ./data/test_32x32.mat\n"
          ]
        }
      ],
      "source": [
        "test_in_full = torchvision.datasets.CIFAR10('./files/', train=False, download=True,\n",
        "                                        transform=cifar_transform)\n",
        "test_out_full = torchvision.datasets.SVHN('./data', split ='test', download=True,\n",
        "                                        transform=cifar_transform)"
      ]
    },
    {
      "cell_type": "code",
      "execution_count": 29,
      "metadata": {
        "id": "IPkq41AI0yiy"
      },
      "outputs": [],
      "source": [
        "test_out_full.targets = torch.tensor(np.ones(len(test_out_full.labels))*10, dtype=torch.long) "
      ]
    },
    {
      "cell_type": "code",
      "execution_count": 30,
      "metadata": {
        "id": "AKVj-FKH04NP"
      },
      "outputs": [],
      "source": [
        "test_in_cut = test_in_full\n",
        "test_out_cut = test_out_full"
      ]
    },
    {
      "cell_type": "code",
      "execution_count": 31,
      "metadata": {
        "id": "Zg2fgA-E09Z5"
      },
      "outputs": [],
      "source": [
        "test_in_cut.data = test_in_full.data[0:1000]\n",
        "test_in_cut.targets = test_in_full.targets[0:1000]\n",
        "test_out_cut.data = test_out_full.data[0:1000]\n",
        "test_out_cut.targets = test_out_full.labels[0:1000]\n",
        "test_in = test_in_cut\n",
        "test_out = test_out_cut"
      ]
    },
    {
      "cell_type": "code",
      "execution_count": 32,
      "metadata": {
        "id": "Ohnr7EVQr3kn"
      },
      "outputs": [],
      "source": [
        "# miscood.py\n",
        "\n",
        "def uncertainty_score(dpn, test_data, test_targets, metrics):\n",
        "  dpn.eval()\n",
        "  score_lst = []\n",
        "  for i in range(len(test_data)):\n",
        "    x = test_data[i]\n",
        "    tar = test_targets[i]\n",
        "#     print(x.shape)\n",
        "#     print(tar.shape)\n",
        "    with torch.no_grad():\n",
        "      if metrics=='DE':\n",
        "        score = dpn.diffenrential_entropy(x, tar).data.cpu().numpy()[0][0]\n",
        "      elif metrics=='MI':\n",
        "        score = dpn.mutual_information(x, tar).data.cpu().numpy()[0]\n",
        "      elif metrics=='MAXP':\n",
        "        score = dpn.max_prob(x, tar).data.cpu().numpy()[0]\n",
        "      elif metrics=='ENT':\n",
        "        score = dpn.entropy(x, tar).data.cpu().numpy()[0]\n",
        "    score_lst.append(score)\n",
        "  return score_lst\n",
        "\n",
        "\n",
        "def get_ood_label_score(test_in_score, test_out_score):\n",
        "  score = np.concatenate([test_in_score, test_out_score])\n",
        "  label = np.concatenate((np.zeros(len(test_in_score)), np.ones(len(test_out_score))))\n",
        "  return label, score\n",
        "  \n",
        "def get_misc_label_score(dpn, test_data, test_label, test_in_score):\n",
        "  misc_label = np.zeros(len(test_label))\n",
        "\n",
        "  for i in range(len(test_data)):\n",
        "    x = test_data[i]\n",
        "    tar = test_label[i]\n",
        "#     x = [x]\n",
        "    with torch.no_grad():\n",
        "      pred = dpn.predict_alpha(x, model, tar)\n",
        "      pred_class = torch.max(pred[0], 0).indices\n",
        "      misc_label[i] = 1-torch.eq(torch.tensor(test_label[i]), pred_class).sum().cpu().numpy()\n",
        "\n",
        "  return misc_label, np.array(test_in_score)\n",
        "\n",
        "def plot_roc(label, score, label_name):\n",
        "  fpr, tpr, thresholds = roc_curve(label, score)\n",
        "  plt.plot(fpr, tpr, label=label_name)\n",
        "  plt.xlabel('False Positive')\n",
        "  plt.ylabel('True Positive')\n",
        "  plt.title('ROC')\n",
        "  plt.ylim(0.0, 1.0)\n",
        "  plt.xlim(0.0, 1.0)\n",
        "\n",
        "def plot_pr(label, score, label_name):\n",
        "  precision, recall, thresholds = precision_recall_curve(label, score)\n",
        "  plt.plot(recall, precision, label=label_name)\n",
        "  plt.xlabel('Recall')\n",
        "  plt.ylabel('Precision')\n",
        "  plt.title('Precision-Recall Curve')\n",
        "  plt.ylim(0.0, 1.0)\n",
        "  plt.xlim(0.0, 1.0)\n",
        "\n",
        "\n",
        "def get_auroc_aupr(label, score):\n",
        "  auroc = roc_auc_score(label, score)\n",
        "  precision, recall, thresholds = precision_recall_curve(label, score)\n",
        "  aupr = auc(recall, precision)\n",
        "  return auroc, aupr\n",
        "\n",
        "\n",
        "def get_test_roc_pr(network, metrics, detect='ood'):\n",
        "  test_in_score = uncertainty_score(network, test_in.data, test_in.targets, metrics)\n",
        "  test_out_score = uncertainty_score(network, test_out.data, test_out.targets, metrics)\n",
        "  if detect=='ood':\n",
        "    label_dp, score_dp = get_ood_label_score(test_in_score, test_out_score)\n",
        "  elif detect=='misc':\n",
        "    label_dp, score_dp = get_misc_label_score(network, test_in.data,\n",
        "                                              test_in.targets, test_in_score)\n",
        "  if metrics=='MAXP':\n",
        "    score_dp = -score_dp\n",
        "\n",
        "  index = np.isposinf(score_dp)\n",
        "  score_dp[np.isposinf(score_dp)] = 1e9\n",
        "  maximum = np.amax(score_dp)\n",
        "  score_dp[np.isposinf(score_dp)] = maximum + 1\n",
        "\n",
        "  index = np.isneginf(score_dp)\n",
        "  score_dp[np.isneginf(score_dp)] = -1e9\n",
        "  minimum = np.amin(score_dp)\n",
        "  score_dp[np.isneginf(score_dp)] = minimum - 1\n",
        "\n",
        "  score_dp[np.isnan(score_dp)] = 0\n",
        "\n",
        "  auroc, aupr = get_auroc_aupr(label_dp, score_dp)\n",
        "  return auroc, aupr, label_dp, score_dp"
      ]
    },
    {
      "cell_type": "code",
      "execution_count": 33,
      "metadata": {
        "id": "LavkmbSzyPzN"
      },
      "outputs": [],
      "source": [
        "auroc_mp, aupr_mp, label_mp, score_mp = get_test_roc_pr(dpn, 'MAXP', 'misc')\n",
        "auroc_ent, aupr_ent, label_ent, score_ent = get_test_roc_pr(dpn, 'ENT', 'misc')\n",
        "auroc_mi, aupr_mi, label_mi, score_mi = get_test_roc_pr(dpn, 'MI', 'misc')\n",
        "auroc_de, aupr_de, label_de, score_de = get_test_roc_pr(dpn, 'DE', 'misc')"
      ]
    },
    {
      "cell_type": "code",
      "execution_count": 34,
      "metadata": {
        "colab": {
          "base_uri": "https://localhost:8080/",
          "height": 112
        },
        "id": "5F5kvjLzySaM",
        "outputId": "1d0888f7-cc45-48b1-9971-d43e8d3e541a"
      },
      "outputs": [
        {
          "output_type": "execute_result",
          "data": {
            "text/plain": [
              "          Max.P       Ent        MI     D.Ent\n",
              "AUROC  0.502649  0.503615  0.479619  0.515670\n",
              "AUPR   0.899952  0.918444  0.888676  0.898298"
            ],
            "text/html": [
              "\n",
              "  <div id=\"df-17c28c81-240b-4c29-9ebc-cee971e19d5d\">\n",
              "    <div class=\"colab-df-container\">\n",
              "      <div>\n",
              "<style scoped>\n",
              "    .dataframe tbody tr th:only-of-type {\n",
              "        vertical-align: middle;\n",
              "    }\n",
              "\n",
              "    .dataframe tbody tr th {\n",
              "        vertical-align: top;\n",
              "    }\n",
              "\n",
              "    .dataframe thead th {\n",
              "        text-align: right;\n",
              "    }\n",
              "</style>\n",
              "<table border=\"1\" class=\"dataframe\">\n",
              "  <thead>\n",
              "    <tr style=\"text-align: right;\">\n",
              "      <th></th>\n",
              "      <th>Max.P</th>\n",
              "      <th>Ent</th>\n",
              "      <th>MI</th>\n",
              "      <th>D.Ent</th>\n",
              "    </tr>\n",
              "  </thead>\n",
              "  <tbody>\n",
              "    <tr>\n",
              "      <th>AUROC</th>\n",
              "      <td>0.502649</td>\n",
              "      <td>0.503615</td>\n",
              "      <td>0.479619</td>\n",
              "      <td>0.515670</td>\n",
              "    </tr>\n",
              "    <tr>\n",
              "      <th>AUPR</th>\n",
              "      <td>0.899952</td>\n",
              "      <td>0.918444</td>\n",
              "      <td>0.888676</td>\n",
              "      <td>0.898298</td>\n",
              "    </tr>\n",
              "  </tbody>\n",
              "</table>\n",
              "</div>\n",
              "      <button class=\"colab-df-convert\" onclick=\"convertToInteractive('df-17c28c81-240b-4c29-9ebc-cee971e19d5d')\"\n",
              "              title=\"Convert this dataframe to an interactive table.\"\n",
              "              style=\"display:none;\">\n",
              "        \n",
              "  <svg xmlns=\"http://www.w3.org/2000/svg\" height=\"24px\"viewBox=\"0 0 24 24\"\n",
              "       width=\"24px\">\n",
              "    <path d=\"M0 0h24v24H0V0z\" fill=\"none\"/>\n",
              "    <path d=\"M18.56 5.44l.94 2.06.94-2.06 2.06-.94-2.06-.94-.94-2.06-.94 2.06-2.06.94zm-11 1L8.5 8.5l.94-2.06 2.06-.94-2.06-.94L8.5 2.5l-.94 2.06-2.06.94zm10 10l.94 2.06.94-2.06 2.06-.94-2.06-.94-.94-2.06-.94 2.06-2.06.94z\"/><path d=\"M17.41 7.96l-1.37-1.37c-.4-.4-.92-.59-1.43-.59-.52 0-1.04.2-1.43.59L10.3 9.45l-7.72 7.72c-.78.78-.78 2.05 0 2.83L4 21.41c.39.39.9.59 1.41.59.51 0 1.02-.2 1.41-.59l7.78-7.78 2.81-2.81c.8-.78.8-2.07 0-2.86zM5.41 20L4 18.59l7.72-7.72 1.47 1.35L5.41 20z\"/>\n",
              "  </svg>\n",
              "      </button>\n",
              "      \n",
              "  <style>\n",
              "    .colab-df-container {\n",
              "      display:flex;\n",
              "      flex-wrap:wrap;\n",
              "      gap: 12px;\n",
              "    }\n",
              "\n",
              "    .colab-df-convert {\n",
              "      background-color: #E8F0FE;\n",
              "      border: none;\n",
              "      border-radius: 50%;\n",
              "      cursor: pointer;\n",
              "      display: none;\n",
              "      fill: #1967D2;\n",
              "      height: 32px;\n",
              "      padding: 0 0 0 0;\n",
              "      width: 32px;\n",
              "    }\n",
              "\n",
              "    .colab-df-convert:hover {\n",
              "      background-color: #E2EBFA;\n",
              "      box-shadow: 0px 1px 2px rgba(60, 64, 67, 0.3), 0px 1px 3px 1px rgba(60, 64, 67, 0.15);\n",
              "      fill: #174EA6;\n",
              "    }\n",
              "\n",
              "    [theme=dark] .colab-df-convert {\n",
              "      background-color: #3B4455;\n",
              "      fill: #D2E3FC;\n",
              "    }\n",
              "\n",
              "    [theme=dark] .colab-df-convert:hover {\n",
              "      background-color: #434B5C;\n",
              "      box-shadow: 0px 1px 3px 1px rgba(0, 0, 0, 0.15);\n",
              "      filter: drop-shadow(0px 1px 2px rgba(0, 0, 0, 0.3));\n",
              "      fill: #FFFFFF;\n",
              "    }\n",
              "  </style>\n",
              "\n",
              "      <script>\n",
              "        const buttonEl =\n",
              "          document.querySelector('#df-17c28c81-240b-4c29-9ebc-cee971e19d5d button.colab-df-convert');\n",
              "        buttonEl.style.display =\n",
              "          google.colab.kernel.accessAllowed ? 'block' : 'none';\n",
              "\n",
              "        async function convertToInteractive(key) {\n",
              "          const element = document.querySelector('#df-17c28c81-240b-4c29-9ebc-cee971e19d5d');\n",
              "          const dataTable =\n",
              "            await google.colab.kernel.invokeFunction('convertToInteractive',\n",
              "                                                     [key], {});\n",
              "          if (!dataTable) return;\n",
              "\n",
              "          const docLinkHtml = 'Like what you see? Visit the ' +\n",
              "            '<a target=\"_blank\" href=https://colab.research.google.com/notebooks/data_table.ipynb>data table notebook</a>'\n",
              "            + ' to learn more about interactive tables.';\n",
              "          element.innerHTML = '';\n",
              "          dataTable['output_type'] = 'display_data';\n",
              "          await google.colab.output.renderOutput(dataTable, element);\n",
              "          const docLink = document.createElement('div');\n",
              "          docLink.innerHTML = docLinkHtml;\n",
              "          element.appendChild(docLink);\n",
              "        }\n",
              "      </script>\n",
              "    </div>\n",
              "  </div>\n",
              "  "
            ]
          },
          "metadata": {},
          "execution_count": 34
        }
      ],
      "source": [
        "auroc_lst = [auroc_mp, auroc_ent, auroc_mi, auroc_de]\n",
        "aupr_lst = [aupr_mp, aupr_ent, aupr_mi, aupr_de]\n",
        "\n",
        "pd.DataFrame(data=np.array([auroc_lst, aupr_lst]), \n",
        "             columns=['Max.P', 'Ent', 'MI', 'D.Ent'], \n",
        "             index=['AUROC', 'AUPR'])"
      ]
    },
    {
      "cell_type": "code",
      "execution_count": 35,
      "metadata": {
        "colab": {
          "base_uri": "https://localhost:8080/",
          "height": 295
        },
        "id": "UDLwpRLPyTGm",
        "outputId": "fad06210-f4fa-4a4c-8028-67e341c000a3"
      },
      "outputs": [
        {
          "output_type": "display_data",
          "data": {
            "text/plain": [
              "<Figure size 432x288 with 1 Axes>"
            ],
            "image/png": "[encoded data removed]"
          },
          "metadata": {
            "needs_background": "light"
          }
        }
      ],
      "source": [
        "plot_roc(label_mp, score_mp, label_name='MAX.P')\n",
        "plot_roc(label_ent, score_ent, label_name='ENT')\n",
        "plot_roc(label_mi, score_mi, label_name='MI')\n",
        "plot_roc(label_de, score_de, label_name='D.ENT')\n",
        "plt.legend()\n",
        "plt.show()"
      ]
    },
    {
      "cell_type": "code",
      "execution_count": 36,
      "metadata": {
        "colab": {
          "base_uri": "https://localhost:8080/",
          "height": 295
        },
        "id": "Xqy9icczyVW6",
        "outputId": "6303cfac-a4ac-4547-c669-ea3b6aa816d1"
      },
      "outputs": [
        {
          "output_type": "display_data",
          "data": {
            "text/plain": [
              "<Figure size 432x288 with 1 Axes>"
            ],
            "image/png": "[encoded data removed]"
          },
          "metadata": {
            "needs_background": "light"
          }
        }
      ],
      "source": [
        "plot_pr(label_mp, score_mp, label_name='MAX.P')\n",
        "plot_pr(label_ent, score_ent, label_name='ENT')\n",
        "plot_pr(label_mi, score_mi, label_name='MI')\n",
        "plot_pr(label_de, score_de, label_name='D.ENT')\n",
        "plt.legend()\n",
        "plt.show()"
      ]
    },
    {
      "cell_type": "code",
      "execution_count": 37,
      "metadata": {
        "id": "1WBF6rlWyZKU"
      },
      "outputs": [],
      "source": [
        "auroc_mp_ood, aupr_mp_ood, label_mp_ood, score_mp_ood = get_test_roc_pr(dpn, 'MAXP', 'ood')\n",
        "auroc_ent_ood, aupr_ent_ood, label_ent_ood_ood, score_ent_ood = get_test_roc_pr(dpn, 'ENT', 'ood')\n",
        "auroc_mi_ood, aupr_mi_ood_ood, label_mi_ood, score_mi_ood = get_test_roc_pr(dpn, 'MI', 'ood')\n",
        "auroc_de_ood, aupr_de_ood, label_de_ood, score_de_ood = get_test_roc_pr(dpn, 'DE', 'ood')"
      ]
    },
    {
      "cell_type": "code",
      "execution_count": 38,
      "metadata": {
        "colab": {
          "base_uri": "https://localhost:8080/",
          "height": 112
        },
        "id": "E9rOLelkyZ2P",
        "outputId": "650f5417-9e99-4105-8e75-31100388120e"
      },
      "outputs": [
        {
          "output_type": "execute_result",
          "data": {
            "text/plain": [
              "          Max.P       Ent        MI     D.Ent\n",
              "AUROC  0.574281  0.549841  0.529694  0.489220\n",
              "AUPR   0.553598  0.552487  0.513391  0.471688"
            ],
            "text/html": [
              "\n",
              "  <div id=\"df-84a1584f-cbd5-4328-bf17-8e27c3940596\">\n",
              "    <div class=\"colab-df-container\">\n",
              "      <div>\n",
              "<style scoped>\n",
              "    .dataframe tbody tr th:only-of-type {\n",
              "        vertical-align: middle;\n",
              "    }\n",
              "\n",
              "    .dataframe tbody tr th {\n",
              "        vertical-align: top;\n",
              "    }\n",
              "\n",
              "    .dataframe thead th {\n",
              "        text-align: right;\n",
              "    }\n",
              "</style>\n",
              "<table border=\"1\" class=\"dataframe\">\n",
              "  <thead>\n",
              "    <tr style=\"text-align: right;\">\n",
              "      <th></th>\n",
              "      <th>Max.P</th>\n",
              "      <th>Ent</th>\n",
              "      <th>MI</th>\n",
              "      <th>D.Ent</th>\n",
              "    </tr>\n",
              "  </thead>\n",
              "  <tbody>\n",
              "    <tr>\n",
              "      <th>AUROC</th>\n",
              "      <td>0.574281</td>\n",
              "      <td>0.549841</td>\n",
              "      <td>0.529694</td>\n",
              "      <td>0.489220</td>\n",
              "    </tr>\n",
              "    <tr>\n",
              "      <th>AUPR</th>\n",
              "      <td>0.553598</td>\n",
              "      <td>0.552487</td>\n",
              "      <td>0.513391</td>\n",
              "      <td>0.471688</td>\n",
              "    </tr>\n",
              "  </tbody>\n",
              "</table>\n",
              "</div>\n",
              "      <button class=\"colab-df-convert\" onclick=\"convertToInteractive('df-84a1584f-cbd5-4328-bf17-8e27c3940596')\"\n",
              "              title=\"Convert this dataframe to an interactive table.\"\n",
              "              style=\"display:none;\">\n",
              "        \n",
              "  <svg xmlns=\"http://www.w3.org/2000/svg\" height=\"24px\"viewBox=\"0 0 24 24\"\n",
              "       width=\"24px\">\n",
              "    <path d=\"M0 0h24v24H0V0z\" fill=\"none\"/>\n",
              "    <path d=\"M18.56 5.44l.94 2.06.94-2.06 2.06-.94-2.06-.94-.94-2.06-.94 2.06-2.06.94zm-11 1L8.5 8.5l.94-2.06 2.06-.94-2.06-.94L8.5 2.5l-.94 2.06-2.06.94zm10 10l.94 2.06.94-2.06 2.06-.94-2.06-.94-.94-2.06-.94 2.06-2.06.94z\"/><path d=\"M17.41 7.96l-1.37-1.37c-.4-.4-.92-.59-1.43-.59-.52 0-1.04.2-1.43.59L10.3 9.45l-7.72 7.72c-.78.78-.78 2.05 0 2.83L4 21.41c.39.39.9.59 1.41.59.51 0 1.02-.2 1.41-.59l7.78-7.78 2.81-2.81c.8-.78.8-2.07 0-2.86zM5.41 20L4 18.59l7.72-7.72 1.47 1.35L5.41 20z\"/>\n",
              "  </svg>\n",
              "      </button>\n",
              "      \n",
              "  <style>\n",
              "    .colab-df-container {\n",
              "      display:flex;\n",
              "      flex-wrap:wrap;\n",
              "      gap: 12px;\n",
              "    }\n",
              "\n",
              "    .colab-df-convert {\n",
              "      background-color: #E8F0FE;\n",
              "      border: none;\n",
              "      border-radius: 50%;\n",
              "      cursor: pointer;\n",
              "      display: none;\n",
              "      fill: #1967D2;\n",
              "      height: 32px;\n",
              "      padding: 0 0 0 0;\n",
              "      width: 32px;\n",
              "    }\n",
              "\n",
              "    .colab-df-convert:hover {\n",
              "      background-color: #E2EBFA;\n",
              "      box-shadow: 0px 1px 2px rgba(60, 64, 67, 0.3), 0px 1px 3px 1px rgba(60, 64, 67, 0.15);\n",
              "      fill: #174EA6;\n",
              "    }\n",
              "\n",
              "    [theme=dark] .colab-df-convert {\n",
              "      background-color: #3B4455;\n",
              "      fill: #D2E3FC;\n",
              "    }\n",
              "\n",
              "    [theme=dark] .colab-df-convert:hover {\n",
              "      background-color: #434B5C;\n",
              "      box-shadow: 0px 1px 3px 1px rgba(0, 0, 0, 0.15);\n",
              "      filter: drop-shadow(0px 1px 2px rgba(0, 0, 0, 0.3));\n",
              "      fill: #FFFFFF;\n",
              "    }\n",
              "  </style>\n",
              "\n",
              "      <script>\n",
              "        const buttonEl =\n",
              "          document.querySelector('#df-84a1584f-cbd5-4328-bf17-8e27c3940596 button.colab-df-convert');\n",
              "        buttonEl.style.display =\n",
              "          google.colab.kernel.accessAllowed ? 'block' : 'none';\n",
              "\n",
              "        async function convertToInteractive(key) {\n",
              "          const element = document.querySelector('#df-84a1584f-cbd5-4328-bf17-8e27c3940596');\n",
              "          const dataTable =\n",
              "            await google.colab.kernel.invokeFunction('convertToInteractive',\n",
              "                                                     [key], {});\n",
              "          if (!dataTable) return;\n",
              "\n",
              "          const docLinkHtml = 'Like what you see? Visit the ' +\n",
              "            '<a target=\"_blank\" href=https://colab.research.google.com/notebooks/data_table.ipynb>data table notebook</a>'\n",
              "            + ' to learn more about interactive tables.';\n",
              "          element.innerHTML = '';\n",
              "          dataTable['output_type'] = 'display_data';\n",
              "          await google.colab.output.renderOutput(dataTable, element);\n",
              "          const docLink = document.createElement('div');\n",
              "          docLink.innerHTML = docLinkHtml;\n",
              "          element.appendChild(docLink);\n",
              "        }\n",
              "      </script>\n",
              "    </div>\n",
              "  </div>\n",
              "  "
            ]
          },
          "metadata": {},
          "execution_count": 38
        }
      ],
      "source": [
        "auroc_lst_ood = [auroc_mp_ood, auroc_ent_ood, auroc_mi_ood, auroc_de_ood]\n",
        "aupr_lst_ood = [aupr_mp_ood, aupr_ent_ood, aupr_mi_ood_ood, aupr_de_ood]\n",
        "\n",
        "pd.DataFrame(data=np.array([auroc_lst_ood, aupr_lst_ood]), \n",
        "             columns=['Max.P', 'Ent', 'MI', 'D.Ent'], \n",
        "             index=['AUROC', 'AUPR'])"
      ]
    },
    {
      "cell_type": "code",
      "execution_count": 39,
      "metadata": {
        "colab": {
          "base_uri": "https://localhost:8080/",
          "height": 295
        },
        "id": "QQbhby9jyaDJ",
        "outputId": "17d5d023-635a-4564-eb0f-dda0f1b67eb1"
      },
      "outputs": [
        {
          "output_type": "display_data",
          "data": {
            "text/plain": [
              "<Figure size 432x288 with 1 Axes>"
            ],
            "image/png": "[encoded data removed]"
          },
          "metadata": {
            "needs_background": "light"
          }
        }
      ],
      "source": [
        "plot_roc(label_mp_ood, score_mp_ood, label_name='MAX.P')\n",
        "plot_roc(label_ent_ood_ood, score_ent_ood, label_name='ENT')\n",
        "plot_roc(label_mi_ood, score_mi_ood, label_name='MI')\n",
        "plot_roc(label_de_ood, score_de_ood, label_name='D.ENT')\n",
        "plt.legend()\n",
        "plt.show()"
      ]
    },
    {
      "cell_type": "code",
      "execution_count": 40,
      "metadata": {
        "colab": {
          "base_uri": "https://localhost:8080/",
          "height": 295
        },
        "id": "VCVE2D09yeYL",
        "outputId": "6bf1559a-d75e-4c7f-9777-361122ac7ac4"
      },
      "outputs": [
        {
          "output_type": "display_data",
          "data": {
            "text/plain": [
              "<Figure size 432x288 with 1 Axes>"
            ],
            "image/png": "[encoded data removed]"
          },
          "metadata": {
            "needs_background": "light"
          }
        }
      ],
      "source": [
        "plot_pr(label_mp_ood, score_mp_ood, label_name='MAX.P')\n",
        "plot_pr(label_ent_ood_ood, score_ent_ood, label_name='ENT')\n",
        "plot_pr(label_mi_ood, score_mi_ood, label_name='MI')\n",
        "plot_pr(label_de_ood, score_de_ood, label_name='D.ENT')\n",
        "plt.legend()\n",
        "plt.show()"
      ]
    },
    {
      "cell_type": "code",
      "execution_count": 41,
      "metadata": {
        "id": "1r_V9k3HygXn"
      },
      "outputs": [],
      "source": [
        "#dnn = resnet18(PriorNet)\n",
        "\n",
        "#dnn.load_state_dict(torch.load('resnet18.pt'))\n",
        "#auroc_mp, aupr_mp, _, _ = get_test_roc_pr(dnn, 'MAXP', 'misc')\n",
        "#auroc_ent, aupr_ent, _, _ = get_test_roc_pr(dnn, 'ENT', 'misc')\n",
        "\n",
        "#auroc_lst = [auroc_mp, auroc_ent]\n",
        "#aupr_lst = [aupr_mp, aupr_ent]\n",
        "\n",
        "#pd.DataFrame(data=np.array([auroc_lst, aupr_lst]), \n",
        "#             columns=['Max.P', 'Ent'], \n",
        "#             index=['AUROC', 'AUPR'])"
      ]
    },
    {
      "cell_type": "code",
      "execution_count": 42,
      "metadata": {
        "id": "lHXc05GJD5Wy"
      },
      "outputs": [],
      "source": [
        "def get_dnn_maxprob_score(model, data):\n",
        "   \n",
        "   Scores = []\n",
        "   for y in data: \n",
        "\n",
        "      x = torch.FloatTensor(y).unsqueeze(0) \n",
        "      x = x.to(device)\n",
        "      x = x.reshape(-1, 3, 32, 32)\n",
        "      probs = get_resnet_output(x, model)\n",
        "      #alpha0 = torch.sum(alphas, dim=1, keepdim=True)\n",
        "      #probs = alphas / alpha0\n",
        "      conf = torch.max(probs, dim=1)\n",
        "      Scores.append(conf.values)\n",
        "\n",
        "   return Scores   \n",
        "    "
      ]
    },
    {
      "cell_type": "code",
      "execution_count": 43,
      "metadata": {
        "id": "k9qUR_c4E1OF"
      },
      "outputs": [],
      "source": [
        "def get_dnn_entropy_score(model, data):\n",
        "\n",
        "  Scores = []\n",
        "  for y in data:\n",
        "\n",
        "      \n",
        "      x = torch.FloatTensor(y).unsqueeze(0) \n",
        "      x = x.to(device)\n",
        "      x = x.reshape(-1, 3, 32, 32)\n",
        "      probs = get_resnet_output(x, model) \n",
        "      #alpha0 = torch.sum(alphas, dim=1, keepdim=True)\n",
        "      #probs = alphas / alpha0\n",
        "      ret = -torch.sum(probs*torch.log(probs), dim=1)\n",
        "      Scores.append(ret)\n",
        "\n",
        "  return Scores  \n"
      ]
    },
    {
      "cell_type": "code",
      "execution_count": 44,
      "metadata": {
        "id": "SsXC3E2cG8mO"
      },
      "outputs": [],
      "source": [
        "  \n",
        "def get_misc_label_score_dnn(dnn, test_data, test_label, test_in_score):\n",
        "  misc_label = np.zeros(len(test_label))\n",
        "\n",
        "  for i in range(len(test_data)):\n",
        "    x = test_data[i]\n",
        "    x = torch.FloatTensor(x).unsqueeze(0) \n",
        "    x = x.to(device)\n",
        "    x = x.reshape(-1, 3, 32, 32)\n",
        "#     x = [x]\n",
        "    with torch.no_grad():\n",
        "      pred = get_resnet_output(x, model)\n",
        "      pred_class = torch.max(pred[0], 0).indices\n",
        "      misc_label[i] = 1-torch.eq(torch.tensor(test_label[i]), pred_class).sum().cpu().numpy()\n",
        "\n",
        "  return misc_label, np.array(test_in_score)"
      ]
    },
    {
      "cell_type": "code",
      "execution_count": 45,
      "metadata": {
        "id": "gvXTW7N79H_Q"
      },
      "outputs": [],
      "source": [
        "def resnet_metrics(model, metrics, detect):\n",
        "   \n",
        "   if(metrics == 'MAXP'):\n",
        "\n",
        "       test_in_score = get_dnn_maxprob_score(model, test_in.data)\n",
        "       test_out_score = get_dnn_maxprob_score(model, test_out.data)  \n",
        "\n",
        "   \n",
        "   if(metrics == 'ENT'):\n",
        "\n",
        "       in_score = get_dnn_entropy_score(model, test_in.data)\n",
        "       out_score = get_dnn_entropy_score(model, test_out.data) \n",
        "\n",
        "   if detect=='ood':\n",
        "      label_dp, score_dp = get_ood_label_score(test_in_score, test_out_score)\n",
        "   elif detect=='misc':\n",
        "      label_dp, score_dp = get_misc_label_score_dnn(model, test_in.data,\n",
        "                                                test_in.targets, test_in_score)\n",
        "   if metrics=='MAXP':\n",
        "      score_dp = -score_dp\n",
        "\n",
        "   index = np.isposinf(score_dp)\n",
        "   score_dp[np.isposinf(score_dp)] = 1e9\n",
        "   maximum = np.amax(score_dp)\n",
        "   score_dp[np.isposinf(score_dp)] = maximum + 1\n",
        " \n",
        "   index = np.isneginf(score_dp)\n",
        "   score_dp[np.isneginf(score_dp)] = -1e9\n",
        "   minimum = np.amin(score_dp)\n",
        "   score_dp[np.isneginf(score_dp)] = minimum - 1\n",
        " \n",
        "   score_dp[np.isnan(score_dp)] = 0\n",
        " \n",
        "   auroc, aupr = get_auroc_aupr(label_dp, score_dp)\n",
        "   return auroc, aupr, label_dp, score_dp     \n",
        "           \n",
        "    \n",
        "\n"
      ]
    },
    {
      "cell_type": "code",
      "execution_count": null,
      "metadata": {
        "id": "ZKZ750gg76ME"
      },
      "outputs": [],
      "source": [
        "#dnn = resnet18()\n",
        "#dnn.load_state_dict(torch.load('resnet18.pt'))\n",
        "#dnn =dnn.to(device)"
      ]
    },
    {
      "cell_type": "code",
      "execution_count": null,
      "metadata": {
        "id": "gf42mRiWHlhC"
      },
      "outputs": [],
      "source": [
        "#auroc_mp, aupr_mp, _, _ = resnet_metrics(dnn, 'MAXP', 'misc')\n",
        "#auroc_ent, aupr_ent, _, _ = resnet_metrics(dnn, 'ENT', 'misc')\n",
        "\n",
        "#auroc_lst = [auroc_mp, auroc_ent]\n",
        "#aupr_lst = [aupr_mp, aupr_ent]\n",
        "\n",
        "#pd.DataFrame(data=np.array([auroc_lst, aupr_lst]), \n",
        "#            columns=['Max.P', 'Ent'], \n",
        "#            index=['AUROC', 'AUPR'])"
      ]
    },
    {
      "cell_type": "code",
      "execution_count": null,
      "metadata": {
        "id": "lzcv2EFQH1yt"
      },
      "outputs": [],
      "source": [
        "#auroc_mp, aupr_mp, _, _ = resnet_metrics(dnn, 'MAXP', 'ood')\n",
        "#auroc_ent, aupr_ent, _, _ = resnet_metrics(dnn, 'ENT', 'odd')\n",
        "\n",
        "#auroc_lst = [auroc_mp, auroc_ent]\n",
        "#aupr_lst = [aupr_mp, aupr_ent]\n",
        "\n",
        "#pd.DataFrame(data=np.array([auroc_lst, aupr_lst]), \n",
        "#            columns=['Max.P', 'Ent'], \n",
        "#            index=['AUROC', 'AUPR'])"
      ]
    },
    {
      "cell_type": "code",
      "execution_count": null,
      "metadata": {
        "id": "qh-hT9BrIUiH"
      },
      "outputs": [],
      "source": [
        "#test_out"
      ]
    }
  ],
  "metadata": {
    "accelerator": "GPU",
    "colab": {
      "machine_shape": "hm",
      "provenance": [],
      "include_colab_link": true
    },
    "gpuClass": "premium",
    "kernelspec": {
      "display_name": "Python 3",
      "name": "python3"
    },
    "language_info": {
      "name": "python"
    },
    "widgets": {
      "application/vnd.jupyter.widget-state+json": {
        "ca319797cff6425ca445f73361d2cb9c": {
          "model_module": "@jupyter-widgets/controls",
          "model_name": "HBoxModel",
          "model_module_version": "1.5.0",
          "state": {
            "_dom_classes": [],
            "_model_module": "@jupyter-widgets/controls",
            "_model_module_version": "1.5.0",
            "_model_name": "HBoxModel",
            "_view_count": null,
            "_view_module": "@jupyter-widgets/controls",
            "_view_module_version": "1.5.0",
            "_view_name": "HBoxView",
            "box_style": "",
            "children": [
              "IPY_MODEL_6a420b3319c447bf80578ef1bef9ad34",
              "IPY_MODEL_bf9309f20bcb4ae6aa48fc5ac73ef7bd",
              "IPY_MODEL_3e0cc348f83e487fb0a2906f9dee0068"
            ],
            "layout": "IPY_MODEL_cf8ac1db1949417392e20db7009a36c1"
          }
        },
        "6a420b3319c447bf80578ef1bef9ad34": {
          "model_module": "@jupyter-widgets/controls",
          "model_name": "HTMLModel",
          "model_module_version": "1.5.0",
          "state": {
            "_dom_classes": [],
            "_model_module": "@jupyter-widgets/controls",
            "_model_module_version": "1.5.0",
            "_model_name": "HTMLModel",
            "_view_count": null,
            "_view_module": "@jupyter-widgets/controls",
            "_view_module_version": "1.5.0",
            "_view_name": "HTMLView",
            "description": "",
            "description_tooltip": null,
            "layout": "IPY_MODEL_080d2e31d2b649feba83cb117c674fb4",
            "placeholder": "​",
            "style": "IPY_MODEL_12aef78cdda7493597da7869cd74e42d",
            "value": "100%"
          }
        },
        "bf9309f20bcb4ae6aa48fc5ac73ef7bd": {
          "model_module": "@jupyter-widgets/controls",
          "model_name": "FloatProgressModel",
          "model_module_version": "1.5.0",
          "state": {
            "_dom_classes": [],
            "_model_module": "@jupyter-widgets/controls",
            "_model_module_version": "1.5.0",
            "_model_name": "FloatProgressModel",
            "_view_count": null,
            "_view_module": "@jupyter-widgets/controls",
            "_view_module_version": "1.5.0",
            "_view_name": "ProgressView",
            "bar_style": "success",
            "description": "",
            "description_tooltip": null,
            "layout": "IPY_MODEL_79b2bc3e12e447859b58c85a0a59b5cc",
            "max": 170498071,
            "min": 0,
            "orientation": "horizontal",
            "style": "IPY_MODEL_0f1e7402737141de82596ed9c47ed496",
            "value": 170498071
          }
        },
        "3e0cc348f83e487fb0a2906f9dee0068": {
          "model_module": "@jupyter-widgets/controls",
          "model_name": "HTMLModel",
          "model_module_version": "1.5.0",
          "state": {
            "_dom_classes": [],
            "_model_module": "@jupyter-widgets/controls",
            "_model_module_version": "1.5.0",
            "_model_name": "HTMLModel",
            "_view_count": null,
            "_view_module": "@jupyter-widgets/controls",
            "_view_module_version": "1.5.0",
            "_view_name": "HTMLView",
            "description": "",
            "description_tooltip": null,
            "layout": "IPY_MODEL_cc0d204541d443e0821298f5273e4e76",
            "placeholder": "​",
            "style": "IPY_MODEL_9bda1ce2ad5d4c73afe446cadf86f40c",
            "value": " 170498071/170498071 [00:13&lt;00:00, 14450008.18it/s]"
          }
        },
        "cf8ac1db1949417392e20db7009a36c1": {
          "model_module": "@jupyter-widgets/base",
          "model_name": "LayoutModel",
          "model_module_version": "1.2.0",
          "state": {
            "_model_module": "@jupyter-widgets/base",
            "_model_module_version": "1.2.0",
            "_model_name": "LayoutModel",
            "_view_count": null,
            "_view_module": "@jupyter-widgets/base",
            "_view_module_version": "1.2.0",
            "_view_name": "LayoutView",
            "align_content": null,
            "align_items": null,
            "align_self": null,
            "border": null,
            "bottom": null,
            "display": null,
            "flex": null,
            "flex_flow": null,
            "grid_area": null,
            "grid_auto_columns": null,
            "grid_auto_flow": null,
            "grid_auto_rows": null,
            "grid_column": null,
            "grid_gap": null,
            "grid_row": null,
            "grid_template_areas": null,
            "grid_template_columns": null,
            "grid_template_rows": null,
            "height": null,
            "justify_content": null,
            "justify_items": null,
            "left": null,
            "margin": null,
            "max_height": null,
            "max_width": null,
            "min_height": null,
            "min_width": null,
            "object_fit": null,
            "object_position": null,
            "order": null,
            "overflow": null,
            "overflow_x": null,
            "overflow_y": null,
            "padding": null,
            "right": null,
            "top": null,
            "visibility": null,
            "width": null
          }
        },
        "080d2e31d2b649feba83cb117c674fb4": {
          "model_module": "@jupyter-widgets/base",
          "model_name": "LayoutModel",
          "model_module_version": "1.2.0",
          "state": {
            "_model_module": "@jupyter-widgets/base",
            "_model_module_version": "1.2.0",
            "_model_name": "LayoutModel",
            "_view_count": null,
            "_view_module": "@jupyter-widgets/base",
            "_view_module_version": "1.2.0",
            "_view_name": "LayoutView",
            "align_content": null,
            "align_items": null,
            "align_self": null,
            "border": null,
            "bottom": null,
            "display": null,
            "flex": null,
            "flex_flow": null,
            "grid_area": null,
            "grid_auto_columns": null,
            "grid_auto_flow": null,
            "grid_auto_rows": null,
            "grid_column": null,
            "grid_gap": null,
            "grid_row": null,
            "grid_template_areas": null,
            "grid_template_columns": null,
            "grid_template_rows": null,
            "height": null,
            "justify_content": null,
            "justify_items": null,
            "left": null,
            "margin": null,
            "max_height": null,
            "max_width": null,
            "min_height": null,
            "min_width": null,
            "object_fit": null,
            "object_position": null,
            "order": null,
            "overflow": null,
            "overflow_x": null,
            "overflow_y": null,
            "padding": null,
            "right": null,
            "top": null,
            "visibility": null,
            "width": null
          }
        },
        "12aef78cdda7493597da7869cd74e42d": {
          "model_module": "@jupyter-widgets/controls",
          "model_name": "DescriptionStyleModel",
          "model_module_version": "1.5.0",
          "state": {
            "_model_module": "@jupyter-widgets/controls",
            "_model_module_version": "1.5.0",
            "_model_name": "DescriptionStyleModel",
            "_view_count": null,
            "_view_module": "@jupyter-widgets/base",
            "_view_module_version": "1.2.0",
            "_view_name": "StyleView",
            "description_width": ""
          }
        },
        "79b2bc3e12e447859b58c85a0a59b5cc": {
          "model_module": "@jupyter-widgets/base",
          "model_name": "LayoutModel",
          "model_module_version": "1.2.0",
          "state": {
            "_model_module": "@jupyter-widgets/base",
            "_model_module_version": "1.2.0",
            "_model_name": "LayoutModel",
            "_view_count": null,
            "_view_module": "@jupyter-widgets/base",
            "_view_module_version": "1.2.0",
            "_view_name": "LayoutView",
            "align_content": null,
            "align_items": null,
            "align_self": null,
            "border": null,
            "bottom": null,
            "display": null,
            "flex": null,
            "flex_flow": null,
            "grid_area": null,
            "grid_auto_columns": null,
            "grid_auto_flow": null,
            "grid_auto_rows": null,
            "grid_column": null,
            "grid_gap": null,
            "grid_row": null,
            "grid_template_areas": null,
            "grid_template_columns": null,
            "grid_template_rows": null,
            "height": null,
            "justify_content": null,
            "justify_items": null,
            "left": null,
            "margin": null,
            "max_height": null,
            "max_width": null,
            "min_height": null,
            "min_width": null,
            "object_fit": null,
            "object_position": null,
            "order": null,
            "overflow": null,
            "overflow_x": null,
            "overflow_y": null,
            "padding": null,
            "right": null,
            "top": null,
            "visibility": null,
            "width": null
          }
        },
        "0f1e7402737141de82596ed9c47ed496": {
          "model_module": "@jupyter-widgets/controls",
          "model_name": "ProgressStyleModel",
          "model_module_version": "1.5.0",
          "state": {
            "_model_module": "@jupyter-widgets/controls",
            "_model_module_version": "1.5.0",
            "_model_name": "ProgressStyleModel",
            "_view_count": null,
            "_view_module": "@jupyter-widgets/base",
            "_view_module_version": "1.2.0",
            "_view_name": "StyleView",
            "bar_color": null,
            "description_width": ""
          }
        },
        "cc0d204541d443e0821298f5273e4e76": {
          "model_module": "@jupyter-widgets/base",
          "model_name": "LayoutModel",
          "model_module_version": "1.2.0",
          "state": {
            "_model_module": "@jupyter-widgets/base",
            "_model_module_version": "1.2.0",
            "_model_name": "LayoutModel",
            "_view_count": null,
            "_view_module": "@jupyter-widgets/base",
            "_view_module_version": "1.2.0",
            "_view_name": "LayoutView",
            "align_content": null,
            "align_items": null,
            "align_self": null,
            "border": null,
            "bottom": null,
            "display": null,
            "flex": null,
            "flex_flow": null,
            "grid_area": null,
            "grid_auto_columns": null,
            "grid_auto_flow": null,
            "grid_auto_rows": null,
            "grid_column": null,
            "grid_gap": null,
            "grid_row": null,
            "grid_template_areas": null,
            "grid_template_columns": null,
            "grid_template_rows": null,
            "height": null,
            "justify_content": null,
            "justify_items": null,
            "left": null,
            "margin": null,
            "max_height": null,
            "max_width": null,
            "min_height": null,
            "min_width": null,
            "object_fit": null,
            "object_position": null,
            "order": null,
            "overflow": null,
            "overflow_x": null,
            "overflow_y": null,
            "padding": null,
            "right": null,
            "top": null,
            "visibility": null,
            "width": null
          }
        },
        "9bda1ce2ad5d4c73afe446cadf86f40c": {
          "model_module": "@jupyter-widgets/controls",
          "model_name": "DescriptionStyleModel",
          "model_module_version": "1.5.0",
          "state": {
            "_model_module": "@jupyter-widgets/controls",
            "_model_module_version": "1.5.0",
            "_model_name": "DescriptionStyleModel",
            "_view_count": null,
            "_view_module": "@jupyter-widgets/base",
            "_view_module_version": "1.2.0",
            "_view_name": "StyleView",
            "description_width": ""
          }
        },
        "129856872e9947fe89486205e4060ac4": {
          "model_module": "@jupyter-widgets/controls",
          "model_name": "HBoxModel",
          "model_module_version": "1.5.0",
          "state": {
            "_dom_classes": [],
            "_model_module": "@jupyter-widgets/controls",
            "_model_module_version": "1.5.0",
            "_model_name": "HBoxModel",
            "_view_count": null,
            "_view_module": "@jupyter-widgets/controls",
            "_view_module_version": "1.5.0",
            "_view_name": "HBoxView",
            "box_style": "",
            "children": [
              "IPY_MODEL_2f81aa58146d46feb44093f34bafe90f",
              "IPY_MODEL_175e8c5198b44cad9ff6e228eb397475",
              "IPY_MODEL_aa0952ae7afa4e5cbf3e83f77f283d98"
            ],
            "layout": "IPY_MODEL_ecb9c838ea9e47e0a778ab4e9419f038"
          }
        },
        "2f81aa58146d46feb44093f34bafe90f": {
          "model_module": "@jupyter-widgets/controls",
          "model_name": "HTMLModel",
          "model_module_version": "1.5.0",
          "state": {
            "_dom_classes": [],
            "_model_module": "@jupyter-widgets/controls",
            "_model_module_version": "1.5.0",
            "_model_name": "HTMLModel",
            "_view_count": null,
            "_view_module": "@jupyter-widgets/controls",
            "_view_module_version": "1.5.0",
            "_view_name": "HTMLView",
            "description": "",
            "description_tooltip": null,
            "layout": "IPY_MODEL_44f871748cff4d75abd80bd32013a34f",
            "placeholder": "​",
            "style": "IPY_MODEL_72d3816c462e41fab03f916961d7651b",
            "value": "100%"
          }
        },
        "175e8c5198b44cad9ff6e228eb397475": {
          "model_module": "@jupyter-widgets/controls",
          "model_name": "FloatProgressModel",
          "model_module_version": "1.5.0",
          "state": {
            "_dom_classes": [],
            "_model_module": "@jupyter-widgets/controls",
            "_model_module_version": "1.5.0",
            "_model_name": "FloatProgressModel",
            "_view_count": null,
            "_view_module": "@jupyter-widgets/controls",
            "_view_module_version": "1.5.0",
            "_view_name": "ProgressView",
            "bar_style": "success",
            "description": "",
            "description_tooltip": null,
            "layout": "IPY_MODEL_4eeb178426964271834789b4c164d746",
            "max": 170498071,
            "min": 0,
            "orientation": "horizontal",
            "style": "IPY_MODEL_0d3c0a714191442584649477d265b903",
            "value": 170498071
          }
        },
        "aa0952ae7afa4e5cbf3e83f77f283d98": {
          "model_module": "@jupyter-widgets/controls",
          "model_name": "HTMLModel",
          "model_module_version": "1.5.0",
          "state": {
            "_dom_classes": [],
            "_model_module": "@jupyter-widgets/controls",
            "_model_module_version": "1.5.0",
            "_model_name": "HTMLModel",
            "_view_count": null,
            "_view_module": "@jupyter-widgets/controls",
            "_view_module_version": "1.5.0",
            "_view_name": "HTMLView",
            "description": "",
            "description_tooltip": null,
            "layout": "IPY_MODEL_e559332f71bd430485171b64d39e4396",
            "placeholder": "​",
            "style": "IPY_MODEL_ec59d56f741947eaabed88ae90536b7f",
            "value": " 170498071/170498071 [00:13&lt;00:00, 13875258.20it/s]"
          }
        },
        "ecb9c838ea9e47e0a778ab4e9419f038": {
          "model_module": "@jupyter-widgets/base",
          "model_name": "LayoutModel",
          "model_module_version": "1.2.0",
          "state": {
            "_model_module": "@jupyter-widgets/base",
            "_model_module_version": "1.2.0",
            "_model_name": "LayoutModel",
            "_view_count": null,
            "_view_module": "@jupyter-widgets/base",
            "_view_module_version": "1.2.0",
            "_view_name": "LayoutView",
            "align_content": null,
            "align_items": null,
            "align_self": null,
            "border": null,
            "bottom": null,
            "display": null,
            "flex": null,
            "flex_flow": null,
            "grid_area": null,
            "grid_auto_columns": null,
            "grid_auto_flow": null,
            "grid_auto_rows": null,
            "grid_column": null,
            "grid_gap": null,
            "grid_row": null,
            "grid_template_areas": null,
            "grid_template_columns": null,
            "grid_template_rows": null,
            "height": null,
            "justify_content": null,
            "justify_items": null,
            "left": null,
            "margin": null,
            "max_height": null,
            "max_width": null,
            "min_height": null,
            "min_width": null,
            "object_fit": null,
            "object_position": null,
            "order": null,
            "overflow": null,
            "overflow_x": null,
            "overflow_y": null,
            "padding": null,
            "right": null,
            "top": null,
            "visibility": null,
            "width": null
          }
        },
        "44f871748cff4d75abd80bd32013a34f": {
          "model_module": "@jupyter-widgets/base",
          "model_name": "LayoutModel",
          "model_module_version": "1.2.0",
          "state": {
            "_model_module": "@jupyter-widgets/base",
            "_model_module_version": "1.2.0",
            "_model_name": "LayoutModel",
            "_view_count": null,
            "_view_module": "@jupyter-widgets/base",
            "_view_module_version": "1.2.0",
            "_view_name": "LayoutView",
            "align_content": null,
            "align_items": null,
            "align_self": null,
            "border": null,
            "bottom": null,
            "display": null,
            "flex": null,
            "flex_flow": null,
            "grid_area": null,
            "grid_auto_columns": null,
            "grid_auto_flow": null,
            "grid_auto_rows": null,
            "grid_column": null,
            "grid_gap": null,
            "grid_row": null,
            "grid_template_areas": null,
            "grid_template_columns": null,
            "grid_template_rows": null,
            "height": null,
            "justify_content": null,
            "justify_items": null,
            "left": null,
            "margin": null,
            "max_height": null,
            "max_width": null,
            "min_height": null,
            "min_width": null,
            "object_fit": null,
            "object_position": null,
            "order": null,
            "overflow": null,
            "overflow_x": null,
            "overflow_y": null,
            "padding": null,
            "right": null,
            "top": null,
            "visibility": null,
            "width": null
          }
        },
        "72d3816c462e41fab03f916961d7651b": {
          "model_module": "@jupyter-widgets/controls",
          "model_name": "DescriptionStyleModel",
          "model_module_version": "1.5.0",
          "state": {
            "_model_module": "@jupyter-widgets/controls",
            "_model_module_version": "1.5.0",
            "_model_name": "DescriptionStyleModel",
            "_view_count": null,
            "_view_module": "@jupyter-widgets/base",
            "_view_module_version": "1.2.0",
            "_view_name": "StyleView",
            "description_width": ""
          }
        },
        "4eeb178426964271834789b4c164d746": {
          "model_module": "@jupyter-widgets/base",
          "model_name": "LayoutModel",
          "model_module_version": "1.2.0",
          "state": {
            "_model_module": "@jupyter-widgets/base",
            "_model_module_version": "1.2.0",
            "_model_name": "LayoutModel",
            "_view_count": null,
            "_view_module": "@jupyter-widgets/base",
            "_view_module_version": "1.2.0",
            "_view_name": "LayoutView",
            "align_content": null,
            "align_items": null,
            "align_self": null,
            "border": null,
            "bottom": null,
            "display": null,
            "flex": null,
            "flex_flow": null,
            "grid_area": null,
            "grid_auto_columns": null,
            "grid_auto_flow": null,
            "grid_auto_rows": null,
            "grid_column": null,
            "grid_gap": null,
            "grid_row": null,
            "grid_template_areas": null,
            "grid_template_columns": null,
            "grid_template_rows": null,
            "height": null,
            "justify_content": null,
            "justify_items": null,
            "left": null,
            "margin": null,
            "max_height": null,
            "max_width": null,
            "min_height": null,
            "min_width": null,
            "object_fit": null,
            "object_position": null,
            "order": null,
            "overflow": null,
            "overflow_x": null,
            "overflow_y": null,
            "padding": null,
            "right": null,
            "top": null,
            "visibility": null,
            "width": null
          }
        },
        "0d3c0a714191442584649477d265b903": {
          "model_module": "@jupyter-widgets/controls",
          "model_name": "ProgressStyleModel",
          "model_module_version": "1.5.0",
          "state": {
            "_model_module": "@jupyter-widgets/controls",
            "_model_module_version": "1.5.0",
            "_model_name": "ProgressStyleModel",
            "_view_count": null,
            "_view_module": "@jupyter-widgets/base",
            "_view_module_version": "1.2.0",
            "_view_name": "StyleView",
            "bar_color": null,
            "description_width": ""
          }
        },
        "e559332f71bd430485171b64d39e4396": {
          "model_module": "@jupyter-widgets/base",
          "model_name": "LayoutModel",
          "model_module_version": "1.2.0",
          "state": {
            "_model_module": "@jupyter-widgets/base",
            "_model_module_version": "1.2.0",
            "_model_name": "LayoutModel",
            "_view_count": null,
            "_view_module": "@jupyter-widgets/base",
            "_view_module_version": "1.2.0",
            "_view_name": "LayoutView",
            "align_content": null,
            "align_items": null,
            "align_self": null,
            "border": null,
            "bottom": null,
            "display": null,
            "flex": null,
            "flex_flow": null,
            "grid_area": null,
            "grid_auto_columns": null,
            "grid_auto_flow": null,
            "grid_auto_rows": null,
            "grid_column": null,
            "grid_gap": null,
            "grid_row": null,
            "grid_template_areas": null,
            "grid_template_columns": null,
            "grid_template_rows": null,
            "height": null,
            "justify_content": null,
            "justify_items": null,
            "left": null,
            "margin": null,
            "max_height": null,
            "max_width": null,
            "min_height": null,
            "min_width": null,
            "object_fit": null,
            "object_position": null,
            "order": null,
            "overflow": null,
            "overflow_x": null,
            "overflow_y": null,
            "padding": null,
            "right": null,
            "top": null,
            "visibility": null,
            "width": null
          }
        },
        "ec59d56f741947eaabed88ae90536b7f": {
          "model_module": "@jupyter-widgets/controls",
          "model_name": "DescriptionStyleModel",
          "model_module_version": "1.5.0",
          "state": {
            "_model_module": "@jupyter-widgets/controls",
            "_model_module_version": "1.5.0",
            "_model_name": "DescriptionStyleModel",
            "_view_count": null,
            "_view_module": "@jupyter-widgets/base",
            "_view_module_version": "1.2.0",
            "_view_name": "StyleView",
            "description_width": ""
          }
        },
        "5b16e0a6427b4f94aca6a15a85a9a114": {
          "model_module": "@jupyter-widgets/controls",
          "model_name": "HBoxModel",
          "model_module_version": "1.5.0",
          "state": {
            "_dom_classes": [],
            "_model_module": "@jupyter-widgets/controls",
            "_model_module_version": "1.5.0",
            "_model_name": "HBoxModel",
            "_view_count": null,
            "_view_module": "@jupyter-widgets/controls",
            "_view_module_version": "1.5.0",
            "_view_name": "HBoxView",
            "box_style": "",
            "children": [
              "IPY_MODEL_aaf25e51ac82422e82c619fba430c0a7",
              "IPY_MODEL_bcbaa94e2ed44433b2482420df8cb378",
              "IPY_MODEL_045a2e1e977041edb198f3d04a50965e"
            ],
            "layout": "IPY_MODEL_c5675a72dc8b481faebeb80cc6215973"
          }
        },
        "aaf25e51ac82422e82c619fba430c0a7": {
          "model_module": "@jupyter-widgets/controls",
          "model_name": "HTMLModel",
          "model_module_version": "1.5.0",
          "state": {
            "_dom_classes": [],
            "_model_module": "@jupyter-widgets/controls",
            "_model_module_version": "1.5.0",
            "_model_name": "HTMLModel",
            "_view_count": null,
            "_view_module": "@jupyter-widgets/controls",
            "_view_module_version": "1.5.0",
            "_view_name": "HTMLView",
            "description": "",
            "description_tooltip": null,
            "layout": "IPY_MODEL_29624c4b50b841aa8528c82f2373fd4e",
            "placeholder": "​",
            "style": "IPY_MODEL_86bcc7c426964bbe8448e1879d520d2b",
            "value": "100%"
          }
        },
        "bcbaa94e2ed44433b2482420df8cb378": {
          "model_module": "@jupyter-widgets/controls",
          "model_name": "FloatProgressModel",
          "model_module_version": "1.5.0",
          "state": {
            "_dom_classes": [],
            "_model_module": "@jupyter-widgets/controls",
            "_model_module_version": "1.5.0",
            "_model_name": "FloatProgressModel",
            "_view_count": null,
            "_view_module": "@jupyter-widgets/controls",
            "_view_module_version": "1.5.0",
            "_view_name": "ProgressView",
            "bar_style": "success",
            "description": "",
            "description_tooltip": null,
            "layout": "IPY_MODEL_f9a4378f86264e3596c4c7a496c9029b",
            "max": 182040794,
            "min": 0,
            "orientation": "horizontal",
            "style": "IPY_MODEL_b8aecf53dfc54ce8a670edc8aeec2225",
            "value": 182040794
          }
        },
        "045a2e1e977041edb198f3d04a50965e": {
          "model_module": "@jupyter-widgets/controls",
          "model_name": "HTMLModel",
          "model_module_version": "1.5.0",
          "state": {
            "_dom_classes": [],
            "_model_module": "@jupyter-widgets/controls",
            "_model_module_version": "1.5.0",
            "_model_name": "HTMLModel",
            "_view_count": null,
            "_view_module": "@jupyter-widgets/controls",
            "_view_module_version": "1.5.0",
            "_view_name": "HTMLView",
            "description": "",
            "description_tooltip": null,
            "layout": "IPY_MODEL_7f3aba0050e94f2ea4072f181a2505c3",
            "placeholder": "​",
            "style": "IPY_MODEL_a75e6db916254cfeae1be65be4f2cb5d",
            "value": " 182040794/182040794 [00:14&lt;00:00, 17167369.35it/s]"
          }
        },
        "c5675a72dc8b481faebeb80cc6215973": {
          "model_module": "@jupyter-widgets/base",
          "model_name": "LayoutModel",
          "model_module_version": "1.2.0",
          "state": {
            "_model_module": "@jupyter-widgets/base",
            "_model_module_version": "1.2.0",
            "_model_name": "LayoutModel",
            "_view_count": null,
            "_view_module": "@jupyter-widgets/base",
            "_view_module_version": "1.2.0",
            "_view_name": "LayoutView",
            "align_content": null,
            "align_items": null,
            "align_self": null,
            "border": null,
            "bottom": null,
            "display": null,
            "flex": null,
            "flex_flow": null,
            "grid_area": null,
            "grid_auto_columns": null,
            "grid_auto_flow": null,
            "grid_auto_rows": null,
            "grid_column": null,
            "grid_gap": null,
            "grid_row": null,
            "grid_template_areas": null,
            "grid_template_columns": null,
            "grid_template_rows": null,
            "height": null,
            "justify_content": null,
            "justify_items": null,
            "left": null,
            "margin": null,
            "max_height": null,
            "max_width": null,
            "min_height": null,
            "min_width": null,
            "object_fit": null,
            "object_position": null,
            "order": null,
            "overflow": null,
            "overflow_x": null,
            "overflow_y": null,
            "padding": null,
            "right": null,
            "top": null,
            "visibility": null,
            "width": null
          }
        },
        "29624c4b50b841aa8528c82f2373fd4e": {
          "model_module": "@jupyter-widgets/base",
          "model_name": "LayoutModel",
          "model_module_version": "1.2.0",
          "state": {
            "_model_module": "@jupyter-widgets/base",
            "_model_module_version": "1.2.0",
            "_model_name": "LayoutModel",
            "_view_count": null,
            "_view_module": "@jupyter-widgets/base",
            "_view_module_version": "1.2.0",
            "_view_name": "LayoutView",
            "align_content": null,
            "align_items": null,
            "align_self": null,
            "border": null,
            "bottom": null,
            "display": null,
            "flex": null,
            "flex_flow": null,
            "grid_area": null,
            "grid_auto_columns": null,
            "grid_auto_flow": null,
            "grid_auto_rows": null,
            "grid_column": null,
            "grid_gap": null,
            "grid_row": null,
            "grid_template_areas": null,
            "grid_template_columns": null,
            "grid_template_rows": null,
            "height": null,
            "justify_content": null,
            "justify_items": null,
            "left": null,
            "margin": null,
            "max_height": null,
            "max_width": null,
            "min_height": null,
            "min_width": null,
            "object_fit": null,
            "object_position": null,
            "order": null,
            "overflow": null,
            "overflow_x": null,
            "overflow_y": null,
            "padding": null,
            "right": null,
            "top": null,
            "visibility": null,
            "width": null
          }
        },
        "86bcc7c426964bbe8448e1879d520d2b": {
          "model_module": "@jupyter-widgets/controls",
          "model_name": "DescriptionStyleModel",
          "model_module_version": "1.5.0",
          "state": {
            "_model_module": "@jupyter-widgets/controls",
            "_model_module_version": "1.5.0",
            "_model_name": "DescriptionStyleModel",
            "_view_count": null,
            "_view_module": "@jupyter-widgets/base",
            "_view_module_version": "1.2.0",
            "_view_name": "StyleView",
            "description_width": ""
          }
        },
        "f9a4378f86264e3596c4c7a496c9029b": {
          "model_module": "@jupyter-widgets/base",
          "model_name": "LayoutModel",
          "model_module_version": "1.2.0",
          "state": {
            "_model_module": "@jupyter-widgets/base",
            "_model_module_version": "1.2.0",
            "_model_name": "LayoutModel",
            "_view_count": null,
            "_view_module": "@jupyter-widgets/base",
            "_view_module_version": "1.2.0",
            "_view_name": "LayoutView",
            "align_content": null,
            "align_items": null,
            "align_self": null,
            "border": null,
            "bottom": null,
            "display": null,
            "flex": null,
            "flex_flow": null,
            "grid_area": null,
            "grid_auto_columns": null,
            "grid_auto_flow": null,
            "grid_auto_rows": null,
            "grid_column": null,
            "grid_gap": null,
            "grid_row": null,
            "grid_template_areas": null,
            "grid_template_columns": null,
            "grid_template_rows": null,
            "height": null,
            "justify_content": null,
            "justify_items": null,
            "left": null,
            "margin": null,
            "max_height": null,
            "max_width": null,
            "min_height": null,
            "min_width": null,
            "object_fit": null,
            "object_position": null,
            "order": null,
            "overflow": null,
            "overflow_x": null,
            "overflow_y": null,
            "padding": null,
            "right": null,
            "top": null,
            "visibility": null,
            "width": null
          }
        },
        "b8aecf53dfc54ce8a670edc8aeec2225": {
          "model_module": "@jupyter-widgets/controls",
          "model_name": "ProgressStyleModel",
          "model_module_version": "1.5.0",
          "state": {
            "_model_module": "@jupyter-widgets/controls",
            "_model_module_version": "1.5.0",
            "_model_name": "ProgressStyleModel",
            "_view_count": null,
            "_view_module": "@jupyter-widgets/base",
            "_view_module_version": "1.2.0",
            "_view_name": "StyleView",
            "bar_color": null,
            "description_width": ""
          }
        },
        "7f3aba0050e94f2ea4072f181a2505c3": {
          "model_module": "@jupyter-widgets/base",
          "model_name": "LayoutModel",
          "model_module_version": "1.2.0",
          "state": {
            "_model_module": "@jupyter-widgets/base",
            "_model_module_version": "1.2.0",
            "_model_name": "LayoutModel",
            "_view_count": null,
            "_view_module": "@jupyter-widgets/base",
            "_view_module_version": "1.2.0",
            "_view_name": "LayoutView",
            "align_content": null,
            "align_items": null,
            "align_self": null,
            "border": null,
            "bottom": null,
            "display": null,
            "flex": null,
            "flex_flow": null,
            "grid_area": null,
            "grid_auto_columns": null,
            "grid_auto_flow": null,
            "grid_auto_rows": null,
            "grid_column": null,
            "grid_gap": null,
            "grid_row": null,
            "grid_template_areas": null,
            "grid_template_columns": null,
            "grid_template_rows": null,
            "height": null,
            "justify_content": null,
            "justify_items": null,
            "left": null,
            "margin": null,
            "max_height": null,
            "max_width": null,
            "min_height": null,
            "min_width": null,
            "object_fit": null,
            "object_position": null,
            "order": null,
            "overflow": null,
            "overflow_x": null,
            "overflow_y": null,
            "padding": null,
            "right": null,
            "top": null,
            "visibility": null,
            "width": null
          }
        },
        "a75e6db916254cfeae1be65be4f2cb5d": {
          "model_module": "@jupyter-widgets/controls",
          "model_name": "DescriptionStyleModel",
          "model_module_version": "1.5.0",
          "state": {
            "_model_module": "@jupyter-widgets/controls",
            "_model_module_version": "1.5.0",
            "_model_name": "DescriptionStyleModel",
            "_view_count": null,
            "_view_module": "@jupyter-widgets/base",
            "_view_module_version": "1.2.0",
            "_view_name": "StyleView",
            "description_width": ""
          }
        },
        "c9a0e42449474ff3a8288892f25ee65b": {
          "model_module": "@jupyter-widgets/controls",
          "model_name": "HBoxModel",
          "model_module_version": "1.5.0",
          "state": {
            "_dom_classes": [],
            "_model_module": "@jupyter-widgets/controls",
            "_model_module_version": "1.5.0",
            "_model_name": "HBoxModel",
            "_view_count": null,
            "_view_module": "@jupyter-widgets/controls",
            "_view_module_version": "1.5.0",
            "_view_name": "HBoxView",
            "box_style": "",
            "children": [
              "IPY_MODEL_7dac81858b204fb888dbf5755e140ef9",
              "IPY_MODEL_b9b5d309b810458487290812770248f5",
              "IPY_MODEL_0a197d5d85f74b529d58d2a6e9fd6a10"
            ],
            "layout": "IPY_MODEL_dc7431a47ef74d9ab6ee66a9b36f40cb"
          }
        },
        "7dac81858b204fb888dbf5755e140ef9": {
          "model_module": "@jupyter-widgets/controls",
          "model_name": "HTMLModel",
          "model_module_version": "1.5.0",
          "state": {
            "_dom_classes": [],
            "_model_module": "@jupyter-widgets/controls",
            "_model_module_version": "1.5.0",
            "_model_name": "HTMLModel",
            "_view_count": null,
            "_view_module": "@jupyter-widgets/controls",
            "_view_module_version": "1.5.0",
            "_view_name": "HTMLView",
            "description": "",
            "description_tooltip": null,
            "layout": "IPY_MODEL_de516bac7c204dbd8596d2e2a5a20294",
            "placeholder": "​",
            "style": "IPY_MODEL_67bfb4d256c04d5daee6836b422fe728",
            "value": "100%"
          }
        },
        "b9b5d309b810458487290812770248f5": {
          "model_module": "@jupyter-widgets/controls",
          "model_name": "FloatProgressModel",
          "model_module_version": "1.5.0",
          "state": {
            "_dom_classes": [],
            "_model_module": "@jupyter-widgets/controls",
            "_model_module_version": "1.5.0",
            "_model_name": "FloatProgressModel",
            "_view_count": null,
            "_view_module": "@jupyter-widgets/controls",
            "_view_module_version": "1.5.0",
            "_view_name": "ProgressView",
            "bar_style": "success",
            "description": "",
            "description_tooltip": null,
            "layout": "IPY_MODEL_aaa837d1000d4e81b5bc2e72c73dea16",
            "max": 64275384,
            "min": 0,
            "orientation": "horizontal",
            "style": "IPY_MODEL_e7c1abfdbbe548b6a44507d9d6c0cbf9",
            "value": 64275384
          }
        },
        "0a197d5d85f74b529d58d2a6e9fd6a10": {
          "model_module": "@jupyter-widgets/controls",
          "model_name": "HTMLModel",
          "model_module_version": "1.5.0",
          "state": {
            "_dom_classes": [],
            "_model_module": "@jupyter-widgets/controls",
            "_model_module_version": "1.5.0",
            "_model_name": "HTMLModel",
            "_view_count": null,
            "_view_module": "@jupyter-widgets/controls",
            "_view_module_version": "1.5.0",
            "_view_name": "HTMLView",
            "description": "",
            "description_tooltip": null,
            "layout": "IPY_MODEL_2008028a2d0a440fa4f9029ce874d408",
            "placeholder": "​",
            "style": "IPY_MODEL_7ade1133ba0b4fbabc73635d49ba87e7",
            "value": " 64275384/64275384 [00:06&lt;00:00, 17919237.59it/s]"
          }
        },
        "dc7431a47ef74d9ab6ee66a9b36f40cb": {
          "model_module": "@jupyter-widgets/base",
          "model_name": "LayoutModel",
          "model_module_version": "1.2.0",
          "state": {
            "_model_module": "@jupyter-widgets/base",
            "_model_module_version": "1.2.0",
            "_model_name": "LayoutModel",
            "_view_count": null,
            "_view_module": "@jupyter-widgets/base",
            "_view_module_version": "1.2.0",
            "_view_name": "LayoutView",
            "align_content": null,
            "align_items": null,
            "align_self": null,
            "border": null,
            "bottom": null,
            "display": null,
            "flex": null,
            "flex_flow": null,
            "grid_area": null,
            "grid_auto_columns": null,
            "grid_auto_flow": null,
            "grid_auto_rows": null,
            "grid_column": null,
            "grid_gap": null,
            "grid_row": null,
            "grid_template_areas": null,
            "grid_template_columns": null,
            "grid_template_rows": null,
            "height": null,
            "justify_content": null,
            "justify_items": null,
            "left": null,
            "margin": null,
            "max_height": null,
            "max_width": null,
            "min_height": null,
            "min_width": null,
            "object_fit": null,
            "object_position": null,
            "order": null,
            "overflow": null,
            "overflow_x": null,
            "overflow_y": null,
            "padding": null,
            "right": null,
            "top": null,
            "visibility": null,
            "width": null
          }
        },
        "de516bac7c204dbd8596d2e2a5a20294": {
          "model_module": "@jupyter-widgets/base",
          "model_name": "LayoutModel",
          "model_module_version": "1.2.0",
          "state": {
            "_model_module": "@jupyter-widgets/base",
            "_model_module_version": "1.2.0",
            "_model_name": "LayoutModel",
            "_view_count": null,
            "_view_module": "@jupyter-widgets/base",
            "_view_module_version": "1.2.0",
            "_view_name": "LayoutView",
            "align_content": null,
            "align_items": null,
            "align_self": null,
            "border": null,
            "bottom": null,
            "display": null,
            "flex": null,
            "flex_flow": null,
            "grid_area": null,
            "grid_auto_columns": null,
            "grid_auto_flow": null,
            "grid_auto_rows": null,
            "grid_column": null,
            "grid_gap": null,
            "grid_row": null,
            "grid_template_areas": null,
            "grid_template_columns": null,
            "grid_template_rows": null,
            "height": null,
            "justify_content": null,
            "justify_items": null,
            "left": null,
            "margin": null,
            "max_height": null,
            "max_width": null,
            "min_height": null,
            "min_width": null,
            "object_fit": null,
            "object_position": null,
            "order": null,
            "overflow": null,
            "overflow_x": null,
            "overflow_y": null,
            "padding": null,
            "right": null,
            "top": null,
            "visibility": null,
            "width": null
          }
        },
        "67bfb4d256c04d5daee6836b422fe728": {
          "model_module": "@jupyter-widgets/controls",
          "model_name": "DescriptionStyleModel",
          "model_module_version": "1.5.0",
          "state": {
            "_model_module": "@jupyter-widgets/controls",
            "_model_module_version": "1.5.0",
            "_model_name": "DescriptionStyleModel",
            "_view_count": null,
            "_view_module": "@jupyter-widgets/base",
            "_view_module_version": "1.2.0",
            "_view_name": "StyleView",
            "description_width": ""
          }
        },
        "aaa837d1000d4e81b5bc2e72c73dea16": {
          "model_module": "@jupyter-widgets/base",
          "model_name": "LayoutModel",
          "model_module_version": "1.2.0",
          "state": {
            "_model_module": "@jupyter-widgets/base",
            "_model_module_version": "1.2.0",
            "_model_name": "LayoutModel",
            "_view_count": null,
            "_view_module": "@jupyter-widgets/base",
            "_view_module_version": "1.2.0",
            "_view_name": "LayoutView",
            "align_content": null,
            "align_items": null,
            "align_self": null,
            "border": null,
            "bottom": null,
            "display": null,
            "flex": null,
            "flex_flow": null,
            "grid_area": null,
            "grid_auto_columns": null,
            "grid_auto_flow": null,
            "grid_auto_rows": null,
            "grid_column": null,
            "grid_gap": null,
            "grid_row": null,
            "grid_template_areas": null,
            "grid_template_columns": null,
            "grid_template_rows": null,
            "height": null,
            "justify_content": null,
            "justify_items": null,
            "left": null,
            "margin": null,
            "max_height": null,
            "max_width": null,
            "min_height": null,
            "min_width": null,
            "object_fit": null,
            "object_position": null,
            "order": null,
            "overflow": null,
            "overflow_x": null,
            "overflow_y": null,
            "padding": null,
            "right": null,
            "top": null,
            "visibility": null,
            "width": null
          }
        },
        "e7c1abfdbbe548b6a44507d9d6c0cbf9": {
          "model_module": "@jupyter-widgets/controls",
          "model_name": "ProgressStyleModel",
          "model_module_version": "1.5.0",
          "state": {
            "_model_module": "@jupyter-widgets/controls",
            "_model_module_version": "1.5.0",
            "_model_name": "ProgressStyleModel",
            "_view_count": null,
            "_view_module": "@jupyter-widgets/base",
            "_view_module_version": "1.2.0",
            "_view_name": "StyleView",
            "bar_color": null,
            "description_width": ""
          }
        },
        "2008028a2d0a440fa4f9029ce874d408": {
          "model_module": "@jupyter-widgets/base",
          "model_name": "LayoutModel",
          "model_module_version": "1.2.0",
          "state": {
            "_model_module": "@jupyter-widgets/base",
            "_model_module_version": "1.2.0",
            "_model_name": "LayoutModel",
            "_view_count": null,
            "_view_module": "@jupyter-widgets/base",
            "_view_module_version": "1.2.0",
            "_view_name": "LayoutView",
            "align_content": null,
            "align_items": null,
            "align_self": null,
            "border": null,
            "bottom": null,
            "display": null,
            "flex": null,
            "flex_flow": null,
            "grid_area": null,
            "grid_auto_columns": null,
            "grid_auto_flow": null,
            "grid_auto_rows": null,
            "grid_column": null,
            "grid_gap": null,
            "grid_row": null,
            "grid_template_areas": null,
            "grid_template_columns": null,
            "grid_template_rows": null,
            "height": null,
            "justify_content": null,
            "justify_items": null,
            "left": null,
            "margin": null,
            "max_height": null,
            "max_width": null,
            "min_height": null,
            "min_width": null,
            "object_fit": null,
            "object_position": null,
            "order": null,
            "overflow": null,
            "overflow_x": null,
            "overflow_y": null,
            "padding": null,
            "right": null,
            "top": null,
            "visibility": null,
            "width": null
          }
        },
        "7ade1133ba0b4fbabc73635d49ba87e7": {
          "model_module": "@jupyter-widgets/controls",
          "model_name": "DescriptionStyleModel",
          "model_module_version": "1.5.0",
          "state": {
            "_model_module": "@jupyter-widgets/controls",
            "_model_module_version": "1.5.0",
            "_model_name": "DescriptionStyleModel",
            "_view_count": null,
            "_view_module": "@jupyter-widgets/base",
            "_view_module_version": "1.2.0",
            "_view_name": "StyleView",
            "description_width": ""
          }
        }
      }
    }
  },
  "nbformat": 4,
  "nbformat_minor": 0
}