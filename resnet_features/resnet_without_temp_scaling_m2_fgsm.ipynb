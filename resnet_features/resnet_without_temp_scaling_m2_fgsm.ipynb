{
  "cells": [
    {
      "cell_type": "markdown",
      "metadata": {
        "id": "view-in-github",
        "colab_type": "text"
      },
      "source": [
        "<a href=\"https://colab.research.google.com/github/sakshamgarg/Augmenting-Dirichlet-Network/blob/main/New_3_CV_dirichlet_3_fgsm.ipynb\" target=\"_parent\"><img src=\"https://colab.research.google.com/assets/colab-badge.svg\" alt=\"Open In Colab\"/></a>"
      ]
    },
    {
      "cell_type": "code",
      "execution_count": 1,
      "metadata": {
        "id": "TouVm6f1TKxR"
      },
      "outputs": [],
      "source": [
        "import torch\n",
        "import torch.nn as nn\n",
        "import torch.nn.functional as F\n",
        "import torch.optim as optim\n",
        "import seaborn as sns\n",
        "import torch.distributions as dist\n",
        "from mpl_toolkits import mplot3d\n",
        "from torch.distributions.dirichlet import Dirichlet\n",
        "\n",
        "from scipy.stats import multivariate_normal\n",
        "from scipy.stats import norm\n",
        "\n",
        "import torchvision\n",
        "import numpy as np\n",
        "import matplotlib.pyplot as plt\n",
        "from matplotlib import cm\n",
        "import sys\n",
        "import pandas as pd\n",
        "\n",
        "import torch\n",
        "import torch.nn as nn\n",
        "import torch.nn.functional as F\n",
        "import torch.optim as optim\n",
        "import torchvision.transforms as transforms\n",
        "\n",
        "from scipy.stats import multivariate_normal\n",
        "from scipy.stats import norm\n",
        "\n",
        "import matplotlib.pyplot as plt\n",
        "from matplotlib import cm\n",
        "import sys\n",
        "\n",
        "import torch.distributions as dist\n",
        "from torch.distributions.dirichlet import Dirichlet\n",
        "import torch\n",
        "import torch.nn as nn\n",
        "import torch.nn.functional as F\n",
        "import torch.optim as optim\n",
        "\n",
        "import torch.distributions as dist\n",
        "from torch.distributions.dirichlet import Dirichlet\n",
        "\n",
        "from sklearn.metrics import roc_auc_score, roc_curve\n",
        "from sklearn.metrics import precision_recall_curve, auc\n",
        "\n",
        "device = torch.device('cuda' if torch.cuda.is_available() else 'cpu')\n",
        "     "
      ]
    },
    {
      "cell_type": "code",
      "execution_count": 2,
      "metadata": {
        "id": "IFojIpBuTldv"
      },
      "outputs": [],
      "source": [
        "cifar_mean = (0.4914, 0.4822, 0.4465)\n",
        "cifar_std = (0.2470, 0.2435, 0.2616)                                             \n",
        "cifar_transform =  transforms.Compose(\n",
        "      [transforms.ToTensor(),\n",
        "     transforms.Normalize(cifar_mean, cifar_std)])"
      ]
    },
    {
      "cell_type": "code",
      "execution_count": 26,
      "metadata": {
        "colab": {
          "base_uri": "https://localhost:8080/"
        },
        "id": "qmHF1WeETrVK",
        "outputId": "dadc03e1-630f-467b-f24e-032d06af7c05"
      },
      "outputs": [
        {
          "output_type": "stream",
          "name": "stdout",
          "text": [
            "Files already downloaded and verified\n",
            "Files already downloaded and verified\n",
            "Files already downloaded and verified\n",
            "Files already downloaded and verified\n"
          ]
        }
      ],
      "source": [
        "train_in = torchvision.datasets.CIFAR10('./files/', train=True, download=True,\n",
        "                                        transform=cifar_transform)\n",
        "test_in = torchvision.datasets.CIFAR10('./files/', train=False, download=True,\n",
        "                                        transform=cifar_transform)\n",
        "train_out_new = torchvision.datasets.CIFAR10('./data', train=True, download=True,\n",
        "                                        transform=cifar_transform)\n",
        "test_out_new = torchvision.datasets.CIFAR10('./data', train=False, download=True,\n",
        "                                        transform=cifar_transform)\n",
        "# train_out = torchvision.datasets.SVHN('./data', split ='train', download=True,\n",
        "#                                         transform=cifar_transform)\n",
        "# test_out = torchvision.datasets.SVHN('./data', split ='test', download=True,\n",
        "#                                         transform=cifar_transform)"
      ]
    },
    {
      "cell_type": "code",
      "source": [
        "from google.colab import drive\n",
        "drive.mount('/content/drive')\n",
        "%cd /content/drive/My Drive/\n",
        "! python resnet.py\n",
        "from resnet import *\n",
        "model = resnet18()\n",
        "model.load_state_dict(torch.load('resnet18.pt'))"
      ],
      "metadata": {
        "colab": {
          "base_uri": "https://localhost:8080/"
        },
        "id": "7fSFM4dfSl1s",
        "outputId": "f548243a-ca5d-49b6-be08-6217bdbcdd83"
      },
      "execution_count": 27,
      "outputs": [
        {
          "output_type": "stream",
          "name": "stdout",
          "text": [
            "Drive already mounted at /content/drive; to attempt to forcibly remount, call drive.mount(\"/content/drive\", force_remount=True).\n",
            "/content/drive/My Drive\n"
          ]
        },
        {
          "output_type": "execute_result",
          "data": {
            "text/plain": [
              "<All keys matched successfully>"
            ]
          },
          "metadata": {},
          "execution_count": 27
        }
      ]
    },
    {
      "cell_type": "code",
      "source": [
        "from torch.autograd import Variable\n",
        "args_logscale = False\n",
        "criterion = nn.CrossEntropyLoss()\n",
        "criterion.to(device)\n",
        "min_pixel = -3\n",
        "max_pixel = 3\n",
        "args_epsilon = 0.2\n",
        "model = model.to(device)\n",
        "\n",
        "def fgsm(cnn, images, labels, eps=0.03):\n",
        "    images_adv = Variable(images.data, requires_grad=True).cuda()\n",
        "    images_adv.retain_grad()\n",
        "    pre_logits = cnn(images_adv)\n",
        "    cost = -criterion(pre_logits, labels)\n",
        "    \n",
        "    cnn.zero_grad()\n",
        "    if images_adv.grad is not None:\n",
        "        images_adv.grad.data.fill_(0)\n",
        "    cost.backward()\n",
        "\n",
        "    images_adv.grad.sign_()\n",
        "    images_adv = images_adv - eps * images_adv.grad\n",
        "    images_adv = torch.clamp(images_adv, min_pixel, max_pixel)\n",
        "    return images_adv\n",
        "\n",
        "def get_fgsm_images(data_loader):\n",
        "  fgsm_new_images = None\n",
        "  for i, ind_data in enumerate(data_loader):\n",
        "    if type(ind_data) == list:\n",
        "        images, labels = ind_data\n",
        "    else:\n",
        "        images = ind_data\n",
        "    labels = Variable(labels).cuda()\n",
        "\n",
        "    adv_images = fgsm(model, images, labels, eps=args_epsilon)\n",
        "    if i == 0:\n",
        "      fgsm_new_images = adv_images\n",
        "    else:\n",
        "      fgsm_new_images = torch.cat((fgsm_new_images, adv_images))\n",
        "  return fgsm_new_images\n",
        "\n",
        "\n",
        "train_out_new_loader = torch.utils.data.DataLoader(dataset=train_out_new,\n",
        "                                         batch_size=64,\n",
        "                                         shuffle=True,\n",
        "                                         pin_memory=True)\n",
        "\n",
        "test_out_new_loader = torch.utils.data.DataLoader(dataset=test_out_new,\n",
        "                                         batch_size=64,\n",
        "                                         shuffle=True,\n",
        "                                         pin_memory=True)\n",
        "\n",
        "train_out_new.data = get_fgsm_images(train_out_new_loader)\n",
        "test_out_new.data = get_fgsm_images(test_out_new_loader)\n",
        "\n",
        "train_out_new.targets = torch.tensor(np.ones(len(train_out_new.targets))*10, dtype=torch.long)\n",
        "test_out_new.targets = torch.tensor(np.ones(len(test_out_new.targets))*10, dtype=torch.long)\n"
      ],
      "metadata": {
        "id": "FzS7y2zyYeOG"
      },
      "execution_count": 28,
      "outputs": []
    },
    {
      "cell_type": "code",
      "execution_count": 29,
      "metadata": {
        "id": "Ry_6bN88Tvc9"
      },
      "outputs": [],
      "source": [
        "# train_out.data = np.vstack(train_out.data).reshape(-1, 32, 32, 3)\n",
        "train_out_new.data = train_out_new.data.cpu().detach().numpy()\n",
        "train_out_new.data = train_out_new.data.reshape(-1, 32, 32, 3).astype(np.uint8)"
      ]
    },
    {
      "cell_type": "code",
      "execution_count": 30,
      "metadata": {
        "id": "fR_B6S6HT1Yr"
      },
      "outputs": [],
      "source": [
        "train_in.data = torch.from_numpy(train_in.data)\n",
        "# train_out.data = torch.from_numpy(train_out.data)"
      ]
    },
    {
      "cell_type": "code",
      "execution_count": 31,
      "metadata": {
        "id": "zFWYYA0oT4XW"
      },
      "outputs": [],
      "source": [
        "# train_out.targets = torch.tensor(np.ones(len(train_out.labels))*10, dtype=torch.long)\n",
        "# test_out.targets = torch.tensor(np.ones(len(test_out.labels))*10, dtype=torch.long)\n",
        "\n",
        "# train_all = train_in\n",
        "# train_all.data = torch.cat((train_in.data, train_out.data))\n",
        "# train_all.targets = torch.cat((torch.IntTensor(np.array(train_in.targets)), torch.IntTensor(np.array(train_out.targets))))\n",
        "# train_all.data = train_all.data.cpu().detach().numpy()\n",
        "# train_all.targets = train_all.targets.data.cpu().detach().numpy()\n",
        "train_all = train_in\n",
        "train_all.data = torch.cat((train_in.data, torch.tensor(train_out_new.data)))\n",
        "train_all.targets = torch.cat((torch.IntTensor(np.array(train_in.targets)), train_out_new.targets))\n",
        "train_all.data = train_all.data.cpu().detach().numpy()\n",
        "train_all.targets = train_all.targets.data.cpu().detach().numpy()"
      ]
    },
    {
      "cell_type": "code",
      "execution_count": 32,
      "metadata": {
        "id": "zu0G5E1IT81_"
      },
      "outputs": [],
      "source": [
        "train_loader = torch.utils.data.DataLoader(train_all, batch_size=64)"
      ]
    },
    {
      "cell_type": "code",
      "execution_count": 33,
      "metadata": {
        "id": "aZz-haFIVN8J"
      },
      "outputs": [],
      "source": [
        "def get_resnet_features(data, model):\n",
        "  \n",
        "      x = model.conv1(data)\n",
        "      x = model.bn1(x)\n",
        "      x = model.relu(x)\n",
        "      x = model.maxpool(x)\n",
        "\n",
        "      x = model.layer1(x)\n",
        "      x = model.layer2(x)\n",
        "      x = model.layer3(x)\n",
        "      x = model.layer4(x)\n",
        "\n",
        "      x = model.avgpool(x)\n",
        "      x = x.reshape(x.size(0), -1)\n",
        "\n",
        "      return x"
      ]
    },
    {
      "cell_type": "code",
      "execution_count": 34,
      "metadata": {
        "id": "njva0ZFfVcFE"
      },
      "outputs": [],
      "source": [
        "def get_resnet_output(data,model):\n",
        "\n",
        "  y = model.forward(data)\n",
        "\n",
        "  y = torch.nn.functional.softmax(4*y, dim = 1)\n",
        "\n",
        "  return y"
      ]
    },
    {
      "cell_type": "code",
      "execution_count": 35,
      "metadata": {
        "id": "OXZPaW3QgYEu"
      },
      "outputs": [],
      "source": [
        "model = model.to(device)\n",
        "model = model.to(torch.float64)\n",
        "\n",
        "model = model.type(torch.FloatTensor).to(device)"
      ]
    },
    {
      "cell_type": "code",
      "execution_count": 36,
      "metadata": {
        "colab": {
          "base_uri": "https://localhost:8080/"
        },
        "id": "IKk7D2v5mjaf",
        "outputId": "ffb00f6f-473f-4f63-ca30-89e51da4ad03"
      },
      "outputs": [
        {
          "output_type": "stream",
          "name": "stdout",
          "text": [
            "Files already downloaded and verified\n"
          ]
        }
      ],
      "source": [
        "\n",
        "\n",
        "testdata = torchvision.datasets.CIFAR10('/files/', train=False, download=True,\n",
        "                                        transform=cifar_transform)\n",
        "testloader = torch.utils.data.DataLoader(testdata, batch_size=32)\n"
      ]
    },
    {
      "cell_type": "code",
      "execution_count": 37,
      "metadata": {
        "colab": {
          "base_uri": "https://localhost:8080/"
        },
        "id": "OpXAQDFuifJP",
        "outputId": "cecf3254-50b9-490e-e803-53f0259cf9b3"
      },
      "outputs": [
        {
          "output_type": "stream",
          "name": "stdout",
          "text": [
            "tensor(0.9168, device='cuda:0')\n"
          ]
        }
      ],
      "source": [
        "# RUN EVAL\n",
        "# my_model = resnet18()\n",
        "# my_model.load_state_dict(torch.load('resnet18.pt'))\n",
        "# model = model.cuda()\n",
        "model.eval()\n",
        "correct = 0\n",
        "total = 0\n",
        "for data in testloader:\n",
        "    inputs, labels = data\n",
        "    inputs, labels = inputs.cuda(), labels.cuda()\n",
        "    outputs = model(torch.autograd.Variable(inputs))\n",
        "    _, predicted = torch.max(outputs.data, 1)\n",
        "    total += labels.size(0)\n",
        "    correct += (predicted == labels).sum()\n",
        "\n",
        "accuracy = correct / float(total)\n",
        "print(accuracy)"
      ]
    },
    {
      "cell_type": "code",
      "execution_count": 38,
      "metadata": {
        "colab": {
          "base_uri": "https://localhost:8080/"
        },
        "id": "4Z--nrTvVgvP",
        "outputId": "b870fc21-c859-4330-911f-d25a690399fb"
      },
      "outputs": [
        {
          "output_type": "stream",
          "name": "stdout",
          "text": [
            "torch.Size([32, 32, 3])\n",
            "torch.Size([1, 3, 32, 32])\n"
          ]
        },
        {
          "output_type": "execute_result",
          "data": {
            "text/plain": [
              "tensor([[3.0074e-16, 3.7530e-37, 1.1393e-31, 1.0000e+00, 5.4795e-34, 1.1741e-28,\n",
              "         1.2882e-37, 1.0364e-35, 1.0588e-36, 3.9739e-36]], device='cuda:0',\n",
              "       grad_fn=<SoftmaxBackward0>)"
            ]
          },
          "metadata": {},
          "execution_count": 38
        }
      ],
      "source": [
        "\n",
        "x = torch.tensor(test_in.data[101])\n",
        "x = x.to(device) \n",
        "print(x.shape)\n",
        "x = x.permute(2,1,0)\n",
        "x= x.type(torch.FloatTensor).to(device)\n",
        "x =x.unsqueeze(0)\n",
        "print(x.shape)\n",
        "y = get_resnet_output(x,model)\n",
        "y"
      ]
    },
    {
      "cell_type": "code",
      "execution_count": 39,
      "metadata": {
        "colab": {
          "base_uri": "https://localhost:8080/"
        },
        "id": "vMW2_AEbWX0x",
        "outputId": "fd70564c-7ad0-445d-a3f0-2dcf7b3972c9"
      },
      "outputs": [
        {
          "output_type": "stream",
          "name": "stdout",
          "text": [
            "torch.Size([32, 32, 3])\n",
            "torch.Size([1, 3, 32, 32])\n"
          ]
        }
      ],
      "source": [
        "\n",
        "x = torch.tensor(test_in.data[101])\n",
        "x = x.to(device) \n",
        "print(x.shape)\n",
        "x = x.permute(2,1,0)\n",
        "x= x.type(torch.FloatTensor).to(device)\n",
        "x =x.unsqueeze(0)\n",
        "print(x.shape)\n",
        "f = get_resnet_features(x,model)\n"
      ]
    },
    {
      "cell_type": "code",
      "execution_count": 40,
      "metadata": {
        "id": "hJ0rDwEoab5K"
      },
      "outputs": [],
      "source": [
        "# targets is a torch tensor of targets [3,4,5] for 3 in, [10,10,10] for 3 out, [3,10,1] in,out,im\n",
        "def target_alpha(targets):\n",
        "  target = targets.cpu().detach().numpy()\n",
        "  def gen_onehot(category, total_cat=10):\n",
        "    label = np.ones(total_cat)\n",
        "    label[category] = 20\n",
        "    return label\n",
        "  target_alphas = []\n",
        "  for i in target:\n",
        "    if i==10:\n",
        "      target_alphas.append(torch.tensor(np.ones(10)))\n",
        "    else:\n",
        "      target_alphas.append(torch.tensor(gen_onehot(i)))\n",
        "  return torch.stack(target_alphas).to(device)"
      ]
    },
    {
      "cell_type": "code",
      "execution_count": 41,
      "metadata": {
        "id": "cjiXRTN8bIKb"
      },
      "outputs": [],
      "source": [
        "# 1 for out, -1 for in\n",
        "def check_in_out_lambdas(target_alphas):\n",
        "\n",
        "  alpha_sum = target_alphas.sum(axis = 1)\n",
        "  alpha_sum = alpha_sum.cpu().detach()\n",
        "  lambdas =  alpha_sum.apply_(lambda x: 1 if(x==10) else -1)\n",
        "  return lambdas.to(device)\n"
      ]
    },
    {
      "cell_type": "code",
      "execution_count": 42,
      "metadata": {
        "id": "kr7USs8eZ5mz"
      },
      "outputs": [],
      "source": [
        "class PriorNet(nn.Module):\n",
        "    def __init__(self, input_dim=1, hidden_dim=1):\n",
        "        super().__init__()\n",
        "        self.fc1 = nn.Linear(input_dim, hidden_dim)\n",
        "        self.fc2 = nn.Linear(hidden_dim, 3)         # output_dim = 4\n",
        "\n",
        "    def forward(self, x):\n",
        "        x = F.relu(self.fc1(x))\n",
        "        x = self.fc2(x)\n",
        "        return x #F.softmax(x, dim=1)\n",
        "\n",
        "    def predict_alpha(self, x):\n",
        "      src = torch.Tensor(x).to(device)\n",
        "      output = torch.exp(self.forward(src))\n",
        "      return output\n",
        "\n",
        "    def predict_dir(self, x):\n",
        "      alpha = self.predict_alpha(x)\n",
        "      dirichlet = Dirichlet(alpha)\n",
        "      return dirichlet\n",
        "\n",
        "    def fit(self, epoch_num, optimizer, train_X, train_Y):\n",
        "      self.train()\n",
        "\n",
        "      n_train = len(train_X)\n",
        "\n",
        "      # Shuffle the input\n",
        "      index = np.arange(n_train)\n",
        "      np.random.shuffle(index)\n",
        "      train_x = train_X[index]\n",
        "      train_y = train_Y[index]\n",
        "\n",
        "      for epoch in range(epoch_num):\n",
        "        for i in range(n_train):\n",
        "          optimizer.zero_grad()\n",
        "          src = torch.Tensor(train_x[i:i+1]).to(device)\n",
        "          target = torch.Tensor(train_y[i:i+1]).to(device)\n",
        "          # Predicted alpha\n",
        "          output = torch.exp(self.forward(src))\n",
        "          dirichlet1 = Dirichlet(output)\n",
        "          dirichlet2 = Dirichlet(target)\n",
        "          loss = dist.kl.kl_divergence(dirichlet1, dirichlet2)\n",
        "          loss.backward()\n",
        "          optimizer.step()\n",
        "        print('Train Epoch: {} \\t Loss: {:.6f}'.format(epoch, loss.item()))\n",
        "    \n",
        "    def expected_entropy_from_alphas(self, alphas, alpha0):\n",
        "        return -torch.sum((alphas/alpha0)*(torch.digamma(alphas+1)-torch.digamma(alpha0+1)), dim=1)\n",
        "    \n",
        "    def categorical_entropy_torch(self, probs):\n",
        "        log_probs = torch.log(probs)\n",
        "        log_probs = torch.where(torch.isfinite(log_probs), log_probs, torch.zeros_like(log_probs))\n",
        "        entropy = -torch.sum(probs*log_probs, dim=1, keepdim=False)\n",
        "        return entropy\n",
        "\n",
        "    def mutual_information(self, x):\n",
        "        \n",
        "        alphas = self.predict_alpha(x, model)\n",
        "        alpha0 = torch.sum(alphas, dim=1, keepdim=True)\n",
        "        probs = alphas / alpha0\n",
        "\n",
        "        expected_entropy = self.expected_entropy_from_alphas(alphas, alpha0)\n",
        "        entropy_of_exp = self.categorical_entropy_torch(probs)\n",
        "        mutual_info = entropy_of_exp - expected_entropy\n",
        "        return mutual_info\n",
        "\n",
        "    def diffenrential_entropy(self, x):\n",
        "        alphas = self.predict_alpha(x, model)\n",
        "        alpha0 = torch.sum(alphas, dim=1, keepdim=True)\n",
        "        return torch.sum(\n",
        "            torch.lgamma(alphas)-(alphas-1)*(torch.digamma(alphas)-torch.digamma(alpha0)),\n",
        "            dim=1) - torch.lgamma(alpha0)\n",
        "\n",
        "    def entropy(self, x):\n",
        "        alphas = self.predict_alpha(x, model)\n",
        "        alpha0 = torch.sum(alphas, dim=1, keepdim=True)\n",
        "        probs = alphas / alpha0\n",
        "        ret = -torch.sum(probs*torch.log(probs), dim=1)\n",
        "        return ret"
      ]
    },
    {
      "cell_type": "code",
      "execution_count": 43,
      "metadata": {
        "id": "TqILo-m3a3k5"
      },
      "outputs": [],
      "source": [
        "\n",
        "augnet_path =  '/content/drive/MyDrive/CV_Project/augnet_withoutTemp'\n",
        "file_name = 'augnet_imp'\n",
        "from os import truncate\n",
        "\n",
        "class AugNet(PriorNet):\n",
        "\n",
        "    def __init__(self, old_preds_dim, feature_dim, target_dim):\n",
        "        super().__init__()\n",
        "        self.y_dim = old_preds_dim\n",
        "        self.feature_dim = feature_dim\n",
        "        self.target_dim = target_dim\n",
        "        self.fc1 = nn.Linear(feature_dim, 1024)   \n",
        "        self.relu = torch.nn.ReLU()\n",
        "        self.fc2_1 = nn.Linear(1024, 512) \n",
        "        self.fc2_2 = nn.Linear(512,256)\n",
        "        #self.fc2 = nn.Linear(1024, 256)        \n",
        "        self.fc3 = nn.Linear(10 + 256, 512) \n",
        "        self.fc4 = nn.Linear(512, 256)\n",
        "        self.fc5 = nn.Linear(256,64)\n",
        "        self.fc6 = nn.Linear(64,10)\n",
        "        #self.fc6 = nn.Linear(128,10)\n",
        "     \n",
        "  \n",
        "\n",
        "    def forward(self, features, y):\n",
        "\n",
        "      x = self.fc1(features)\n",
        "      x = self.relu(x)\n",
        "      x = self.fc2_1(x)\n",
        "      x = self.relu(x)\n",
        "      x = self.fc2_2(x)\n",
        "      x = self.relu(x)\n",
        "      #x = self.fc3(x)\n",
        "      # print(\"x\")\n",
        "      # print(x.shape)\n",
        "      # print(\"y\")\n",
        "      # print(y.shape)\n",
        "\n",
        "      x = self.fc3(torch.cat((x,y), dim = 1) )\n",
        "      x = self.relu(x)\n",
        "      x = self.fc4(x)\n",
        "      x = self.relu(x)\n",
        "      x = self.fc5(x)\n",
        "      x = self.relu(x)\n",
        "      x = self.fc6(x)\n",
        "\n",
        "      return x\n",
        "\n",
        "\n",
        "    def predict_alpha(self, x, model):\n",
        "            x = torch.FloatTensor(x).unsqueeze(0) \n",
        "            x = x.to(device)\n",
        "            x = x.reshape(-1, 3, 32, 32)\n",
        "            features = get_resnet_features(x, model)\n",
        "            pred_outputs = get_resnet_output(x, model)\n",
        "#           src = torch.Tensor(x).to(device)\n",
        "            output = torch.exp(self.forward(features, pred_outputs))\n",
        "            return output\n",
        "    def predict_dir(self, x):\n",
        "      alpha = self.predict_alpha(x)\n",
        "      dirichlet = Dirichlet(alpha)\n",
        "      return dirichlet\n",
        "  \n",
        "    def fit(self, epoch_num, optimizer, model):\n",
        "      self.train()\n",
        "      loss_track = []\n",
        "      # Shuffle the input\n",
        "      train_loader = torch.utils.data.DataLoader(train_all, batch_size=64)\n",
        "\n",
        "      for epoch in range(epoch_num):\n",
        "\n",
        "\n",
        "        loss_total = 0\n",
        "        for batch_idx, (data, target) in enumerate(train_loader):\n",
        "\n",
        "          optimizer.zero_grad()\n",
        "\n",
        "          #print(type(data))\n",
        "          #print(data.shape)\n",
        "          #break\n",
        "\n",
        "        \n",
        "         # data = data.to(device)\n",
        "          target = target.to(device)\n",
        "         \n",
        "          #data = data.permute(0,3,1,2)\n",
        "          #data= data.to(torch.float64)\n",
        "          data= data.type(torch.FloatTensor).to(device)\n",
        "          #x =x.unsqueeze(0)\n",
        "          \n",
        "          features = get_resnet_features(data,model)\n",
        "          features = features.detach().requires_grad_(False)\n",
        "\n",
        "          y = get_resnet_output(data,model)\n",
        "          y = y.detach().requires_grad_(False)\n",
        "  \n",
        "          # predict alpha\n",
        "          target_a = target_alpha(target)\n",
        "          target_a = target_a.to(device)\n",
        "          out = self.forward(features, y)\n",
        "          output_alpha = torch.exp(out)\n",
        "\n",
        "          dirichlet1 = Dirichlet(output_alpha)\n",
        "          dirichlet2 = Dirichlet(target_a)\n",
        "          lambdas = check_in_out_lambdas(target_a)\n",
        "          sgm_alpha = torch.sigmoid(output_alpha) \n",
        "\n",
        "\n",
        "          loss = torch.sum(dist.kl.kl_divergence(dirichlet1, dirichlet2))  + torch.sum(lambdas * torch.mean(sgm_alpha,1))\n",
        "          loss_total += loss.item()\n",
        "          loss.backward(retain_graph=True)\n",
        "          optimizer.step()\n",
        "\n",
        "\n",
        "        print('Train Epoch: {} \\t Loss: {:.6f}'.format(epoch, loss_total/120000))\n",
        "        loss_track.append(loss_total)\n",
        "\n",
        "        if(epoch%4 == 0):\n",
        "        \n",
        "          torch.save({\n",
        "              'epoch': epoch,\n",
        "              'model_state_dict': self.state_dict(),\n",
        "              'optimizer_state_dict': optimizer.state_dict(),\n",
        "              'loss': loss_track,\n",
        "              }, f\"{augnet_path}/{file_name+str(epoch)+'.pth'}\")\n",
        "        \n",
        "      return loss_track\n",
        "    \n",
        "    def max_prob(self, x):\n",
        "        alphas = self.predict_alpha(x, model)\n",
        "        alpha0 = torch.sum(alphas, dim=1, keepdim=True)\n",
        "        probs = alphas / alpha0\n",
        "        conf = torch.max(probs, dim=1)\n",
        "        return conf.values"
      ]
    },
    {
      "cell_type": "code",
      "execution_count": 44,
      "metadata": {
        "colab": {
          "base_uri": "https://localhost:8080/"
        },
        "id": "_8PmctqndsB_",
        "outputId": "560f820e-b435-4a5b-9217-b8caf1c657f9"
      },
      "outputs": [
        {
          "output_type": "stream",
          "name": "stdout",
          "text": [
            "Train Epoch: 0 \t Loss: 0.945144\n",
            "Train Epoch: 1 \t Loss: 1.021052\n",
            "Train Epoch: 2 \t Loss: 0.777480\n",
            "Train Epoch: 3 \t Loss: 1.017165\n",
            "Train Epoch: 4 \t Loss: 0.785310\n",
            "Train Epoch: 5 \t Loss: 0.806978\n",
            "Train Epoch: 6 \t Loss: 0.694972\n",
            "Train Epoch: 7 \t Loss: 0.823067\n",
            "Train Epoch: 8 \t Loss: 0.885819\n",
            "Train Epoch: 9 \t Loss: 1.332008\n",
            "Train Epoch: 10 \t Loss: 0.660119\n",
            "Train Epoch: 11 \t Loss: 0.722909\n",
            "Train Epoch: 12 \t Loss: 0.665219\n",
            "Train Epoch: 13 \t Loss: 0.749250\n",
            "Train Epoch: 14 \t Loss: 0.746319\n",
            "Train Epoch: 15 \t Loss: 0.703971\n",
            "Train Epoch: 16 \t Loss: 0.698465\n",
            "Train Epoch: 17 \t Loss: 0.803326\n",
            "Train Epoch: 18 \t Loss: 0.700393\n",
            "Train Epoch: 19 \t Loss: 0.670905\n",
            "Train Epoch: 20 \t Loss: 0.732143\n",
            "Train Epoch: 21 \t Loss: 0.748749\n",
            "Train Epoch: 22 \t Loss: 0.631503\n",
            "Train Epoch: 23 \t Loss: 0.677912\n",
            "Train Epoch: 24 \t Loss: 0.750358\n",
            "Train Epoch: 25 \t Loss: 0.663480\n",
            "Train Epoch: 26 \t Loss: 0.674289\n",
            "Train Epoch: 27 \t Loss: 0.715371\n",
            "Train Epoch: 28 \t Loss: 0.688347\n",
            "Train Epoch: 29 \t Loss: 0.721310\n",
            "Train Epoch: 30 \t Loss: 0.700759\n",
            "Train Epoch: 31 \t Loss: 0.760905\n"
          ]
        }
      ],
      "source": [
        "dpn = AugNet(10,512,10)\n",
        "dpn.to(device)\n",
        "optimizer = optim.Adam(dpn.parameters(), lr=0.001)\n",
        "model = resnet18()\n",
        "model.load_state_dict(torch.load('resnet18.pt'))\n",
        "model = model.to(device)\n",
        "torch.nn.utils.clip_grad_norm_(dpn.parameters(), 2.0)\n",
        "losses = dpn.fit(32, optimizer, model)"
      ]
    },
    {
      "cell_type": "code",
      "source": [
        " \n",
        "torch.save({ \n",
        "              'epoch': 29,\n",
        "              'model_state_dict': dpn.state_dict(),\n",
        "              'optimizer_state_dict': optimizer.state_dict(),\n",
        "              'loss': [],\n",
        "              }, f\"{augnet_path}/{file_name+str(29)+'.pth'}\")\n",
        "        "
      ],
      "metadata": {
        "id": "9xIKAuqi9cAA"
      },
      "execution_count": null,
      "outputs": []
    },
    {
      "cell_type": "code",
      "source": [
        "! pwd"
      ],
      "metadata": {
        "colab": {
          "base_uri": "https://localhost:8080/"
        },
        "id": "dxz_BdWrD2Qs",
        "outputId": "e38502bd-7df6-4922-97ad-b90730f9f843"
      },
      "execution_count": null,
      "outputs": [
        {
          "output_type": "stream",
          "name": "stdout",
          "text": [
            "/content/drive/My Drive\n"
          ]
        }
      ]
    },
    {
      "cell_type": "code",
      "source": [
        "dpn = AugNet(10,512,10)\n",
        "loaded = torch.load('/content/drive/MyDrive/CV_Project/augnet_withoutTemp/augnet_imp28.pth')\n",
        "dpn.load_state_dict(loaded[\"model_state_dict\"])\n",
        "dpn = dpn.to(device)"
      ],
      "metadata": {
        "id": "II6ikIGVCfua"
      },
      "execution_count": 45,
      "outputs": []
    },
    {
      "cell_type": "code",
      "source": [
        "model = resnet18().cuda()\n",
        "model.load_state_dict(torch.load('resnet18.pt'))"
      ],
      "metadata": {
        "colab": {
          "base_uri": "https://localhost:8080/"
        },
        "id": "V64r1_1nEbTL",
        "outputId": "81fbc57b-a064-4b23-ffc9-7d5df68223a9"
      },
      "execution_count": 46,
      "outputs": [
        {
          "output_type": "execute_result",
          "data": {
            "text/plain": [
              "<All keys matched successfully>"
            ]
          },
          "metadata": {},
          "execution_count": 46
        }
      ]
    },
    {
      "cell_type": "code",
      "source": [
        "test_in_full = torchvision.datasets.CIFAR10('./files/', train=False, download=True,\n",
        "                                        transform=cifar_transform)\n",
        "test_out_full = torchvision.datasets.SVHN('./data', split ='test', download=True,\n",
        "                                        transform=cifar_transform)"
      ],
      "metadata": {
        "colab": {
          "base_uri": "https://localhost:8080/"
        },
        "id": "QwZUpf0j0iTC",
        "outputId": "af5d2100-57cc-42d0-daa0-dfd98944a49f"
      },
      "execution_count": 47,
      "outputs": [
        {
          "output_type": "stream",
          "name": "stdout",
          "text": [
            "Files already downloaded and verified\n",
            "Using downloaded and verified file: ./data/test_32x32.mat\n"
          ]
        }
      ]
    },
    {
      "cell_type": "code",
      "source": [
        "test_out_full.targets = torch.tensor(np.ones(len(test_out_full.labels))*10, dtype=torch.long)"
      ],
      "metadata": {
        "id": "IPkq41AI0yiy"
      },
      "execution_count": 48,
      "outputs": []
    },
    {
      "cell_type": "code",
      "source": [
        "test_in_cut = test_in_full\n",
        "test_out_cut = test_out_full"
      ],
      "metadata": {
        "id": "AKVj-FKH04NP"
      },
      "execution_count": 49,
      "outputs": []
    },
    {
      "cell_type": "code",
      "source": [
        "test_in_cut.data = test_in_full.data[0:1000]\n",
        "test_in_cut.targets = test_in_full.targets[0:1000]\n",
        "test_out_cut.data = test_out_full.data[0:1000]\n",
        "test_out_cut.targets = test_out_full.labels[0:1000]\n",
        "test_in = test_in_cut\n",
        "test_out = test_out_cut"
      ],
      "metadata": {
        "id": "Zg2fgA-E09Z5"
      },
      "execution_count": 50,
      "outputs": []
    },
    {
      "cell_type": "code",
      "execution_count": 51,
      "metadata": {
        "id": "Ohnr7EVQr3kn"
      },
      "outputs": [],
      "source": [
        "# miscood.py\n",
        "\n",
        "def uncertainty_score(dpn, test_data, metrics, dcat=0):\n",
        "  dpn.eval()\n",
        "  score_lst = []\n",
        "  for x in test_data:\n",
        "#     print((x.shape))\n",
        "#     x = [x]\n",
        "    with torch.no_grad():\n",
        "      if metrics=='DE':\n",
        "        score = dpn.diffenrential_entropy(x).data.cpu().numpy()[0][0]\n",
        "      elif metrics=='MI':\n",
        "        score = dpn.mutual_information(x).data.cpu().numpy()[0]\n",
        "      elif metrics=='MAXP':\n",
        "        score = dpn.max_prob(x).data.cpu().numpy()[0]\n",
        "      elif metrics=='ENT':\n",
        "        score = dpn.entropy(x).data.cpu().numpy()[0]\n",
        "    score_lst.append(score)\n",
        "  return score_lst\n",
        "\n",
        "\n",
        "def get_ood_label_score(test_in_score, test_out_score):\n",
        "  score = np.concatenate([test_in_score, test_out_score])\n",
        "  label = np.concatenate((np.zeros(len(test_in_score)), np.ones(len(test_out_score))))\n",
        "  return label, score\n",
        "  \n",
        "def get_misc_label_score(dpn, test_data, test_label, test_in_score):\n",
        "  misc_label = np.zeros(len(test_label))\n",
        "\n",
        "  for i in range(len(test_data)):\n",
        "    x = test_data[i]\n",
        "#     x = [x]\n",
        "    with torch.no_grad():\n",
        "      pred = dpn.predict_alpha(x, model)\n",
        "      pred_class = torch.max(pred[0], 0).indices\n",
        "      misc_label[i] = 1-torch.eq(torch.tensor(test_label[i]), pred_class).sum().cpu().numpy()\n",
        "\n",
        "  return misc_label, np.array(test_in_score)\n",
        "\n",
        "def plot_roc(label, score, label_name):\n",
        "  fpr, tpr, thresholds = roc_curve(label, score)\n",
        "  plt.plot(fpr, tpr, label=label_name)\n",
        "  plt.xlabel('False Positive')\n",
        "  plt.ylabel('True Positive')\n",
        "  plt.title('ROC')\n",
        "  plt.ylim(0.0, 1.0)\n",
        "  plt.xlim(0.0, 1.0)\n",
        "\n",
        "def plot_pr(label, score, label_name):\n",
        "  precision, recall, thresholds = precision_recall_curve(label, score)\n",
        "  plt.plot(recall, precision, label=label_name)\n",
        "  plt.xlabel('Recall')\n",
        "  plt.ylabel('Precision')\n",
        "  plt.title('Precision-Recall Curve')\n",
        "  plt.ylim(0.0, 1.0)\n",
        "  plt.xlim(0.0, 1.0)\n",
        "\n",
        "\n",
        "def get_auroc_aupr(label, score):\n",
        "  #score[score==-np.inf] = -100\n",
        "  #score[score==np.inf] = 100\n",
        "\n",
        "  auroc = roc_auc_score(label, score)\n",
        "  precision, recall, thresholds = precision_recall_curve(label, score)\n",
        "  aupr = auc(recall, precision)\n",
        "  return auroc, aupr\n",
        "\n",
        "\n",
        "def get_test_roc_pr(network, metrics, detect='ood'):\n",
        "  test_in_score = uncertainty_score(network, test_in.data, metrics, dcat=0)\n",
        "  test_out_score = uncertainty_score(network, test_out.data, metrics, dcat=0)\n",
        "  if detect=='ood':\n",
        "    label_dp, score_dp = get_ood_label_score(test_in_score, test_out_score)\n",
        "  elif detect=='misc':\n",
        "    label_dp, score_dp = get_misc_label_score(network, test_in.data,\n",
        "                                              test_in.targets, test_in_score)\n",
        "  if metrics=='MAXP':\n",
        "    score_dp = -score_dp\n",
        "\n",
        "  index = np.isposinf(score_dp)\n",
        "  score_dp[np.isposinf(score_dp)] = 1e9\n",
        "  maximum = np.amax(score_dp)\n",
        "  score_dp[np.isposinf(score_dp)] = maximum + 1\n",
        "\n",
        "  index = np.isneginf(score_dp)\n",
        "  score_dp[np.isneginf(score_dp)] = -1e9\n",
        "  minimum = np.amin(score_dp)\n",
        "  score_dp[np.isneginf(score_dp)] = minimum - 1\n",
        "\n",
        "  score_dp[np.isnan(score_dp)] = 0\n",
        "\n",
        "  auroc, aupr = get_auroc_aupr(label_dp, score_dp)\n",
        "  return auroc, aupr, label_dp, score_dp"
      ]
    },
    {
      "cell_type": "code",
      "execution_count": 52,
      "metadata": {
        "id": "LavkmbSzyPzN"
      },
      "outputs": [],
      "source": [
        "auroc_mp, aupr_mp, label_mp, score_mp = get_test_roc_pr(dpn, 'MAXP', 'misc')\n",
        "auroc_ent, aupr_ent, label_ent, score_ent = get_test_roc_pr(dpn, 'ENT', 'misc')\n",
        "auroc_mi, aupr_mi, label_mi, score_mi = get_test_roc_pr(dpn, 'MI', 'misc')\n",
        "auroc_de, aupr_de, label_de, score_de = get_test_roc_pr(dpn, 'DE', 'misc')"
      ]
    },
    {
      "cell_type": "code",
      "execution_count": 53,
      "metadata": {
        "id": "5F5kvjLzySaM",
        "colab": {
          "base_uri": "https://localhost:8080/",
          "height": 112
        },
        "outputId": "48ef8c75-a6b1-48e2-a4a7-722edfc889d4"
      },
      "outputs": [
        {
          "output_type": "execute_result",
          "data": {
            "text/plain": [
              "          Max.P       Ent        MI     D.Ent\n",
              "AUROC  0.524621  0.502918  0.470214  0.510855\n",
              "AUPR   0.927178  0.897148  0.906564  0.907982"
            ],
            "text/html": [
              "\n",
              "  <div id=\"df-36c11194-00fb-49d6-8898-554003d02d9f\">\n",
              "    <div class=\"colab-df-container\">\n",
              "      <div>\n",
              "<style scoped>\n",
              "    .dataframe tbody tr th:only-of-type {\n",
              "        vertical-align: middle;\n",
              "    }\n",
              "\n",
              "    .dataframe tbody tr th {\n",
              "        vertical-align: top;\n",
              "    }\n",
              "\n",
              "    .dataframe thead th {\n",
              "        text-align: right;\n",
              "    }\n",
              "</style>\n",
              "<table border=\"1\" class=\"dataframe\">\n",
              "  <thead>\n",
              "    <tr style=\"text-align: right;\">\n",
              "      <th></th>\n",
              "      <th>Max.P</th>\n",
              "      <th>Ent</th>\n",
              "      <th>MI</th>\n",
              "      <th>D.Ent</th>\n",
              "    </tr>\n",
              "  </thead>\n",
              "  <tbody>\n",
              "    <tr>\n",
              "      <th>AUROC</th>\n",
              "      <td>0.524621</td>\n",
              "      <td>0.502918</td>\n",
              "      <td>0.470214</td>\n",
              "      <td>0.510855</td>\n",
              "    </tr>\n",
              "    <tr>\n",
              "      <th>AUPR</th>\n",
              "      <td>0.927178</td>\n",
              "      <td>0.897148</td>\n",
              "      <td>0.906564</td>\n",
              "      <td>0.907982</td>\n",
              "    </tr>\n",
              "  </tbody>\n",
              "</table>\n",
              "</div>\n",
              "      <button class=\"colab-df-convert\" onclick=\"convertToInteractive('df-36c11194-00fb-49d6-8898-554003d02d9f')\"\n",
              "              title=\"Convert this dataframe to an interactive table.\"\n",
              "              style=\"display:none;\">\n",
              "        \n",
              "  <svg xmlns=\"http://www.w3.org/2000/svg\" height=\"24px\"viewBox=\"0 0 24 24\"\n",
              "       width=\"24px\">\n",
              "    <path d=\"M0 0h24v24H0V0z\" fill=\"none\"/>\n",
              "    <path d=\"M18.56 5.44l.94 2.06.94-2.06 2.06-.94-2.06-.94-.94-2.06-.94 2.06-2.06.94zm-11 1L8.5 8.5l.94-2.06 2.06-.94-2.06-.94L8.5 2.5l-.94 2.06-2.06.94zm10 10l.94 2.06.94-2.06 2.06-.94-2.06-.94-.94-2.06-.94 2.06-2.06.94z\"/><path d=\"M17.41 7.96l-1.37-1.37c-.4-.4-.92-.59-1.43-.59-.52 0-1.04.2-1.43.59L10.3 9.45l-7.72 7.72c-.78.78-.78 2.05 0 2.83L4 21.41c.39.39.9.59 1.41.59.51 0 1.02-.2 1.41-.59l7.78-7.78 2.81-2.81c.8-.78.8-2.07 0-2.86zM5.41 20L4 18.59l7.72-7.72 1.47 1.35L5.41 20z\"/>\n",
              "  </svg>\n",
              "      </button>\n",
              "      \n",
              "  <style>\n",
              "    .colab-df-container {\n",
              "      display:flex;\n",
              "      flex-wrap:wrap;\n",
              "      gap: 12px;\n",
              "    }\n",
              "\n",
              "    .colab-df-convert {\n",
              "      background-color: #E8F0FE;\n",
              "      border: none;\n",
              "      border-radius: 50%;\n",
              "      cursor: pointer;\n",
              "      display: none;\n",
              "      fill: #1967D2;\n",
              "      height: 32px;\n",
              "      padding: 0 0 0 0;\n",
              "      width: 32px;\n",
              "    }\n",
              "\n",
              "    .colab-df-convert:hover {\n",
              "      background-color: #E2EBFA;\n",
              "      box-shadow: 0px 1px 2px rgba(60, 64, 67, 0.3), 0px 1px 3px 1px rgba(60, 64, 67, 0.15);\n",
              "      fill: #174EA6;\n",
              "    }\n",
              "\n",
              "    [theme=dark] .colab-df-convert {\n",
              "      background-color: #3B4455;\n",
              "      fill: #D2E3FC;\n",
              "    }\n",
              "\n",
              "    [theme=dark] .colab-df-convert:hover {\n",
              "      background-color: #434B5C;\n",
              "      box-shadow: 0px 1px 3px 1px rgba(0, 0, 0, 0.15);\n",
              "      filter: drop-shadow(0px 1px 2px rgba(0, 0, 0, 0.3));\n",
              "      fill: #FFFFFF;\n",
              "    }\n",
              "  </style>\n",
              "\n",
              "      <script>\n",
              "        const buttonEl =\n",
              "          document.querySelector('#df-36c11194-00fb-49d6-8898-554003d02d9f button.colab-df-convert');\n",
              "        buttonEl.style.display =\n",
              "          google.colab.kernel.accessAllowed ? 'block' : 'none';\n",
              "\n",
              "        async function convertToInteractive(key) {\n",
              "          const element = document.querySelector('#df-36c11194-00fb-49d6-8898-554003d02d9f');\n",
              "          const dataTable =\n",
              "            await google.colab.kernel.invokeFunction('convertToInteractive',\n",
              "                                                     [key], {});\n",
              "          if (!dataTable) return;\n",
              "\n",
              "          const docLinkHtml = 'Like what you see? Visit the ' +\n",
              "            '<a target=\"_blank\" href=https://colab.research.google.com/notebooks/data_table.ipynb>data table notebook</a>'\n",
              "            + ' to learn more about interactive tables.';\n",
              "          element.innerHTML = '';\n",
              "          dataTable['output_type'] = 'display_data';\n",
              "          await google.colab.output.renderOutput(dataTable, element);\n",
              "          const docLink = document.createElement('div');\n",
              "          docLink.innerHTML = docLinkHtml;\n",
              "          element.appendChild(docLink);\n",
              "        }\n",
              "      </script>\n",
              "    </div>\n",
              "  </div>\n",
              "  "
            ]
          },
          "metadata": {},
          "execution_count": 53
        }
      ],
      "source": [
        "\n",
        "auroc_lst = [auroc_mp , auroc_ent, auroc_mi, auroc_de]\n",
        "aupr_lst = [aupr_mp, aupr_ent, aupr_mi, aupr_de]\n",
        "\n",
        "pd.DataFrame(data=np.array([auroc_lst, aupr_lst]), \n",
        "             columns=['Max.P', 'Ent', 'MI', 'D.Ent'], \n",
        "             index=['AUROC', 'AUPR'])"
      ]
    },
    {
      "cell_type": "code",
      "execution_count": 54,
      "metadata": {
        "id": "UDLwpRLPyTGm",
        "colab": {
          "base_uri": "https://localhost:8080/",
          "height": 295
        },
        "outputId": "69dfe31b-b2ca-4bef-9be7-47926ad1e93f"
      },
      "outputs": [
        {
          "output_type": "display_data",
          "data": {
            "text/plain": [
              "<Figure size 432x288 with 1 Axes>"
            ],
            "image/png": "[encoded data removed]"
          },
          "metadata": {
            "needs_background": "light"
          }
        }
      ],
      "source": [
        "plot_roc(label_mp, score_mp, label_name='MAX.P')\n",
        "plot_roc(label_ent, score_ent, label_name='ENT')\n",
        "plot_roc(label_mi, score_mi, label_name='MI')\n",
        "plot_roc(label_de, score_de, label_name='D.ENT')\n",
        "plt.legend()\n",
        "plt.show()"
      ]
    },
    {
      "cell_type": "code",
      "execution_count": 55,
      "metadata": {
        "id": "Xqy9icczyVW6",
        "colab": {
          "base_uri": "https://localhost:8080/",
          "height": 295
        },
        "outputId": "dbb3ae6c-0fac-4690-e03c-f4e9fb6d0f26"
      },
      "outputs": [
        {
          "output_type": "display_data",
          "data": {
            "text/plain": [
              "<Figure size 432x288 with 1 Axes>"
            ],
            "image/png": "[encoded data removed]"
          },
          "metadata": {
            "needs_background": "light"
          }
        }
      ],
      "source": [
        "plot_pr(label_mp, score_mp, label_name='MAX.P')\n",
        "plot_pr(label_ent, score_ent, label_name='ENT')\n",
        "plot_pr(label_mi, score_mi, label_name='MI')\n",
        "plot_pr(label_de, score_de, label_name='D.ENT')\n",
        "plt.legend()\n",
        "plt.show()"
      ]
    },
    {
      "cell_type": "code",
      "execution_count": 56,
      "metadata": {
        "id": "1WBF6rlWyZKU"
      },
      "outputs": [],
      "source": [
        "auroc_mp_ood, aupr_mp_ood, label_mp_ood, score_mp_ood = get_test_roc_pr(dpn, 'MAXP', 'ood')\n",
        "auroc_ent_ood, aupr_ent_ood, label_ent_ood_ood, score_ent_ood = get_test_roc_pr(dpn, 'ENT', 'ood')\n",
        "auroc_mi_ood, aupr_mi_ood_ood, label_mi_ood, score_mi_ood = get_test_roc_pr(dpn, 'MI', 'ood')\n",
        "auroc_de_ood, aupr_de_ood, label_de_ood, score_de_ood = get_test_roc_pr(dpn, 'DE', 'ood')"
      ]
    },
    {
      "cell_type": "code",
      "execution_count": 57,
      "metadata": {
        "colab": {
          "base_uri": "https://localhost:8080/",
          "height": 112
        },
        "id": "E9rOLelkyZ2P",
        "outputId": "f71a7839-4cb6-4bc6-ee7f-09f57cfc58a8"
      },
      "outputs": [
        {
          "output_type": "execute_result",
          "data": {
            "text/plain": [
              "          Max.P       Ent        MI     D.Ent\n",
              "AUROC  0.557508  0.560391  0.436281  0.563380\n",
              "AUPR   0.608888  0.547762  0.449224  0.546301"
            ],
            "text/html": [
              "\n",
              "  <div id=\"df-0396263c-f8d5-4520-9e70-751f238c539c\">\n",
              "    <div class=\"colab-df-container\">\n",
              "      <div>\n",
              "<style scoped>\n",
              "    .dataframe tbody tr th:only-of-type {\n",
              "        vertical-align: middle;\n",
              "    }\n",
              "\n",
              "    .dataframe tbody tr th {\n",
              "        vertical-align: top;\n",
              "    }\n",
              "\n",
              "    .dataframe thead th {\n",
              "        text-align: right;\n",
              "    }\n",
              "</style>\n",
              "<table border=\"1\" class=\"dataframe\">\n",
              "  <thead>\n",
              "    <tr style=\"text-align: right;\">\n",
              "      <th></th>\n",
              "      <th>Max.P</th>\n",
              "      <th>Ent</th>\n",
              "      <th>MI</th>\n",
              "      <th>D.Ent</th>\n",
              "    </tr>\n",
              "  </thead>\n",
              "  <tbody>\n",
              "    <tr>\n",
              "      <th>AUROC</th>\n",
              "      <td>0.557508</td>\n",
              "      <td>0.560391</td>\n",
              "      <td>0.436281</td>\n",
              "      <td>0.563380</td>\n",
              "    </tr>\n",
              "    <tr>\n",
              "      <th>AUPR</th>\n",
              "      <td>0.608888</td>\n",
              "      <td>0.547762</td>\n",
              "      <td>0.449224</td>\n",
              "      <td>0.546301</td>\n",
              "    </tr>\n",
              "  </tbody>\n",
              "</table>\n",
              "</div>\n",
              "      <button class=\"colab-df-convert\" onclick=\"convertToInteractive('df-0396263c-f8d5-4520-9e70-751f238c539c')\"\n",
              "              title=\"Convert this dataframe to an interactive table.\"\n",
              "              style=\"display:none;\">\n",
              "        \n",
              "  <svg xmlns=\"http://www.w3.org/2000/svg\" height=\"24px\"viewBox=\"0 0 24 24\"\n",
              "       width=\"24px\">\n",
              "    <path d=\"M0 0h24v24H0V0z\" fill=\"none\"/>\n",
              "    <path d=\"M18.56 5.44l.94 2.06.94-2.06 2.06-.94-2.06-.94-.94-2.06-.94 2.06-2.06.94zm-11 1L8.5 8.5l.94-2.06 2.06-.94-2.06-.94L8.5 2.5l-.94 2.06-2.06.94zm10 10l.94 2.06.94-2.06 2.06-.94-2.06-.94-.94-2.06-.94 2.06-2.06.94z\"/><path d=\"M17.41 7.96l-1.37-1.37c-.4-.4-.92-.59-1.43-.59-.52 0-1.04.2-1.43.59L10.3 9.45l-7.72 7.72c-.78.78-.78 2.05 0 2.83L4 21.41c.39.39.9.59 1.41.59.51 0 1.02-.2 1.41-.59l7.78-7.78 2.81-2.81c.8-.78.8-2.07 0-2.86zM5.41 20L4 18.59l7.72-7.72 1.47 1.35L5.41 20z\"/>\n",
              "  </svg>\n",
              "      </button>\n",
              "      \n",
              "  <style>\n",
              "    .colab-df-container {\n",
              "      display:flex;\n",
              "      flex-wrap:wrap;\n",
              "      gap: 12px;\n",
              "    }\n",
              "\n",
              "    .colab-df-convert {\n",
              "      background-color: #E8F0FE;\n",
              "      border: none;\n",
              "      border-radius: 50%;\n",
              "      cursor: pointer;\n",
              "      display: none;\n",
              "      fill: #1967D2;\n",
              "      height: 32px;\n",
              "      padding: 0 0 0 0;\n",
              "      width: 32px;\n",
              "    }\n",
              "\n",
              "    .colab-df-convert:hover {\n",
              "      background-color: #E2EBFA;\n",
              "      box-shadow: 0px 1px 2px rgba(60, 64, 67, 0.3), 0px 1px 3px 1px rgba(60, 64, 67, 0.15);\n",
              "      fill: #174EA6;\n",
              "    }\n",
              "\n",
              "    [theme=dark] .colab-df-convert {\n",
              "      background-color: #3B4455;\n",
              "      fill: #D2E3FC;\n",
              "    }\n",
              "\n",
              "    [theme=dark] .colab-df-convert:hover {\n",
              "      background-color: #434B5C;\n",
              "      box-shadow: 0px 1px 3px 1px rgba(0, 0, 0, 0.15);\n",
              "      filter: drop-shadow(0px 1px 2px rgba(0, 0, 0, 0.3));\n",
              "      fill: #FFFFFF;\n",
              "    }\n",
              "  </style>\n",
              "\n",
              "      <script>\n",
              "        const buttonEl =\n",
              "          document.querySelector('#df-0396263c-f8d5-4520-9e70-751f238c539c button.colab-df-convert');\n",
              "        buttonEl.style.display =\n",
              "          google.colab.kernel.accessAllowed ? 'block' : 'none';\n",
              "\n",
              "        async function convertToInteractive(key) {\n",
              "          const element = document.querySelector('#df-0396263c-f8d5-4520-9e70-751f238c539c');\n",
              "          const dataTable =\n",
              "            await google.colab.kernel.invokeFunction('convertToInteractive',\n",
              "                                                     [key], {});\n",
              "          if (!dataTable) return;\n",
              "\n",
              "          const docLinkHtml = 'Like what you see? Visit the ' +\n",
              "            '<a target=\"_blank\" href=https://colab.research.google.com/notebooks/data_table.ipynb>data table notebook</a>'\n",
              "            + ' to learn more about interactive tables.';\n",
              "          element.innerHTML = '';\n",
              "          dataTable['output_type'] = 'display_data';\n",
              "          await google.colab.output.renderOutput(dataTable, element);\n",
              "          const docLink = document.createElement('div');\n",
              "          docLink.innerHTML = docLinkHtml;\n",
              "          element.appendChild(docLink);\n",
              "        }\n",
              "      </script>\n",
              "    </div>\n",
              "  </div>\n",
              "  "
            ]
          },
          "metadata": {},
          "execution_count": 57
        }
      ],
      "source": [
        "auroc_lst_ood = [auroc_mp_ood, auroc_ent_ood, auroc_mi_ood, auroc_de_ood]\n",
        "aupr_lst_ood = [aupr_mp_ood, aupr_ent_ood, aupr_mi_ood_ood, aupr_de_ood]\n",
        "\n",
        "pd.DataFrame(data=np.array([auroc_lst_ood, aupr_lst_ood]), \n",
        "             columns=['Max.P', 'Ent', 'MI', 'D.Ent'], \n",
        "             index=['AUROC', 'AUPR'])"
      ]
    },
    {
      "cell_type": "code",
      "execution_count": 58,
      "metadata": {
        "colab": {
          "base_uri": "https://localhost:8080/",
          "height": 295
        },
        "id": "QQbhby9jyaDJ",
        "outputId": "e2e21551-9717-4e49-a77c-8e9de51033c4"
      },
      "outputs": [
        {
          "output_type": "display_data",
          "data": {
            "text/plain": [
              "<Figure size 432x288 with 1 Axes>"
            ],
            "image/png": "[encoded data removed]"
          },
          "metadata": {
            "needs_background": "light"
          }
        }
      ],
      "source": [
        "plot_roc(label_mp_ood, score_mp_ood, label_name='MAX.P')\n",
        "plot_roc(label_ent_ood_ood, score_ent_ood, label_name='ENT')\n",
        "plot_roc(label_mi_ood, score_mi_ood, label_name='MI')\n",
        "plot_roc(label_de_ood, score_de_ood, label_name='D.ENT')\n",
        "plt.legend()\n",
        "plt.show()"
      ]
    },
    {
      "cell_type": "code",
      "execution_count": 59,
      "metadata": {
        "colab": {
          "base_uri": "https://localhost:8080/",
          "height": 295
        },
        "id": "VCVE2D09yeYL",
        "outputId": "ff763220-6501-4537-b91e-477cd101a81a"
      },
      "outputs": [
        {
          "output_type": "display_data",
          "data": {
            "text/plain": [
              "<Figure size 432x288 with 1 Axes>"
            ],
            "image/png": "[encoded data removed]"
          },
          "metadata": {
            "needs_background": "light"
          }
        }
      ],
      "source": [
        "plot_pr(label_mp_ood, score_mp_ood, label_name='MAX.P')\n",
        "plot_pr(label_ent_ood_ood, score_ent_ood, label_name='ENT')\n",
        "plot_pr(label_mi_ood, score_mi_ood, label_name='MI')\n",
        "plot_pr(label_de_ood, score_de_ood, label_name='D.ENT')\n",
        "plt.legend()\n",
        "plt.show()"
      ]
    },
    {
      "cell_type": "code",
      "execution_count": null,
      "metadata": {
        "id": "1r_V9k3HygXn"
      },
      "outputs": [],
      "source": [
        "#dnn = resnet18(PriorNet)\n",
        "\n",
        "#dnn.load_state_dict(torch.load('resnet18.pt'))\n",
        "#auroc_mp, aupr_mp, _, _ = get_test_roc_pr(dnn, 'MAXP', 'misc')\n",
        "#auroc_ent, aupr_ent, _, _ = get_test_roc_pr(dnn, 'ENT', 'misc')\n",
        "\n",
        "#auroc_lst = [auroc_mp, auroc_ent]\n",
        "#aupr_lst = [aupr_mp, aupr_ent]\n",
        "\n",
        "#pd.DataFrame(data=np.array([auroc_lst, aupr_lst]), \n",
        "#             columns=['Max.P', 'Ent'], \n",
        "#             index=['AUROC', 'AUPR'])"
      ]
    },
    {
      "cell_type": "code",
      "source": [
        "def get_dnn_maxprob_score(model, data):\n",
        "   \n",
        "   Scores = []\n",
        "   for y in data: \n",
        "\n",
        "      x = torch.FloatTensor(y).unsqueeze(0) \n",
        "      x = x.to(device)\n",
        "      x = x.reshape(-1, 3, 32, 32)\n",
        "      probs = get_resnet_output(x, model)\n",
        "      #alpha0 = torch.sum(alphas, dim=1, keepdim=True)\n",
        "      #probs = alphas / alpha0\n",
        "      conf = torch.max(probs, dim=1)\n",
        "      Scores.append(conf.values)\n",
        "\n",
        "   return Scores   \n",
        "    "
      ],
      "metadata": {
        "id": "lHXc05GJD5Wy"
      },
      "execution_count": 60,
      "outputs": []
    },
    {
      "cell_type": "code",
      "source": [
        "def get_dnn_entropy_score(model, data):\n",
        "\n",
        "  Scores = []\n",
        "  for y in data:\n",
        "\n",
        "      \n",
        "      x = torch.FloatTensor(y).unsqueeze(0) \n",
        "      x = x.to(device)\n",
        "      x = x.reshape(-1, 3, 32, 32)\n",
        "      probs = get_resnet_output(x, model) \n",
        "      #alpha0 = torch.sum(alphas, dim=1, keepdim=True)\n",
        "      #probs = alphas / alpha0\n",
        "      ret = -torch.sum(probs*torch.log(probs), dim=1)\n",
        "      Scores.append(ret)\n",
        "\n",
        "  return Scores  \n"
      ],
      "metadata": {
        "id": "k9qUR_c4E1OF"
      },
      "execution_count": 61,
      "outputs": []
    },
    {
      "cell_type": "code",
      "source": [
        "  \n",
        "def get_misc_label_score_dnn(dnn, test_data, test_label, test_in_score):\n",
        "  misc_label = np.zeros(len(test_label))\n",
        "\n",
        "  for i in range(len(test_data)):\n",
        "    x = test_data[i]\n",
        "    x = torch.FloatTensor(x).unsqueeze(0) \n",
        "    x = x.to(device)\n",
        "    x = x.reshape(-1, 3, 32, 32)\n",
        "#     x = [x]\n",
        "    with torch.no_grad():\n",
        "      pred = get_resnet_output(x, model)\n",
        "      pred_class = torch.max(pred[0], 0).indices\n",
        "      misc_label[i] = 1-torch.eq(torch.tensor(test_label[i]), pred_class).sum().cpu().numpy()\n",
        "\n",
        "  return misc_label, np.array(test_in_score)"
      ],
      "metadata": {
        "id": "SsXC3E2cG8mO"
      },
      "execution_count": 62,
      "outputs": []
    },
    {
      "cell_type": "code",
      "source": [
        "def resnet_metrics(model, metrics, detect):\n",
        "   \n",
        "   if(metrics == 'MAXP'):\n",
        "\n",
        "       test_in_score = get_dnn_maxprob_score(model, test_in.data)\n",
        "       test_out_score = get_dnn_maxprob_score(model, test_out.data)  \n",
        "\n",
        "   \n",
        "   if(metrics == 'ENT'):\n",
        "\n",
        "       in_score = get_dnn_entropy_score(model, test_in.data)\n",
        "       out_score = get_dnn_entropy_score(model, test_out.data) \n",
        "\n",
        "   if detect=='ood':\n",
        "      label_dp, score_dp = get_ood_label_score(test_in_score, test_out_score)\n",
        "   elif detect=='misc':\n",
        "      label_dp, score_dp = get_misc_label_score_dnn(model, test_in.data,\n",
        "                                                test_in.targets, test_in_score)\n",
        "   if metrics=='MAXP':\n",
        "      score_dp = -score_dp\n",
        "\n",
        "   index = np.isposinf(score_dp)\n",
        "   score_dp[np.isposinf(score_dp)] = 1e9\n",
        "   maximum = np.amax(score_dp)\n",
        "   score_dp[np.isposinf(score_dp)] = maximum + 1\n",
        " \n",
        "   index = np.isneginf(score_dp)\n",
        "   score_dp[np.isneginf(score_dp)] = -1e9\n",
        "   minimum = np.amin(score_dp)\n",
        "   score_dp[np.isneginf(score_dp)] = minimum - 1\n",
        " \n",
        "   score_dp[np.isnan(score_dp)] = 0\n",
        " \n",
        "   auroc, aupr = get_auroc_aupr(label_dp, score_dp)\n",
        "   return auroc, aupr, label_dp, score_dp     \n",
        "           \n",
        "    \n",
        "\n"
      ],
      "metadata": {
        "id": "gvXTW7N79H_Q"
      },
      "execution_count": 63,
      "outputs": []
    },
    {
      "cell_type": "code",
      "source": [
        "#dnn = resnet18()\n",
        "#dnn.load_state_dict(torch.load('resnet18.pt'))\n",
        "#dnn =dnn.to(device)"
      ],
      "metadata": {
        "id": "ZKZ750gg76ME"
      },
      "execution_count": 64,
      "outputs": []
    },
    {
      "cell_type": "code",
      "source": [
        "#auroc_mp, aupr_mp, _, _ = resnet_metrics(dnn, 'MAXP', 'misc')\n",
        "#auroc_ent, aupr_ent, _, _ = resnet_metrics(dnn, 'ENT', 'misc')\n",
        "\n",
        "#auroc_lst = [auroc_mp, auroc_ent]\n",
        "#aupr_lst = [aupr_mp, aupr_ent]\n",
        "\n",
        "#pd.DataFrame(data=np.array([auroc_lst, aupr_lst]), \n",
        "#            columns=['Max.P', 'Ent'], \n",
        "#            index=['AUROC', 'AUPR'])"
      ],
      "metadata": {
        "id": "gf42mRiWHlhC"
      },
      "execution_count": 65,
      "outputs": []
    },
    {
      "cell_type": "code",
      "source": [
        "#auroc_mp, aupr_mp, _, _ = resnet_metrics(dnn, 'MAXP', 'ood')\n",
        "#auroc_ent, aupr_ent, _, _ = resnet_metrics(dnn, 'ENT', 'odd')\n",
        "\n",
        "#auroc_lst = [auroc_mp, auroc_ent]\n",
        "#aupr_lst = [aupr_mp, aupr_ent]\n",
        "\n",
        "#pd.DataFrame(data=np.array([auroc_lst, aupr_lst]), \n",
        "#            columns=['Max.P', 'Ent'], \n",
        "#            index=['AUROC', 'AUPR'])"
      ],
      "metadata": {
        "id": "lzcv2EFQH1yt"
      },
      "execution_count": 66,
      "outputs": []
    },
    {
      "cell_type": "code",
      "source": [
        "#test_out"
      ],
      "metadata": {
        "id": "qh-hT9BrIUiH"
      },
      "execution_count": 67,
      "outputs": []
    },
    {
      "cell_type": "code",
      "source": [],
      "metadata": {
        "id": "oivuTRlegi2s"
      },
      "execution_count": null,
      "outputs": []
    }
  ],
  "metadata": {
    "accelerator": "GPU",
    "colab": {
      "provenance": [],
      "machine_shape": "hm",
      "include_colab_link": true
    },
    "gpuClass": "premium",
    "kernelspec": {
      "display_name": "Python 3",
      "name": "python3"
    },
    "language_info": {
      "name": "python"
    }
  },
  "nbformat": 4,
  "nbformat_minor": 0
}