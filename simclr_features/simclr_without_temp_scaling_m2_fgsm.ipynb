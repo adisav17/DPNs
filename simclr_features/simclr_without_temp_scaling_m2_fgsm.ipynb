{
  "nbformat": 4,
  "nbformat_minor": 0,
  "metadata": {
    "colab": {
      "provenance": [],
      "include_colab_link": true
    },
    "kernelspec": {
      "name": "python3",
      "display_name": "Python 3"
    },
    "language_info": {
      "name": "python"
    },
    "accelerator": "GPU",
    "gpuClass": "standard"
  },
  "cells": [
    {
      "cell_type": "markdown",
      "metadata": {
        "id": "view-in-github",
        "colab_type": "text"
      },
      "source": [
        "<a href=\"https://colab.research.google.com/github/sakshamgarg/Augmenting-Dirichlet-Network/blob/main/simclr_features/simclr_without_temp_scaling_m2_fgsm.ipynb\" target=\"_parent\"><img src=\"https://colab.research.google.com/assets/colab-badge.svg\" alt=\"Open In Colab\"/></a>"
      ]
    },
    {
      "cell_type": "code",
      "execution_count": null,
      "metadata": {
        "id": "TouVm6f1TKxR"
      },
      "outputs": [],
      "source": [
        "import sys\n",
        "import torchvision\n",
        "import numpy as np\n",
        "import matplotlib.pyplot as plt\n",
        "from matplotlib import cm\n",
        "import pandas as pd\n",
        "\n",
        "import torch\n",
        "import torch.nn as nn\n",
        "import torch.nn.functional as F\n",
        "import torch.optim as optim\n",
        "import torchvision.transforms as transforms\n",
        "import torch.distributions as dist\n",
        "from torch.distributions.dirichlet import Dirichlet\n",
        "from mpl_toolkits import mplot3d\n",
        "\n",
        "from sklearn.metrics import roc_auc_score, roc_curve\n",
        "from sklearn.metrics import precision_recall_curve, auc\n",
        "from scipy.stats import multivariate_normal\n",
        "from scipy.stats import norm\n",
        "\n",
        "device = torch.device('cuda' if torch.cuda.is_available() else 'cpu')"
      ]
    },
    {
      "cell_type": "code",
      "source": [
        "cifar_mean = (0.4914, 0.4822, 0.4465)\n",
        "cifar_std = (0.2470, 0.2435, 0.2616)                                             \n",
        "cifar_transform =  transforms.Compose(\n",
        "      [transforms.ToTensor(),\n",
        "     transforms.Normalize(cifar_mean, cifar_std)])"
      ],
      "metadata": {
        "id": "IFojIpBuTldv"
      },
      "execution_count": null,
      "outputs": []
    },
    {
      "cell_type": "code",
      "source": [
        "train_in = torchvision.datasets.CIFAR10('./files/', train=True, download=True,\n",
        "                                        transform=cifar_transform)\n",
        "test_in = torchvision.datasets.CIFAR10('./files/', train=False, download=True,\n",
        "                                        transform=cifar_transform)\n",
        "train_out_new = torchvision.datasets.CIFAR10('./data', train=True, download=True,\n",
        "                                        transform=cifar_transform)\n",
        "test_out_new = torchvision.datasets.CIFAR10('./data', train=False, download=True,\n",
        "                                        transform=cifar_transform)\n",
        "# train_out = torchvision.datasets.SVHN('./data', split ='train', download=True,\n",
        "#                                         transform=cifar_transform)\n",
        "# test_out = torchvision.datasets.SVHN('./data', split ='test', download=True,\n",
        "#                                         transform=cifar_transform)"
      ],
      "metadata": {
        "colab": {
          "base_uri": "https://localhost:8080/"
        },
        "id": "qmHF1WeETrVK",
        "outputId": "e1ef4828-86a7-4c80-df40-0f95b532b0d8"
      },
      "execution_count": null,
      "outputs": [
        {
          "output_type": "stream",
          "name": "stdout",
          "text": [
            "Files already downloaded and verified\n",
            "Files already downloaded and verified\n",
            "Files already downloaded and verified\n",
            "Files already downloaded and verified\n"
          ]
        }
      ]
    },
    {
      "cell_type": "code",
      "source": [
        "from google.colab import drive\n",
        "drive.mount('/content/drive')\n",
        "%cd /content/drive/My Drive/CV_Project/\n",
        "! python resnet.py\n",
        "from resnet import *\n",
        "model = resnet18()\n",
        "model.load_state_dict(torch.load('resnet18.pt'))"
      ],
      "metadata": {
        "colab": {
          "base_uri": "https://localhost:8080/"
        },
        "id": "qbzL1y_gLniJ",
        "outputId": "7bdd1f48-79a4-462e-b6ed-ccbfb3c2a6f5"
      },
      "execution_count": null,
      "outputs": [
        {
          "output_type": "stream",
          "name": "stdout",
          "text": [
            "Drive already mounted at /content/drive; to attempt to forcibly remount, call drive.mount(\"/content/drive\", force_remount=True).\n",
            "/content/drive/.shortcut-targets-by-id/1luqVUjCYiFP-rmTob-9w8MCiPGc0bmFG/CV_Project\n"
          ]
        },
        {
          "output_type": "execute_result",
          "data": {
            "text/plain": [
              "<All keys matched successfully>"
            ]
          },
          "metadata": {},
          "execution_count": 5
        }
      ]
    },
    {
      "cell_type": "code",
      "source": [
        "from torch.autograd import Variable\n",
        "args_logscale = False\n",
        "criterion = nn.CrossEntropyLoss()\n",
        "criterion.to(device)\n",
        "min_pixel = -3\n",
        "max_pixel = 3\n",
        "args_epsilon = 0.2\n",
        "model = model.to(device)\n",
        "\n",
        "def fgsm(cnn, images, labels, eps=0.03):\n",
        "    images_adv = Variable(images.data, requires_grad=True).cuda()\n",
        "    images_adv.retain_grad()\n",
        "    pre_logits = cnn(images_adv)\n",
        "    cost = -criterion(pre_logits, labels)\n",
        "    \n",
        "    cnn.zero_grad()\n",
        "    if images_adv.grad is not None:\n",
        "        images_adv.grad.data.fill_(0)\n",
        "    cost.backward()\n",
        "\n",
        "    images_adv.grad.sign_()\n",
        "    images_adv = images_adv - eps * images_adv.grad\n",
        "    images_adv = torch.clamp(images_adv, min_pixel, max_pixel)\n",
        "    return images_adv\n",
        "\n",
        "def get_fgsm_images(data_loader):\n",
        "  fgsm_new_images = None\n",
        "  for i, ind_data in enumerate(data_loader):\n",
        "    if type(ind_data) == list:\n",
        "        images, labels = ind_data\n",
        "    else:\n",
        "        images = ind_data\n",
        "    labels = Variable(labels).cuda()\n",
        "\n",
        "    adv_images = fgsm(model, images, labels, eps=args_epsilon)\n",
        "    if i == 0:\n",
        "      fgsm_new_images = adv_images\n",
        "    else:\n",
        "      fgsm_new_images = torch.cat((fgsm_new_images, adv_images))\n",
        "  return fgsm_new_images\n",
        "\n",
        "\n",
        "train_out_new_loader = torch.utils.data.DataLoader(dataset=train_out_new,\n",
        "                                         batch_size=64,\n",
        "                                         shuffle=True,\n",
        "                                         pin_memory=True)\n",
        "\n",
        "test_out_new_loader = torch.utils.data.DataLoader(dataset=test_out_new,\n",
        "                                         batch_size=64,\n",
        "                                         shuffle=True,\n",
        "                                         pin_memory=True)\n",
        "\n",
        "train_out_new.data = get_fgsm_images(train_out_new_loader)\n",
        "test_out_new.data = get_fgsm_images(test_out_new_loader)\n",
        "\n",
        "train_out_new.targets = torch.tensor(np.ones(len(train_out_new.targets))*10, dtype=torch.long)\n",
        "test_out_new.targets = torch.tensor(np.ones(len(test_out_new.targets))*10, dtype=torch.long)\n"
      ],
      "metadata": {
        "id": "BNEddge_LtMH"
      },
      "execution_count": null,
      "outputs": []
    },
    {
      "cell_type": "code",
      "source": [
        "# train_out.data = np.vstack(train_out.data).reshape(-1, 32, 32, 3)\n",
        "train_out_new.data = train_out_new.data.cpu().detach().numpy()\n",
        "train_out_new.data = train_out_new.data.reshape(-1, 32, 32, 3).astype(np.uint8)"
      ],
      "metadata": {
        "id": "Ry_6bN88Tvc9"
      },
      "execution_count": null,
      "outputs": []
    },
    {
      "cell_type": "code",
      "source": [
        "train_in.data = torch.from_numpy(train_in.data)\n",
        "# train_out.data = torch.from_numpy(train_out.data)"
      ],
      "metadata": {
        "id": "fR_B6S6HT1Yr"
      },
      "execution_count": null,
      "outputs": []
    },
    {
      "cell_type": "code",
      "source": [
        "# train_out.targets = torch.tensor(np.ones(len(train_out.labels))*10, dtype=torch.long)\n",
        "# test_out.targets = torch.tensor(np.ones(len(test_out.labels))*10, dtype=torch.long)\n",
        "\n",
        "# train_all = train_in\n",
        "# train_all.data = torch.cat((train_in.data, train_out.data))\n",
        "# train_all.targets = torch.cat((torch.IntTensor(np.array(train_in.targets)), torch.IntTensor(np.array(train_out.targets))))\n",
        "# train_all.data = train_all.data.cpu().detach().numpy()\n",
        "# train_all.targets = train_all.targets.data.cpu().detach().numpy()\n",
        "train_all = train_in\n",
        "train_all.data = torch.cat((train_in.data, torch.tensor(train_out_new.data)))\n",
        "train_all.targets = torch.cat((torch.IntTensor(np.array(train_in.targets)), train_out_new.targets))\n",
        "train_all.data = train_all.data.cpu().detach().numpy()\n",
        "train_all.targets = train_all.targets.data.cpu().detach().numpy()"
      ],
      "metadata": {
        "id": "zFWYYA0oT4XW"
      },
      "execution_count": null,
      "outputs": []
    },
    {
      "cell_type": "code",
      "source": [
        "train_loader = torch.utils.data.DataLoader(train_all, batch_size=64)"
      ],
      "metadata": {
        "id": "zu0G5E1IT81_"
      },
      "execution_count": null,
      "outputs": []
    },
    {
      "cell_type": "code",
      "source": [
        "class SimCLR(nn.Module):\n",
        "    def __init__(self, base_encoder, projection_dim=128):\n",
        "        super().__init__()\n",
        "        self.enc = base_encoder(pretrained=False)  # load model from torchvision.models without pretrained weights.\n",
        "        self.feature_dim = self.enc.fc.in_features\n",
        "\n",
        "        # Customize for CIFAR10. Replace conv 7x7 with conv 3x3, and remove first max pooling.\n",
        "        # See Section B.9 of SimCLR paper.\n",
        "        self.enc.conv1 = nn.Conv2d(3, 64, 3, 1, 1, bias=False)\n",
        "        self.enc.maxpool = nn.Identity()\n",
        "        self.enc.fc = nn.Identity()  # remove final fully connected layer.\n",
        "\n",
        "        # Add MLP projection.\n",
        "        self.projection_dim = projection_dim\n",
        "        self.projector = nn.Sequential(nn.Linear(self.feature_dim, 2048),\n",
        "                                       nn.ReLU(),\n",
        "                                       nn.Linear(2048, projection_dim))\n",
        "\n",
        "    def forward(self, x):\n",
        "        feature = self.enc(x)\n",
        "        projection = self.projector(feature)\n",
        "        return feature, projection"
      ],
      "metadata": {
        "id": "oMzH3TpR1Str"
      },
      "execution_count": null,
      "outputs": []
    },
    {
      "cell_type": "code",
      "source": [
        "backbone = 'resnet18'\n",
        "base_encoder = eval(backbone)\n",
        "simclr_model = SimCLR(base_encoder, projection_dim=128)\n",
        "simclr_model.load_state_dict(torch.load('simclr_resnet18_epoch1200.pt'))"
      ],
      "metadata": {
        "colab": {
          "base_uri": "https://localhost:8080/"
        },
        "id": "uDr_3iGt1TTP",
        "outputId": "f6616d0e-4666-44fb-dd6a-1aa4137fd526"
      },
      "execution_count": null,
      "outputs": [
        {
          "output_type": "execute_result",
          "data": {
            "text/plain": [
              "<All keys matched successfully>"
            ]
          },
          "metadata": {},
          "execution_count": 15
        }
      ]
    },
    {
      "cell_type": "code",
      "source": [
        "simclr_model = simclr_model.to(device)"
      ],
      "metadata": {
        "id": "H1GHqZPr4s5s"
      },
      "execution_count": null,
      "outputs": []
    },
    {
      "cell_type": "code",
      "source": [
        "def get_simclr_features(data, simclr_model):\n",
        "    feature = simclr_model.enc(data)\n",
        "    return feature"
      ],
      "metadata": {
        "id": "8_RHfpmrz5ad"
      },
      "execution_count": null,
      "outputs": []
    },
    {
      "cell_type": "code",
      "source": [
        "def get_resnet_output(data,model):\n",
        "  y = model.forward(data)\n",
        "  y = torch.nn.functional.softmax(5*y, dim = 1)\n",
        "  return y"
      ],
      "metadata": {
        "id": "njva0ZFfVcFE"
      },
      "execution_count": null,
      "outputs": []
    },
    {
      "cell_type": "code",
      "source": [
        "model = model.to(device)\n",
        "model = model.to(torch.float64)\n",
        "model = model.type(torch.FloatTensor).to(device)\n"
      ],
      "metadata": {
        "id": "OXZPaW3QgYEu"
      },
      "execution_count": null,
      "outputs": []
    },
    {
      "cell_type": "code",
      "source": [
        "def target_alpha(targets):\n",
        "  target = targets.cpu().detach().numpy()\n",
        "  def gen_onehot(category, total_cat=10):\n",
        "    label = np.ones(total_cat)\n",
        "    label[category] = 20\n",
        "    return label\n",
        "  target_alphas = []\n",
        "  for i in target:\n",
        "    if i==10:\n",
        "      target_alphas.append(torch.tensor(np.ones(10)))\n",
        "    else:\n",
        "      target_alphas.append(torch.tensor(gen_onehot(i)))\n",
        "  return torch.stack(target_alphas).to(device)"
      ],
      "metadata": {
        "id": "hJ0rDwEoab5K"
      },
      "execution_count": null,
      "outputs": []
    },
    {
      "cell_type": "code",
      "source": [
        "# 1 for out, -1 for in\n",
        "def check_in_out_lambdas(target_alphas):\n",
        "\n",
        "  alpha_sum = target_alphas.sum(axis = 1)\n",
        "  alpha_sum = alpha_sum.cpu().detach()\n",
        "  lambdas =  alpha_sum.apply_(lambda x: 1 if(x==10) else -1)\n",
        "  return lambdas.to(device)\n"
      ],
      "metadata": {
        "id": "cjiXRTN8bIKb"
      },
      "execution_count": null,
      "outputs": []
    },
    {
      "cell_type": "code",
      "source": [
        "class PriorNet(nn.Module):\n",
        "    def __init__(self, input_dim=1, hidden_dim=1):\n",
        "        super().__init__()\n",
        "        self.fc1 = nn.Linear(input_dim, hidden_dim)\n",
        "        self.fc2 = nn.Linear(hidden_dim, 3)         # output_dim = 4\n",
        "\n",
        "    def forward(self, x):\n",
        "        x = F.relu(self.fc1(x))\n",
        "        x = self.fc2(x)\n",
        "        return x #F.softmax(x, dim=1)\n",
        "\n",
        "    def predict_alpha(self, x):\n",
        "      src = torch.Tensor(x).to(device)\n",
        "      output = torch.exp(self.forward(src))\n",
        "      return output\n",
        "\n",
        "    def predict_dir(self, x):\n",
        "      alpha = self.predict_alpha(x)\n",
        "      dirichlet = Dirichlet(alpha)\n",
        "      return dirichlet\n",
        "\n",
        "    def fit(self, epoch_num, optimizer, train_X, train_Y):\n",
        "      self.train()\n",
        "\n",
        "      n_train = len(train_X)\n",
        "\n",
        "      # Shuffle the input\n",
        "      index = np.arange(n_train)\n",
        "      np.random.shuffle(index)\n",
        "      train_x = train_X[index]\n",
        "      train_y = train_Y[index]\n",
        "\n",
        "      for epoch in range(epoch_num):\n",
        "        for i in range(n_train):\n",
        "          optimizer.zero_grad()\n",
        "          src = torch.Tensor(train_x[i:i+1]).to(device)\n",
        "          target = torch.Tensor(train_y[i:i+1]).to(device)\n",
        "          # Predicted alpha\n",
        "          output = torch.exp(self.forward(src))\n",
        "          dirichlet1 = Dirichlet(output)\n",
        "          dirichlet2 = Dirichlet(target)\n",
        "          loss = dist.kl.kl_divergence(dirichlet1, dirichlet2)\n",
        "          loss.backward()\n",
        "          optimizer.step()\n",
        "        print('Train Epoch: {} \\t Loss: {:.6f}'.format(epoch, loss.item()))\n",
        "    \n",
        "    def expected_entropy_from_alphas(self, alphas, alpha0):\n",
        "        return -torch.sum((alphas/alpha0)*(torch.digamma(alphas+1)-torch.digamma(alpha0+1)), dim=1)\n",
        "    \n",
        "    def categorical_entropy_torch(self, probs):\n",
        "        log_probs = torch.log(probs)\n",
        "        log_probs = torch.where(torch.isfinite(log_probs), log_probs, torch.zeros_like(log_probs))\n",
        "        entropy = -torch.sum(probs*log_probs, dim=1, keepdim=False)\n",
        "        return entropy\n",
        "\n",
        "    def mutual_information(self, x):\n",
        "        \n",
        "        alphas = self.predict_alpha(x, model)\n",
        "        alpha0 = torch.sum(alphas, dim=1, keepdim=True)\n",
        "        probs = alphas / alpha0\n",
        "\n",
        "        expected_entropy = self.expected_entropy_from_alphas(alphas, alpha0)\n",
        "        entropy_of_exp = self.categorical_entropy_torch(probs)\n",
        "        mutual_info = entropy_of_exp - expected_entropy\n",
        "        return mutual_info\n",
        "\n",
        "    def diffenrential_entropy(self, x):\n",
        "        alphas = self.predict_alpha(x, model)\n",
        "        alpha0 = torch.sum(alphas, dim=1, keepdim=True)\n",
        "        return torch.sum(\n",
        "            torch.lgamma(alphas)-(alphas-1)*(torch.digamma(alphas)-torch.digamma(alpha0)),\n",
        "            dim=1) - torch.lgamma(alpha0)\n",
        "\n",
        "    def entropy(self, x):\n",
        "        alphas = self.predict_alpha(x, model)\n",
        "        alpha0 = torch.sum(alphas, dim=1, keepdim=True)\n",
        "        probs = alphas / alpha0\n",
        "        ret = -torch.sum(probs*torch.log(probs), dim=1)\n",
        "        return ret"
      ],
      "metadata": {
        "id": "kr7USs8eZ5mz"
      },
      "execution_count": null,
      "outputs": []
    },
    {
      "cell_type": "code",
      "source": [
        "augnet_path =  '/content/drive/MyDrive/CV_Project/augnet_simclr_newModel'\n",
        "file_name = 'augnet_simclr_NM'\n",
        "from os import truncate\n",
        "\n",
        "class AugNet(PriorNet):\n",
        "\n",
        "    def __init__(self, old_preds_dim, feature_dim, target_dim):\n",
        "        super().__init__()\n",
        "        self.y_dim = old_preds_dim\n",
        "        self.feature_dim = feature_dim\n",
        "        self.target_dim = target_dim\n",
        "        self.fc1 = nn.Linear(feature_dim, 1024)   \n",
        "        self.relu = torch.nn.ReLU()\n",
        "        self.fc2_1 = nn.Linear(1024, 512) \n",
        "        self.fc2_2 = nn.Linear(512,256)\n",
        "        self.fc3 = nn.Linear(10 + 256, 512) \n",
        "        self.fc4 = nn.Linear(512, 256)\n",
        "        self.fc5 = nn.Linear(256,64)\n",
        "        self.fc6 = nn.Linear(64,10)\n",
        "     \n",
        "\n",
        "     \n",
        "  \n",
        "\n",
        "    def forward(self, features, y):\n",
        "\n",
        "      x = self.fc1(features)\n",
        "      x = self.relu(x)\n",
        "      x = self.fc2_1(x)\n",
        "      x = self.relu(x)\n",
        "      x = self.fc2_2(x)\n",
        "      x = self.relu(x)\n",
        "      x = self.fc3(torch.cat((x,y), dim = 1) )\n",
        "      x = self.relu(x)\n",
        "      x = self.fc4(x)\n",
        "      x = self.relu(x)\n",
        "      x = self.fc5(x)\n",
        "      x = self.relu(x)\n",
        "      x = self.fc6(x)\n",
        "\n",
        "      return x\n",
        "\n",
        "\n",
        "\n",
        "    def predict_alpha(self, x, model):\n",
        "            x = torch.FloatTensor(x).unsqueeze(0) \n",
        "            x = x.to(device)\n",
        "            x = x.reshape(-1, 3, 32, 32)\n",
        "            features = get_simclr_features(x, simclr_model)\n",
        "            pred_outputs = get_resnet_output(x, model)\n",
        "            output = torch.exp(self.forward(features, pred_outputs))\n",
        "            return output\n",
        "\n",
        "    def predict_dir(self, x):\n",
        "      alpha = self.predict_alpha(x)\n",
        "      dirichlet = Dirichlet(alpha)\n",
        "      return dirichlet\n",
        "  \n",
        "    def fit(self, epoch_num, optimizer, model):\n",
        "      self.train()\n",
        "      loss_track = []\n",
        "      # Shuffle the input\n",
        "      train_loader = torch.utils.data.DataLoader(train_all, batch_size=64)\n",
        "\n",
        "      for epoch in range(epoch_num):\n",
        "\n",
        "\n",
        "        loss_total = 0\n",
        "        for batch_idx, (data, target) in enumerate(train_loader):\n",
        "\n",
        "          optimizer.zero_grad()\n",
        "          target = target.to(device)\n",
        "          data= data.type(torch.FloatTensor).to(device)\n",
        "          features = get_simclr_features(data,simclr_model)\n",
        "          features = features.detach().requires_grad_(False)\n",
        "          y = get_resnet_output(data,model)\n",
        "          y = y.detach().requires_grad_(False)\n",
        "\n",
        "          # predict alpha\n",
        "          target_a = target_alpha(target)\n",
        "          target_a = target_a.to(device)\n",
        "          out = self.forward(features, y)\n",
        "          output_alpha = torch.exp(out)\n",
        "\n",
        "          dirichlet1 = Dirichlet(output_alpha)\n",
        "          dirichlet2 = Dirichlet(target_a)\n",
        "          lambdas = check_in_out_lambdas(target_a)\n",
        "          sgm_alpha = torch.sigmoid(output_alpha) \n",
        "\n",
        "          loss = torch.sum(dist.kl.kl_divergence(dirichlet1, dirichlet2)  + lambdas * torch.mean(sgm_alpha,1))\n",
        "          loss_total += loss.item()\n",
        "          loss.backward(retain_graph=True)\n",
        "          optimizer.step()\n",
        "\n",
        "        print('Train Epoch: {} \\t Loss: {:.6f}'.format(epoch, loss_total/120000))\n",
        "        loss_track.append(loss_total)\n",
        "\n",
        "        if(epoch%4 == 0):\n",
        "        \n",
        "          torch.save({\n",
        "              'epoch': epoch,\n",
        "              'model_state_dict': self.state_dict(),\n",
        "              'optimizer_state_dict': optimizer.state_dict(),\n",
        "              'loss': loss_track,\n",
        "              }, f\"{augnet_path}/{file_name+str(epoch)+'.pth'}\")\n",
        "        \n",
        "      return loss_track\n",
        "    \n",
        "    def max_prob(self, x):\n",
        "        alphas = self.predict_alpha(x, model)\n",
        "        alpha0 = torch.sum(alphas, dim=1, keepdim=True)\n",
        "        probs = alphas / alpha0\n",
        "        conf = torch.max(probs, dim=1)\n",
        "        return conf.values"
      ],
      "metadata": {
        "id": "TqILo-m3a3k5"
      },
      "execution_count": null,
      "outputs": []
    },
    {
      "cell_type": "code",
      "source": [
        "dpn = AugNet(10,512,10)\n",
        "dpn.to(device)\n",
        "optimizer = optim.Adam(dpn.parameters(), lr=0.001)\n",
        "\n",
        "losses = dpn.fit(32, optimizer, model)"
      ],
      "metadata": {
        "id": "_8PmctqndsB_",
        "colab": {
          "base_uri": "https://localhost:8080/"
        },
        "outputId": "388eec69-5e2b-4393-b911-f331f792cd7d"
      },
      "execution_count": null,
      "outputs": [
        {
          "output_type": "stream",
          "name": "stdout",
          "text": [
            "Train Epoch: 0 \t Loss: 1.232413\n",
            "Train Epoch: 1 \t Loss: 1.019137\n",
            "Train Epoch: 2 \t Loss: 1.028892\n",
            "Train Epoch: 3 \t Loss: 0.818982\n",
            "Train Epoch: 4 \t Loss: 0.557119\n",
            "Train Epoch: 5 \t Loss: 0.521649\n",
            "Train Epoch: 6 \t Loss: 0.466133\n",
            "Train Epoch: 7 \t Loss: 0.433336\n",
            "Train Epoch: 8 \t Loss: 0.473192\n",
            "Train Epoch: 9 \t Loss: 0.482697\n",
            "Train Epoch: 10 \t Loss: 0.398268\n",
            "Train Epoch: 11 \t Loss: 0.350748\n",
            "Train Epoch: 12 \t Loss: 0.366553\n",
            "Train Epoch: 13 \t Loss: 0.353356\n",
            "Train Epoch: 14 \t Loss: 0.326875\n",
            "Train Epoch: 15 \t Loss: 0.318550\n",
            "Train Epoch: 16 \t Loss: 0.302559\n",
            "Train Epoch: 17 \t Loss: 0.272671\n",
            "Train Epoch: 18 \t Loss: 0.262854\n",
            "Train Epoch: 19 \t Loss: 0.260319\n",
            "Train Epoch: 20 \t Loss: 0.267410\n",
            "Train Epoch: 21 \t Loss: 0.244789\n",
            "Train Epoch: 22 \t Loss: 0.201689\n",
            "Train Epoch: 23 \t Loss: 0.215195\n",
            "Train Epoch: 24 \t Loss: 0.205786\n",
            "Train Epoch: 25 \t Loss: 0.220541\n",
            "Train Epoch: 26 \t Loss: 0.205778\n",
            "Train Epoch: 27 \t Loss: 0.226104\n",
            "Train Epoch: 28 \t Loss: 0.194898\n",
            "Train Epoch: 29 \t Loss: 0.188514\n",
            "Train Epoch: 30 \t Loss: 0.189586\n",
            "Train Epoch: 31 \t Loss: 0.180298\n"
          ]
        }
      ]
    },
    {
      "cell_type": "code",
      "source": [
        "test_in_cut = test_in\n",
        "test_out_cut = test_out_new"
      ],
      "metadata": {
        "id": "V2Xth-jsHN0W"
      },
      "execution_count": null,
      "outputs": []
    },
    {
      "cell_type": "code",
      "source": [
        "test_in_cut.data = test_in.data[0:1000]\n",
        "test_in_cut.targets = test_in.targets[0:1000]\n",
        "test_out_cut.data = test_out_new.data[0:1000]\n",
        "test_out_cut.targets = test_out_new.targets[0:1000]\n",
        "test_in = test_in_cut\n",
        "test_out = test_out_cut"
      ],
      "metadata": {
        "id": "tCnw_JVgHR62"
      },
      "execution_count": null,
      "outputs": []
    },
    {
      "cell_type": "code",
      "source": [
        "test_out.data = test_out.data.cpu().detach()\n",
        "\n"
      ],
      "metadata": {
        "id": "y9mDuNlOZXEt"
      },
      "execution_count": null,
      "outputs": []
    },
    {
      "cell_type": "code",
      "source": [
        "# miscood.py\n",
        "\n",
        "def uncertainty_score(dpn, test_data, metrics):\n",
        "  dpn.eval()\n",
        "  score_lst = []\n",
        "  for x in test_data:\n",
        "    with torch.no_grad():\n",
        "      if metrics=='DE':\n",
        "        score = dpn.diffenrential_entropy(x).data.cpu().numpy()[0][0]\n",
        "      elif metrics=='MI':\n",
        "        score = dpn.mutual_information(x).data.cpu().numpy()[0]\n",
        "      elif metrics=='MAXP':\n",
        "        score = dpn.max_prob(x).data.cpu().numpy()[0]\n",
        "      elif metrics=='ENT':\n",
        "        score = dpn.entropy(x).data.cpu().numpy()[0]\n",
        "    score_lst.append(score)\n",
        "  return score_lst\n",
        "\n",
        "\n",
        "def get_ood_label_score(test_in_score, test_out_score):\n",
        "  score = np.concatenate([test_in_score, test_out_score])\n",
        "  label = np.concatenate((np.zeros(len(test_in_score)), np.ones(len(test_out_score))))\n",
        "  return label, score\n",
        "  \n",
        "def get_misc_label_score(dpn, test_data, test_label, test_in_score):\n",
        "  misc_label = np.zeros(len(test_label))\n",
        "\n",
        "  for i in range(len(test_data)):\n",
        "    x = test_data[i]\n",
        "#     x = [x]\n",
        "    with torch.no_grad():\n",
        "      pred = dpn.predict_alpha(x, model)\n",
        "      pred_class = torch.max(pred[0], 0).indices\n",
        "      misc_label[i] = 1-torch.eq(torch.tensor(test_label[i]), pred_class).sum().cpu().numpy()\n",
        "\n",
        "  return misc_label, np.array(test_in_score)\n",
        "\n",
        "def plot_roc(label, score, label_name):\n",
        "  fpr, tpr, thresholds = roc_curve(label, score)\n",
        "  plt.plot(fpr, tpr, label=label_name)\n",
        "  plt.xlabel('False Positive')\n",
        "  plt.ylabel('True Positive')\n",
        "  plt.title('ROC')\n",
        "  plt.ylim(0.0, 1.0)\n",
        "  plt.xlim(0.0, 1.0)\n",
        "\n",
        "def plot_pr(label, score, label_name):\n",
        "  precision, recall, thresholds = precision_recall_curve(label, score)\n",
        "  plt.plot(recall, precision, label=label_name)\n",
        "  plt.xlabel('Recall')\n",
        "  plt.ylabel('Precision')\n",
        "  plt.title('Precision-Recall Curve')\n",
        "  plt.ylim(0.0, 1.0)\n",
        "  plt.xlim(0.0, 1.0)\n",
        "\n",
        "\n",
        "def get_auroc_aupr(label, score):\n",
        "  auroc = roc_auc_score(label, score)\n",
        "  precision, recall, thresholds = precision_recall_curve(label, score)\n",
        "  aupr = auc(recall, precision)\n",
        "  return auroc, aupr\n",
        "\n",
        "\n",
        "def get_test_roc_pr(network, metrics, detect='ood'):\n",
        "  test_in_score = uncertainty_score(network, test_in.data, metrics)\n",
        "  test_out_score = uncertainty_score(network, test_out.data, metrics)\n",
        "  if detect=='ood':\n",
        "    label_dp, score_dp = get_ood_label_score(test_in_score, test_out_score)\n",
        "  elif detect=='misc':\n",
        "    label_dp, score_dp = get_misc_label_score(network, test_in.data,\n",
        "                                              test_in.targets, test_in_score)\n",
        "  if metrics=='MAXP':\n",
        "    score_dp = -score_dp\n",
        "\n",
        "  index = np.isposinf(score_dp)\n",
        "  score_dp[np.isposinf(score_dp)] = 1e9\n",
        "  maximum = np.amax(score_dp)\n",
        "  score_dp[np.isposinf(score_dp)] = maximum + 1\n",
        "\n",
        "  index = np.isneginf(score_dp)\n",
        "  score_dp[np.isneginf(score_dp)] = -1e9\n",
        "  minimum = np.amin(score_dp)\n",
        "  score_dp[np.isneginf(score_dp)] = minimum - 1\n",
        "\n",
        "  score_dp[np.isnan(score_dp)] = 0\n",
        "\n",
        "  auroc, aupr = get_auroc_aupr(label_dp, score_dp)\n",
        "  return auroc, aupr, label_dp, score_dp"
      ],
      "metadata": {
        "id": "Ohnr7EVQr3kn"
      },
      "execution_count": null,
      "outputs": []
    },
    {
      "cell_type": "code",
      "source": [
        "auroc_mp, aupr_mp, label_mp, score_mp = get_test_roc_pr(dpn, 'MAXP', 'misc')\n",
        "auroc_ent, aupr_ent, label_ent, score_ent = get_test_roc_pr(dpn, 'ENT', 'misc')\n",
        "auroc_mi, aupr_mi, label_mi, score_mi = get_test_roc_pr(dpn, 'MI', 'misc')\n",
        "auroc_de, aupr_de, label_de, score_de = get_test_roc_pr(dpn, 'DE', 'misc')"
      ],
      "metadata": {
        "id": "LavkmbSzyPzN"
      },
      "execution_count": null,
      "outputs": []
    },
    {
      "cell_type": "code",
      "source": [
        "auroc_lst = [auroc_mp, auroc_ent, auroc_mi, auroc_de]\n",
        "aupr_lst = [aupr_mp, aupr_ent, aupr_mi, aupr_de]\n",
        "\n",
        "pd.DataFrame(data=np.array([auroc_lst, aupr_lst]), \n",
        "             columns=['Max.P', 'Ent', 'MI', 'D.Ent'], \n",
        "             index=['AUROC', 'AUPR'])"
      ],
      "metadata": {
        "id": "5F5kvjLzySaM",
        "colab": {
          "base_uri": "https://localhost:8080/",
          "height": 112
        },
        "outputId": "c668779b-d013-4a37-f580-3099834c4925"
      },
      "execution_count": null,
      "outputs": [
        {
          "output_type": "execute_result",
          "data": {
            "text/plain": [
              "       Max.P    Ent     MI  D.Ent\n",
              "AUROC  0.780  0.780  0.780  0.780\n",
              "AUPR   0.957  0.957  0.957  0.957"
            ],
            "text/html": [
              "\n",
              "  <div id=\"df-a527eda7-d49e-4082-b41b-c80be24064b7\">\n",
              "    <div class=\"colab-df-container\">\n",
              "      <div>\n",
              "<style scoped>\n",
              "    .dataframe tbody tr th:only-of-type {\n",
              "        vertical-align: middle;\n",
              "    }\n",
              "\n",
              "    .dataframe tbody tr th {\n",
              "        vertical-align: top;\n",
              "    }\n",
              "\n",
              "    .dataframe thead th {\n",
              "        text-align: right;\n",
              "    }\n",
              "</style>\n",
              "<table border=\"1\" class=\"dataframe\">\n",
              "  <thead>\n",
              "    <tr style=\"text-align: right;\">\n",
              "      <th></th>\n",
              "      <th>Max.P</th>\n",
              "      <th>Ent</th>\n",
              "      <th>MI</th>\n",
              "      <th>D.Ent</th>\n",
              "    </tr>\n",
              "  </thead>\n",
              "  <tbody>\n",
              "    <tr>\n",
              "      <th>AUROC</th>\n",
              "      <td>0.780</td>\n",
              "      <td>0.780</td>\n",
              "      <td>0.780</td>\n",
              "      <td>0.780</td>\n",
              "    </tr>\n",
              "    <tr>\n",
              "      <th>AUPR</th>\n",
              "      <td>0.957</td>\n",
              "      <td>0.957</td>\n",
              "      <td>0.957</td>\n",
              "      <td>0.957</td>\n",
              "    </tr>\n",
              "  </tbody>\n",
              "</table>\n",
              "</div>\n",
              "      <button class=\"colab-df-convert\" onclick=\"convertToInteractive('df-a527eda7-d49e-4082-b41b-c80be24064b7')\"\n",
              "              title=\"Convert this dataframe to an interactive table.\"\n",
              "              style=\"display:none;\">\n",
              "        \n",
              "  <svg xmlns=\"http://www.w3.org/2000/svg\" height=\"24px\"viewBox=\"0 0 24 24\"\n",
              "       width=\"24px\">\n",
              "    <path d=\"M0 0h24v24H0V0z\" fill=\"none\"/>\n",
              "    <path d=\"M18.56 5.44l.94 2.06.94-2.06 2.06-.94-2.06-.94-.94-2.06-.94 2.06-2.06.94zm-11 1L8.5 8.5l.94-2.06 2.06-.94-2.06-.94L8.5 2.5l-.94 2.06-2.06.94zm10 10l.94 2.06.94-2.06 2.06-.94-2.06-.94-.94-2.06-.94 2.06-2.06.94z\"/><path d=\"M17.41 7.96l-1.37-1.37c-.4-.4-.92-.59-1.43-.59-.52 0-1.04.2-1.43.59L10.3 9.45l-7.72 7.72c-.78.78-.78 2.05 0 2.83L4 21.41c.39.39.9.59 1.41.59.51 0 1.02-.2 1.41-.59l7.78-7.78 2.81-2.81c.8-.78.8-2.07 0-2.86zM5.41 20L4 18.59l7.72-7.72 1.47 1.35L5.41 20z\"/>\n",
              "  </svg>\n",
              "      </button>\n",
              "      \n",
              "  <style>\n",
              "    .colab-df-container {\n",
              "      display:flex;\n",
              "      flex-wrap:wrap;\n",
              "      gap: 12px;\n",
              "    }\n",
              "\n",
              "    .colab-df-convert {\n",
              "      background-color: #E8F0FE;\n",
              "      border: none;\n",
              "      border-radius: 50%;\n",
              "      cursor: pointer;\n",
              "      display: none;\n",
              "      fill: #1967D2;\n",
              "      height: 32px;\n",
              "      padding: 0 0 0 0;\n",
              "      width: 32px;\n",
              "    }\n",
              "\n",
              "    .colab-df-convert:hover {\n",
              "      background-color: #E2EBFA;\n",
              "      box-shadow: 0px 1px 2px rgba(60, 64, 67, 0.3), 0px 1px 3px 1px rgba(60, 64, 67, 0.15);\n",
              "      fill: #174EA6;\n",
              "    }\n",
              "\n",
              "    [theme=dark] .colab-df-convert {\n",
              "      background-color: #3B4455;\n",
              "      fill: #D2E3FC;\n",
              "    }\n",
              "\n",
              "    [theme=dark] .colab-df-convert:hover {\n",
              "      background-color: #434B5C;\n",
              "      box-shadow: 0px 1px 3px 1px rgba(0, 0, 0, 0.15);\n",
              "      filter: drop-shadow(0px 1px 2px rgba(0, 0, 0, 0.3));\n",
              "      fill: #FFFFFF;\n",
              "    }\n",
              "  </style>\n",
              "\n",
              "      <script>\n",
              "        const buttonEl =\n",
              "          document.querySelector('#df-a527eda7-d49e-4082-b41b-c80be24064b7 button.colab-df-convert');\n",
              "        buttonEl.style.display =\n",
              "          google.colab.kernel.accessAllowed ? 'block' : 'none';\n",
              "\n",
              "        async function convertToInteractive(key) {\n",
              "          const element = document.querySelector('#df-a527eda7-d49e-4082-b41b-c80be24064b7');\n",
              "          const dataTable =\n",
              "            await google.colab.kernel.invokeFunction('convertToInteractive',\n",
              "                                                     [key], {});\n",
              "          if (!dataTable) return;\n",
              "\n",
              "          const docLinkHtml = 'Like what you see? Visit the ' +\n",
              "            '<a target=\"_blank\" href=https://colab.research.google.com/notebooks/data_table.ipynb>data table notebook</a>'\n",
              "            + ' to learn more about interactive tables.';\n",
              "          element.innerHTML = '';\n",
              "          dataTable['output_type'] = 'display_data';\n",
              "          await google.colab.output.renderOutput(dataTable, element);\n",
              "          const docLink = document.createElement('div');\n",
              "          docLink.innerHTML = docLinkHtml;\n",
              "          element.appendChild(docLink);\n",
              "        }\n",
              "      </script>\n",
              "    </div>\n",
              "  </div>\n",
              "  "
            ]
          },
          "metadata": {},
          "execution_count": 2
        }
      ]
    },
    {
      "cell_type": "code",
      "source": [
        "auroc_mp_ood, aupr_mp_ood, label_mp_ood, score_mp_ood = get_test_roc_pr(dpn, 'MAXP', 'ood')\n",
        "auroc_ent_ood, aupr_ent_ood, label_ent_ood_ood, score_ent_ood = get_test_roc_pr(dpn, 'ENT', 'ood')\n",
        "auroc_mi_ood, aupr_mi_ood_ood, label_mi_ood, score_mi_ood = get_test_roc_pr(dpn, 'MI', 'ood')\n",
        "auroc_de_ood, aupr_de_ood, label_de_ood, score_de_ood = get_test_roc_pr(dpn, 'DE', 'ood')"
      ],
      "metadata": {
        "id": "1WBF6rlWyZKU"
      },
      "execution_count": null,
      "outputs": []
    },
    {
      "cell_type": "code",
      "source": [
        "auroc_lst_ood = [auroc_mp_ood, auroc_ent_ood, auroc_mi_ood, auroc_de_ood]\n",
        "aupr_lst_ood = [aupr_mp_ood, aupr_ent_ood, aupr_mi_ood_ood, aupr_de_ood]\n",
        "\n",
        "pd.DataFrame(data=np.array([auroc_lst_ood, aupr_lst_ood]), \n",
        "             columns=['Max.P', 'Ent', 'MI', 'D.Ent'], \n",
        "             index=['AUROC', 'AUPR'])"
      ],
      "metadata": {
        "id": "E9rOLelkyZ2P",
        "colab": {
          "base_uri": "https://localhost:8080/",
          "height": 112
        },
        "outputId": "b09afd70-f5bd-4e58-8730-775248682922"
      },
      "execution_count": null,
      "outputs": [
        {
          "output_type": "execute_result",
          "data": {
            "text/plain": [
              "       Max.P   Ent    MI  D.Ent\n",
              "AUROC   0.67  0.67  0.67   0.67\n",
              "AUPR    0.74  0.74  0.74   0.74"
            ],
            "text/html": [
              "\n",
              "  <div id=\"df-417f4912-46bc-4164-bd97-28a40abf5882\">\n",
              "    <div class=\"colab-df-container\">\n",
              "      <div>\n",
              "<style scoped>\n",
              "    .dataframe tbody tr th:only-of-type {\n",
              "        vertical-align: middle;\n",
              "    }\n",
              "\n",
              "    .dataframe tbody tr th {\n",
              "        vertical-align: top;\n",
              "    }\n",
              "\n",
              "    .dataframe thead th {\n",
              "        text-align: right;\n",
              "    }\n",
              "</style>\n",
              "<table border=\"1\" class=\"dataframe\">\n",
              "  <thead>\n",
              "    <tr style=\"text-align: right;\">\n",
              "      <th></th>\n",
              "      <th>Max.P</th>\n",
              "      <th>Ent</th>\n",
              "      <th>MI</th>\n",
              "      <th>D.Ent</th>\n",
              "    </tr>\n",
              "  </thead>\n",
              "  <tbody>\n",
              "    <tr>\n",
              "      <th>AUROC</th>\n",
              "      <td>0.67</td>\n",
              "      <td>0.67</td>\n",
              "      <td>0.67</td>\n",
              "      <td>0.67</td>\n",
              "    </tr>\n",
              "    <tr>\n",
              "      <th>AUPR</th>\n",
              "      <td>0.74</td>\n",
              "      <td>0.74</td>\n",
              "      <td>0.74</td>\n",
              "      <td>0.74</td>\n",
              "    </tr>\n",
              "  </tbody>\n",
              "</table>\n",
              "</div>\n",
              "      <button class=\"colab-df-convert\" onclick=\"convertToInteractive('df-417f4912-46bc-4164-bd97-28a40abf5882')\"\n",
              "              title=\"Convert this dataframe to an interactive table.\"\n",
              "              style=\"display:none;\">\n",
              "        \n",
              "  <svg xmlns=\"http://www.w3.org/2000/svg\" height=\"24px\"viewBox=\"0 0 24 24\"\n",
              "       width=\"24px\">\n",
              "    <path d=\"M0 0h24v24H0V0z\" fill=\"none\"/>\n",
              "    <path d=\"M18.56 5.44l.94 2.06.94-2.06 2.06-.94-2.06-.94-.94-2.06-.94 2.06-2.06.94zm-11 1L8.5 8.5l.94-2.06 2.06-.94-2.06-.94L8.5 2.5l-.94 2.06-2.06.94zm10 10l.94 2.06.94-2.06 2.06-.94-2.06-.94-.94-2.06-.94 2.06-2.06.94z\"/><path d=\"M17.41 7.96l-1.37-1.37c-.4-.4-.92-.59-1.43-.59-.52 0-1.04.2-1.43.59L10.3 9.45l-7.72 7.72c-.78.78-.78 2.05 0 2.83L4 21.41c.39.39.9.59 1.41.59.51 0 1.02-.2 1.41-.59l7.78-7.78 2.81-2.81c.8-.78.8-2.07 0-2.86zM5.41 20L4 18.59l7.72-7.72 1.47 1.35L5.41 20z\"/>\n",
              "  </svg>\n",
              "      </button>\n",
              "      \n",
              "  <style>\n",
              "    .colab-df-container {\n",
              "      display:flex;\n",
              "      flex-wrap:wrap;\n",
              "      gap: 12px;\n",
              "    }\n",
              "\n",
              "    .colab-df-convert {\n",
              "      background-color: #E8F0FE;\n",
              "      border: none;\n",
              "      border-radius: 50%;\n",
              "      cursor: pointer;\n",
              "      display: none;\n",
              "      fill: #1967D2;\n",
              "      height: 32px;\n",
              "      padding: 0 0 0 0;\n",
              "      width: 32px;\n",
              "    }\n",
              "\n",
              "    .colab-df-convert:hover {\n",
              "      background-color: #E2EBFA;\n",
              "      box-shadow: 0px 1px 2px rgba(60, 64, 67, 0.3), 0px 1px 3px 1px rgba(60, 64, 67, 0.15);\n",
              "      fill: #174EA6;\n",
              "    }\n",
              "\n",
              "    [theme=dark] .colab-df-convert {\n",
              "      background-color: #3B4455;\n",
              "      fill: #D2E3FC;\n",
              "    }\n",
              "\n",
              "    [theme=dark] .colab-df-convert:hover {\n",
              "      background-color: #434B5C;\n",
              "      box-shadow: 0px 1px 3px 1px rgba(0, 0, 0, 0.15);\n",
              "      filter: drop-shadow(0px 1px 2px rgba(0, 0, 0, 0.3));\n",
              "      fill: #FFFFFF;\n",
              "    }\n",
              "  </style>\n",
              "\n",
              "      <script>\n",
              "        const buttonEl =\n",
              "          document.querySelector('#df-417f4912-46bc-4164-bd97-28a40abf5882 button.colab-df-convert');\n",
              "        buttonEl.style.display =\n",
              "          google.colab.kernel.accessAllowed ? 'block' : 'none';\n",
              "\n",
              "        async function convertToInteractive(key) {\n",
              "          const element = document.querySelector('#df-417f4912-46bc-4164-bd97-28a40abf5882');\n",
              "          const dataTable =\n",
              "            await google.colab.kernel.invokeFunction('convertToInteractive',\n",
              "                                                     [key], {});\n",
              "          if (!dataTable) return;\n",
              "\n",
              "          const docLinkHtml = 'Like what you see? Visit the ' +\n",
              "            '<a target=\"_blank\" href=https://colab.research.google.com/notebooks/data_table.ipynb>data table notebook</a>'\n",
              "            + ' to learn more about interactive tables.';\n",
              "          element.innerHTML = '';\n",
              "          dataTable['output_type'] = 'display_data';\n",
              "          await google.colab.output.renderOutput(dataTable, element);\n",
              "          const docLink = document.createElement('div');\n",
              "          docLink.innerHTML = docLinkHtml;\n",
              "          element.appendChild(docLink);\n",
              "        }\n",
              "      </script>\n",
              "    </div>\n",
              "  </div>\n",
              "  "
            ]
          },
          "metadata": {},
          "execution_count": 3
        }
      ]
    }
  ]
}