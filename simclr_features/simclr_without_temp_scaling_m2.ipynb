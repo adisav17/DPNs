{
  "nbformat": 4,
  "nbformat_minor": 0,
  "metadata": {
    "colab": {
      "provenance": [],
      "include_colab_link": true
    },
    "kernelspec": {
      "name": "python3",
      "display_name": "Python 3"
    },
    "language_info": {
      "name": "python"
    },
    "widgets": {
      "application/vnd.jupyter.widget-state+json": {
        "78efb79ab45c454591aa29325e6ee9d8": {
          "model_module": "@jupyter-widgets/controls",
          "model_name": "HBoxModel",
          "model_module_version": "1.5.0",
          "state": {
            "_dom_classes": [],
            "_model_module": "@jupyter-widgets/controls",
            "_model_module_version": "1.5.0",
            "_model_name": "HBoxModel",
            "_view_count": null,
            "_view_module": "@jupyter-widgets/controls",
            "_view_module_version": "1.5.0",
            "_view_name": "HBoxView",
            "box_style": "",
            "children": [
              "IPY_MODEL_0918499cc5c84a978b850387189139ad",
              "IPY_MODEL_49635c093f6c4e01b6a7897ac50fc83a",
              "IPY_MODEL_b0f1c2d1fcb34dfc95d5172b8583f6a6"
            ],
            "layout": "IPY_MODEL_40e20c70bd2c42d4b0d4b7a410ee285e"
          }
        },
        "0918499cc5c84a978b850387189139ad": {
          "model_module": "@jupyter-widgets/controls",
          "model_name": "HTMLModel",
          "model_module_version": "1.5.0",
          "state": {
            "_dom_classes": [],
            "_model_module": "@jupyter-widgets/controls",
            "_model_module_version": "1.5.0",
            "_model_name": "HTMLModel",
            "_view_count": null,
            "_view_module": "@jupyter-widgets/controls",
            "_view_module_version": "1.5.0",
            "_view_name": "HTMLView",
            "description": "",
            "description_tooltip": null,
            "layout": "IPY_MODEL_b285b8cf0b254093b72c817dd8951cd5",
            "placeholder": "​",
            "style": "IPY_MODEL_9d5115a6cf9541f3999f8683cc2abeaa",
            "value": "100%"
          }
        },
        "49635c093f6c4e01b6a7897ac50fc83a": {
          "model_module": "@jupyter-widgets/controls",
          "model_name": "FloatProgressModel",
          "model_module_version": "1.5.0",
          "state": {
            "_dom_classes": [],
            "_model_module": "@jupyter-widgets/controls",
            "_model_module_version": "1.5.0",
            "_model_name": "FloatProgressModel",
            "_view_count": null,
            "_view_module": "@jupyter-widgets/controls",
            "_view_module_version": "1.5.0",
            "_view_name": "ProgressView",
            "bar_style": "success",
            "description": "",
            "description_tooltip": null,
            "layout": "IPY_MODEL_52764c0f502f4018a9928979f1d8f5ba",
            "max": 170498071,
            "min": 0,
            "orientation": "horizontal",
            "style": "IPY_MODEL_ee199a1166b640feb658744deedec92e",
            "value": 170498071
          }
        },
        "b0f1c2d1fcb34dfc95d5172b8583f6a6": {
          "model_module": "@jupyter-widgets/controls",
          "model_name": "HTMLModel",
          "model_module_version": "1.5.0",
          "state": {
            "_dom_classes": [],
            "_model_module": "@jupyter-widgets/controls",
            "_model_module_version": "1.5.0",
            "_model_name": "HTMLModel",
            "_view_count": null,
            "_view_module": "@jupyter-widgets/controls",
            "_view_module_version": "1.5.0",
            "_view_name": "HTMLView",
            "description": "",
            "description_tooltip": null,
            "layout": "IPY_MODEL_9341743493da412da6831fa189e37251",
            "placeholder": "​",
            "style": "IPY_MODEL_430eaf9e1e8946deb7165df84141b72f",
            "value": " 170498071/170498071 [00:13&lt;00:00, 14782203.44it/s]"
          }
        },
        "40e20c70bd2c42d4b0d4b7a410ee285e": {
          "model_module": "@jupyter-widgets/base",
          "model_name": "LayoutModel",
          "model_module_version": "1.2.0",
          "state": {
            "_model_module": "@jupyter-widgets/base",
            "_model_module_version": "1.2.0",
            "_model_name": "LayoutModel",
            "_view_count": null,
            "_view_module": "@jupyter-widgets/base",
            "_view_module_version": "1.2.0",
            "_view_name": "LayoutView",
            "align_content": null,
            "align_items": null,
            "align_self": null,
            "border": null,
            "bottom": null,
            "display": null,
            "flex": null,
            "flex_flow": null,
            "grid_area": null,
            "grid_auto_columns": null,
            "grid_auto_flow": null,
            "grid_auto_rows": null,
            "grid_column": null,
            "grid_gap": null,
            "grid_row": null,
            "grid_template_areas": null,
            "grid_template_columns": null,
            "grid_template_rows": null,
            "height": null,
            "justify_content": null,
            "justify_items": null,
            "left": null,
            "margin": null,
            "max_height": null,
            "max_width": null,
            "min_height": null,
            "min_width": null,
            "object_fit": null,
            "object_position": null,
            "order": null,
            "overflow": null,
            "overflow_x": null,
            "overflow_y": null,
            "padding": null,
            "right": null,
            "top": null,
            "visibility": null,
            "width": null
          }
        },
        "b285b8cf0b254093b72c817dd8951cd5": {
          "model_module": "@jupyter-widgets/base",
          "model_name": "LayoutModel",
          "model_module_version": "1.2.0",
          "state": {
            "_model_module": "@jupyter-widgets/base",
            "_model_module_version": "1.2.0",
            "_model_name": "LayoutModel",
            "_view_count": null,
            "_view_module": "@jupyter-widgets/base",
            "_view_module_version": "1.2.0",
            "_view_name": "LayoutView",
            "align_content": null,
            "align_items": null,
            "align_self": null,
            "border": null,
            "bottom": null,
            "display": null,
            "flex": null,
            "flex_flow": null,
            "grid_area": null,
            "grid_auto_columns": null,
            "grid_auto_flow": null,
            "grid_auto_rows": null,
            "grid_column": null,
            "grid_gap": null,
            "grid_row": null,
            "grid_template_areas": null,
            "grid_template_columns": null,
            "grid_template_rows": null,
            "height": null,
            "justify_content": null,
            "justify_items": null,
            "left": null,
            "margin": null,
            "max_height": null,
            "max_width": null,
            "min_height": null,
            "min_width": null,
            "object_fit": null,
            "object_position": null,
            "order": null,
            "overflow": null,
            "overflow_x": null,
            "overflow_y": null,
            "padding": null,
            "right": null,
            "top": null,
            "visibility": null,
            "width": null
          }
        },
        "9d5115a6cf9541f3999f8683cc2abeaa": {
          "model_module": "@jupyter-widgets/controls",
          "model_name": "DescriptionStyleModel",
          "model_module_version": "1.5.0",
          "state": {
            "_model_module": "@jupyter-widgets/controls",
            "_model_module_version": "1.5.0",
            "_model_name": "DescriptionStyleModel",
            "_view_count": null,
            "_view_module": "@jupyter-widgets/base",
            "_view_module_version": "1.2.0",
            "_view_name": "StyleView",
            "description_width": ""
          }
        },
        "52764c0f502f4018a9928979f1d8f5ba": {
          "model_module": "@jupyter-widgets/base",
          "model_name": "LayoutModel",
          "model_module_version": "1.2.0",
          "state": {
            "_model_module": "@jupyter-widgets/base",
            "_model_module_version": "1.2.0",
            "_model_name": "LayoutModel",
            "_view_count": null,
            "_view_module": "@jupyter-widgets/base",
            "_view_module_version": "1.2.0",
            "_view_name": "LayoutView",
            "align_content": null,
            "align_items": null,
            "align_self": null,
            "border": null,
            "bottom": null,
            "display": null,
            "flex": null,
            "flex_flow": null,
            "grid_area": null,
            "grid_auto_columns": null,
            "grid_auto_flow": null,
            "grid_auto_rows": null,
            "grid_column": null,
            "grid_gap": null,
            "grid_row": null,
            "grid_template_areas": null,
            "grid_template_columns": null,
            "grid_template_rows": null,
            "height": null,
            "justify_content": null,
            "justify_items": null,
            "left": null,
            "margin": null,
            "max_height": null,
            "max_width": null,
            "min_height": null,
            "min_width": null,
            "object_fit": null,
            "object_position": null,
            "order": null,
            "overflow": null,
            "overflow_x": null,
            "overflow_y": null,
            "padding": null,
            "right": null,
            "top": null,
            "visibility": null,
            "width": null
          }
        },
        "ee199a1166b640feb658744deedec92e": {
          "model_module": "@jupyter-widgets/controls",
          "model_name": "ProgressStyleModel",
          "model_module_version": "1.5.0",
          "state": {
            "_model_module": "@jupyter-widgets/controls",
            "_model_module_version": "1.5.0",
            "_model_name": "ProgressStyleModel",
            "_view_count": null,
            "_view_module": "@jupyter-widgets/base",
            "_view_module_version": "1.2.0",
            "_view_name": "StyleView",
            "bar_color": null,
            "description_width": ""
          }
        },
        "9341743493da412da6831fa189e37251": {
          "model_module": "@jupyter-widgets/base",
          "model_name": "LayoutModel",
          "model_module_version": "1.2.0",
          "state": {
            "_model_module": "@jupyter-widgets/base",
            "_model_module_version": "1.2.0",
            "_model_name": "LayoutModel",
            "_view_count": null,
            "_view_module": "@jupyter-widgets/base",
            "_view_module_version": "1.2.0",
            "_view_name": "LayoutView",
            "align_content": null,
            "align_items": null,
            "align_self": null,
            "border": null,
            "bottom": null,
            "display": null,
            "flex": null,
            "flex_flow": null,
            "grid_area": null,
            "grid_auto_columns": null,
            "grid_auto_flow": null,
            "grid_auto_rows": null,
            "grid_column": null,
            "grid_gap": null,
            "grid_row": null,
            "grid_template_areas": null,
            "grid_template_columns": null,
            "grid_template_rows": null,
            "height": null,
            "justify_content": null,
            "justify_items": null,
            "left": null,
            "margin": null,
            "max_height": null,
            "max_width": null,
            "min_height": null,
            "min_width": null,
            "object_fit": null,
            "object_position": null,
            "order": null,
            "overflow": null,
            "overflow_x": null,
            "overflow_y": null,
            "padding": null,
            "right": null,
            "top": null,
            "visibility": null,
            "width": null
          }
        },
        "430eaf9e1e8946deb7165df84141b72f": {
          "model_module": "@jupyter-widgets/controls",
          "model_name": "DescriptionStyleModel",
          "model_module_version": "1.5.0",
          "state": {
            "_model_module": "@jupyter-widgets/controls",
            "_model_module_version": "1.5.0",
            "_model_name": "DescriptionStyleModel",
            "_view_count": null,
            "_view_module": "@jupyter-widgets/base",
            "_view_module_version": "1.2.0",
            "_view_name": "StyleView",
            "description_width": ""
          }
        },
        "3608468ed80247caa37b97e68155481b": {
          "model_module": "@jupyter-widgets/controls",
          "model_name": "HBoxModel",
          "model_module_version": "1.5.0",
          "state": {
            "_dom_classes": [],
            "_model_module": "@jupyter-widgets/controls",
            "_model_module_version": "1.5.0",
            "_model_name": "HBoxModel",
            "_view_count": null,
            "_view_module": "@jupyter-widgets/controls",
            "_view_module_version": "1.5.0",
            "_view_name": "HBoxView",
            "box_style": "",
            "children": [
              "IPY_MODEL_e2200c6bc06541a0965f6aabdc8060ca",
              "IPY_MODEL_d82baa2ff4464c0ab2c98dd72c0ed386",
              "IPY_MODEL_5ffb88ede5414d04b538344e50cc42f9"
            ],
            "layout": "IPY_MODEL_3f0e4430520b4c8cb6a8117b4a18333e"
          }
        },
        "e2200c6bc06541a0965f6aabdc8060ca": {
          "model_module": "@jupyter-widgets/controls",
          "model_name": "HTMLModel",
          "model_module_version": "1.5.0",
          "state": {
            "_dom_classes": [],
            "_model_module": "@jupyter-widgets/controls",
            "_model_module_version": "1.5.0",
            "_model_name": "HTMLModel",
            "_view_count": null,
            "_view_module": "@jupyter-widgets/controls",
            "_view_module_version": "1.5.0",
            "_view_name": "HTMLView",
            "description": "",
            "description_tooltip": null,
            "layout": "IPY_MODEL_e4f5871549f343fd824329e690b0b6e1",
            "placeholder": "​",
            "style": "IPY_MODEL_b00d0d2e1cc748af9215a36be73b8978",
            "value": "100%"
          }
        },
        "d82baa2ff4464c0ab2c98dd72c0ed386": {
          "model_module": "@jupyter-widgets/controls",
          "model_name": "FloatProgressModel",
          "model_module_version": "1.5.0",
          "state": {
            "_dom_classes": [],
            "_model_module": "@jupyter-widgets/controls",
            "_model_module_version": "1.5.0",
            "_model_name": "FloatProgressModel",
            "_view_count": null,
            "_view_module": "@jupyter-widgets/controls",
            "_view_module_version": "1.5.0",
            "_view_name": "ProgressView",
            "bar_style": "success",
            "description": "",
            "description_tooltip": null,
            "layout": "IPY_MODEL_cdeaa17cc9eb4de8bae29a36ff8a8ae7",
            "max": 182040794,
            "min": 0,
            "orientation": "horizontal",
            "style": "IPY_MODEL_3cdec332784849dda0371f20067e6a31",
            "value": 182040794
          }
        },
        "5ffb88ede5414d04b538344e50cc42f9": {
          "model_module": "@jupyter-widgets/controls",
          "model_name": "HTMLModel",
          "model_module_version": "1.5.0",
          "state": {
            "_dom_classes": [],
            "_model_module": "@jupyter-widgets/controls",
            "_model_module_version": "1.5.0",
            "_model_name": "HTMLModel",
            "_view_count": null,
            "_view_module": "@jupyter-widgets/controls",
            "_view_module_version": "1.5.0",
            "_view_name": "HTMLView",
            "description": "",
            "description_tooltip": null,
            "layout": "IPY_MODEL_aab02a0994dc4ca0a56235264cd659d6",
            "placeholder": "​",
            "style": "IPY_MODEL_9837f0642b5f4961a5bd6f06f1af5be3",
            "value": " 182040794/182040794 [00:14&lt;00:00, 16355179.88it/s]"
          }
        },
        "3f0e4430520b4c8cb6a8117b4a18333e": {
          "model_module": "@jupyter-widgets/base",
          "model_name": "LayoutModel",
          "model_module_version": "1.2.0",
          "state": {
            "_model_module": "@jupyter-widgets/base",
            "_model_module_version": "1.2.0",
            "_model_name": "LayoutModel",
            "_view_count": null,
            "_view_module": "@jupyter-widgets/base",
            "_view_module_version": "1.2.0",
            "_view_name": "LayoutView",
            "align_content": null,
            "align_items": null,
            "align_self": null,
            "border": null,
            "bottom": null,
            "display": null,
            "flex": null,
            "flex_flow": null,
            "grid_area": null,
            "grid_auto_columns": null,
            "grid_auto_flow": null,
            "grid_auto_rows": null,
            "grid_column": null,
            "grid_gap": null,
            "grid_row": null,
            "grid_template_areas": null,
            "grid_template_columns": null,
            "grid_template_rows": null,
            "height": null,
            "justify_content": null,
            "justify_items": null,
            "left": null,
            "margin": null,
            "max_height": null,
            "max_width": null,
            "min_height": null,
            "min_width": null,
            "object_fit": null,
            "object_position": null,
            "order": null,
            "overflow": null,
            "overflow_x": null,
            "overflow_y": null,
            "padding": null,
            "right": null,
            "top": null,
            "visibility": null,
            "width": null
          }
        },
        "e4f5871549f343fd824329e690b0b6e1": {
          "model_module": "@jupyter-widgets/base",
          "model_name": "LayoutModel",
          "model_module_version": "1.2.0",
          "state": {
            "_model_module": "@jupyter-widgets/base",
            "_model_module_version": "1.2.0",
            "_model_name": "LayoutModel",
            "_view_count": null,
            "_view_module": "@jupyter-widgets/base",
            "_view_module_version": "1.2.0",
            "_view_name": "LayoutView",
            "align_content": null,
            "align_items": null,
            "align_self": null,
            "border": null,
            "bottom": null,
            "display": null,
            "flex": null,
            "flex_flow": null,
            "grid_area": null,
            "grid_auto_columns": null,
            "grid_auto_flow": null,
            "grid_auto_rows": null,
            "grid_column": null,
            "grid_gap": null,
            "grid_row": null,
            "grid_template_areas": null,
            "grid_template_columns": null,
            "grid_template_rows": null,
            "height": null,
            "justify_content": null,
            "justify_items": null,
            "left": null,
            "margin": null,
            "max_height": null,
            "max_width": null,
            "min_height": null,
            "min_width": null,
            "object_fit": null,
            "object_position": null,
            "order": null,
            "overflow": null,
            "overflow_x": null,
            "overflow_y": null,
            "padding": null,
            "right": null,
            "top": null,
            "visibility": null,
            "width": null
          }
        },
        "b00d0d2e1cc748af9215a36be73b8978": {
          "model_module": "@jupyter-widgets/controls",
          "model_name": "DescriptionStyleModel",
          "model_module_version": "1.5.0",
          "state": {
            "_model_module": "@jupyter-widgets/controls",
            "_model_module_version": "1.5.0",
            "_model_name": "DescriptionStyleModel",
            "_view_count": null,
            "_view_module": "@jupyter-widgets/base",
            "_view_module_version": "1.2.0",
            "_view_name": "StyleView",
            "description_width": ""
          }
        },
        "cdeaa17cc9eb4de8bae29a36ff8a8ae7": {
          "model_module": "@jupyter-widgets/base",
          "model_name": "LayoutModel",
          "model_module_version": "1.2.0",
          "state": {
            "_model_module": "@jupyter-widgets/base",
            "_model_module_version": "1.2.0",
            "_model_name": "LayoutModel",
            "_view_count": null,
            "_view_module": "@jupyter-widgets/base",
            "_view_module_version": "1.2.0",
            "_view_name": "LayoutView",
            "align_content": null,
            "align_items": null,
            "align_self": null,
            "border": null,
            "bottom": null,
            "display": null,
            "flex": null,
            "flex_flow": null,
            "grid_area": null,
            "grid_auto_columns": null,
            "grid_auto_flow": null,
            "grid_auto_rows": null,
            "grid_column": null,
            "grid_gap": null,
            "grid_row": null,
            "grid_template_areas": null,
            "grid_template_columns": null,
            "grid_template_rows": null,
            "height": null,
            "justify_content": null,
            "justify_items": null,
            "left": null,
            "margin": null,
            "max_height": null,
            "max_width": null,
            "min_height": null,
            "min_width": null,
            "object_fit": null,
            "object_position": null,
            "order": null,
            "overflow": null,
            "overflow_x": null,
            "overflow_y": null,
            "padding": null,
            "right": null,
            "top": null,
            "visibility": null,
            "width": null
          }
        },
        "3cdec332784849dda0371f20067e6a31": {
          "model_module": "@jupyter-widgets/controls",
          "model_name": "ProgressStyleModel",
          "model_module_version": "1.5.0",
          "state": {
            "_model_module": "@jupyter-widgets/controls",
            "_model_module_version": "1.5.0",
            "_model_name": "ProgressStyleModel",
            "_view_count": null,
            "_view_module": "@jupyter-widgets/base",
            "_view_module_version": "1.2.0",
            "_view_name": "StyleView",
            "bar_color": null,
            "description_width": ""
          }
        },
        "aab02a0994dc4ca0a56235264cd659d6": {
          "model_module": "@jupyter-widgets/base",
          "model_name": "LayoutModel",
          "model_module_version": "1.2.0",
          "state": {
            "_model_module": "@jupyter-widgets/base",
            "_model_module_version": "1.2.0",
            "_model_name": "LayoutModel",
            "_view_count": null,
            "_view_module": "@jupyter-widgets/base",
            "_view_module_version": "1.2.0",
            "_view_name": "LayoutView",
            "align_content": null,
            "align_items": null,
            "align_self": null,
            "border": null,
            "bottom": null,
            "display": null,
            "flex": null,
            "flex_flow": null,
            "grid_area": null,
            "grid_auto_columns": null,
            "grid_auto_flow": null,
            "grid_auto_rows": null,
            "grid_column": null,
            "grid_gap": null,
            "grid_row": null,
            "grid_template_areas": null,
            "grid_template_columns": null,
            "grid_template_rows": null,
            "height": null,
            "justify_content": null,
            "justify_items": null,
            "left": null,
            "margin": null,
            "max_height": null,
            "max_width": null,
            "min_height": null,
            "min_width": null,
            "object_fit": null,
            "object_position": null,
            "order": null,
            "overflow": null,
            "overflow_x": null,
            "overflow_y": null,
            "padding": null,
            "right": null,
            "top": null,
            "visibility": null,
            "width": null
          }
        },
        "9837f0642b5f4961a5bd6f06f1af5be3": {
          "model_module": "@jupyter-widgets/controls",
          "model_name": "DescriptionStyleModel",
          "model_module_version": "1.5.0",
          "state": {
            "_model_module": "@jupyter-widgets/controls",
            "_model_module_version": "1.5.0",
            "_model_name": "DescriptionStyleModel",
            "_view_count": null,
            "_view_module": "@jupyter-widgets/base",
            "_view_module_version": "1.2.0",
            "_view_name": "StyleView",
            "description_width": ""
          }
        },
        "c6df3655b0454f488f45d6d85f10c391": {
          "model_module": "@jupyter-widgets/controls",
          "model_name": "HBoxModel",
          "model_module_version": "1.5.0",
          "state": {
            "_dom_classes": [],
            "_model_module": "@jupyter-widgets/controls",
            "_model_module_version": "1.5.0",
            "_model_name": "HBoxModel",
            "_view_count": null,
            "_view_module": "@jupyter-widgets/controls",
            "_view_module_version": "1.5.0",
            "_view_name": "HBoxView",
            "box_style": "",
            "children": [
              "IPY_MODEL_330bbf7f79fd4a0dbd5158bcfd1cca33",
              "IPY_MODEL_6364ef74ab684e0db3f1f17dd60011fb",
              "IPY_MODEL_4be6403185454db0aa533d588b81cb40"
            ],
            "layout": "IPY_MODEL_ac6f6274756541bf97fb2e4564bcfae5"
          }
        },
        "330bbf7f79fd4a0dbd5158bcfd1cca33": {
          "model_module": "@jupyter-widgets/controls",
          "model_name": "HTMLModel",
          "model_module_version": "1.5.0",
          "state": {
            "_dom_classes": [],
            "_model_module": "@jupyter-widgets/controls",
            "_model_module_version": "1.5.0",
            "_model_name": "HTMLModel",
            "_view_count": null,
            "_view_module": "@jupyter-widgets/controls",
            "_view_module_version": "1.5.0",
            "_view_name": "HTMLView",
            "description": "",
            "description_tooltip": null,
            "layout": "IPY_MODEL_c1bfc6feaf9c441abdc5e035f4a43bfb",
            "placeholder": "​",
            "style": "IPY_MODEL_ec96c896bf9f40a8aefcad28c0a9a129",
            "value": "100%"
          }
        },
        "6364ef74ab684e0db3f1f17dd60011fb": {
          "model_module": "@jupyter-widgets/controls",
          "model_name": "FloatProgressModel",
          "model_module_version": "1.5.0",
          "state": {
            "_dom_classes": [],
            "_model_module": "@jupyter-widgets/controls",
            "_model_module_version": "1.5.0",
            "_model_name": "FloatProgressModel",
            "_view_count": null,
            "_view_module": "@jupyter-widgets/controls",
            "_view_module_version": "1.5.0",
            "_view_name": "ProgressView",
            "bar_style": "success",
            "description": "",
            "description_tooltip": null,
            "layout": "IPY_MODEL_1d554b47a0384d58ae118729ef5b7268",
            "max": 64275384,
            "min": 0,
            "orientation": "horizontal",
            "style": "IPY_MODEL_b2857c570ced4d0eb9a784e4ff6af5fa",
            "value": 64275384
          }
        },
        "4be6403185454db0aa533d588b81cb40": {
          "model_module": "@jupyter-widgets/controls",
          "model_name": "HTMLModel",
          "model_module_version": "1.5.0",
          "state": {
            "_dom_classes": [],
            "_model_module": "@jupyter-widgets/controls",
            "_model_module_version": "1.5.0",
            "_model_name": "HTMLModel",
            "_view_count": null,
            "_view_module": "@jupyter-widgets/controls",
            "_view_module_version": "1.5.0",
            "_view_name": "HTMLView",
            "description": "",
            "description_tooltip": null,
            "layout": "IPY_MODEL_b8b4a6cdfa5343fc92f2d9d852364c6a",
            "placeholder": "​",
            "style": "IPY_MODEL_9b91bfc797144c75b885b2206ffca606",
            "value": " 64275384/64275384 [00:08&lt;00:00, 16375692.54it/s]"
          }
        },
        "ac6f6274756541bf97fb2e4564bcfae5": {
          "model_module": "@jupyter-widgets/base",
          "model_name": "LayoutModel",
          "model_module_version": "1.2.0",
          "state": {
            "_model_module": "@jupyter-widgets/base",
            "_model_module_version": "1.2.0",
            "_model_name": "LayoutModel",
            "_view_count": null,
            "_view_module": "@jupyter-widgets/base",
            "_view_module_version": "1.2.0",
            "_view_name": "LayoutView",
            "align_content": null,
            "align_items": null,
            "align_self": null,
            "border": null,
            "bottom": null,
            "display": null,
            "flex": null,
            "flex_flow": null,
            "grid_area": null,
            "grid_auto_columns": null,
            "grid_auto_flow": null,
            "grid_auto_rows": null,
            "grid_column": null,
            "grid_gap": null,
            "grid_row": null,
            "grid_template_areas": null,
            "grid_template_columns": null,
            "grid_template_rows": null,
            "height": null,
            "justify_content": null,
            "justify_items": null,
            "left": null,
            "margin": null,
            "max_height": null,
            "max_width": null,
            "min_height": null,
            "min_width": null,
            "object_fit": null,
            "object_position": null,
            "order": null,
            "overflow": null,
            "overflow_x": null,
            "overflow_y": null,
            "padding": null,
            "right": null,
            "top": null,
            "visibility": null,
            "width": null
          }
        },
        "c1bfc6feaf9c441abdc5e035f4a43bfb": {
          "model_module": "@jupyter-widgets/base",
          "model_name": "LayoutModel",
          "model_module_version": "1.2.0",
          "state": {
            "_model_module": "@jupyter-widgets/base",
            "_model_module_version": "1.2.0",
            "_model_name": "LayoutModel",
            "_view_count": null,
            "_view_module": "@jupyter-widgets/base",
            "_view_module_version": "1.2.0",
            "_view_name": "LayoutView",
            "align_content": null,
            "align_items": null,
            "align_self": null,
            "border": null,
            "bottom": null,
            "display": null,
            "flex": null,
            "flex_flow": null,
            "grid_area": null,
            "grid_auto_columns": null,
            "grid_auto_flow": null,
            "grid_auto_rows": null,
            "grid_column": null,
            "grid_gap": null,
            "grid_row": null,
            "grid_template_areas": null,
            "grid_template_columns": null,
            "grid_template_rows": null,
            "height": null,
            "justify_content": null,
            "justify_items": null,
            "left": null,
            "margin": null,
            "max_height": null,
            "max_width": null,
            "min_height": null,
            "min_width": null,
            "object_fit": null,
            "object_position": null,
            "order": null,
            "overflow": null,
            "overflow_x": null,
            "overflow_y": null,
            "padding": null,
            "right": null,
            "top": null,
            "visibility": null,
            "width": null
          }
        },
        "ec96c896bf9f40a8aefcad28c0a9a129": {
          "model_module": "@jupyter-widgets/controls",
          "model_name": "DescriptionStyleModel",
          "model_module_version": "1.5.0",
          "state": {
            "_model_module": "@jupyter-widgets/controls",
            "_model_module_version": "1.5.0",
            "_model_name": "DescriptionStyleModel",
            "_view_count": null,
            "_view_module": "@jupyter-widgets/base",
            "_view_module_version": "1.2.0",
            "_view_name": "StyleView",
            "description_width": ""
          }
        },
        "1d554b47a0384d58ae118729ef5b7268": {
          "model_module": "@jupyter-widgets/base",
          "model_name": "LayoutModel",
          "model_module_version": "1.2.0",
          "state": {
            "_model_module": "@jupyter-widgets/base",
            "_model_module_version": "1.2.0",
            "_model_name": "LayoutModel",
            "_view_count": null,
            "_view_module": "@jupyter-widgets/base",
            "_view_module_version": "1.2.0",
            "_view_name": "LayoutView",
            "align_content": null,
            "align_items": null,
            "align_self": null,
            "border": null,
            "bottom": null,
            "display": null,
            "flex": null,
            "flex_flow": null,
            "grid_area": null,
            "grid_auto_columns": null,
            "grid_auto_flow": null,
            "grid_auto_rows": null,
            "grid_column": null,
            "grid_gap": null,
            "grid_row": null,
            "grid_template_areas": null,
            "grid_template_columns": null,
            "grid_template_rows": null,
            "height": null,
            "justify_content": null,
            "justify_items": null,
            "left": null,
            "margin": null,
            "max_height": null,
            "max_width": null,
            "min_height": null,
            "min_width": null,
            "object_fit": null,
            "object_position": null,
            "order": null,
            "overflow": null,
            "overflow_x": null,
            "overflow_y": null,
            "padding": null,
            "right": null,
            "top": null,
            "visibility": null,
            "width": null
          }
        },
        "b2857c570ced4d0eb9a784e4ff6af5fa": {
          "model_module": "@jupyter-widgets/controls",
          "model_name": "ProgressStyleModel",
          "model_module_version": "1.5.0",
          "state": {
            "_model_module": "@jupyter-widgets/controls",
            "_model_module_version": "1.5.0",
            "_model_name": "ProgressStyleModel",
            "_view_count": null,
            "_view_module": "@jupyter-widgets/base",
            "_view_module_version": "1.2.0",
            "_view_name": "StyleView",
            "bar_color": null,
            "description_width": ""
          }
        },
        "b8b4a6cdfa5343fc92f2d9d852364c6a": {
          "model_module": "@jupyter-widgets/base",
          "model_name": "LayoutModel",
          "model_module_version": "1.2.0",
          "state": {
            "_model_module": "@jupyter-widgets/base",
            "_model_module_version": "1.2.0",
            "_model_name": "LayoutModel",
            "_view_count": null,
            "_view_module": "@jupyter-widgets/base",
            "_view_module_version": "1.2.0",
            "_view_name": "LayoutView",
            "align_content": null,
            "align_items": null,
            "align_self": null,
            "border": null,
            "bottom": null,
            "display": null,
            "flex": null,
            "flex_flow": null,
            "grid_area": null,
            "grid_auto_columns": null,
            "grid_auto_flow": null,
            "grid_auto_rows": null,
            "grid_column": null,
            "grid_gap": null,
            "grid_row": null,
            "grid_template_areas": null,
            "grid_template_columns": null,
            "grid_template_rows": null,
            "height": null,
            "justify_content": null,
            "justify_items": null,
            "left": null,
            "margin": null,
            "max_height": null,
            "max_width": null,
            "min_height": null,
            "min_width": null,
            "object_fit": null,
            "object_position": null,
            "order": null,
            "overflow": null,
            "overflow_x": null,
            "overflow_y": null,
            "padding": null,
            "right": null,
            "top": null,
            "visibility": null,
            "width": null
          }
        },
        "9b91bfc797144c75b885b2206ffca606": {
          "model_module": "@jupyter-widgets/controls",
          "model_name": "DescriptionStyleModel",
          "model_module_version": "1.5.0",
          "state": {
            "_model_module": "@jupyter-widgets/controls",
            "_model_module_version": "1.5.0",
            "_model_name": "DescriptionStyleModel",
            "_view_count": null,
            "_view_module": "@jupyter-widgets/base",
            "_view_module_version": "1.2.0",
            "_view_name": "StyleView",
            "description_width": ""
          }
        }
      }
    },
    "accelerator": "GPU",
    "gpuClass": "standard"
  },
  "cells": [
    {
      "cell_type": "markdown",
      "metadata": {
        "id": "view-in-github",
        "colab_type": "text"
      },
      "source": [
        "<a href=\"https://colab.research.google.com/github/sakshamgarg/Augmenting-Dirichlet-Network/blob/main/simclr_features/simclr_without_temp_scaling_m2.ipynb\" target=\"_parent\"><img src=\"https://colab.research.google.com/assets/colab-badge.svg\" alt=\"Open In Colab\"/></a>"
      ]
    },
    {
      "cell_type": "code",
      "execution_count": 2,
      "metadata": {
        "id": "TouVm6f1TKxR"
      },
      "outputs": [],
      "source": [
        "import sys\n",
        "import torchvision\n",
        "import numpy as np\n",
        "import matplotlib.pyplot as plt\n",
        "from matplotlib import cm\n",
        "import pandas as pd\n",
        "\n",
        "import torch\n",
        "import torch.nn as nn\n",
        "import torch.nn.functional as F\n",
        "import torch.optim as optim\n",
        "import torchvision.transforms as transforms\n",
        "import torch.distributions as dist\n",
        "from torch.distributions.dirichlet import Dirichlet\n",
        "from mpl_toolkits import mplot3d\n",
        "\n",
        "from sklearn.metrics import roc_auc_score, roc_curve\n",
        "from sklearn.metrics import precision_recall_curve, auc\n",
        "from scipy.stats import multivariate_normal\n",
        "from scipy.stats import norm\n",
        "\n",
        "device = torch.device('cuda' if torch.cuda.is_available() else 'cpu')"
      ]
    },
    {
      "cell_type": "code",
      "source": [
        "cifar_mean = (0.4914, 0.4822, 0.4465)\n",
        "cifar_std = (0.2470, 0.2435, 0.2616)                                             \n",
        "cifar_transform =  transforms.Compose(\n",
        "      [transforms.ToTensor(),\n",
        "     transforms.Normalize(cifar_mean, cifar_std)])"
      ],
      "metadata": {
        "id": "IFojIpBuTldv"
      },
      "execution_count": null,
      "outputs": []
    },
    {
      "cell_type": "code",
      "source": [
        "train_in = torchvision.datasets.CIFAR10('./files/', train=True, download=True,\n",
        "                                        transform=cifar_transform)\n",
        "test_in = torchvision.datasets.CIFAR10('./files/', train=False, download=True,\n",
        "                                        transform=cifar_transform)\n",
        "train_out = torchvision.datasets.SVHN('./data', split ='train', download=True,\n",
        "                                        transform=cifar_transform)\n",
        "test_out = torchvision.datasets.SVHN('./data', split ='test', download=True,\n",
        "                                        transform=cifar_transform)"
      ],
      "metadata": {
        "colab": {
          "base_uri": "https://localhost:8080/",
          "height": 202,
          "referenced_widgets": [
            "78efb79ab45c454591aa29325e6ee9d8",
            "0918499cc5c84a978b850387189139ad",
            "49635c093f6c4e01b6a7897ac50fc83a",
            "b0f1c2d1fcb34dfc95d5172b8583f6a6",
            "40e20c70bd2c42d4b0d4b7a410ee285e",
            "b285b8cf0b254093b72c817dd8951cd5",
            "9d5115a6cf9541f3999f8683cc2abeaa",
            "52764c0f502f4018a9928979f1d8f5ba",
            "ee199a1166b640feb658744deedec92e",
            "9341743493da412da6831fa189e37251",
            "430eaf9e1e8946deb7165df84141b72f",
            "3608468ed80247caa37b97e68155481b",
            "e2200c6bc06541a0965f6aabdc8060ca",
            "d82baa2ff4464c0ab2c98dd72c0ed386",
            "5ffb88ede5414d04b538344e50cc42f9",
            "3f0e4430520b4c8cb6a8117b4a18333e",
            "e4f5871549f343fd824329e690b0b6e1",
            "b00d0d2e1cc748af9215a36be73b8978",
            "cdeaa17cc9eb4de8bae29a36ff8a8ae7",
            "3cdec332784849dda0371f20067e6a31",
            "aab02a0994dc4ca0a56235264cd659d6",
            "9837f0642b5f4961a5bd6f06f1af5be3",
            "c6df3655b0454f488f45d6d85f10c391",
            "330bbf7f79fd4a0dbd5158bcfd1cca33",
            "6364ef74ab684e0db3f1f17dd60011fb",
            "4be6403185454db0aa533d588b81cb40",
            "ac6f6274756541bf97fb2e4564bcfae5",
            "c1bfc6feaf9c441abdc5e035f4a43bfb",
            "ec96c896bf9f40a8aefcad28c0a9a129",
            "1d554b47a0384d58ae118729ef5b7268",
            "b2857c570ced4d0eb9a784e4ff6af5fa",
            "b8b4a6cdfa5343fc92f2d9d852364c6a",
            "9b91bfc797144c75b885b2206ffca606"
          ]
        },
        "id": "qmHF1WeETrVK",
        "outputId": "9dc80b61-5c3b-422a-fbf3-3c412ca3891a"
      },
      "execution_count": null,
      "outputs": [
        {
          "output_type": "stream",
          "name": "stdout",
          "text": [
            "Downloading https://www.cs.toronto.edu/~kriz/cifar-10-python.tar.gz to ./files/cifar-10-python.tar.gz\n"
          ]
        },
        {
          "output_type": "display_data",
          "data": {
            "text/plain": [
              "  0%|          | 0/170498071 [00:00<?, ?it/s]"
            ],
            "application/vnd.jupyter.widget-view+json": {
              "version_major": 2,
              "version_minor": 0,
              "model_id": "78efb79ab45c454591aa29325e6ee9d8"
            }
          },
          "metadata": {}
        },
        {
          "output_type": "stream",
          "name": "stdout",
          "text": [
            "Extracting ./files/cifar-10-python.tar.gz to ./files/\n",
            "Files already downloaded and verified\n",
            "Downloading http://ufldl.stanford.edu/housenumbers/train_32x32.mat to ./data/train_32x32.mat\n"
          ]
        },
        {
          "output_type": "display_data",
          "data": {
            "text/plain": [
              "  0%|          | 0/182040794 [00:00<?, ?it/s]"
            ],
            "application/vnd.jupyter.widget-view+json": {
              "version_major": 2,
              "version_minor": 0,
              "model_id": "3608468ed80247caa37b97e68155481b"
            }
          },
          "metadata": {}
        },
        {
          "output_type": "stream",
          "name": "stdout",
          "text": [
            "Downloading http://ufldl.stanford.edu/housenumbers/test_32x32.mat to ./data/test_32x32.mat\n"
          ]
        },
        {
          "output_type": "display_data",
          "data": {
            "text/plain": [
              "  0%|          | 0/64275384 [00:00<?, ?it/s]"
            ],
            "application/vnd.jupyter.widget-view+json": {
              "version_major": 2,
              "version_minor": 0,
              "model_id": "c6df3655b0454f488f45d6d85f10c391"
            }
          },
          "metadata": {}
        }
      ]
    },
    {
      "cell_type": "code",
      "source": [
        "train_out.data = np.vstack(train_out.data).reshape(-1, 32, 32, 3)"
      ],
      "metadata": {
        "id": "Ry_6bN88Tvc9"
      },
      "execution_count": null,
      "outputs": []
    },
    {
      "cell_type": "code",
      "source": [
        "train_in.data = torch.from_numpy(train_in.data)\n",
        "train_out.data = torch.from_numpy(train_out.data)"
      ],
      "metadata": {
        "id": "fR_B6S6HT1Yr"
      },
      "execution_count": null,
      "outputs": []
    },
    {
      "cell_type": "code",
      "source": [
        "train_out.targets = torch.tensor(np.ones(len(train_out.labels))*10, dtype=torch.long)\n",
        "test_out.targets = torch.tensor(np.ones(len(test_out.labels))*10, dtype=torch.long)\n",
        "\n",
        "train_all = train_in\n",
        "train_all.data = torch.cat((train_in.data, train_out.data))\n",
        "train_all.targets = torch.cat((torch.IntTensor(np.array(train_in.targets)), torch.IntTensor(np.array(train_out.targets))))\n",
        "train_all.data = train_all.data.cpu().detach().numpy()\n",
        "train_all.targets = train_all.targets.data.cpu().detach().numpy()"
      ],
      "metadata": {
        "id": "zFWYYA0oT4XW"
      },
      "execution_count": null,
      "outputs": []
    },
    {
      "cell_type": "code",
      "source": [
        "train_loader = torch.utils.data.DataLoader(train_all, batch_size=64)"
      ],
      "metadata": {
        "id": "zu0G5E1IT81_"
      },
      "execution_count": null,
      "outputs": []
    },
    {
      "cell_type": "code",
      "source": [
        "from google.colab import drive\n",
        "drive.mount('/content/drive')"
      ],
      "metadata": {
        "colab": {
          "base_uri": "https://localhost:8080/"
        },
        "id": "OpuFL-dLT_-D",
        "outputId": "833cd7c8-20f1-471c-b6e6-e3d7b28e1674"
      },
      "execution_count": null,
      "outputs": [
        {
          "output_type": "stream",
          "name": "stdout",
          "text": [
            "Mounted at /content/drive\n"
          ]
        }
      ]
    },
    {
      "cell_type": "code",
      "source": [
        "%cd /content/drive/My Drive/CV_Project"
      ],
      "metadata": {
        "colab": {
          "base_uri": "https://localhost:8080/"
        },
        "id": "bdMczcZwU6ra",
        "outputId": "26c205e8-28e6-4b72-97bc-7160169dd3fa"
      },
      "execution_count": null,
      "outputs": [
        {
          "output_type": "stream",
          "name": "stdout",
          "text": [
            "/content/drive/My Drive/CV_Project\n"
          ]
        }
      ]
    },
    {
      "cell_type": "code",
      "source": [
        "! python resnet.py"
      ],
      "metadata": {
        "id": "WOd5C-AqU-Kp"
      },
      "execution_count": null,
      "outputs": []
    },
    {
      "cell_type": "code",
      "source": [
        "from resnet import *"
      ],
      "metadata": {
        "id": "_XP7SJQtVB_D"
      },
      "execution_count": null,
      "outputs": []
    },
    {
      "cell_type": "code",
      "source": [
        "model = resnet18()"
      ],
      "metadata": {
        "id": "m4qPWfcWVFsv"
      },
      "execution_count": null,
      "outputs": []
    },
    {
      "cell_type": "code",
      "source": [
        "model.load_state_dict(torch.load('resnet18.pt'))"
      ],
      "metadata": {
        "colab": {
          "base_uri": "https://localhost:8080/"
        },
        "id": "iDWuVc2yVJQH",
        "outputId": "43a4f536-c5b4-4bcd-d12a-0ccfa08bc52e"
      },
      "execution_count": null,
      "outputs": [
        {
          "output_type": "execute_result",
          "data": {
            "text/plain": [
              "<All keys matched successfully>"
            ]
          },
          "metadata": {},
          "execution_count": 13
        }
      ]
    },
    {
      "cell_type": "code",
      "source": [
        "class SimCLR(nn.Module):\n",
        "    def __init__(self, base_encoder, projection_dim=128):\n",
        "        super().__init__()\n",
        "        self.enc = base_encoder(pretrained=False)  # load model from torchvision.models without pretrained weights.\n",
        "        self.feature_dim = self.enc.fc.in_features\n",
        "\n",
        "        # Customize for CIFAR10. Replace conv 7x7 with conv 3x3, and remove first max pooling.\n",
        "        # See Section B.9 of SimCLR paper.\n",
        "        self.enc.conv1 = nn.Conv2d(3, 64, 3, 1, 1, bias=False)\n",
        "        self.enc.maxpool = nn.Identity()\n",
        "        self.enc.fc = nn.Identity()  # remove final fully connected layer.\n",
        "\n",
        "        # Add MLP projection.\n",
        "        self.projection_dim = projection_dim\n",
        "        self.projector = nn.Sequential(nn.Linear(self.feature_dim, 2048),\n",
        "                                       nn.ReLU(),\n",
        "                                       nn.Linear(2048, projection_dim))\n",
        "\n",
        "    def forward(self, x):\n",
        "        feature = self.enc(x)\n",
        "        projection = self.projector(feature)\n",
        "        return feature, projection"
      ],
      "metadata": {
        "id": "oMzH3TpR1Str"
      },
      "execution_count": null,
      "outputs": []
    },
    {
      "cell_type": "code",
      "source": [
        "backbone = 'resnet18'\n",
        "base_encoder = eval(backbone)\n",
        "simclr_model = SimCLR(base_encoder, projection_dim=128)\n",
        "simclr_model.load_state_dict(torch.load('simclr_resnet18_epoch1200.pt'))"
      ],
      "metadata": {
        "colab": {
          "base_uri": "https://localhost:8080/"
        },
        "id": "uDr_3iGt1TTP",
        "outputId": "56162038-f9ee-4557-963f-17f7bdf2469a"
      },
      "execution_count": null,
      "outputs": [
        {
          "output_type": "execute_result",
          "data": {
            "text/plain": [
              "<All keys matched successfully>"
            ]
          },
          "metadata": {},
          "execution_count": 15
        }
      ]
    },
    {
      "cell_type": "code",
      "source": [
        "simclr_model = simclr_model.to(device)"
      ],
      "metadata": {
        "id": "H1GHqZPr4s5s"
      },
      "execution_count": null,
      "outputs": []
    },
    {
      "cell_type": "code",
      "source": [
        "def get_simclr_features(data, simclr_model):\n",
        "    feature = simclr_model.enc(data)\n",
        "    return feature"
      ],
      "metadata": {
        "id": "8_RHfpmrz5ad"
      },
      "execution_count": null,
      "outputs": []
    },
    {
      "cell_type": "code",
      "source": [
        "def get_resnet_output(data,model):\n",
        "  y = model.forward(data)\n",
        "  y = torch.nn.functional.softmax(5*y, dim = 1)\n",
        "  return y"
      ],
      "metadata": {
        "id": "njva0ZFfVcFE"
      },
      "execution_count": null,
      "outputs": []
    },
    {
      "cell_type": "code",
      "source": [
        "model = model.to(device)\n",
        "model = model.to(torch.float64)"
      ],
      "metadata": {
        "id": "OXZPaW3QgYEu"
      },
      "execution_count": null,
      "outputs": []
    },
    {
      "cell_type": "code",
      "source": [
        "def target_alpha(targets):\n",
        "  target = targets.cpu().detach().numpy()\n",
        "  def gen_onehot(category, total_cat=10):\n",
        "    label = np.ones(total_cat)\n",
        "    label[category] = 20\n",
        "    return label\n",
        "  target_alphas = []\n",
        "  for i in target:\n",
        "    if i==10:\n",
        "      target_alphas.append(torch.tensor(np.ones(10)))\n",
        "    else:\n",
        "      target_alphas.append(torch.tensor(gen_onehot(i)))\n",
        "  return torch.stack(target_alphas).to(device)"
      ],
      "metadata": {
        "id": "hJ0rDwEoab5K"
      },
      "execution_count": null,
      "outputs": []
    },
    {
      "cell_type": "code",
      "source": [
        "# 1 for out, -1 for in\n",
        "def check_in_out_lambdas(target_alphas):\n",
        "\n",
        "  alpha_sum = target_alphas.sum(axis = 1)\n",
        "  alpha_sum = alpha_sum.cpu().detach()\n",
        "  lambdas =  alpha_sum.apply_(lambda x: 1 if(x==10) else -1)\n",
        "  return lambdas.to(device)\n"
      ],
      "metadata": {
        "id": "cjiXRTN8bIKb"
      },
      "execution_count": null,
      "outputs": []
    },
    {
      "cell_type": "code",
      "source": [
        "class PriorNet(nn.Module):\n",
        "    def __init__(self, input_dim=1, hidden_dim=1):\n",
        "        super().__init__()\n",
        "        self.fc1 = nn.Linear(input_dim, hidden_dim)\n",
        "        self.fc2 = nn.Linear(hidden_dim, 3)         # output_dim = 4\n",
        "\n",
        "    def forward(self, x):\n",
        "        x = F.relu(self.fc1(x))\n",
        "        x = self.fc2(x)\n",
        "        return x #F.softmax(x, dim=1)\n",
        "\n",
        "    def predict_alpha(self, x):\n",
        "      src = torch.Tensor(x).to(device)\n",
        "      output = torch.exp(self.forward(src))\n",
        "      return output\n",
        "\n",
        "    def predict_dir(self, x):\n",
        "      alpha = self.predict_alpha(x)\n",
        "      dirichlet = Dirichlet(alpha)\n",
        "      return dirichlet\n",
        "\n",
        "    def fit(self, epoch_num, optimizer, train_X, train_Y):\n",
        "      self.train()\n",
        "\n",
        "      n_train = len(train_X)\n",
        "\n",
        "      # Shuffle the input\n",
        "      index = np.arange(n_train)\n",
        "      np.random.shuffle(index)\n",
        "      train_x = train_X[index]\n",
        "      train_y = train_Y[index]\n",
        "\n",
        "      for epoch in range(epoch_num):\n",
        "        for i in range(n_train):\n",
        "          optimizer.zero_grad()\n",
        "          src = torch.Tensor(train_x[i:i+1]).to(device)\n",
        "          target = torch.Tensor(train_y[i:i+1]).to(device)\n",
        "          # Predicted alpha\n",
        "          output = torch.exp(self.forward(src))\n",
        "          dirichlet1 = Dirichlet(output)\n",
        "          dirichlet2 = Dirichlet(target)\n",
        "          loss = dist.kl.kl_divergence(dirichlet1, dirichlet2)\n",
        "          loss.backward()\n",
        "          optimizer.step()\n",
        "        print('Train Epoch: {} \\t Loss: {:.6f}'.format(epoch, loss.item()))\n",
        "    \n",
        "    def expected_entropy_from_alphas(self, alphas, alpha0):\n",
        "        return -torch.sum((alphas/alpha0)*(torch.digamma(alphas+1)-torch.digamma(alpha0+1)), dim=1)\n",
        "    \n",
        "    def categorical_entropy_torch(self, probs):\n",
        "        log_probs = torch.log(probs)\n",
        "        log_probs = torch.where(torch.isfinite(log_probs), log_probs, torch.zeros_like(log_probs))\n",
        "        entropy = -torch.sum(probs*log_probs, dim=1, keepdim=False)\n",
        "        return entropy\n",
        "\n",
        "    def mutual_information(self, x):\n",
        "        \n",
        "        alphas = self.predict_alpha(x, model)\n",
        "        alpha0 = torch.sum(alphas, dim=1, keepdim=True)\n",
        "        probs = alphas / alpha0\n",
        "\n",
        "        expected_entropy = self.expected_entropy_from_alphas(alphas, alpha0)\n",
        "        entropy_of_exp = self.categorical_entropy_torch(probs)\n",
        "        mutual_info = entropy_of_exp - expected_entropy\n",
        "        return mutual_info\n",
        "\n",
        "    def diffenrential_entropy(self, x):\n",
        "        alphas = self.predict_alpha(x, model)\n",
        "        alpha0 = torch.sum(alphas, dim=1, keepdim=True)\n",
        "        return torch.sum(\n",
        "            torch.lgamma(alphas)-(alphas-1)*(torch.digamma(alphas)-torch.digamma(alpha0)),\n",
        "            dim=1) - torch.lgamma(alpha0)\n",
        "\n",
        "    def entropy(self, x):\n",
        "        alphas = self.predict_alpha(x, model)\n",
        "        alpha0 = torch.sum(alphas, dim=1, keepdim=True)\n",
        "        probs = alphas / alpha0\n",
        "        ret = -torch.sum(probs*torch.log(probs), dim=1)\n",
        "        return ret"
      ],
      "metadata": {
        "id": "kr7USs8eZ5mz"
      },
      "execution_count": null,
      "outputs": []
    },
    {
      "cell_type": "code",
      "source": [
        "augnet_path =  '/content/drive/MyDrive/CV_Project'\n",
        "file_name = 'augnet_simclr_NM'\n",
        "from os import truncate\n",
        "\n",
        "class AugNet(PriorNet):\n",
        "\n",
        "    def __init__(self, old_preds_dim, feature_dim, target_dim):\n",
        "        super().__init__()\n",
        "        self.y_dim = old_preds_dim\n",
        "        self.feature_dim = feature_dim\n",
        "        self.target_dim = target_dim\n",
        "        self.fc1 = nn.Linear(feature_dim, 1024)   \n",
        "        self.relu = torch.nn.ReLU()\n",
        "        self.fc2_1 = nn.Linear(1024, 512) \n",
        "        self.fc2_2 = nn.Linear(512,256)\n",
        "        self.fc3 = nn.Linear(10 + 256, 512) \n",
        "        self.fc4 = nn.Linear(512, 256)\n",
        "        self.fc5 = nn.Linear(256,64)\n",
        "        self.fc6 = nn.Linear(64,10)\n",
        "     \n",
        "\n",
        "     \n",
        "  \n",
        "\n",
        "    def forward(self, features, y):\n",
        "\n",
        "      x = self.fc1(features)\n",
        "      x = self.relu(x)\n",
        "      x = self.fc2_1(x)\n",
        "      x = self.relu(x)\n",
        "      x = self.fc2_2(x)\n",
        "      x = self.relu(x)\n",
        "      x = self.fc3(torch.cat((x,y), dim = 1) )\n",
        "      x = self.relu(x)\n",
        "      x = self.fc4(x)\n",
        "      x = self.relu(x)\n",
        "      x = self.fc5(x)\n",
        "      x = self.relu(x)\n",
        "      x = self.fc6(x)\n",
        "\n",
        "      return x\n",
        "\n",
        "\n",
        "\n",
        "    def predict_alpha(self, x, model):\n",
        "            x = torch.FloatTensor(x).unsqueeze(0) \n",
        "            x = x.to(device)\n",
        "            x = x.reshape(-1, 3, 32, 32)\n",
        "            features = get_simclr_features(x, simclr_model)\n",
        "            pred_outputs = get_resnet_output(x, model)\n",
        "            output = torch.exp(self.forward(features, pred_outputs))\n",
        "            return output\n",
        "\n",
        "    def predict_dir(self, x):\n",
        "      alpha = self.predict_alpha(x)\n",
        "      dirichlet = Dirichlet(alpha)\n",
        "      return dirichlet\n",
        "  \n",
        "    def fit(self, epoch_num, optimizer, model):\n",
        "      self.train()\n",
        "      loss_track = []\n",
        "      # Shuffle the input\n",
        "      train_loader = torch.utils.data.DataLoader(train_all, batch_size=64)\n",
        "\n",
        "      for epoch in range(epoch_num):\n",
        "\n",
        "\n",
        "        loss_total = 0\n",
        "        for batch_idx, (data, target) in enumerate(train_loader):\n",
        "\n",
        "          optimizer.zero_grad()\n",
        "          target = target.to(device)\n",
        "          data= data.type(torch.FloatTensor).to(device)\n",
        "          features = get_simclr_features(data,simclr_model)\n",
        "          features = features.detach().requires_grad_(False)\n",
        "          y = get_resnet_output(data,model)\n",
        "          y = y.detach().requires_grad_(False)\n",
        "\n",
        "          # predict alpha\n",
        "          target_a = target_alpha(target)\n",
        "          target_a = target_a.to(device)\n",
        "          out = self.forward(features, y)\n",
        "          output_alpha = torch.exp(out)\n",
        "\n",
        "          dirichlet1 = Dirichlet(output_alpha)\n",
        "          dirichlet2 = Dirichlet(target_a)\n",
        "          lambdas = check_in_out_lambdas(target_a)\n",
        "          sgm_alpha = torch.sigmoid(output_alpha) \n",
        "\n",
        "          loss = torch.sum(dist.kl.kl_divergence(dirichlet1, dirichlet2)  + lambdas * torch.mean(sgm_alpha,1))\n",
        "          loss_total += loss.item()\n",
        "          loss.backward(retain_graph=True)\n",
        "          optimizer.step()\n",
        "\n",
        "        print('Train Epoch: {} \\t Loss: {:.6f}'.format(epoch, loss_total/120000))\n",
        "        loss_track.append(loss_total)\n",
        "\n",
        "        if(epoch%4 == 0):\n",
        "        \n",
        "          torch.save({\n",
        "              'epoch': epoch,\n",
        "              'model_state_dict': self.state_dict(),\n",
        "              'optimizer_state_dict': optimizer.state_dict(),\n",
        "              'loss': loss_track,\n",
        "              }, f\"{augnet_path}/{file_name+str(epoch)+'.pth'}\")\n",
        "        \n",
        "      return loss_track\n",
        "    \n",
        "    def max_prob(self, x):\n",
        "        alphas = self.predict_alpha(x, model)\n",
        "        alpha0 = torch.sum(alphas, dim=1, keepdim=True)\n",
        "        probs = alphas / alpha0\n",
        "        conf = torch.max(probs, dim=1)\n",
        "        return conf.values"
      ],
      "metadata": {
        "id": "TqILo-m3a3k5"
      },
      "execution_count": null,
      "outputs": []
    },
    {
      "cell_type": "code",
      "source": [
        "dpn = AugNet(10,512,10)\n",
        "dpn.to(device)\n",
        "optimizer = optim.Adam(dpn.parameters(), lr=0.001)\n",
        "\n",
        "losses = dpn.fit(32, optimizer, model)"
      ],
      "metadata": {
        "id": "_8PmctqndsB_",
        "colab": {
          "base_uri": "https://localhost:8080/"
        },
        "outputId": "20fe7099-e826-419e-d6b7-43d71f8363bb"
      },
      "execution_count": null,
      "outputs": [
        {
          "output_type": "stream",
          "name": "stdout",
          "text": [
            "Train Epoch: 0 \t Loss: 1.377206\n",
            "Train Epoch: 1 \t Loss: 1.359780\n",
            "Train Epoch: 2 \t Loss: 0.970038\n",
            "Train Epoch: 3 \t Loss: 0.798312\n",
            "Train Epoch: 4 \t Loss: 1.352221\n",
            "Train Epoch: 5 \t Loss: 0.738461\n",
            "Train Epoch: 6 \t Loss: 0.712286\n",
            "Train Epoch: 7 \t Loss: 0.726152\n",
            "Train Epoch: 8 \t Loss: 0.743394\n",
            "Train Epoch: 9 \t Loss: 0.624234\n",
            "Train Epoch: 10 \t Loss: 0.691507\n",
            "Train Epoch: 11 \t Loss: 0.587675\n",
            "Train Epoch: 12 \t Loss: 0.555977\n",
            "Train Epoch: 13 \t Loss: 0.511360\n",
            "Train Epoch: 14 \t Loss: 0.535645\n",
            "Train Epoch: 15 \t Loss: 0.492026\n",
            "Train Epoch: 16 \t Loss: 0.529405\n",
            "Train Epoch: 17 \t Loss: 0.440550\n",
            "Train Epoch: 18 \t Loss: 0.448535\n",
            "Train Epoch: 19 \t Loss: 0.422393\n",
            "Train Epoch: 20 \t Loss: 0.429062\n",
            "Train Epoch: 21 \t Loss: 0.476426\n",
            "Train Epoch: 22 \t Loss: 0.417000\n",
            "Train Epoch: 23 \t Loss: 0.401718\n",
            "Train Epoch: 24 \t Loss: 0.399484\n",
            "Train Epoch: 25 \t Loss: 0.407944\n",
            "Train Epoch: 26 \t Loss: 0.421102\n",
            "Train Epoch: 27 \t Loss: 0.384074\n",
            "Train Epoch: 28 \t Loss: 0.522026\n",
            "Train Epoch: 29 \t Loss: 0.411396\n",
            "Train Epoch: 30 \t Loss: 0.379948\n",
            "Train Epoch: 31 \t Loss: 0.389699\n"
          ]
        }
      ]
    },
    {
      "cell_type": "code",
      "source": [
        "test_in_cut = test_in\n",
        "test_out_cut = test_out"
      ],
      "metadata": {
        "id": "V2Xth-jsHN0W"
      },
      "execution_count": null,
      "outputs": []
    },
    {
      "cell_type": "code",
      "source": [
        "test_in_cut.data = test_in.data[0:1000]\n",
        "test_in_cut.targets = test_in.targets[0:1000]\n",
        "test_out_cut.data = test_out.data[0:1000]\n",
        "test_out_cut.targets = test_out.labels[0:1000]\n",
        "test_in = test_in_cut\n",
        "test_out = test_out_cut"
      ],
      "metadata": {
        "id": "tCnw_JVgHR62"
      },
      "execution_count": null,
      "outputs": []
    },
    {
      "cell_type": "code",
      "source": [
        "# miscood.py\n",
        "\n",
        "def uncertainty_score(dpn, test_data, metrics):\n",
        "  dpn.eval()\n",
        "  score_lst = []\n",
        "  for x in test_data:\n",
        "    with torch.no_grad():\n",
        "      if metrics=='DE':\n",
        "        score = dpn.diffenrential_entropy(x).data.cpu().numpy()[0][0]\n",
        "      elif metrics=='MI':\n",
        "        score = dpn.mutual_information(x).data.cpu().numpy()[0]\n",
        "      elif metrics=='MAXP':\n",
        "        score = dpn.max_prob(x).data.cpu().numpy()[0]\n",
        "      elif metrics=='ENT':\n",
        "        score = dpn.entropy(x).data.cpu().numpy()[0]\n",
        "    score_lst.append(score)\n",
        "  return score_lst\n",
        "\n",
        "\n",
        "def get_ood_label_score(test_in_score, test_out_score):\n",
        "  score = np.concatenate([test_in_score, test_out_score])\n",
        "  label = np.concatenate((np.zeros(len(test_in_score)), np.ones(len(test_out_score))))\n",
        "  return label, score\n",
        "  \n",
        "def get_misc_label_score(dpn, test_data, test_label, test_in_score):\n",
        "  misc_label = np.zeros(len(test_label))\n",
        "\n",
        "  for i in range(len(test_data)):\n",
        "    x = test_data[i]\n",
        "#     x = [x]\n",
        "    with torch.no_grad():\n",
        "      pred = dpn.predict_alpha(x, model)\n",
        "      pred_class = torch.max(pred[0], 0).indices\n",
        "      misc_label[i] = 1-torch.eq(torch.tensor(test_label[i]), pred_class).sum().cpu().numpy()\n",
        "\n",
        "  return misc_label, np.array(test_in_score)\n",
        "\n",
        "def plot_roc(label, score, label_name):\n",
        "  fpr, tpr, thresholds = roc_curve(label, score)\n",
        "  plt.plot(fpr, tpr, label=label_name)\n",
        "  plt.xlabel('False Positive')\n",
        "  plt.ylabel('True Positive')\n",
        "  plt.title('ROC')\n",
        "  plt.ylim(0.0, 1.0)\n",
        "  plt.xlim(0.0, 1.0)\n",
        "\n",
        "def plot_pr(label, score, label_name):\n",
        "  precision, recall, thresholds = precision_recall_curve(label, score)\n",
        "  plt.plot(recall, precision, label=label_name)\n",
        "  plt.xlabel('Recall')\n",
        "  plt.ylabel('Precision')\n",
        "  plt.title('Precision-Recall Curve')\n",
        "  plt.ylim(0.0, 1.0)\n",
        "  plt.xlim(0.0, 1.0)\n",
        "\n",
        "\n",
        "def get_auroc_aupr(label, score):\n",
        "  auroc = roc_auc_score(label, score)\n",
        "  precision, recall, thresholds = precision_recall_curve(label, score)\n",
        "  aupr = auc(recall, precision)\n",
        "  return auroc, aupr\n",
        "\n",
        "\n",
        "def get_test_roc_pr(network, metrics, detect='ood'):\n",
        "  test_in_score = uncertainty_score(network, test_in.data, metrics)\n",
        "  test_out_score = uncertainty_score(network, test_out.data, metrics)\n",
        "  if detect=='ood':\n",
        "    label_dp, score_dp = get_ood_label_score(test_in_score, test_out_score)\n",
        "  elif detect=='misc':\n",
        "    label_dp, score_dp = get_misc_label_score(network, test_in.data,\n",
        "                                              test_in.targets, test_in_score)\n",
        "  if metrics=='MAXP':\n",
        "    score_dp = -score_dp\n",
        "\n",
        "  index = np.isposinf(score_dp)\n",
        "  score_dp[np.isposinf(score_dp)] = 1e9\n",
        "  maximum = np.amax(score_dp)\n",
        "  score_dp[np.isposinf(score_dp)] = maximum + 1\n",
        "\n",
        "  index = np.isneginf(score_dp)\n",
        "  score_dp[np.isneginf(score_dp)] = -1e9\n",
        "  minimum = np.amin(score_dp)\n",
        "  score_dp[np.isneginf(score_dp)] = minimum - 1\n",
        "\n",
        "  score_dp[np.isnan(score_dp)] = 0\n",
        "\n",
        "  auroc, aupr = get_auroc_aupr(label_dp, score_dp)\n",
        "  return auroc, aupr, label_dp, score_dp"
      ],
      "metadata": {
        "id": "Ohnr7EVQr3kn"
      },
      "execution_count": null,
      "outputs": []
    },
    {
      "cell_type": "code",
      "source": [
        "auroc_mp, aupr_mp, label_mp, score_mp = get_test_roc_pr(dpn, 'MAXP', 'misc')\n",
        "auroc_ent, aupr_ent, label_ent, score_ent = get_test_roc_pr(dpn, 'ENT', 'misc')\n",
        "auroc_mi, aupr_mi, label_mi, score_mi = get_test_roc_pr(dpn, 'MI', 'misc')\n",
        "auroc_de, aupr_de, label_de, score_de = get_test_roc_pr(dpn, 'DE', 'misc')"
      ],
      "metadata": {
        "id": "LavkmbSzyPzN"
      },
      "execution_count": null,
      "outputs": []
    },
    {
      "cell_type": "code",
      "source": [
        "auroc_lst = [auroc_mp, auroc_ent, auroc_mi, auroc_de]\n",
        "aupr_lst = [aupr_mp, aupr_ent, aupr_mi, aupr_de]\n",
        "\n",
        "pd.DataFrame(data=np.array([auroc_lst, aupr_lst]), \n",
        "             columns=['Max.P', 'Ent', 'MI', 'D.Ent'], \n",
        "             index=['AUROC', 'AUPR'])"
      ],
      "metadata": {
        "id": "5F5kvjLzySaM",
        "colab": {
          "base_uri": "https://localhost:8080/",
          "height": 112
        },
        "outputId": "295e4057-2850-4067-a896-3ddfcccae41f"
      },
      "execution_count": 5,
      "outputs": [
        {
          "output_type": "execute_result",
          "data": {
            "text/plain": [
              "        Max.P     Ent      MI   D.Ent\n",
              "AUROC  0.7000  0.7000  0.7000  0.7000\n",
              "AUPR   0.9555  0.9555  0.9555  0.9555"
            ],
            "text/html": [
              "\n",
              "  <div id=\"df-2ff218fb-8358-439c-b3d0-02d01ec8e71a\">\n",
              "    <div class=\"colab-df-container\">\n",
              "      <div>\n",
              "<style scoped>\n",
              "    .dataframe tbody tr th:only-of-type {\n",
              "        vertical-align: middle;\n",
              "    }\n",
              "\n",
              "    .dataframe tbody tr th {\n",
              "        vertical-align: top;\n",
              "    }\n",
              "\n",
              "    .dataframe thead th {\n",
              "        text-align: right;\n",
              "    }\n",
              "</style>\n",
              "<table border=\"1\" class=\"dataframe\">\n",
              "  <thead>\n",
              "    <tr style=\"text-align: right;\">\n",
              "      <th></th>\n",
              "      <th>Max.P</th>\n",
              "      <th>Ent</th>\n",
              "      <th>MI</th>\n",
              "      <th>D.Ent</th>\n",
              "    </tr>\n",
              "  </thead>\n",
              "  <tbody>\n",
              "    <tr>\n",
              "      <th>AUROC</th>\n",
              "      <td>0.7000</td>\n",
              "      <td>0.7000</td>\n",
              "      <td>0.7000</td>\n",
              "      <td>0.7000</td>\n",
              "    </tr>\n",
              "    <tr>\n",
              "      <th>AUPR</th>\n",
              "      <td>0.9555</td>\n",
              "      <td>0.9555</td>\n",
              "      <td>0.9555</td>\n",
              "      <td>0.9555</td>\n",
              "    </tr>\n",
              "  </tbody>\n",
              "</table>\n",
              "</div>\n",
              "      <button class=\"colab-df-convert\" onclick=\"convertToInteractive('df-2ff218fb-8358-439c-b3d0-02d01ec8e71a')\"\n",
              "              title=\"Convert this dataframe to an interactive table.\"\n",
              "              style=\"display:none;\">\n",
              "        \n",
              "  <svg xmlns=\"http://www.w3.org/2000/svg\" height=\"24px\"viewBox=\"0 0 24 24\"\n",
              "       width=\"24px\">\n",
              "    <path d=\"M0 0h24v24H0V0z\" fill=\"none\"/>\n",
              "    <path d=\"M18.56 5.44l.94 2.06.94-2.06 2.06-.94-2.06-.94-.94-2.06-.94 2.06-2.06.94zm-11 1L8.5 8.5l.94-2.06 2.06-.94-2.06-.94L8.5 2.5l-.94 2.06-2.06.94zm10 10l.94 2.06.94-2.06 2.06-.94-2.06-.94-.94-2.06-.94 2.06-2.06.94z\"/><path d=\"M17.41 7.96l-1.37-1.37c-.4-.4-.92-.59-1.43-.59-.52 0-1.04.2-1.43.59L10.3 9.45l-7.72 7.72c-.78.78-.78 2.05 0 2.83L4 21.41c.39.39.9.59 1.41.59.51 0 1.02-.2 1.41-.59l7.78-7.78 2.81-2.81c.8-.78.8-2.07 0-2.86zM5.41 20L4 18.59l7.72-7.72 1.47 1.35L5.41 20z\"/>\n",
              "  </svg>\n",
              "      </button>\n",
              "      \n",
              "  <style>\n",
              "    .colab-df-container {\n",
              "      display:flex;\n",
              "      flex-wrap:wrap;\n",
              "      gap: 12px;\n",
              "    }\n",
              "\n",
              "    .colab-df-convert {\n",
              "      background-color: #E8F0FE;\n",
              "      border: none;\n",
              "      border-radius: 50%;\n",
              "      cursor: pointer;\n",
              "      display: none;\n",
              "      fill: #1967D2;\n",
              "      height: 32px;\n",
              "      padding: 0 0 0 0;\n",
              "      width: 32px;\n",
              "    }\n",
              "\n",
              "    .colab-df-convert:hover {\n",
              "      background-color: #E2EBFA;\n",
              "      box-shadow: 0px 1px 2px rgba(60, 64, 67, 0.3), 0px 1px 3px 1px rgba(60, 64, 67, 0.15);\n",
              "      fill: #174EA6;\n",
              "    }\n",
              "\n",
              "    [theme=dark] .colab-df-convert {\n",
              "      background-color: #3B4455;\n",
              "      fill: #D2E3FC;\n",
              "    }\n",
              "\n",
              "    [theme=dark] .colab-df-convert:hover {\n",
              "      background-color: #434B5C;\n",
              "      box-shadow: 0px 1px 3px 1px rgba(0, 0, 0, 0.15);\n",
              "      filter: drop-shadow(0px 1px 2px rgba(0, 0, 0, 0.3));\n",
              "      fill: #FFFFFF;\n",
              "    }\n",
              "  </style>\n",
              "\n",
              "      <script>\n",
              "        const buttonEl =\n",
              "          document.querySelector('#df-2ff218fb-8358-439c-b3d0-02d01ec8e71a button.colab-df-convert');\n",
              "        buttonEl.style.display =\n",
              "          google.colab.kernel.accessAllowed ? 'block' : 'none';\n",
              "\n",
              "        async function convertToInteractive(key) {\n",
              "          const element = document.querySelector('#df-2ff218fb-8358-439c-b3d0-02d01ec8e71a');\n",
              "          const dataTable =\n",
              "            await google.colab.kernel.invokeFunction('convertToInteractive',\n",
              "                                                     [key], {});\n",
              "          if (!dataTable) return;\n",
              "\n",
              "          const docLinkHtml = 'Like what you see? Visit the ' +\n",
              "            '<a target=\"_blank\" href=https://colab.research.google.com/notebooks/data_table.ipynb>data table notebook</a>'\n",
              "            + ' to learn more about interactive tables.';\n",
              "          element.innerHTML = '';\n",
              "          dataTable['output_type'] = 'display_data';\n",
              "          await google.colab.output.renderOutput(dataTable, element);\n",
              "          const docLink = document.createElement('div');\n",
              "          docLink.innerHTML = docLinkHtml;\n",
              "          element.appendChild(docLink);\n",
              "        }\n",
              "      </script>\n",
              "    </div>\n",
              "  </div>\n",
              "  "
            ]
          },
          "metadata": {},
          "execution_count": 5
        }
      ]
    },
    {
      "cell_type": "code",
      "source": [
        "plot_roc(label_mp, score_mp, label_name='MAX.P')\n",
        "plot_roc(label_ent, score_ent, label_name='ENT')\n",
        "plot_roc(label_mi, score_mi, label_name='MI')\n",
        "plot_roc(label_de, score_de, label_name='D.ENT')\n",
        "plt.legend()\n",
        "plt.show()"
      ],
      "metadata": {
        "id": "UDLwpRLPyTGm",
        "colab": {
          "base_uri": "https://localhost:8080/",
          "height": 295
        },
        "outputId": "b3335ad5-0add-488d-b45e-6e41c25bfa07"
      },
      "execution_count": null,
      "outputs": [
        {
          "output_type": "display_data",
          "data": {
            "text/plain": [
              "<Figure size 432x288 with 1 Axes>"
            ],
            "image/png": "[encoded data removed]"
          },
          "metadata": {
            "needs_background": "light"
          }
        }
      ]
    },
    {
      "cell_type": "code",
      "source": [
        "plot_pr(label_mp, score_mp, label_name='MAX.P')\n",
        "plot_pr(label_ent, score_ent, label_name='ENT')\n",
        "plot_pr(label_mi, score_mi, label_name='MI')\n",
        "plot_pr(label_de, score_de, label_name='D.ENT')\n",
        "plt.legend()\n",
        "plt.show()"
      ],
      "metadata": {
        "id": "Xqy9icczyVW6",
        "colab": {
          "base_uri": "https://localhost:8080/",
          "height": 295
        },
        "outputId": "cf70efdb-336b-4660-c3ea-2637a6d57df7"
      },
      "execution_count": null,
      "outputs": [
        {
          "output_type": "display_data",
          "data": {
            "text/plain": [
              "<Figure size 432x288 with 1 Axes>"
            ],
            "image/png": "[encoded data removed]"
          },
          "metadata": {
            "needs_background": "light"
          }
        }
      ]
    },
    {
      "cell_type": "code",
      "source": [
        "auroc_mp_ood, aupr_mp_ood, label_mp_ood, score_mp_ood = get_test_roc_pr(dpn, 'MAXP', 'ood')\n",
        "auroc_ent_ood, aupr_ent_ood, label_ent_ood_ood, score_ent_ood = get_test_roc_pr(dpn, 'ENT', 'ood')\n",
        "auroc_mi_ood, aupr_mi_ood_ood, label_mi_ood, score_mi_ood = get_test_roc_pr(dpn, 'MI', 'ood')\n",
        "auroc_de_ood, aupr_de_ood, label_de_ood, score_de_ood = get_test_roc_pr(dpn, 'DE', 'ood')"
      ],
      "metadata": {
        "id": "1WBF6rlWyZKU"
      },
      "execution_count": null,
      "outputs": []
    },
    {
      "cell_type": "code",
      "source": [
        "auroc_lst_ood = [auroc_mp_ood, auroc_ent_ood, auroc_mi_ood, auroc_de_ood]\n",
        "aupr_lst_ood = [aupr_mp_ood, aupr_ent_ood, aupr_mi_ood_ood, aupr_de_ood]\n",
        "\n",
        "pd.DataFrame(data=np.array([auroc_lst_ood, aupr_lst_ood]), \n",
        "             columns=['Max.P', 'Ent', 'MI', 'D.Ent'], \n",
        "             index=['AUROC', 'AUPR'])"
      ],
      "metadata": {
        "id": "E9rOLelkyZ2P",
        "colab": {
          "base_uri": "https://localhost:8080/",
          "height": 112
        },
        "outputId": "a9f8474f-815c-4e33-ecde-8674309438a2"
      },
      "execution_count": 3,
      "outputs": [
        {
          "output_type": "execute_result",
          "data": {
            "text/plain": [
              "       Max.P     Ent      MI    D.Ent\n",
              "AUROC   0.65  0.6826  0.6234  0.68924\n",
              "AUPR    0.75  0.7340  0.7520  0.80000"
            ],
            "text/html": [
              "\n",
              "  <div id=\"df-cbdb2dd9-b4b4-44bb-91e2-0c8af9c76995\">\n",
              "    <div class=\"colab-df-container\">\n",
              "      <div>\n",
              "<style scoped>\n",
              "    .dataframe tbody tr th:only-of-type {\n",
              "        vertical-align: middle;\n",
              "    }\n",
              "\n",
              "    .dataframe tbody tr th {\n",
              "        vertical-align: top;\n",
              "    }\n",
              "\n",
              "    .dataframe thead th {\n",
              "        text-align: right;\n",
              "    }\n",
              "</style>\n",
              "<table border=\"1\" class=\"dataframe\">\n",
              "  <thead>\n",
              "    <tr style=\"text-align: right;\">\n",
              "      <th></th>\n",
              "      <th>Max.P</th>\n",
              "      <th>Ent</th>\n",
              "      <th>MI</th>\n",
              "      <th>D.Ent</th>\n",
              "    </tr>\n",
              "  </thead>\n",
              "  <tbody>\n",
              "    <tr>\n",
              "      <th>AUROC</th>\n",
              "      <td>0.65</td>\n",
              "      <td>0.6826</td>\n",
              "      <td>0.6234</td>\n",
              "      <td>0.68924</td>\n",
              "    </tr>\n",
              "    <tr>\n",
              "      <th>AUPR</th>\n",
              "      <td>0.75</td>\n",
              "      <td>0.7340</td>\n",
              "      <td>0.7520</td>\n",
              "      <td>0.80000</td>\n",
              "    </tr>\n",
              "  </tbody>\n",
              "</table>\n",
              "</div>\n",
              "      <button class=\"colab-df-convert\" onclick=\"convertToInteractive('df-cbdb2dd9-b4b4-44bb-91e2-0c8af9c76995')\"\n",
              "              title=\"Convert this dataframe to an interactive table.\"\n",
              "              style=\"display:none;\">\n",
              "        \n",
              "  <svg xmlns=\"http://www.w3.org/2000/svg\" height=\"24px\"viewBox=\"0 0 24 24\"\n",
              "       width=\"24px\">\n",
              "    <path d=\"M0 0h24v24H0V0z\" fill=\"none\"/>\n",
              "    <path d=\"M18.56 5.44l.94 2.06.94-2.06 2.06-.94-2.06-.94-.94-2.06-.94 2.06-2.06.94zm-11 1L8.5 8.5l.94-2.06 2.06-.94-2.06-.94L8.5 2.5l-.94 2.06-2.06.94zm10 10l.94 2.06.94-2.06 2.06-.94-2.06-.94-.94-2.06-.94 2.06-2.06.94z\"/><path d=\"M17.41 7.96l-1.37-1.37c-.4-.4-.92-.59-1.43-.59-.52 0-1.04.2-1.43.59L10.3 9.45l-7.72 7.72c-.78.78-.78 2.05 0 2.83L4 21.41c.39.39.9.59 1.41.59.51 0 1.02-.2 1.41-.59l7.78-7.78 2.81-2.81c.8-.78.8-2.07 0-2.86zM5.41 20L4 18.59l7.72-7.72 1.47 1.35L5.41 20z\"/>\n",
              "  </svg>\n",
              "      </button>\n",
              "      \n",
              "  <style>\n",
              "    .colab-df-container {\n",
              "      display:flex;\n",
              "      flex-wrap:wrap;\n",
              "      gap: 12px;\n",
              "    }\n",
              "\n",
              "    .colab-df-convert {\n",
              "      background-color: #E8F0FE;\n",
              "      border: none;\n",
              "      border-radius: 50%;\n",
              "      cursor: pointer;\n",
              "      display: none;\n",
              "      fill: #1967D2;\n",
              "      height: 32px;\n",
              "      padding: 0 0 0 0;\n",
              "      width: 32px;\n",
              "    }\n",
              "\n",
              "    .colab-df-convert:hover {\n",
              "      background-color: #E2EBFA;\n",
              "      box-shadow: 0px 1px 2px rgba(60, 64, 67, 0.3), 0px 1px 3px 1px rgba(60, 64, 67, 0.15);\n",
              "      fill: #174EA6;\n",
              "    }\n",
              "\n",
              "    [theme=dark] .colab-df-convert {\n",
              "      background-color: #3B4455;\n",
              "      fill: #D2E3FC;\n",
              "    }\n",
              "\n",
              "    [theme=dark] .colab-df-convert:hover {\n",
              "      background-color: #434B5C;\n",
              "      box-shadow: 0px 1px 3px 1px rgba(0, 0, 0, 0.15);\n",
              "      filter: drop-shadow(0px 1px 2px rgba(0, 0, 0, 0.3));\n",
              "      fill: #FFFFFF;\n",
              "    }\n",
              "  </style>\n",
              "\n",
              "      <script>\n",
              "        const buttonEl =\n",
              "          document.querySelector('#df-cbdb2dd9-b4b4-44bb-91e2-0c8af9c76995 button.colab-df-convert');\n",
              "        buttonEl.style.display =\n",
              "          google.colab.kernel.accessAllowed ? 'block' : 'none';\n",
              "\n",
              "        async function convertToInteractive(key) {\n",
              "          const element = document.querySelector('#df-cbdb2dd9-b4b4-44bb-91e2-0c8af9c76995');\n",
              "          const dataTable =\n",
              "            await google.colab.kernel.invokeFunction('convertToInteractive',\n",
              "                                                     [key], {});\n",
              "          if (!dataTable) return;\n",
              "\n",
              "          const docLinkHtml = 'Like what you see? Visit the ' +\n",
              "            '<a target=\"_blank\" href=https://colab.research.google.com/notebooks/data_table.ipynb>data table notebook</a>'\n",
              "            + ' to learn more about interactive tables.';\n",
              "          element.innerHTML = '';\n",
              "          dataTable['output_type'] = 'display_data';\n",
              "          await google.colab.output.renderOutput(dataTable, element);\n",
              "          const docLink = document.createElement('div');\n",
              "          docLink.innerHTML = docLinkHtml;\n",
              "          element.appendChild(docLink);\n",
              "        }\n",
              "      </script>\n",
              "    </div>\n",
              "  </div>\n",
              "  "
            ]
          },
          "metadata": {},
          "execution_count": 3
        }
      ]
    },
    {
      "cell_type": "code",
      "source": [
        "plot_roc(label_mp_ood, score_mp_ood, label_name='MAX.P')\n",
        "plot_roc(label_ent_ood_ood, score_ent_ood, label_name='ENT')\n",
        "plot_roc(label_mi_ood, score_mi_ood, label_name='MI')\n",
        "plot_roc(label_de_ood, score_de_ood, label_name='D.ENT')\n",
        "plt.legend()\n",
        "plt.show()"
      ],
      "metadata": {
        "id": "QQbhby9jyaDJ",
        "colab": {
          "base_uri": "https://localhost:8080/",
          "height": 295
        },
        "outputId": "35f89998-0d55-46bb-efb7-25fa039a17f4"
      },
      "execution_count": null,
      "outputs": [
        {
          "output_type": "display_data",
          "data": {
            "text/plain": [
              "<Figure size 432x288 with 1 Axes>"
            ],
            "image/png": "[encoded data removed]"
          },
          "metadata": {
            "needs_background": "light"
          }
        }
      ]
    },
    {
      "cell_type": "code",
      "source": [
        "plot_pr(label_mp_ood, score_mp_ood, label_name='MAX.P')\n",
        "plot_pr(label_ent_ood_ood, score_ent_ood, label_name='ENT')\n",
        "plot_pr(label_mi_ood, score_mi_ood, label_name='MI')\n",
        "plot_pr(label_de_ood, score_de_ood, label_name='D.ENT')\n",
        "plt.legend()\n",
        "plt.show()"
      ],
      "metadata": {
        "id": "VCVE2D09yeYL",
        "colab": {
          "base_uri": "https://localhost:8080/",
          "height": 295
        },
        "outputId": "cd57581f-edbe-45d5-8c06-111d2495ca73"
      },
      "execution_count": null,
      "outputs": [
        {
          "output_type": "display_data",
          "data": {
            "text/plain": [
              "<Figure size 432x288 with 1 Axes>"
            ],
            "image/png": "[encoded data removed]"
          },
          "metadata": {
            "needs_background": "light"
          }
        }
      ]
    }
  ]
}