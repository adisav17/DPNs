{
  "cells": [
    {
      "cell_type": "markdown",
      "metadata": {
        "id": "view-in-github",
        "colab_type": "text"
      },
      "source": [
        "<a href=\"https://colab.research.google.com/github/sakshamgarg/Augmenting-Dirichlet-Network/blob/main/RES_CV_dirichlet_3.ipynb\" target=\"_parent\"><img src=\"https://colab.research.google.com/assets/colab-badge.svg\" alt=\"Open In Colab\"/></a>"
      ]
    },
    {
      "cell_type": "code",
      "execution_count": 1,
      "metadata": {
        "id": "TouVm6f1TKxR"
      },
      "outputs": [],
      "source": [
        "import torch\n",
        "import torch.nn as nn\n",
        "import torch.nn.functional as F\n",
        "import torch.optim as optim\n",
        "import seaborn as sns\n",
        "import torch.distributions as dist\n",
        "from mpl_toolkits import mplot3d\n",
        "from torch.distributions.dirichlet import Dirichlet\n",
        "\n",
        "from scipy.stats import multivariate_normal\n",
        "from scipy.stats import norm\n",
        "\n",
        "import torchvision\n",
        "import numpy as np\n",
        "import matplotlib.pyplot as plt\n",
        "from matplotlib import cm\n",
        "import sys\n",
        "import pandas as pd\n",
        "\n",
        "import torch\n",
        "import torch.nn as nn\n",
        "import torch.nn.functional as F\n",
        "import torch.optim as optim\n",
        "import torchvision.transforms as transforms\n",
        "\n",
        "from scipy.stats import multivariate_normal\n",
        "from scipy.stats import norm\n",
        "\n",
        "import matplotlib.pyplot as plt\n",
        "from matplotlib import cm\n",
        "import sys\n",
        "\n",
        "import torch.distributions as dist\n",
        "from torch.distributions.dirichlet import Dirichlet\n",
        "import torch\n",
        "import torch.nn as nn\n",
        "import torch.nn.functional as F\n",
        "import torch.optim as optim\n",
        "\n",
        "import torch.distributions as dist\n",
        "from torch.distributions.dirichlet import Dirichlet\n",
        "\n",
        "from sklearn.metrics import roc_auc_score, roc_curve\n",
        "from sklearn.metrics import precision_recall_curve, auc\n",
        "\n",
        "device = torch.device('cuda' if torch.cuda.is_available() else 'cpu')\n",
        "     "
      ]
    },
    {
      "cell_type": "code",
      "execution_count": 2,
      "metadata": {
        "id": "IFojIpBuTldv"
      },
      "outputs": [],
      "source": [
        "cifar_mean = (0.4914, 0.4822, 0.4465)\n",
        "cifar_std = (0.2470, 0.2435, 0.2616)                                             \n",
        "cifar_transform =  transforms.Compose(\n",
        "      [transforms.ToTensor(),\n",
        "     transforms.Normalize(cifar_mean, cifar_std)])"
      ]
    },
    {
      "cell_type": "code",
      "execution_count": 3,
      "metadata": {
        "colab": {
          "base_uri": "https://localhost:8080/",
          "height": 203,
          "referenced_widgets": [
            "fb9139cfcd2d4db1930dc1529217f682",
            "26b3e171633c438ca7420fa0ed2fc42a",
            "34c725ba64b04f83b81e48e3f6198db4",
            "7d314f9c88b24b8cb3ed8874aca1b4a3",
            "3f5ddc32f0a9464ab44cf7efa371c734",
            "5a1b277c95d4451e970c482fe8ae22c7",
            "49e01a8ee9014a60889e06df00b6b0ac",
            "81759fd7172a4b68b8441d00567683c5",
            "eaba61422dc04e5487d91fd5d2c7b739",
            "60ee1bb9f298434996eaaf5ff7f7f6b6",
            "81e0aeb314084f3183dc67c5030efe7c",
            "61c1d743f3df4db896c873786bad2866",
            "cb6a668807e34469af563209a7bcd670",
            "395bbfd5ef7c404396c48c8358cd8a48",
            "714b443d19a54435a15e372bee8a8857",
            "90cd3e931bfc4ec8ba9f638f95b177aa",
            "d988bc35bc6a4be692086197cf26a021",
            "d511faf8b54e405fbe7bd8eea0bace50",
            "9c1c4b1f5953476daa429018a8e7c476",
            "26a036f35b1549d5a27db70ebbfde0dc",
            "3563bc8d0f8d4852aec048eeb1558dc4",
            "50d636a29da14230b379f2db04a0d0d8",
            "9b3ea9d03e43419c91af26a002916a87",
            "aeb44b2b24cd4f6aa86b30660f955e38",
            "17bf01228c4747beb8365b1631e232a7",
            "fa1e30dde09e487aa1b130e6415088ea",
            "146a5a70653447cf86503f7b1db74485",
            "6bc15fda61c547c6a5dc3e2c9837223a",
            "915e060078a843e0aca19f92bf973054",
            "cb8829b6b2e84902834aeaace3e0c05c",
            "a4fd913cf8004663a88ec8d23eb79d39",
            "1c130abedd8749b7ae76eb4b202d16c2",
            "275efd15100e4932b723fda2bef445cf"
          ]
        },
        "id": "qmHF1WeETrVK",
        "outputId": "d84a5d2e-3fbf-49e7-bb89-482f911b3b5c"
      },
      "outputs": [
        {
          "output_type": "stream",
          "name": "stdout",
          "text": [
            "Downloading https://www.cs.toronto.edu/~kriz/cifar-10-python.tar.gz to ./files/cifar-10-python.tar.gz\n"
          ]
        },
        {
          "output_type": "display_data",
          "data": {
            "text/plain": [
              "  0%|          | 0/170498071 [00:00<?, ?it/s]"
            ],
            "application/vnd.jupyter.widget-view+json": {
              "version_major": 2,
              "version_minor": 0,
              "model_id": "fb9139cfcd2d4db1930dc1529217f682"
            }
          },
          "metadata": {}
        },
        {
          "output_type": "stream",
          "name": "stdout",
          "text": [
            "Extracting ./files/cifar-10-python.tar.gz to ./files/\n",
            "Files already downloaded and verified\n",
            "Downloading http://ufldl.stanford.edu/housenumbers/train_32x32.mat to ./data/train_32x32.mat\n"
          ]
        },
        {
          "output_type": "display_data",
          "data": {
            "text/plain": [
              "  0%|          | 0/182040794 [00:00<?, ?it/s]"
            ],
            "application/vnd.jupyter.widget-view+json": {
              "version_major": 2,
              "version_minor": 0,
              "model_id": "61c1d743f3df4db896c873786bad2866"
            }
          },
          "metadata": {}
        },
        {
          "output_type": "stream",
          "name": "stdout",
          "text": [
            "Downloading http://ufldl.stanford.edu/housenumbers/test_32x32.mat to ./data/test_32x32.mat\n"
          ]
        },
        {
          "output_type": "display_data",
          "data": {
            "text/plain": [
              "  0%|          | 0/64275384 [00:00<?, ?it/s]"
            ],
            "application/vnd.jupyter.widget-view+json": {
              "version_major": 2,
              "version_minor": 0,
              "model_id": "9b3ea9d03e43419c91af26a002916a87"
            }
          },
          "metadata": {}
        }
      ],
      "source": [
        "train_in = torchvision.datasets.CIFAR10('./files/', train=True, download=True,\n",
        "                                        transform=cifar_transform)\n",
        "test_in = torchvision.datasets.CIFAR10('./files/', train=False, download=True,\n",
        "                                        transform=cifar_transform)\n",
        "train_out = torchvision.datasets.SVHN('./data', split ='train', download=True,\n",
        "                                        transform=cifar_transform)\n",
        "test_out = torchvision.datasets.SVHN('./data', split ='test', download=True,\n",
        "                                        transform=cifar_transform)"
      ]
    },
    {
      "cell_type": "code",
      "execution_count": 4,
      "metadata": {
        "id": "Ry_6bN88Tvc9"
      },
      "outputs": [],
      "source": [
        "train_out.data = np.vstack(train_out.data).reshape(-1, 32, 32, 3)"
      ]
    },
    {
      "cell_type": "code",
      "execution_count": 5,
      "metadata": {
        "id": "fR_B6S6HT1Yr"
      },
      "outputs": [],
      "source": [
        "train_in.data = torch.from_numpy(train_in.data)\n",
        "train_out.data = torch.from_numpy(train_out.data)"
      ]
    },
    {
      "cell_type": "code",
      "execution_count": 6,
      "metadata": {
        "id": "zFWYYA0oT4XW"
      },
      "outputs": [],
      "source": [
        "train_out.targets = torch.tensor(np.ones(len(train_out.labels))*10, dtype=torch.long)\n",
        "test_out.targets = torch.tensor(np.ones(len(test_out.labels))*10, dtype=torch.long)\n",
        "\n",
        "train_all = train_in\n",
        "train_all.data = torch.cat((train_in.data, train_out.data))\n",
        "train_all.targets = torch.cat((torch.IntTensor(np.array(train_in.targets)), torch.IntTensor(np.array(train_out.targets))))\n",
        "train_all.data = train_all.data.cpu().detach().numpy()\n",
        "train_all.targets = train_all.targets.data.cpu().detach().numpy()"
      ]
    },
    {
      "cell_type": "code",
      "execution_count": 7,
      "metadata": {
        "id": "zu0G5E1IT81_"
      },
      "outputs": [],
      "source": [
        "train_loader = torch.utils.data.DataLoader(train_all, batch_size=64)"
      ]
    },
    {
      "cell_type": "code",
      "execution_count": 8,
      "metadata": {
        "colab": {
          "base_uri": "https://localhost:8080/"
        },
        "id": "OpuFL-dLT_-D",
        "outputId": "d8a01533-af03-4e19-dd6f-1970415c4dd6"
      },
      "outputs": [
        {
          "output_type": "stream",
          "name": "stdout",
          "text": [
            "Mounted at /content/drive\n"
          ]
        }
      ],
      "source": [
        "from google.colab import drive\n",
        "drive.mount('/content/drive')"
      ]
    },
    {
      "cell_type": "code",
      "execution_count": 9,
      "metadata": {
        "colab": {
          "base_uri": "https://localhost:8080/"
        },
        "id": "bdMczcZwU6ra",
        "outputId": "d2aa4354-d8ea-4ce4-acff-5effa921a6c1"
      },
      "outputs": [
        {
          "output_type": "stream",
          "name": "stdout",
          "text": [
            "/content/drive/My Drive\n"
          ]
        }
      ],
      "source": [
        "%cd /content/drive/My Drive"
      ]
    },
    {
      "cell_type": "code",
      "execution_count": 10,
      "metadata": {
        "id": "WOd5C-AqU-Kp"
      },
      "outputs": [],
      "source": [
        "! python resnet.py"
      ]
    },
    {
      "cell_type": "code",
      "execution_count": 11,
      "metadata": {
        "id": "_XP7SJQtVB_D"
      },
      "outputs": [],
      "source": [
        "from resnet import *"
      ]
    },
    {
      "cell_type": "code",
      "execution_count": 12,
      "metadata": {
        "id": "m4qPWfcWVFsv"
      },
      "outputs": [],
      "source": [
        "model = resnet18()"
      ]
    },
    {
      "cell_type": "code",
      "execution_count": 13,
      "metadata": {
        "colab": {
          "base_uri": "https://localhost:8080/"
        },
        "id": "iDWuVc2yVJQH",
        "outputId": "f62bc2bd-2e7b-4845-fb57-265e7980003b"
      },
      "outputs": [
        {
          "output_type": "execute_result",
          "data": {
            "text/plain": [
              "<All keys matched successfully>"
            ]
          },
          "metadata": {},
          "execution_count": 13
        }
      ],
      "source": [
        "model.load_state_dict(torch.load('resnet18.pt'))"
      ]
    },
    {
      "cell_type": "code",
      "execution_count": 14,
      "metadata": {
        "id": "aZz-haFIVN8J"
      },
      "outputs": [],
      "source": [
        "def get_resnet_features(data, model):\n",
        "  \n",
        "      x = model.conv1(data)\n",
        "      x = model.bn1(x)\n",
        "      x = model.relu(x)\n",
        "      x = model.maxpool(x)\n",
        "\n",
        "      x = model.layer1(x)\n",
        "      x = model.layer2(x)\n",
        "      x = model.layer3(x)\n",
        "      x = model.layer4(x)\n",
        "\n",
        "      x = model.avgpool(x)\n",
        "      x = x.reshape(x.size(0), -1)\n",
        "\n",
        "      return x"
      ]
    },
    {
      "cell_type": "code",
      "execution_count": 15,
      "metadata": {
        "id": "njva0ZFfVcFE"
      },
      "outputs": [],
      "source": [
        "def get_resnet_output(data,model):\n",
        "\n",
        "  y = model.forward(data)\n",
        "\n",
        "  y = torch.nn.functional.softmax(4*y, dim = 1)\n",
        "\n",
        "  return y"
      ]
    },
    {
      "cell_type": "code",
      "execution_count": 16,
      "metadata": {
        "id": "OXZPaW3QgYEu"
      },
      "outputs": [],
      "source": [
        "model = model.to(device)\n",
        "model = model.to(torch.float64)\n",
        "\n",
        "model = model.type(torch.FloatTensor).to(device)"
      ]
    },
    {
      "cell_type": "code",
      "execution_count": 17,
      "metadata": {
        "colab": {
          "base_uri": "https://localhost:8080/",
          "height": 85,
          "referenced_widgets": [
            "62a78b982d474a03950bc7c2ed0d05bd",
            "4b179e13e0c145bb9a1ce7df910ef826",
            "5c2c440446d84a85807d8f5ac992f63b",
            "acb6546c97e44755a79ae85797a5147b",
            "341cfdc3a7c9486d8ccc0257d0d44a6b",
            "a337387e214d4cdab274527970a4f059",
            "f909845cda6e41eda78f25e5a814eff8",
            "3e001aa2134442959926fec532e64591",
            "eaeb1159ad0540d0ab539f247ad7692c",
            "09f433cf99c245059470a1d10874c326",
            "3665175b15cf469fb762a1cfb6d70768"
          ]
        },
        "id": "IKk7D2v5mjaf",
        "outputId": "4ba71338-a60f-4d22-c364-6de5908b428d"
      },
      "outputs": [
        {
          "output_type": "stream",
          "name": "stdout",
          "text": [
            "Downloading https://www.cs.toronto.edu/~kriz/cifar-10-python.tar.gz to /files/cifar-10-python.tar.gz\n"
          ]
        },
        {
          "output_type": "display_data",
          "data": {
            "text/plain": [
              "  0%|          | 0/170498071 [00:00<?, ?it/s]"
            ],
            "application/vnd.jupyter.widget-view+json": {
              "version_major": 2,
              "version_minor": 0,
              "model_id": "62a78b982d474a03950bc7c2ed0d05bd"
            }
          },
          "metadata": {}
        },
        {
          "output_type": "stream",
          "name": "stdout",
          "text": [
            "Extracting /files/cifar-10-python.tar.gz to /files/\n"
          ]
        }
      ],
      "source": [
        "\n",
        "\n",
        "testdata = torchvision.datasets.CIFAR10('/files/', train=False, download=True,\n",
        "                                        transform=cifar_transform)\n",
        "testloader = torch.utils.data.DataLoader(testdata, batch_size=32)\n"
      ]
    },
    {
      "cell_type": "code",
      "execution_count": 18,
      "metadata": {
        "colab": {
          "base_uri": "https://localhost:8080/"
        },
        "id": "OpXAQDFuifJP",
        "outputId": "c37d4e14-5421-4592-d650-411f3a2833c6"
      },
      "outputs": [
        {
          "output_type": "stream",
          "name": "stdout",
          "text": [
            "tensor(0.9307, device='cuda:0')\n"
          ]
        }
      ],
      "source": [
        "# RUN EVAL\n",
        "# my_model = resnet18()\n",
        "# my_model.load_state_dict(torch.load('resnet18.pt'))\n",
        "# model = model.cuda()\n",
        "model.eval()\n",
        "correct = 0\n",
        "total = 0\n",
        "for data in testloader:\n",
        "    inputs, labels = data\n",
        "    inputs, labels = inputs.cuda(), labels.cuda()\n",
        "    outputs = model(torch.autograd.Variable(inputs))\n",
        "    _, predicted = torch.max(outputs.data, 1)\n",
        "    total += labels.size(0)\n",
        "    correct += (predicted == labels).sum()\n",
        "\n",
        "accuracy = correct / float(total)\n",
        "print(accuracy)"
      ]
    },
    {
      "cell_type": "code",
      "execution_count": 19,
      "metadata": {
        "colab": {
          "base_uri": "https://localhost:8080/"
        },
        "id": "4Z--nrTvVgvP",
        "outputId": "759ec9ea-e64d-4889-9d26-a1e9e20e536c"
      },
      "outputs": [
        {
          "output_type": "stream",
          "name": "stdout",
          "text": [
            "torch.Size([32, 32, 3])\n",
            "torch.Size([1, 3, 32, 32])\n"
          ]
        },
        {
          "output_type": "execute_result",
          "data": {
            "text/plain": [
              "tensor([[2.7127e-08, 3.3329e-26, 6.5952e-23, 1.0000e+00, 3.5425e-24, 1.0230e-19,\n",
              "         4.9755e-27, 1.6253e-26, 3.9311e-26, 7.1904e-26]], device='cuda:0',\n",
              "       grad_fn=<SoftmaxBackward0>)"
            ]
          },
          "metadata": {},
          "execution_count": 19
        }
      ],
      "source": [
        "\n",
        "x = torch.tensor(test_in.data[101])\n",
        "x = x.to(device) \n",
        "print(x.shape)\n",
        "x = x.permute(2,1,0)\n",
        "x= x.type(torch.FloatTensor).to(device)\n",
        "x =x.unsqueeze(0)\n",
        "print(x.shape)\n",
        "y = get_resnet_output(x,model)\n",
        "y"
      ]
    },
    {
      "cell_type": "code",
      "execution_count": 20,
      "metadata": {
        "colab": {
          "base_uri": "https://localhost:8080/"
        },
        "id": "vMW2_AEbWX0x",
        "outputId": "da9500df-65f4-46e3-bd31-60f22ed08695"
      },
      "outputs": [
        {
          "output_type": "stream",
          "name": "stdout",
          "text": [
            "torch.Size([32, 32, 3])\n",
            "torch.Size([1, 3, 32, 32])\n"
          ]
        }
      ],
      "source": [
        "\n",
        "x = torch.tensor(test_in.data[101])\n",
        "x = x.to(device) \n",
        "print(x.shape)\n",
        "x = x.permute(2,1,0)\n",
        "x= x.type(torch.FloatTensor).to(device)\n",
        "x =x.unsqueeze(0)\n",
        "print(x.shape)\n",
        "f = get_resnet_features(x,model)\n"
      ]
    },
    {
      "cell_type": "code",
      "execution_count": 21,
      "metadata": {
        "id": "hJ0rDwEoab5K"
      },
      "outputs": [],
      "source": [
        "# targets is a torch tensor of targets [3,4,5] for 3 in, [10,10,10] for 3 out, [3,10,1] in,out,im\n",
        "def target_alpha(targets):\n",
        "  target = targets.cpu().detach().numpy()\n",
        "  def gen_onehot(category, total_cat=10):\n",
        "    label = np.ones(total_cat)\n",
        "    label[category] = 20\n",
        "    return label\n",
        "  target_alphas = []\n",
        "  for i in target:\n",
        "    if i==10:\n",
        "      target_alphas.append(torch.tensor(np.ones(10)))\n",
        "    else:\n",
        "      target_alphas.append(torch.tensor(gen_onehot(i)))\n",
        "  return torch.stack(target_alphas).to(device)"
      ]
    },
    {
      "cell_type": "code",
      "execution_count": 22,
      "metadata": {
        "id": "cjiXRTN8bIKb"
      },
      "outputs": [],
      "source": [
        "# 1 for out, -1 for in\n",
        "def check_in_out_lambdas(target_alphas):\n",
        "\n",
        "  alpha_sum = target_alphas.sum(axis = 1)\n",
        "  alpha_sum = alpha_sum.cpu().detach()\n",
        "  lambdas =  alpha_sum.apply_(lambda x: 1 if(x==10) else -1)\n",
        "  return lambdas.to(device)\n"
      ]
    },
    {
      "cell_type": "code",
      "execution_count": 23,
      "metadata": {
        "id": "kr7USs8eZ5mz"
      },
      "outputs": [],
      "source": [
        "class PriorNet(nn.Module):\n",
        "    def __init__(self, input_dim=1, hidden_dim=1):\n",
        "        super().__init__()\n",
        "        self.fc1 = nn.Linear(input_dim, hidden_dim)\n",
        "        self.fc2 = nn.Linear(hidden_dim, 3)         # output_dim = 4\n",
        "\n",
        "    def forward(self, x):\n",
        "        x = F.relu(self.fc1(x))\n",
        "        x = self.fc2(x)\n",
        "        return x #F.softmax(x, dim=1)\n",
        "\n",
        "    def predict_alpha(self, x):\n",
        "      src = torch.Tensor(x).to(device)\n",
        "      output = torch.exp(self.forward(src))\n",
        "      return output\n",
        "\n",
        "    def predict_dir(self, x):\n",
        "      alpha = self.predict_alpha(x)\n",
        "      dirichlet = Dirichlet(alpha)\n",
        "      return dirichlet\n",
        "\n",
        "    def fit(self, epoch_num, optimizer, train_X, train_Y):\n",
        "      self.train()\n",
        "\n",
        "      n_train = len(train_X)\n",
        "\n",
        "      # Shuffle the input\n",
        "      index = np.arange(n_train)\n",
        "      np.random.shuffle(index)\n",
        "      train_x = train_X[index]\n",
        "      train_y = train_Y[index]\n",
        "\n",
        "      for epoch in range(epoch_num):\n",
        "        for i in range(n_train):\n",
        "          optimizer.zero_grad()\n",
        "          src = torch.Tensor(train_x[i:i+1]).to(device)\n",
        "          target = torch.Tensor(train_y[i:i+1]).to(device)\n",
        "          # Predicted alpha\n",
        "          output = torch.exp(self.forward(src))\n",
        "          dirichlet1 = Dirichlet(output)\n",
        "          dirichlet2 = Dirichlet(target)\n",
        "          loss = dist.kl.kl_divergence(dirichlet1, dirichlet2)\n",
        "          loss.backward()\n",
        "          optimizer.step()\n",
        "        print('Train Epoch: {} \\t Loss: {:.6f}'.format(epoch, loss.item()))\n",
        "    \n",
        "    def expected_entropy_from_alphas(self, alphas, alpha0):\n",
        "        return -torch.sum((alphas/alpha0)*(torch.digamma(alphas+1)-torch.digamma(alpha0+1)), dim=1)\n",
        "    \n",
        "    def categorical_entropy_torch(self, probs):\n",
        "        log_probs = torch.log(probs)\n",
        "        log_probs = torch.where(torch.isfinite(log_probs), log_probs, torch.zeros_like(log_probs))\n",
        "        entropy = -torch.sum(probs*log_probs, dim=1, keepdim=False)\n",
        "        return entropy\n",
        "\n",
        "    def mutual_information(self, x):\n",
        "        \n",
        "        alphas = self.predict_alpha(x, model)\n",
        "        alpha0 = torch.sum(alphas, dim=1, keepdim=True)\n",
        "        probs = alphas / alpha0\n",
        "\n",
        "        expected_entropy = self.expected_entropy_from_alphas(alphas, alpha0)\n",
        "        entropy_of_exp = self.categorical_entropy_torch(probs)\n",
        "        mutual_info = entropy_of_exp - expected_entropy\n",
        "        return mutual_info\n",
        "\n",
        "    def diffenrential_entropy(self, x):\n",
        "        alphas = self.predict_alpha(x, model)\n",
        "        alpha0 = torch.sum(alphas, dim=1, keepdim=True)\n",
        "        return torch.sum(\n",
        "            torch.lgamma(alphas)-(alphas-1)*(torch.digamma(alphas)-torch.digamma(alpha0)),\n",
        "            dim=1) - torch.lgamma(alpha0)\n",
        "\n",
        "    def entropy(self, x):\n",
        "        alphas = self.predict_alpha(x, model)\n",
        "        alpha0 = torch.sum(alphas, dim=1, keepdim=True)\n",
        "        probs = alphas / alpha0\n",
        "        ret = -torch.sum(probs*torch.log(probs), dim=1)\n",
        "        return ret"
      ]
    },
    {
      "cell_type": "code",
      "execution_count": 29,
      "metadata": {
        "id": "TqILo-m3a3k5"
      },
      "outputs": [],
      "source": [
        "\n",
        "augnet_path =  '/content/drive/MyDrive/CV_project'\n",
        "file_name = 'augnet_imp_res'\n",
        "from os import truncate\n",
        "\n",
        "class AugNet(PriorNet):\n",
        "\n",
        "    def __init__(self, old_preds_dim, feature_dim, target_dim):\n",
        "        super().__init__()\n",
        "        self.y_dim = old_preds_dim\n",
        "        self.feature_dim = feature_dim\n",
        "        self.target_dim = target_dim\n",
        "        self.fc1 = nn.Linear(feature_dim, 1024)   \n",
        "        self.relu = torch.nn.ReLU()\n",
        "        self.fc2_1 = nn.Linear(1024, 512) \n",
        "        self.fc2_2 = nn.Linear(512,256)\n",
        "        #self.fc2 = nn.Linear(1024, 256)        \n",
        "        self.fc3 = nn.Linear(10 + 256, 512) \n",
        "        self.fc4 = nn.Linear(512, 256)\n",
        "        self.fc5 = nn.Linear(256,64)\n",
        "        self.fc6 = nn.Linear(64,10)\n",
        "        #self.fc6 = nn.Linear(128,10)\n",
        "     \n",
        "  \n",
        "\n",
        "    def forward(self, features, y):\n",
        "\n",
        "      x = self.fc1(features)\n",
        "      x = self.relu(x)\n",
        "      x = self.fc2_1(x)\n",
        "      x = self.relu(x)\n",
        "      x = self.fc2_2(x)\n",
        "      x = self.relu(x)\n",
        "      #x = self.fc3(x)\n",
        "      # print(\"x\")\n",
        "      # print(x.shape)\n",
        "      # print(\"y\")\n",
        "      # print(y.shape)\n",
        "\n",
        "      x = self.fc3(torch.cat((x,y), dim = 1) )\n",
        "      x = self.relu(x)\n",
        "      x = self.fc4(x)\n",
        "      x = self.relu(x)\n",
        "      x = self.fc5(x)\n",
        "      x = self.relu(x)\n",
        "      x = self.fc6(x)\n",
        "\n",
        "      return x\n",
        "\n",
        "\n",
        "    def predict_alpha(self, x, model):\n",
        "            x = torch.FloatTensor(x).unsqueeze(0) \n",
        "            x = x.to(device)\n",
        "            x = x.reshape(-1, 3, 32, 32)\n",
        "            features = get_resnet_features(x, model)\n",
        "            pred_outputs = get_resnet_output(x, model)\n",
        "#           src = torch.Tensor(x).to(device)\n",
        "            output = torch.exp(self.forward(features, pred_outputs))\n",
        "\n",
        "            return output + pred_outputs\n",
        "\n",
        "    def predict_dir(self, x):\n",
        "      alpha = self.predict_alpha(x)\n",
        "      dirichlet = Dirichlet(alpha)\n",
        "      return dirichlet\n",
        "  \n",
        "    def fit(self, epoch_num, optimizer, model):\n",
        "      self.train()\n",
        "      loss_track = []\n",
        "      # Shuffle the input\n",
        "      train_loader = torch.utils.data.DataLoader(train_all, batch_size=64)\n",
        "\n",
        "      for epoch in range(epoch_num):\n",
        "\n",
        "\n",
        "        loss_total = 0\n",
        "        for batch_idx, (data, target) in enumerate(train_loader):\n",
        "\n",
        "          optimizer.zero_grad()\n",
        "\n",
        "          #print(type(data))\n",
        "          #print(data.shape)\n",
        "          #break\n",
        "\n",
        "        \n",
        "         # data = data.to(device)\n",
        "          target = target.to(device)\n",
        "         \n",
        "          #data = data.permute(0,3,1,2)\n",
        "          #data= data.to(torch.float64)\n",
        "          data= data.type(torch.FloatTensor).to(device)\n",
        "          #x =x.unsqueeze(0)\n",
        "          \n",
        "          features = get_resnet_features(data,model)\n",
        "          features = features.detach().requires_grad_(False)\n",
        "\n",
        "          y = get_resnet_output(data,model)\n",
        "          y = y.detach().requires_grad_(False)\n",
        "  \n",
        "          # predict alpha\n",
        "          target_a = target_alpha(target)\n",
        "          target_a = target_a.to(device)\n",
        "          out = torch.exp(self.forward(features, y))\n",
        "          output_alpha = out\n",
        "          output_alpha = y + output_alpha\n",
        "\n",
        "          dirichlet1 = Dirichlet(output_alpha)\n",
        "          dirichlet2 = Dirichlet(target_a)\n",
        "          lambdas = check_in_out_lambdas(target_a)\n",
        "          sgm_alpha = torch.sigmoid(output_alpha) \n",
        "           \n",
        "\n",
        "          loss = torch.sum(dist.kl.kl_divergence(dirichlet1, dirichlet2))  + 0.1* torch.sum(lambdas * torch.mean(sgm_alpha,1))\n",
        "          loss_total += loss.item()\n",
        "          loss.backward(retain_graph=True)\n",
        "          optimizer.step()\n",
        "\n",
        "\n",
        "        print('Train Epoch: {} \\t Loss: {:.6f}'.format(epoch, loss_total/120000))\n",
        "        loss_track.append(loss_total)\n",
        "\n",
        "        if(epoch%4 == 0):\n",
        "        \n",
        "          torch.save({\n",
        "              'epoch': epoch,\n",
        "              'model_state_dict': self.state_dict(),\n",
        "              'optimizer_state_dict': optimizer.state_dict(),\n",
        "              'loss': loss_track,\n",
        "              }, f\"{augnet_path}/{file_name+str(epoch)+'.pth'}\")\n",
        "        \n",
        "      return loss_track\n",
        "    \n",
        "    def max_prob(self, x):\n",
        "        alphas = self.predict_alpha(x, model)\n",
        "        alpha0 = torch.sum(alphas, dim=1, keepdim=True)\n",
        "        probs = alphas / alpha0\n",
        "        conf = torch.max(probs, dim=1)\n",
        "        return conf.values"
      ]
    },
    {
      "cell_type": "code",
      "execution_count": 30,
      "metadata": {
        "id": "_8PmctqndsB_",
        "colab": {
          "base_uri": "https://localhost:8080/"
        },
        "outputId": "0b958d7a-a772-4719-a036-e4261b098b13"
      },
      "outputs": [
        {
          "output_type": "stream",
          "name": "stdout",
          "text": [
            "Train Epoch: 0 \t Loss: 0.900963\n",
            "Train Epoch: 1 \t Loss: 1.069903\n",
            "Train Epoch: 2 \t Loss: 1.097910\n",
            "Train Epoch: 3 \t Loss: 0.955899\n",
            "Train Epoch: 4 \t Loss: 0.940628\n",
            "Train Epoch: 5 \t Loss: 0.957899\n",
            "Train Epoch: 6 \t Loss: 1.000176\n",
            "Train Epoch: 7 \t Loss: 0.997251\n",
            "Train Epoch: 8 \t Loss: 0.965652\n",
            "Train Epoch: 9 \t Loss: 1.110997\n",
            "Train Epoch: 10 \t Loss: 1.010627\n",
            "Train Epoch: 11 \t Loss: 0.980663\n",
            "Train Epoch: 12 \t Loss: 1.166668\n",
            "Train Epoch: 13 \t Loss: 0.956466\n",
            "Train Epoch: 14 \t Loss: 0.926420\n",
            "Train Epoch: 15 \t Loss: 0.965805\n",
            "Train Epoch: 16 \t Loss: 1.029089\n",
            "Train Epoch: 17 \t Loss: 0.869882\n",
            "Train Epoch: 18 \t Loss: 1.096384\n",
            "Train Epoch: 19 \t Loss: 1.259212\n",
            "Train Epoch: 20 \t Loss: 0.989225\n",
            "Train Epoch: 21 \t Loss: 0.917600\n",
            "Train Epoch: 22 \t Loss: 0.986554\n",
            "Train Epoch: 23 \t Loss: 1.100413\n",
            "Train Epoch: 24 \t Loss: 1.053212\n",
            "Train Epoch: 25 \t Loss: 0.980534\n",
            "Train Epoch: 26 \t Loss: 1.533989\n",
            "Train Epoch: 27 \t Loss: 1.022545\n",
            "Train Epoch: 28 \t Loss: 1.090090\n",
            "Train Epoch: 29 \t Loss: 1.207485\n"
          ]
        }
      ],
      "source": [
        "dpn = AugNet(10,512,10)\n",
        "dpn.to(device)\n",
        "optimizer = optim.Adam(dpn.parameters(), lr=0.001)\n",
        "model = resnet18()\n",
        "model.load_state_dict(torch.load('resnet18.pt'))\n",
        "model = model.to(device)\n",
        "torch.nn.utils.clip_grad_norm_(dpn.parameters(), 2.0)\n",
        "losses = dpn.fit(30, optimizer, model)"
      ]
    },
    {
      "cell_type": "code",
      "source": [],
      "metadata": {
        "id": "GSazqIk0B72C"
      },
      "execution_count": null,
      "outputs": []
    },
    {
      "cell_type": "code",
      "source": [
        " \n",
        "torch.save({ \n",
        "              'epoch': 29,\n",
        "              'model_state_dict': dpn.state_dict(),\n",
        "              'optimizer_state_dict': optimizer.state_dict(),\n",
        "              'loss': [],\n",
        "              }, f\"{augnet_path}/{file_name+str(29)+'.pth'}\")\n",
        "        "
      ],
      "metadata": {
        "id": "9xIKAuqi9cAA"
      },
      "execution_count": 31,
      "outputs": []
    },
    {
      "cell_type": "code",
      "source": [
        "! pwd"
      ],
      "metadata": {
        "id": "dxz_BdWrD2Qs"
      },
      "execution_count": null,
      "outputs": []
    },
    {
      "cell_type": "code",
      "source": [
        "#aug_model = AugNet(10,512,10)\n",
        "#loaded = torch.load('CV_project/augnet_f_new_212.pth')\n",
        "#aug_model.load_state_dict(loaded[\"model_state_dict\"])"
      ],
      "metadata": {
        "id": "II6ikIGVCfua"
      },
      "execution_count": null,
      "outputs": []
    },
    {
      "cell_type": "code",
      "source": [
        "model = resnet18().cuda()\n",
        "model.load_state_dict(torch.load('resnet18.pt'))"
      ],
      "metadata": {
        "id": "V64r1_1nEbTL"
      },
      "execution_count": null,
      "outputs": []
    },
    {
      "cell_type": "code",
      "source": [
        "test_in_full = torchvision.datasets.CIFAR10('./files/', train=False, download=True,\n",
        "                                        transform=cifar_transform)\n",
        "test_out_full = torchvision.datasets.SVHN('./data', split ='test', download=True,\n",
        "                                        transform=cifar_transform)"
      ],
      "metadata": {
        "colab": {
          "base_uri": "https://localhost:8080/"
        },
        "id": "QwZUpf0j0iTC",
        "outputId": "de4c5837-d37d-4d1c-ff2e-aaf30afc2de4"
      },
      "execution_count": 32,
      "outputs": [
        {
          "output_type": "stream",
          "name": "stdout",
          "text": [
            "Files already downloaded and verified\n",
            "Using downloaded and verified file: ./data/test_32x32.mat\n"
          ]
        }
      ]
    },
    {
      "cell_type": "code",
      "source": [
        "test_out_full.targets = torch.tensor(np.ones(len(test_out_full.labels))*10, dtype=torch.long)"
      ],
      "metadata": {
        "id": "IPkq41AI0yiy"
      },
      "execution_count": 33,
      "outputs": []
    },
    {
      "cell_type": "code",
      "source": [
        "test_in_cut = test_in_full\n",
        "test_out_cut = test_out_full"
      ],
      "metadata": {
        "id": "AKVj-FKH04NP"
      },
      "execution_count": 34,
      "outputs": []
    },
    {
      "cell_type": "code",
      "source": [
        "test_in_cut.data = test_in_full.data[0:1000]\n",
        "test_in_cut.targets = test_in_full.targets[0:1000]\n",
        "test_out_cut.data = test_out_full.data[0:1000]\n",
        "test_out_cut.targets = test_out_full.labels[0:1000]\n",
        "test_in = test_in_cut\n",
        "test_out = test_out_cut"
      ],
      "metadata": {
        "id": "Zg2fgA-E09Z5"
      },
      "execution_count": 35,
      "outputs": []
    },
    {
      "cell_type": "code",
      "execution_count": 36,
      "metadata": {
        "id": "Ohnr7EVQr3kn"
      },
      "outputs": [],
      "source": [
        "# miscood.py\n",
        "\n",
        "def uncertainty_score(dpn, test_data, metrics, dcat=0):\n",
        "  dpn.eval()\n",
        "  score_lst = []\n",
        "  for x in test_data:\n",
        "#     print((x.shape))\n",
        "#     x = [x]\n",
        "    with torch.no_grad():\n",
        "      if metrics=='DE':\n",
        "        score = dpn.diffenrential_entropy(x).data.cpu().numpy()[0][0]\n",
        "      elif metrics=='MI':\n",
        "        score = dpn.mutual_information(x).data.cpu().numpy()[0]\n",
        "      elif metrics=='MAXP':\n",
        "        score = dpn.max_prob(x).data.cpu().numpy()[0]\n",
        "      elif metrics=='ENT':\n",
        "        score = dpn.entropy(x).data.cpu().numpy()[0]\n",
        "    score_lst.append(score)\n",
        "  return score_lst\n",
        "\n",
        "\n",
        "def get_ood_label_score(test_in_score, test_out_score):\n",
        "  score = np.concatenate([test_in_score, test_out_score])\n",
        "  label = np.concatenate((np.zeros(len(test_in_score)), np.ones(len(test_out_score))))\n",
        "  return label, score\n",
        "  \n",
        "def get_misc_label_score(dpn, test_data, test_label, test_in_score):\n",
        "  misc_label = np.zeros(len(test_label))\n",
        "\n",
        "  for i in range(len(test_data)):\n",
        "    x = test_data[i]\n",
        "#     x = [x]\n",
        "    with torch.no_grad():\n",
        "      pred = dpn.predict_alpha(x, model)\n",
        "      pred_class = torch.max(pred[0], 0).indices\n",
        "      misc_label[i] = 1-torch.eq(torch.tensor(test_label[i]), pred_class).sum().cpu().numpy()\n",
        "\n",
        "  return misc_label, np.array(test_in_score)\n",
        "\n",
        "def plot_roc(label, score, label_name):\n",
        "  fpr, tpr, thresholds = roc_curve(label, score)\n",
        "  plt.plot(fpr, tpr, label=label_name)\n",
        "  plt.xlabel('False Positive')\n",
        "  plt.ylabel('True Positive')\n",
        "  plt.title('ROC')\n",
        "  plt.ylim(0.0, 1.0)\n",
        "  plt.xlim(0.0, 1.0)\n",
        "\n",
        "def plot_pr(label, score, label_name):\n",
        "  precision, recall, thresholds = precision_recall_curve(label, score)\n",
        "  plt.plot(recall, precision, label=label_name)\n",
        "  plt.xlabel('Recall')\n",
        "  plt.ylabel('Precision')\n",
        "  plt.title('Precision-Recall Curve')\n",
        "  plt.ylim(0.0, 1.0)\n",
        "  plt.xlim(0.0, 1.0)\n",
        "\n",
        "\n",
        "def get_auroc_aupr(label, score):\n",
        "  #score[score==-np.inf] = -100\n",
        "  #score[score==np.inf] = 100\n",
        "\n",
        "  auroc = roc_auc_score(label, score)\n",
        "  precision, recall, thresholds = precision_recall_curve(label, score)\n",
        "  aupr = auc(recall, precision)\n",
        "  return auroc, aupr\n",
        "\n",
        "\n",
        "def get_test_roc_pr(network, metrics, detect='ood'):\n",
        "  test_in_score = uncertainty_score(network, test_in.data, metrics, dcat=0)\n",
        "  test_out_score = uncertainty_score(network, test_out.data, metrics, dcat=0)\n",
        "  if detect=='ood':\n",
        "    label_dp, score_dp = get_ood_label_score(test_in_score, test_out_score)\n",
        "  elif detect=='misc':\n",
        "    label_dp, score_dp = get_misc_label_score(network, test_in.data,\n",
        "                                              test_in.targets, test_in_score)\n",
        "  if metrics=='MAXP':\n",
        "    score_dp = -score_dp\n",
        "\n",
        "  index = np.isposinf(score_dp)\n",
        "  score_dp[np.isposinf(score_dp)] = 1e9\n",
        "  maximum = np.amax(score_dp)\n",
        "  score_dp[np.isposinf(score_dp)] = maximum + 1\n",
        "\n",
        "  index = np.isneginf(score_dp)\n",
        "  score_dp[np.isneginf(score_dp)] = -1e9\n",
        "  minimum = np.amin(score_dp)\n",
        "  score_dp[np.isneginf(score_dp)] = minimum - 1\n",
        "\n",
        "  score_dp[np.isnan(score_dp)] = 0\n",
        "\n",
        "  auroc, aupr = get_auroc_aupr(label_dp, score_dp)\n",
        "  return auroc, aupr, label_dp, score_dp"
      ]
    },
    {
      "cell_type": "code",
      "execution_count": 37,
      "metadata": {
        "id": "LavkmbSzyPzN"
      },
      "outputs": [],
      "source": [
        "auroc_mp, aupr_mp, label_mp, score_mp = get_test_roc_pr(dpn, 'MAXP', 'misc')\n",
        "auroc_ent, aupr_ent, label_ent, score_ent = get_test_roc_pr(dpn, 'ENT', 'misc')\n",
        "auroc_mi, aupr_mi, label_mi, score_mi = get_test_roc_pr(dpn, 'MI', 'misc')\n",
        "auroc_de, aupr_de, label_de, score_de = get_test_roc_pr(dpn, 'DE', 'misc')"
      ]
    },
    {
      "cell_type": "code",
      "execution_count": 38,
      "metadata": {
        "id": "5F5kvjLzySaM",
        "colab": {
          "base_uri": "https://localhost:8080/",
          "height": 112
        },
        "outputId": "fab86fc5-b463-40f3-cf38-fa6ed01b7ce8"
      },
      "outputs": [
        {
          "output_type": "execute_result",
          "data": {
            "text/plain": [
              "          Max.P       Ent        MI     D.Ent\n",
              "AUROC  0.484497  0.501174  0.492451  0.506829\n",
              "AUPR   0.889358  0.899393  0.896006  0.900836"
            ],
            "text/html": [
              "\n",
              "  <div id=\"df-64ac83b4-1e19-4dea-b89d-58b42c5133f3\">\n",
              "    <div class=\"colab-df-container\">\n",
              "      <div>\n",
              "<style scoped>\n",
              "    .dataframe tbody tr th:only-of-type {\n",
              "        vertical-align: middle;\n",
              "    }\n",
              "\n",
              "    .dataframe tbody tr th {\n",
              "        vertical-align: top;\n",
              "    }\n",
              "\n",
              "    .dataframe thead th {\n",
              "        text-align: right;\n",
              "    }\n",
              "</style>\n",
              "<table border=\"1\" class=\"dataframe\">\n",
              "  <thead>\n",
              "    <tr style=\"text-align: right;\">\n",
              "      <th></th>\n",
              "      <th>Max.P</th>\n",
              "      <th>Ent</th>\n",
              "      <th>MI</th>\n",
              "      <th>D.Ent</th>\n",
              "    </tr>\n",
              "  </thead>\n",
              "  <tbody>\n",
              "    <tr>\n",
              "      <th>AUROC</th>\n",
              "      <td>0.484497</td>\n",
              "      <td>0.501174</td>\n",
              "      <td>0.492451</td>\n",
              "      <td>0.506829</td>\n",
              "    </tr>\n",
              "    <tr>\n",
              "      <th>AUPR</th>\n",
              "      <td>0.889358</td>\n",
              "      <td>0.899393</td>\n",
              "      <td>0.896006</td>\n",
              "      <td>0.900836</td>\n",
              "    </tr>\n",
              "  </tbody>\n",
              "</table>\n",
              "</div>\n",
              "      <button class=\"colab-df-convert\" onclick=\"convertToInteractive('df-64ac83b4-1e19-4dea-b89d-58b42c5133f3')\"\n",
              "              title=\"Convert this dataframe to an interactive table.\"\n",
              "              style=\"display:none;\">\n",
              "        \n",
              "  <svg xmlns=\"http://www.w3.org/2000/svg\" height=\"24px\"viewBox=\"0 0 24 24\"\n",
              "       width=\"24px\">\n",
              "    <path d=\"M0 0h24v24H0V0z\" fill=\"none\"/>\n",
              "    <path d=\"M18.56 5.44l.94 2.06.94-2.06 2.06-.94-2.06-.94-.94-2.06-.94 2.06-2.06.94zm-11 1L8.5 8.5l.94-2.06 2.06-.94-2.06-.94L8.5 2.5l-.94 2.06-2.06.94zm10 10l.94 2.06.94-2.06 2.06-.94-2.06-.94-.94-2.06-.94 2.06-2.06.94z\"/><path d=\"M17.41 7.96l-1.37-1.37c-.4-.4-.92-.59-1.43-.59-.52 0-1.04.2-1.43.59L10.3 9.45l-7.72 7.72c-.78.78-.78 2.05 0 2.83L4 21.41c.39.39.9.59 1.41.59.51 0 1.02-.2 1.41-.59l7.78-7.78 2.81-2.81c.8-.78.8-2.07 0-2.86zM5.41 20L4 18.59l7.72-7.72 1.47 1.35L5.41 20z\"/>\n",
              "  </svg>\n",
              "      </button>\n",
              "      \n",
              "  <style>\n",
              "    .colab-df-container {\n",
              "      display:flex;\n",
              "      flex-wrap:wrap;\n",
              "      gap: 12px;\n",
              "    }\n",
              "\n",
              "    .colab-df-convert {\n",
              "      background-color: #E8F0FE;\n",
              "      border: none;\n",
              "      border-radius: 50%;\n",
              "      cursor: pointer;\n",
              "      display: none;\n",
              "      fill: #1967D2;\n",
              "      height: 32px;\n",
              "      padding: 0 0 0 0;\n",
              "      width: 32px;\n",
              "    }\n",
              "\n",
              "    .colab-df-convert:hover {\n",
              "      background-color: #E2EBFA;\n",
              "      box-shadow: 0px 1px 2px rgba(60, 64, 67, 0.3), 0px 1px 3px 1px rgba(60, 64, 67, 0.15);\n",
              "      fill: #174EA6;\n",
              "    }\n",
              "\n",
              "    [theme=dark] .colab-df-convert {\n",
              "      background-color: #3B4455;\n",
              "      fill: #D2E3FC;\n",
              "    }\n",
              "\n",
              "    [theme=dark] .colab-df-convert:hover {\n",
              "      background-color: #434B5C;\n",
              "      box-shadow: 0px 1px 3px 1px rgba(0, 0, 0, 0.15);\n",
              "      filter: drop-shadow(0px 1px 2px rgba(0, 0, 0, 0.3));\n",
              "      fill: #FFFFFF;\n",
              "    }\n",
              "  </style>\n",
              "\n",
              "      <script>\n",
              "        const buttonEl =\n",
              "          document.querySelector('#df-64ac83b4-1e19-4dea-b89d-58b42c5133f3 button.colab-df-convert');\n",
              "        buttonEl.style.display =\n",
              "          google.colab.kernel.accessAllowed ? 'block' : 'none';\n",
              "\n",
              "        async function convertToInteractive(key) {\n",
              "          const element = document.querySelector('#df-64ac83b4-1e19-4dea-b89d-58b42c5133f3');\n",
              "          const dataTable =\n",
              "            await google.colab.kernel.invokeFunction('convertToInteractive',\n",
              "                                                     [key], {});\n",
              "          if (!dataTable) return;\n",
              "\n",
              "          const docLinkHtml = 'Like what you see? Visit the ' +\n",
              "            '<a target=\"_blank\" href=https://colab.research.google.com/notebooks/data_table.ipynb>data table notebook</a>'\n",
              "            + ' to learn more about interactive tables.';\n",
              "          element.innerHTML = '';\n",
              "          dataTable['output_type'] = 'display_data';\n",
              "          await google.colab.output.renderOutput(dataTable, element);\n",
              "          const docLink = document.createElement('div');\n",
              "          docLink.innerHTML = docLinkHtml;\n",
              "          element.appendChild(docLink);\n",
              "        }\n",
              "      </script>\n",
              "    </div>\n",
              "  </div>\n",
              "  "
            ]
          },
          "metadata": {},
          "execution_count": 38
        }
      ],
      "source": [
        "auroc_lst = [auroc_mp, auroc_ent, auroc_mi, auroc_de]\n",
        "aupr_lst = [aupr_mp, aupr_ent, aupr_mi, aupr_de]\n",
        "\n",
        "pd.DataFrame(data=np.array([auroc_lst, aupr_lst]), \n",
        "             columns=['Max.P', 'Ent', 'MI', 'D.Ent'], \n",
        "             index=['AUROC', 'AUPR'])"
      ]
    },
    {
      "cell_type": "code",
      "execution_count": 39,
      "metadata": {
        "id": "UDLwpRLPyTGm",
        "colab": {
          "base_uri": "https://localhost:8080/",
          "height": 295
        },
        "outputId": "51c5b006-9ee9-4a66-db85-7f37aacd6cf5"
      },
      "outputs": [
        {
          "output_type": "display_data",
          "data": {
            "text/plain": [
              "<Figure size 432x288 with 1 Axes>"
            ],
            "image/png": "[encoded data removed]"
          },
          "metadata": {
            "needs_background": "light"
          }
        }
      ],
      "source": [
        "plot_roc(label_mp, score_mp, label_name='MAX.P')\n",
        "plot_roc(label_ent, score_ent, label_name='ENT')\n",
        "plot_roc(label_mi, score_mi, label_name='MI')\n",
        "plot_roc(label_de, score_de, label_name='D.ENT')\n",
        "plt.legend()\n",
        "plt.show()"
      ]
    },
    {
      "cell_type": "code",
      "execution_count": 40,
      "metadata": {
        "id": "Xqy9icczyVW6",
        "colab": {
          "base_uri": "https://localhost:8080/",
          "height": 295
        },
        "outputId": "1aecb541-0c26-43e3-9901-a875d12ed347"
      },
      "outputs": [
        {
          "output_type": "display_data",
          "data": {
            "text/plain": [
              "<Figure size 432x288 with 1 Axes>"
            ],
            "image/png": "[encoded data removed]"
          },
          "metadata": {
            "needs_background": "light"
          }
        }
      ],
      "source": [
        "plot_pr(label_mp, score_mp, label_name='MAX.P')\n",
        "plot_pr(label_ent, score_ent, label_name='ENT')\n",
        "plot_pr(label_mi, score_mi, label_name='MI')\n",
        "plot_pr(label_de, score_de, label_name='D.ENT')\n",
        "plt.legend()\n",
        "plt.show()"
      ]
    },
    {
      "cell_type": "code",
      "execution_count": 41,
      "metadata": {
        "id": "1WBF6rlWyZKU"
      },
      "outputs": [],
      "source": [
        "auroc_mp_ood, aupr_mp_ood, label_mp_ood, score_mp_ood = get_test_roc_pr(dpn, 'MAXP', 'ood')\n",
        "auroc_ent_ood, aupr_ent_ood, label_ent_ood_ood, score_ent_ood = get_test_roc_pr(dpn, 'ENT', 'ood')\n",
        "auroc_mi_ood, aupr_mi_ood_ood, label_mi_ood, score_mi_ood = get_test_roc_pr(dpn, 'MI', 'ood')\n",
        "auroc_de_ood, aupr_de_ood, label_de_ood, score_de_ood = get_test_roc_pr(dpn, 'DE', 'ood')"
      ]
    },
    {
      "cell_type": "code",
      "execution_count": 42,
      "metadata": {
        "id": "E9rOLelkyZ2P",
        "colab": {
          "base_uri": "https://localhost:8080/",
          "height": 112
        },
        "outputId": "21f92271-25ff-4007-f045-12bc5b7eac30"
      },
      "outputs": [
        {
          "output_type": "execute_result",
          "data": {
            "text/plain": [
              "          Max.P       Ent        MI     D.Ent\n",
              "AUROC  0.455989  0.480294  0.519388  0.474510\n",
              "AUPR   0.453854  0.467351  0.500071  0.466667"
            ],
            "text/html": [
              "\n",
              "  <div id=\"df-81ab722d-5427-44d4-8036-a369efda29b1\">\n",
              "    <div class=\"colab-df-container\">\n",
              "      <div>\n",
              "<style scoped>\n",
              "    .dataframe tbody tr th:only-of-type {\n",
              "        vertical-align: middle;\n",
              "    }\n",
              "\n",
              "    .dataframe tbody tr th {\n",
              "        vertical-align: top;\n",
              "    }\n",
              "\n",
              "    .dataframe thead th {\n",
              "        text-align: right;\n",
              "    }\n",
              "</style>\n",
              "<table border=\"1\" class=\"dataframe\">\n",
              "  <thead>\n",
              "    <tr style=\"text-align: right;\">\n",
              "      <th></th>\n",
              "      <th>Max.P</th>\n",
              "      <th>Ent</th>\n",
              "      <th>MI</th>\n",
              "      <th>D.Ent</th>\n",
              "    </tr>\n",
              "  </thead>\n",
              "  <tbody>\n",
              "    <tr>\n",
              "      <th>AUROC</th>\n",
              "      <td>0.455989</td>\n",
              "      <td>0.480294</td>\n",
              "      <td>0.519388</td>\n",
              "      <td>0.474510</td>\n",
              "    </tr>\n",
              "    <tr>\n",
              "      <th>AUPR</th>\n",
              "      <td>0.453854</td>\n",
              "      <td>0.467351</td>\n",
              "      <td>0.500071</td>\n",
              "      <td>0.466667</td>\n",
              "    </tr>\n",
              "  </tbody>\n",
              "</table>\n",
              "</div>\n",
              "      <button class=\"colab-df-convert\" onclick=\"convertToInteractive('df-81ab722d-5427-44d4-8036-a369efda29b1')\"\n",
              "              title=\"Convert this dataframe to an interactive table.\"\n",
              "              style=\"display:none;\">\n",
              "        \n",
              "  <svg xmlns=\"http://www.w3.org/2000/svg\" height=\"24px\"viewBox=\"0 0 24 24\"\n",
              "       width=\"24px\">\n",
              "    <path d=\"M0 0h24v24H0V0z\" fill=\"none\"/>\n",
              "    <path d=\"M18.56 5.44l.94 2.06.94-2.06 2.06-.94-2.06-.94-.94-2.06-.94 2.06-2.06.94zm-11 1L8.5 8.5l.94-2.06 2.06-.94-2.06-.94L8.5 2.5l-.94 2.06-2.06.94zm10 10l.94 2.06.94-2.06 2.06-.94-2.06-.94-.94-2.06-.94 2.06-2.06.94z\"/><path d=\"M17.41 7.96l-1.37-1.37c-.4-.4-.92-.59-1.43-.59-.52 0-1.04.2-1.43.59L10.3 9.45l-7.72 7.72c-.78.78-.78 2.05 0 2.83L4 21.41c.39.39.9.59 1.41.59.51 0 1.02-.2 1.41-.59l7.78-7.78 2.81-2.81c.8-.78.8-2.07 0-2.86zM5.41 20L4 18.59l7.72-7.72 1.47 1.35L5.41 20z\"/>\n",
              "  </svg>\n",
              "      </button>\n",
              "      \n",
              "  <style>\n",
              "    .colab-df-container {\n",
              "      display:flex;\n",
              "      flex-wrap:wrap;\n",
              "      gap: 12px;\n",
              "    }\n",
              "\n",
              "    .colab-df-convert {\n",
              "      background-color: #E8F0FE;\n",
              "      border: none;\n",
              "      border-radius: 50%;\n",
              "      cursor: pointer;\n",
              "      display: none;\n",
              "      fill: #1967D2;\n",
              "      height: 32px;\n",
              "      padding: 0 0 0 0;\n",
              "      width: 32px;\n",
              "    }\n",
              "\n",
              "    .colab-df-convert:hover {\n",
              "      background-color: #E2EBFA;\n",
              "      box-shadow: 0px 1px 2px rgba(60, 64, 67, 0.3), 0px 1px 3px 1px rgba(60, 64, 67, 0.15);\n",
              "      fill: #174EA6;\n",
              "    }\n",
              "\n",
              "    [theme=dark] .colab-df-convert {\n",
              "      background-color: #3B4455;\n",
              "      fill: #D2E3FC;\n",
              "    }\n",
              "\n",
              "    [theme=dark] .colab-df-convert:hover {\n",
              "      background-color: #434B5C;\n",
              "      box-shadow: 0px 1px 3px 1px rgba(0, 0, 0, 0.15);\n",
              "      filter: drop-shadow(0px 1px 2px rgba(0, 0, 0, 0.3));\n",
              "      fill: #FFFFFF;\n",
              "    }\n",
              "  </style>\n",
              "\n",
              "      <script>\n",
              "        const buttonEl =\n",
              "          document.querySelector('#df-81ab722d-5427-44d4-8036-a369efda29b1 button.colab-df-convert');\n",
              "        buttonEl.style.display =\n",
              "          google.colab.kernel.accessAllowed ? 'block' : 'none';\n",
              "\n",
              "        async function convertToInteractive(key) {\n",
              "          const element = document.querySelector('#df-81ab722d-5427-44d4-8036-a369efda29b1');\n",
              "          const dataTable =\n",
              "            await google.colab.kernel.invokeFunction('convertToInteractive',\n",
              "                                                     [key], {});\n",
              "          if (!dataTable) return;\n",
              "\n",
              "          const docLinkHtml = 'Like what you see? Visit the ' +\n",
              "            '<a target=\"_blank\" href=https://colab.research.google.com/notebooks/data_table.ipynb>data table notebook</a>'\n",
              "            + ' to learn more about interactive tables.';\n",
              "          element.innerHTML = '';\n",
              "          dataTable['output_type'] = 'display_data';\n",
              "          await google.colab.output.renderOutput(dataTable, element);\n",
              "          const docLink = document.createElement('div');\n",
              "          docLink.innerHTML = docLinkHtml;\n",
              "          element.appendChild(docLink);\n",
              "        }\n",
              "      </script>\n",
              "    </div>\n",
              "  </div>\n",
              "  "
            ]
          },
          "metadata": {},
          "execution_count": 42
        }
      ],
      "source": [
        "auroc_lst_ood = [auroc_mp_ood, auroc_ent_ood, auroc_mi_ood, auroc_de_ood]\n",
        "aupr_lst_ood = [aupr_mp_ood, aupr_ent_ood, aupr_mi_ood_ood, aupr_de_ood]\n",
        "\n",
        "pd.DataFrame(data=np.array([auroc_lst_ood, aupr_lst_ood]), \n",
        "             columns=['Max.P', 'Ent', 'MI', 'D.Ent'], \n",
        "             index=['AUROC', 'AUPR'])"
      ]
    },
    {
      "cell_type": "code",
      "execution_count": 43,
      "metadata": {
        "id": "QQbhby9jyaDJ",
        "colab": {
          "base_uri": "https://localhost:8080/",
          "height": 295
        },
        "outputId": "8b158365-fe7d-4aa4-f901-38ab2048993a"
      },
      "outputs": [
        {
          "output_type": "display_data",
          "data": {
            "text/plain": [
              "<Figure size 432x288 with 1 Axes>"
            ],
            "image/png": "[encoded data removed]"
          },
          "metadata": {
            "needs_background": "light"
          }
        }
      ],
      "source": [
        "plot_roc(label_mp_ood, score_mp_ood, label_name='MAX.P')\n",
        "plot_roc(label_ent_ood_ood, score_ent_ood, label_name='ENT')\n",
        "plot_roc(label_mi_ood, score_mi_ood, label_name='MI')\n",
        "plot_roc(label_de_ood, score_de_ood, label_name='D.ENT')\n",
        "plt.legend()\n",
        "plt.show()"
      ]
    },
    {
      "cell_type": "code",
      "execution_count": 44,
      "metadata": {
        "id": "VCVE2D09yeYL",
        "colab": {
          "base_uri": "https://localhost:8080/",
          "height": 295
        },
        "outputId": "aca4aa4f-9192-4629-e5e9-1c957b392de5"
      },
      "outputs": [
        {
          "output_type": "display_data",
          "data": {
            "text/plain": [
              "<Figure size 432x288 with 1 Axes>"
            ],
            "image/png": "[encoded data removed]"
          },
          "metadata": {
            "needs_background": "light"
          }
        }
      ],
      "source": [
        "plot_pr(label_mp_ood, score_mp_ood, label_name='MAX.P')\n",
        "plot_pr(label_ent_ood_ood, score_ent_ood, label_name='ENT')\n",
        "plot_pr(label_mi_ood, score_mi_ood, label_name='MI')\n",
        "plot_pr(label_de_ood, score_de_ood, label_name='D.ENT')\n",
        "plt.legend()\n",
        "plt.show()"
      ]
    },
    {
      "cell_type": "code",
      "execution_count": null,
      "metadata": {
        "id": "1r_V9k3HygXn"
      },
      "outputs": [],
      "source": [
        "#dnn = resnet18(PriorNet)\n",
        "\n",
        "#dnn.load_state_dict(torch.load('resnet18.pt'))\n",
        "#auroc_mp, aupr_mp, _, _ = get_test_roc_pr(dnn, 'MAXP', 'misc')\n",
        "#auroc_ent, aupr_ent, _, _ = get_test_roc_pr(dnn, 'ENT', 'misc')\n",
        "\n",
        "#auroc_lst = [auroc_mp, auroc_ent]\n",
        "#aupr_lst = [aupr_mp, aupr_ent]\n",
        "\n",
        "#pd.DataFrame(data=np.array([auroc_lst, aupr_lst]), \n",
        "#             columns=['Max.P', 'Ent'], \n",
        "#             index=['AUROC', 'AUPR'])"
      ]
    },
    {
      "cell_type": "code",
      "source": [
        "def get_dnn_maxprob_score(model, data):\n",
        "   \n",
        "   Scores = []\n",
        "   for y in data: \n",
        "\n",
        "      x = torch.FloatTensor(y).unsqueeze(0) \n",
        "      x = x.to(device)\n",
        "      x = x.reshape(-1, 3, 32, 32)\n",
        "      probs = get_resnet_output(x, model)\n",
        "      #alpha0 = torch.sum(alphas, dim=1, keepdim=True)\n",
        "      #probs = alphas / alpha0\n",
        "      conf = torch.max(probs, dim=1)\n",
        "      Scores.append(conf.values)\n",
        "\n",
        "   return Scores   \n",
        "    "
      ],
      "metadata": {
        "id": "lHXc05GJD5Wy"
      },
      "execution_count": null,
      "outputs": []
    },
    {
      "cell_type": "code",
      "source": [
        "def get_dnn_entropy_score(model, data):\n",
        "\n",
        "  Scores = []\n",
        "  for y in data:\n",
        "\n",
        "      \n",
        "      x = torch.FloatTensor(y).unsqueeze(0) \n",
        "      x = x.to(device)\n",
        "      x = x.reshape(-1, 3, 32, 32)\n",
        "      probs = get_resnet_output(x, model) \n",
        "      #alpha0 = torch.sum(alphas, dim=1, keepdim=True)\n",
        "      #probs = alphas / alpha0\n",
        "      ret = -torch.sum(probs*torch.log(probs), dim=1)\n",
        "      Scores.append(ret)\n",
        "\n",
        "  return Scores  \n"
      ],
      "metadata": {
        "id": "k9qUR_c4E1OF"
      },
      "execution_count": null,
      "outputs": []
    },
    {
      "cell_type": "code",
      "source": [
        "  \n",
        "def get_misc_label_score_dnn(dnn, test_data, test_label, test_in_score):\n",
        "  misc_label = np.zeros(len(test_label))\n",
        "\n",
        "  for i in range(len(test_data)):\n",
        "    x = test_data[i]\n",
        "    x = torch.FloatTensor(x).unsqueeze(0) \n",
        "    x = x.to(device)\n",
        "    x = x.reshape(-1, 3, 32, 32)\n",
        "#     x = [x]\n",
        "    with torch.no_grad():\n",
        "      pred = get_resnet_output(x, model)\n",
        "      pred_class = torch.max(pred[0], 0).indices\n",
        "      misc_label[i] = 1-torch.eq(torch.tensor(test_label[i]), pred_class).sum().cpu().numpy()\n",
        "\n",
        "  return misc_label, np.array(test_in_score)"
      ],
      "metadata": {
        "id": "SsXC3E2cG8mO"
      },
      "execution_count": null,
      "outputs": []
    },
    {
      "cell_type": "code",
      "source": [
        "def resnet_metrics(model, metrics, detect):\n",
        "   \n",
        "   if(metrics == 'MAXP'):\n",
        "\n",
        "       test_in_score = get_dnn_maxprob_score(model, test_in.data)\n",
        "       test_out_score = get_dnn_maxprob_score(model, test_out.data)  \n",
        "\n",
        "   \n",
        "   if(metrics == 'ENT'):\n",
        "\n",
        "       in_score = get_dnn_entropy_score(model, test_in.data)\n",
        "       out_score = get_dnn_entropy_score(model, test_out.data) \n",
        "\n",
        "   if detect=='ood':\n",
        "      label_dp, score_dp = get_ood_label_score(test_in_score, test_out_score)\n",
        "   elif detect=='misc':\n",
        "      label_dp, score_dp = get_misc_label_score_dnn(model, test_in.data,\n",
        "                                                test_in.targets, test_in_score)\n",
        "   if metrics=='MAXP':\n",
        "      score_dp = -score_dp\n",
        "\n",
        "   index = np.isposinf(score_dp)\n",
        "   score_dp[np.isposinf(score_dp)] = 1e9\n",
        "   maximum = np.amax(score_dp)\n",
        "   score_dp[np.isposinf(score_dp)] = maximum + 1\n",
        " \n",
        "   index = np.isneginf(score_dp)\n",
        "   score_dp[np.isneginf(score_dp)] = -1e9\n",
        "   minimum = np.amin(score_dp)\n",
        "   score_dp[np.isneginf(score_dp)] = minimum - 1\n",
        " \n",
        "   score_dp[np.isnan(score_dp)] = 0\n",
        " \n",
        "   auroc, aupr = get_auroc_aupr(label_dp, score_dp)\n",
        "   return auroc, aupr, label_dp, score_dp     \n",
        "           \n",
        "    \n",
        "\n"
      ],
      "metadata": {
        "id": "gvXTW7N79H_Q"
      },
      "execution_count": null,
      "outputs": []
    },
    {
      "cell_type": "code",
      "source": [
        "#dnn = resnet18()\n",
        "#dnn.load_state_dict(torch.load('resnet18.pt'))\n",
        "#dnn =dnn.to(device)"
      ],
      "metadata": {
        "id": "ZKZ750gg76ME"
      },
      "execution_count": null,
      "outputs": []
    },
    {
      "cell_type": "code",
      "source": [
        "#auroc_mp, aupr_mp, _, _ = resnet_metrics(dnn, 'MAXP', 'misc')\n",
        "#auroc_ent, aupr_ent, _, _ = resnet_metrics(dnn, 'ENT', 'misc')\n",
        "\n",
        "#auroc_lst = [auroc_mp, auroc_ent]\n",
        "#aupr_lst = [aupr_mp, aupr_ent]\n",
        "\n",
        "#pd.DataFrame(data=np.array([auroc_lst, aupr_lst]), \n",
        "#            columns=['Max.P', 'Ent'], \n",
        "#            index=['AUROC', 'AUPR'])"
      ],
      "metadata": {
        "id": "gf42mRiWHlhC"
      },
      "execution_count": null,
      "outputs": []
    },
    {
      "cell_type": "code",
      "source": [
        "#auroc_mp, aupr_mp, _, _ = resnet_metrics(dnn, 'MAXP', 'ood')\n",
        "#auroc_ent, aupr_ent, _, _ = resnet_metrics(dnn, 'ENT', 'odd')\n",
        "\n",
        "#auroc_lst = [auroc_mp, auroc_ent]\n",
        "#aupr_lst = [aupr_mp, aupr_ent]\n",
        "\n",
        "#pd.DataFrame(data=np.array([auroc_lst, aupr_lst]), \n",
        "#            columns=['Max.P', 'Ent'], \n",
        "#            index=['AUROC', 'AUPR'])"
      ],
      "metadata": {
        "id": "lzcv2EFQH1yt"
      },
      "execution_count": null,
      "outputs": []
    },
    {
      "cell_type": "code",
      "source": [
        "#test_out"
      ],
      "metadata": {
        "id": "qh-hT9BrIUiH"
      },
      "execution_count": null,
      "outputs": []
    }
  ],
  "metadata": {
    "accelerator": "GPU",
    "colab": {
      "provenance": [],
      "include_colab_link": true
    },
    "gpuClass": "standard",
    "kernelspec": {
      "display_name": "Python 3",
      "name": "python3"
    },
    "language_info": {
      "name": "python"
    },
    "widgets": {
      "application/vnd.jupyter.widget-state+json": {
        "fb9139cfcd2d4db1930dc1529217f682": {
          "model_module": "@jupyter-widgets/controls",
          "model_name": "HBoxModel",
          "model_module_version": "1.5.0",
          "state": {
            "_dom_classes": [],
            "_model_module": "@jupyter-widgets/controls",
            "_model_module_version": "1.5.0",
            "_model_name": "HBoxModel",
            "_view_count": null,
            "_view_module": "@jupyter-widgets/controls",
            "_view_module_version": "1.5.0",
            "_view_name": "HBoxView",
            "box_style": "",
            "children": [
              "IPY_MODEL_26b3e171633c438ca7420fa0ed2fc42a",
              "IPY_MODEL_34c725ba64b04f83b81e48e3f6198db4",
              "IPY_MODEL_7d314f9c88b24b8cb3ed8874aca1b4a3"
            ],
            "layout": "IPY_MODEL_3f5ddc32f0a9464ab44cf7efa371c734"
          }
        },
        "26b3e171633c438ca7420fa0ed2fc42a": {
          "model_module": "@jupyter-widgets/controls",
          "model_name": "HTMLModel",
          "model_module_version": "1.5.0",
          "state": {
            "_dom_classes": [],
            "_model_module": "@jupyter-widgets/controls",
            "_model_module_version": "1.5.0",
            "_model_name": "HTMLModel",
            "_view_count": null,
            "_view_module": "@jupyter-widgets/controls",
            "_view_module_version": "1.5.0",
            "_view_name": "HTMLView",
            "description": "",
            "description_tooltip": null,
            "layout": "IPY_MODEL_5a1b277c95d4451e970c482fe8ae22c7",
            "placeholder": "​",
            "style": "IPY_MODEL_49e01a8ee9014a60889e06df00b6b0ac",
            "value": "100%"
          }
        },
        "34c725ba64b04f83b81e48e3f6198db4": {
          "model_module": "@jupyter-widgets/controls",
          "model_name": "FloatProgressModel",
          "model_module_version": "1.5.0",
          "state": {
            "_dom_classes": [],
            "_model_module": "@jupyter-widgets/controls",
            "_model_module_version": "1.5.0",
            "_model_name": "FloatProgressModel",
            "_view_count": null,
            "_view_module": "@jupyter-widgets/controls",
            "_view_module_version": "1.5.0",
            "_view_name": "ProgressView",
            "bar_style": "success",
            "description": "",
            "description_tooltip": null,
            "layout": "IPY_MODEL_81759fd7172a4b68b8441d00567683c5",
            "max": 170498071,
            "min": 0,
            "orientation": "horizontal",
            "style": "IPY_MODEL_eaba61422dc04e5487d91fd5d2c7b739",
            "value": 170498071
          }
        },
        "7d314f9c88b24b8cb3ed8874aca1b4a3": {
          "model_module": "@jupyter-widgets/controls",
          "model_name": "HTMLModel",
          "model_module_version": "1.5.0",
          "state": {
            "_dom_classes": [],
            "_model_module": "@jupyter-widgets/controls",
            "_model_module_version": "1.5.0",
            "_model_name": "HTMLModel",
            "_view_count": null,
            "_view_module": "@jupyter-widgets/controls",
            "_view_module_version": "1.5.0",
            "_view_name": "HTMLView",
            "description": "",
            "description_tooltip": null,
            "layout": "IPY_MODEL_60ee1bb9f298434996eaaf5ff7f7f6b6",
            "placeholder": "​",
            "style": "IPY_MODEL_81e0aeb314084f3183dc67c5030efe7c",
            "value": " 170498071/170498071 [00:14&lt;00:00, 14674968.14it/s]"
          }
        },
        "3f5ddc32f0a9464ab44cf7efa371c734": {
          "model_module": "@jupyter-widgets/base",
          "model_name": "LayoutModel",
          "model_module_version": "1.2.0",
          "state": {
            "_model_module": "@jupyter-widgets/base",
            "_model_module_version": "1.2.0",
            "_model_name": "LayoutModel",
            "_view_count": null,
            "_view_module": "@jupyter-widgets/base",
            "_view_module_version": "1.2.0",
            "_view_name": "LayoutView",
            "align_content": null,
            "align_items": null,
            "align_self": null,
            "border": null,
            "bottom": null,
            "display": null,
            "flex": null,
            "flex_flow": null,
            "grid_area": null,
            "grid_auto_columns": null,
            "grid_auto_flow": null,
            "grid_auto_rows": null,
            "grid_column": null,
            "grid_gap": null,
            "grid_row": null,
            "grid_template_areas": null,
            "grid_template_columns": null,
            "grid_template_rows": null,
            "height": null,
            "justify_content": null,
            "justify_items": null,
            "left": null,
            "margin": null,
            "max_height": null,
            "max_width": null,
            "min_height": null,
            "min_width": null,
            "object_fit": null,
            "object_position": null,
            "order": null,
            "overflow": null,
            "overflow_x": null,
            "overflow_y": null,
            "padding": null,
            "right": null,
            "top": null,
            "visibility": null,
            "width": null
          }
        },
        "5a1b277c95d4451e970c482fe8ae22c7": {
          "model_module": "@jupyter-widgets/base",
          "model_name": "LayoutModel",
          "model_module_version": "1.2.0",
          "state": {
            "_model_module": "@jupyter-widgets/base",
            "_model_module_version": "1.2.0",
            "_model_name": "LayoutModel",
            "_view_count": null,
            "_view_module": "@jupyter-widgets/base",
            "_view_module_version": "1.2.0",
            "_view_name": "LayoutView",
            "align_content": null,
            "align_items": null,
            "align_self": null,
            "border": null,
            "bottom": null,
            "display": null,
            "flex": null,
            "flex_flow": null,
            "grid_area": null,
            "grid_auto_columns": null,
            "grid_auto_flow": null,
            "grid_auto_rows": null,
            "grid_column": null,
            "grid_gap": null,
            "grid_row": null,
            "grid_template_areas": null,
            "grid_template_columns": null,
            "grid_template_rows": null,
            "height": null,
            "justify_content": null,
            "justify_items": null,
            "left": null,
            "margin": null,
            "max_height": null,
            "max_width": null,
            "min_height": null,
            "min_width": null,
            "object_fit": null,
            "object_position": null,
            "order": null,
            "overflow": null,
            "overflow_x": null,
            "overflow_y": null,
            "padding": null,
            "right": null,
            "top": null,
            "visibility": null,
            "width": null
          }
        },
        "49e01a8ee9014a60889e06df00b6b0ac": {
          "model_module": "@jupyter-widgets/controls",
          "model_name": "DescriptionStyleModel",
          "model_module_version": "1.5.0",
          "state": {
            "_model_module": "@jupyter-widgets/controls",
            "_model_module_version": "1.5.0",
            "_model_name": "DescriptionStyleModel",
            "_view_count": null,
            "_view_module": "@jupyter-widgets/base",
            "_view_module_version": "1.2.0",
            "_view_name": "StyleView",
            "description_width": ""
          }
        },
        "81759fd7172a4b68b8441d00567683c5": {
          "model_module": "@jupyter-widgets/base",
          "model_name": "LayoutModel",
          "model_module_version": "1.2.0",
          "state": {
            "_model_module": "@jupyter-widgets/base",
            "_model_module_version": "1.2.0",
            "_model_name": "LayoutModel",
            "_view_count": null,
            "_view_module": "@jupyter-widgets/base",
            "_view_module_version": "1.2.0",
            "_view_name": "LayoutView",
            "align_content": null,
            "align_items": null,
            "align_self": null,
            "border": null,
            "bottom": null,
            "display": null,
            "flex": null,
            "flex_flow": null,
            "grid_area": null,
            "grid_auto_columns": null,
            "grid_auto_flow": null,
            "grid_auto_rows": null,
            "grid_column": null,
            "grid_gap": null,
            "grid_row": null,
            "grid_template_areas": null,
            "grid_template_columns": null,
            "grid_template_rows": null,
            "height": null,
            "justify_content": null,
            "justify_items": null,
            "left": null,
            "margin": null,
            "max_height": null,
            "max_width": null,
            "min_height": null,
            "min_width": null,
            "object_fit": null,
            "object_position": null,
            "order": null,
            "overflow": null,
            "overflow_x": null,
            "overflow_y": null,
            "padding": null,
            "right": null,
            "top": null,
            "visibility": null,
            "width": null
          }
        },
        "eaba61422dc04e5487d91fd5d2c7b739": {
          "model_module": "@jupyter-widgets/controls",
          "model_name": "ProgressStyleModel",
          "model_module_version": "1.5.0",
          "state": {
            "_model_module": "@jupyter-widgets/controls",
            "_model_module_version": "1.5.0",
            "_model_name": "ProgressStyleModel",
            "_view_count": null,
            "_view_module": "@jupyter-widgets/base",
            "_view_module_version": "1.2.0",
            "_view_name": "StyleView",
            "bar_color": null,
            "description_width": ""
          }
        },
        "60ee1bb9f298434996eaaf5ff7f7f6b6": {
          "model_module": "@jupyter-widgets/base",
          "model_name": "LayoutModel",
          "model_module_version": "1.2.0",
          "state": {
            "_model_module": "@jupyter-widgets/base",
            "_model_module_version": "1.2.0",
            "_model_name": "LayoutModel",
            "_view_count": null,
            "_view_module": "@jupyter-widgets/base",
            "_view_module_version": "1.2.0",
            "_view_name": "LayoutView",
            "align_content": null,
            "align_items": null,
            "align_self": null,
            "border": null,
            "bottom": null,
            "display": null,
            "flex": null,
            "flex_flow": null,
            "grid_area": null,
            "grid_auto_columns": null,
            "grid_auto_flow": null,
            "grid_auto_rows": null,
            "grid_column": null,
            "grid_gap": null,
            "grid_row": null,
            "grid_template_areas": null,
            "grid_template_columns": null,
            "grid_template_rows": null,
            "height": null,
            "justify_content": null,
            "justify_items": null,
            "left": null,
            "margin": null,
            "max_height": null,
            "max_width": null,
            "min_height": null,
            "min_width": null,
            "object_fit": null,
            "object_position": null,
            "order": null,
            "overflow": null,
            "overflow_x": null,
            "overflow_y": null,
            "padding": null,
            "right": null,
            "top": null,
            "visibility": null,
            "width": null
          }
        },
        "81e0aeb314084f3183dc67c5030efe7c": {
          "model_module": "@jupyter-widgets/controls",
          "model_name": "DescriptionStyleModel",
          "model_module_version": "1.5.0",
          "state": {
            "_model_module": "@jupyter-widgets/controls",
            "_model_module_version": "1.5.0",
            "_model_name": "DescriptionStyleModel",
            "_view_count": null,
            "_view_module": "@jupyter-widgets/base",
            "_view_module_version": "1.2.0",
            "_view_name": "StyleView",
            "description_width": ""
          }
        },
        "61c1d743f3df4db896c873786bad2866": {
          "model_module": "@jupyter-widgets/controls",
          "model_name": "HBoxModel",
          "model_module_version": "1.5.0",
          "state": {
            "_dom_classes": [],
            "_model_module": "@jupyter-widgets/controls",
            "_model_module_version": "1.5.0",
            "_model_name": "HBoxModel",
            "_view_count": null,
            "_view_module": "@jupyter-widgets/controls",
            "_view_module_version": "1.5.0",
            "_view_name": "HBoxView",
            "box_style": "",
            "children": [
              "IPY_MODEL_cb6a668807e34469af563209a7bcd670",
              "IPY_MODEL_395bbfd5ef7c404396c48c8358cd8a48",
              "IPY_MODEL_714b443d19a54435a15e372bee8a8857"
            ],
            "layout": "IPY_MODEL_90cd3e931bfc4ec8ba9f638f95b177aa"
          }
        },
        "cb6a668807e34469af563209a7bcd670": {
          "model_module": "@jupyter-widgets/controls",
          "model_name": "HTMLModel",
          "model_module_version": "1.5.0",
          "state": {
            "_dom_classes": [],
            "_model_module": "@jupyter-widgets/controls",
            "_model_module_version": "1.5.0",
            "_model_name": "HTMLModel",
            "_view_count": null,
            "_view_module": "@jupyter-widgets/controls",
            "_view_module_version": "1.5.0",
            "_view_name": "HTMLView",
            "description": "",
            "description_tooltip": null,
            "layout": "IPY_MODEL_d988bc35bc6a4be692086197cf26a021",
            "placeholder": "​",
            "style": "IPY_MODEL_d511faf8b54e405fbe7bd8eea0bace50",
            "value": "100%"
          }
        },
        "395bbfd5ef7c404396c48c8358cd8a48": {
          "model_module": "@jupyter-widgets/controls",
          "model_name": "FloatProgressModel",
          "model_module_version": "1.5.0",
          "state": {
            "_dom_classes": [],
            "_model_module": "@jupyter-widgets/controls",
            "_model_module_version": "1.5.0",
            "_model_name": "FloatProgressModel",
            "_view_count": null,
            "_view_module": "@jupyter-widgets/controls",
            "_view_module_version": "1.5.0",
            "_view_name": "ProgressView",
            "bar_style": "success",
            "description": "",
            "description_tooltip": null,
            "layout": "IPY_MODEL_9c1c4b1f5953476daa429018a8e7c476",
            "max": 182040794,
            "min": 0,
            "orientation": "horizontal",
            "style": "IPY_MODEL_26a036f35b1549d5a27db70ebbfde0dc",
            "value": 182040794
          }
        },
        "714b443d19a54435a15e372bee8a8857": {
          "model_module": "@jupyter-widgets/controls",
          "model_name": "HTMLModel",
          "model_module_version": "1.5.0",
          "state": {
            "_dom_classes": [],
            "_model_module": "@jupyter-widgets/controls",
            "_model_module_version": "1.5.0",
            "_model_name": "HTMLModel",
            "_view_count": null,
            "_view_module": "@jupyter-widgets/controls",
            "_view_module_version": "1.5.0",
            "_view_name": "HTMLView",
            "description": "",
            "description_tooltip": null,
            "layout": "IPY_MODEL_3563bc8d0f8d4852aec048eeb1558dc4",
            "placeholder": "​",
            "style": "IPY_MODEL_50d636a29da14230b379f2db04a0d0d8",
            "value": " 182040794/182040794 [00:15&lt;00:00, 17250469.98it/s]"
          }
        },
        "90cd3e931bfc4ec8ba9f638f95b177aa": {
          "model_module": "@jupyter-widgets/base",
          "model_name": "LayoutModel",
          "model_module_version": "1.2.0",
          "state": {
            "_model_module": "@jupyter-widgets/base",
            "_model_module_version": "1.2.0",
            "_model_name": "LayoutModel",
            "_view_count": null,
            "_view_module": "@jupyter-widgets/base",
            "_view_module_version": "1.2.0",
            "_view_name": "LayoutView",
            "align_content": null,
            "align_items": null,
            "align_self": null,
            "border": null,
            "bottom": null,
            "display": null,
            "flex": null,
            "flex_flow": null,
            "grid_area": null,
            "grid_auto_columns": null,
            "grid_auto_flow": null,
            "grid_auto_rows": null,
            "grid_column": null,
            "grid_gap": null,
            "grid_row": null,
            "grid_template_areas": null,
            "grid_template_columns": null,
            "grid_template_rows": null,
            "height": null,
            "justify_content": null,
            "justify_items": null,
            "left": null,
            "margin": null,
            "max_height": null,
            "max_width": null,
            "min_height": null,
            "min_width": null,
            "object_fit": null,
            "object_position": null,
            "order": null,
            "overflow": null,
            "overflow_x": null,
            "overflow_y": null,
            "padding": null,
            "right": null,
            "top": null,
            "visibility": null,
            "width": null
          }
        },
        "d988bc35bc6a4be692086197cf26a021": {
          "model_module": "@jupyter-widgets/base",
          "model_name": "LayoutModel",
          "model_module_version": "1.2.0",
          "state": {
            "_model_module": "@jupyter-widgets/base",
            "_model_module_version": "1.2.0",
            "_model_name": "LayoutModel",
            "_view_count": null,
            "_view_module": "@jupyter-widgets/base",
            "_view_module_version": "1.2.0",
            "_view_name": "LayoutView",
            "align_content": null,
            "align_items": null,
            "align_self": null,
            "border": null,
            "bottom": null,
            "display": null,
            "flex": null,
            "flex_flow": null,
            "grid_area": null,
            "grid_auto_columns": null,
            "grid_auto_flow": null,
            "grid_auto_rows": null,
            "grid_column": null,
            "grid_gap": null,
            "grid_row": null,
            "grid_template_areas": null,
            "grid_template_columns": null,
            "grid_template_rows": null,
            "height": null,
            "justify_content": null,
            "justify_items": null,
            "left": null,
            "margin": null,
            "max_height": null,
            "max_width": null,
            "min_height": null,
            "min_width": null,
            "object_fit": null,
            "object_position": null,
            "order": null,
            "overflow": null,
            "overflow_x": null,
            "overflow_y": null,
            "padding": null,
            "right": null,
            "top": null,
            "visibility": null,
            "width": null
          }
        },
        "d511faf8b54e405fbe7bd8eea0bace50": {
          "model_module": "@jupyter-widgets/controls",
          "model_name": "DescriptionStyleModel",
          "model_module_version": "1.5.0",
          "state": {
            "_model_module": "@jupyter-widgets/controls",
            "_model_module_version": "1.5.0",
            "_model_name": "DescriptionStyleModel",
            "_view_count": null,
            "_view_module": "@jupyter-widgets/base",
            "_view_module_version": "1.2.0",
            "_view_name": "StyleView",
            "description_width": ""
          }
        },
        "9c1c4b1f5953476daa429018a8e7c476": {
          "model_module": "@jupyter-widgets/base",
          "model_name": "LayoutModel",
          "model_module_version": "1.2.0",
          "state": {
            "_model_module": "@jupyter-widgets/base",
            "_model_module_version": "1.2.0",
            "_model_name": "LayoutModel",
            "_view_count": null,
            "_view_module": "@jupyter-widgets/base",
            "_view_module_version": "1.2.0",
            "_view_name": "LayoutView",
            "align_content": null,
            "align_items": null,
            "align_self": null,
            "border": null,
            "bottom": null,
            "display": null,
            "flex": null,
            "flex_flow": null,
            "grid_area": null,
            "grid_auto_columns": null,
            "grid_auto_flow": null,
            "grid_auto_rows": null,
            "grid_column": null,
            "grid_gap": null,
            "grid_row": null,
            "grid_template_areas": null,
            "grid_template_columns": null,
            "grid_template_rows": null,
            "height": null,
            "justify_content": null,
            "justify_items": null,
            "left": null,
            "margin": null,
            "max_height": null,
            "max_width": null,
            "min_height": null,
            "min_width": null,
            "object_fit": null,
            "object_position": null,
            "order": null,
            "overflow": null,
            "overflow_x": null,
            "overflow_y": null,
            "padding": null,
            "right": null,
            "top": null,
            "visibility": null,
            "width": null
          }
        },
        "26a036f35b1549d5a27db70ebbfde0dc": {
          "model_module": "@jupyter-widgets/controls",
          "model_name": "ProgressStyleModel",
          "model_module_version": "1.5.0",
          "state": {
            "_model_module": "@jupyter-widgets/controls",
            "_model_module_version": "1.5.0",
            "_model_name": "ProgressStyleModel",
            "_view_count": null,
            "_view_module": "@jupyter-widgets/base",
            "_view_module_version": "1.2.0",
            "_view_name": "StyleView",
            "bar_color": null,
            "description_width": ""
          }
        },
        "3563bc8d0f8d4852aec048eeb1558dc4": {
          "model_module": "@jupyter-widgets/base",
          "model_name": "LayoutModel",
          "model_module_version": "1.2.0",
          "state": {
            "_model_module": "@jupyter-widgets/base",
            "_model_module_version": "1.2.0",
            "_model_name": "LayoutModel",
            "_view_count": null,
            "_view_module": "@jupyter-widgets/base",
            "_view_module_version": "1.2.0",
            "_view_name": "LayoutView",
            "align_content": null,
            "align_items": null,
            "align_self": null,
            "border": null,
            "bottom": null,
            "display": null,
            "flex": null,
            "flex_flow": null,
            "grid_area": null,
            "grid_auto_columns": null,
            "grid_auto_flow": null,
            "grid_auto_rows": null,
            "grid_column": null,
            "grid_gap": null,
            "grid_row": null,
            "grid_template_areas": null,
            "grid_template_columns": null,
            "grid_template_rows": null,
            "height": null,
            "justify_content": null,
            "justify_items": null,
            "left": null,
            "margin": null,
            "max_height": null,
            "max_width": null,
            "min_height": null,
            "min_width": null,
            "object_fit": null,
            "object_position": null,
            "order": null,
            "overflow": null,
            "overflow_x": null,
            "overflow_y": null,
            "padding": null,
            "right": null,
            "top": null,
            "visibility": null,
            "width": null
          }
        },
        "50d636a29da14230b379f2db04a0d0d8": {
          "model_module": "@jupyter-widgets/controls",
          "model_name": "DescriptionStyleModel",
          "model_module_version": "1.5.0",
          "state": {
            "_model_module": "@jupyter-widgets/controls",
            "_model_module_version": "1.5.0",
            "_model_name": "DescriptionStyleModel",
            "_view_count": null,
            "_view_module": "@jupyter-widgets/base",
            "_view_module_version": "1.2.0",
            "_view_name": "StyleView",
            "description_width": ""
          }
        },
        "9b3ea9d03e43419c91af26a002916a87": {
          "model_module": "@jupyter-widgets/controls",
          "model_name": "HBoxModel",
          "model_module_version": "1.5.0",
          "state": {
            "_dom_classes": [],
            "_model_module": "@jupyter-widgets/controls",
            "_model_module_version": "1.5.0",
            "_model_name": "HBoxModel",
            "_view_count": null,
            "_view_module": "@jupyter-widgets/controls",
            "_view_module_version": "1.5.0",
            "_view_name": "HBoxView",
            "box_style": "",
            "children": [
              "IPY_MODEL_aeb44b2b24cd4f6aa86b30660f955e38",
              "IPY_MODEL_17bf01228c4747beb8365b1631e232a7",
              "IPY_MODEL_fa1e30dde09e487aa1b130e6415088ea"
            ],
            "layout": "IPY_MODEL_146a5a70653447cf86503f7b1db74485"
          }
        },
        "aeb44b2b24cd4f6aa86b30660f955e38": {
          "model_module": "@jupyter-widgets/controls",
          "model_name": "HTMLModel",
          "model_module_version": "1.5.0",
          "state": {
            "_dom_classes": [],
            "_model_module": "@jupyter-widgets/controls",
            "_model_module_version": "1.5.0",
            "_model_name": "HTMLModel",
            "_view_count": null,
            "_view_module": "@jupyter-widgets/controls",
            "_view_module_version": "1.5.0",
            "_view_name": "HTMLView",
            "description": "",
            "description_tooltip": null,
            "layout": "IPY_MODEL_6bc15fda61c547c6a5dc3e2c9837223a",
            "placeholder": "​",
            "style": "IPY_MODEL_915e060078a843e0aca19f92bf973054",
            "value": "100%"
          }
        },
        "17bf01228c4747beb8365b1631e232a7": {
          "model_module": "@jupyter-widgets/controls",
          "model_name": "FloatProgressModel",
          "model_module_version": "1.5.0",
          "state": {
            "_dom_classes": [],
            "_model_module": "@jupyter-widgets/controls",
            "_model_module_version": "1.5.0",
            "_model_name": "FloatProgressModel",
            "_view_count": null,
            "_view_module": "@jupyter-widgets/controls",
            "_view_module_version": "1.5.0",
            "_view_name": "ProgressView",
            "bar_style": "success",
            "description": "",
            "description_tooltip": null,
            "layout": "IPY_MODEL_cb8829b6b2e84902834aeaace3e0c05c",
            "max": 64275384,
            "min": 0,
            "orientation": "horizontal",
            "style": "IPY_MODEL_a4fd913cf8004663a88ec8d23eb79d39",
            "value": 64275384
          }
        },
        "fa1e30dde09e487aa1b130e6415088ea": {
          "model_module": "@jupyter-widgets/controls",
          "model_name": "HTMLModel",
          "model_module_version": "1.5.0",
          "state": {
            "_dom_classes": [],
            "_model_module": "@jupyter-widgets/controls",
            "_model_module_version": "1.5.0",
            "_model_name": "HTMLModel",
            "_view_count": null,
            "_view_module": "@jupyter-widgets/controls",
            "_view_module_version": "1.5.0",
            "_view_name": "HTMLView",
            "description": "",
            "description_tooltip": null,
            "layout": "IPY_MODEL_1c130abedd8749b7ae76eb4b202d16c2",
            "placeholder": "​",
            "style": "IPY_MODEL_275efd15100e4932b723fda2bef445cf",
            "value": " 64275384/64275384 [00:07&lt;00:00, 16793331.97it/s]"
          }
        },
        "146a5a70653447cf86503f7b1db74485": {
          "model_module": "@jupyter-widgets/base",
          "model_name": "LayoutModel",
          "model_module_version": "1.2.0",
          "state": {
            "_model_module": "@jupyter-widgets/base",
            "_model_module_version": "1.2.0",
            "_model_name": "LayoutModel",
            "_view_count": null,
            "_view_module": "@jupyter-widgets/base",
            "_view_module_version": "1.2.0",
            "_view_name": "LayoutView",
            "align_content": null,
            "align_items": null,
            "align_self": null,
            "border": null,
            "bottom": null,
            "display": null,
            "flex": null,
            "flex_flow": null,
            "grid_area": null,
            "grid_auto_columns": null,
            "grid_auto_flow": null,
            "grid_auto_rows": null,
            "grid_column": null,
            "grid_gap": null,
            "grid_row": null,
            "grid_template_areas": null,
            "grid_template_columns": null,
            "grid_template_rows": null,
            "height": null,
            "justify_content": null,
            "justify_items": null,
            "left": null,
            "margin": null,
            "max_height": null,
            "max_width": null,
            "min_height": null,
            "min_width": null,
            "object_fit": null,
            "object_position": null,
            "order": null,
            "overflow": null,
            "overflow_x": null,
            "overflow_y": null,
            "padding": null,
            "right": null,
            "top": null,
            "visibility": null,
            "width": null
          }
        },
        "6bc15fda61c547c6a5dc3e2c9837223a": {
          "model_module": "@jupyter-widgets/base",
          "model_name": "LayoutModel",
          "model_module_version": "1.2.0",
          "state": {
            "_model_module": "@jupyter-widgets/base",
            "_model_module_version": "1.2.0",
            "_model_name": "LayoutModel",
            "_view_count": null,
            "_view_module": "@jupyter-widgets/base",
            "_view_module_version": "1.2.0",
            "_view_name": "LayoutView",
            "align_content": null,
            "align_items": null,
            "align_self": null,
            "border": null,
            "bottom": null,
            "display": null,
            "flex": null,
            "flex_flow": null,
            "grid_area": null,
            "grid_auto_columns": null,
            "grid_auto_flow": null,
            "grid_auto_rows": null,
            "grid_column": null,
            "grid_gap": null,
            "grid_row": null,
            "grid_template_areas": null,
            "grid_template_columns": null,
            "grid_template_rows": null,
            "height": null,
            "justify_content": null,
            "justify_items": null,
            "left": null,
            "margin": null,
            "max_height": null,
            "max_width": null,
            "min_height": null,
            "min_width": null,
            "object_fit": null,
            "object_position": null,
            "order": null,
            "overflow": null,
            "overflow_x": null,
            "overflow_y": null,
            "padding": null,
            "right": null,
            "top": null,
            "visibility": null,
            "width": null
          }
        },
        "915e060078a843e0aca19f92bf973054": {
          "model_module": "@jupyter-widgets/controls",
          "model_name": "DescriptionStyleModel",
          "model_module_version": "1.5.0",
          "state": {
            "_model_module": "@jupyter-widgets/controls",
            "_model_module_version": "1.5.0",
            "_model_name": "DescriptionStyleModel",
            "_view_count": null,
            "_view_module": "@jupyter-widgets/base",
            "_view_module_version": "1.2.0",
            "_view_name": "StyleView",
            "description_width": ""
          }
        },
        "cb8829b6b2e84902834aeaace3e0c05c": {
          "model_module": "@jupyter-widgets/base",
          "model_name": "LayoutModel",
          "model_module_version": "1.2.0",
          "state": {
            "_model_module": "@jupyter-widgets/base",
            "_model_module_version": "1.2.0",
            "_model_name": "LayoutModel",
            "_view_count": null,
            "_view_module": "@jupyter-widgets/base",
            "_view_module_version": "1.2.0",
            "_view_name": "LayoutView",
            "align_content": null,
            "align_items": null,
            "align_self": null,
            "border": null,
            "bottom": null,
            "display": null,
            "flex": null,
            "flex_flow": null,
            "grid_area": null,
            "grid_auto_columns": null,
            "grid_auto_flow": null,
            "grid_auto_rows": null,
            "grid_column": null,
            "grid_gap": null,
            "grid_row": null,
            "grid_template_areas": null,
            "grid_template_columns": null,
            "grid_template_rows": null,
            "height": null,
            "justify_content": null,
            "justify_items": null,
            "left": null,
            "margin": null,
            "max_height": null,
            "max_width": null,
            "min_height": null,
            "min_width": null,
            "object_fit": null,
            "object_position": null,
            "order": null,
            "overflow": null,
            "overflow_x": null,
            "overflow_y": null,
            "padding": null,
            "right": null,
            "top": null,
            "visibility": null,
            "width": null
          }
        },
        "a4fd913cf8004663a88ec8d23eb79d39": {
          "model_module": "@jupyter-widgets/controls",
          "model_name": "ProgressStyleModel",
          "model_module_version": "1.5.0",
          "state": {
            "_model_module": "@jupyter-widgets/controls",
            "_model_module_version": "1.5.0",
            "_model_name": "ProgressStyleModel",
            "_view_count": null,
            "_view_module": "@jupyter-widgets/base",
            "_view_module_version": "1.2.0",
            "_view_name": "StyleView",
            "bar_color": null,
            "description_width": ""
          }
        },
        "1c130abedd8749b7ae76eb4b202d16c2": {
          "model_module": "@jupyter-widgets/base",
          "model_name": "LayoutModel",
          "model_module_version": "1.2.0",
          "state": {
            "_model_module": "@jupyter-widgets/base",
            "_model_module_version": "1.2.0",
            "_model_name": "LayoutModel",
            "_view_count": null,
            "_view_module": "@jupyter-widgets/base",
            "_view_module_version": "1.2.0",
            "_view_name": "LayoutView",
            "align_content": null,
            "align_items": null,
            "align_self": null,
            "border": null,
            "bottom": null,
            "display": null,
            "flex": null,
            "flex_flow": null,
            "grid_area": null,
            "grid_auto_columns": null,
            "grid_auto_flow": null,
            "grid_auto_rows": null,
            "grid_column": null,
            "grid_gap": null,
            "grid_row": null,
            "grid_template_areas": null,
            "grid_template_columns": null,
            "grid_template_rows": null,
            "height": null,
            "justify_content": null,
            "justify_items": null,
            "left": null,
            "margin": null,
            "max_height": null,
            "max_width": null,
            "min_height": null,
            "min_width": null,
            "object_fit": null,
            "object_position": null,
            "order": null,
            "overflow": null,
            "overflow_x": null,
            "overflow_y": null,
            "padding": null,
            "right": null,
            "top": null,
            "visibility": null,
            "width": null
          }
        },
        "275efd15100e4932b723fda2bef445cf": {
          "model_module": "@jupyter-widgets/controls",
          "model_name": "DescriptionStyleModel",
          "model_module_version": "1.5.0",
          "state": {
            "_model_module": "@jupyter-widgets/controls",
            "_model_module_version": "1.5.0",
            "_model_name": "DescriptionStyleModel",
            "_view_count": null,
            "_view_module": "@jupyter-widgets/base",
            "_view_module_version": "1.2.0",
            "_view_name": "StyleView",
            "description_width": ""
          }
        },
        "62a78b982d474a03950bc7c2ed0d05bd": {
          "model_module": "@jupyter-widgets/controls",
          "model_name": "HBoxModel",
          "model_module_version": "1.5.0",
          "state": {
            "_dom_classes": [],
            "_model_module": "@jupyter-widgets/controls",
            "_model_module_version": "1.5.0",
            "_model_name": "HBoxModel",
            "_view_count": null,
            "_view_module": "@jupyter-widgets/controls",
            "_view_module_version": "1.5.0",
            "_view_name": "HBoxView",
            "box_style": "",
            "children": [
              "IPY_MODEL_4b179e13e0c145bb9a1ce7df910ef826",
              "IPY_MODEL_5c2c440446d84a85807d8f5ac992f63b",
              "IPY_MODEL_acb6546c97e44755a79ae85797a5147b"
            ],
            "layout": "IPY_MODEL_341cfdc3a7c9486d8ccc0257d0d44a6b"
          }
        },
        "4b179e13e0c145bb9a1ce7df910ef826": {
          "model_module": "@jupyter-widgets/controls",
          "model_name": "HTMLModel",
          "model_module_version": "1.5.0",
          "state": {
            "_dom_classes": [],
            "_model_module": "@jupyter-widgets/controls",
            "_model_module_version": "1.5.0",
            "_model_name": "HTMLModel",
            "_view_count": null,
            "_view_module": "@jupyter-widgets/controls",
            "_view_module_version": "1.5.0",
            "_view_name": "HTMLView",
            "description": "",
            "description_tooltip": null,
            "layout": "IPY_MODEL_a337387e214d4cdab274527970a4f059",
            "placeholder": "​",
            "style": "IPY_MODEL_f909845cda6e41eda78f25e5a814eff8",
            "value": "100%"
          }
        },
        "5c2c440446d84a85807d8f5ac992f63b": {
          "model_module": "@jupyter-widgets/controls",
          "model_name": "FloatProgressModel",
          "model_module_version": "1.5.0",
          "state": {
            "_dom_classes": [],
            "_model_module": "@jupyter-widgets/controls",
            "_model_module_version": "1.5.0",
            "_model_name": "FloatProgressModel",
            "_view_count": null,
            "_view_module": "@jupyter-widgets/controls",
            "_view_module_version": "1.5.0",
            "_view_name": "ProgressView",
            "bar_style": "success",
            "description": "",
            "description_tooltip": null,
            "layout": "IPY_MODEL_3e001aa2134442959926fec532e64591",
            "max": 170498071,
            "min": 0,
            "orientation": "horizontal",
            "style": "IPY_MODEL_eaeb1159ad0540d0ab539f247ad7692c",
            "value": 170498071
          }
        },
        "acb6546c97e44755a79ae85797a5147b": {
          "model_module": "@jupyter-widgets/controls",
          "model_name": "HTMLModel",
          "model_module_version": "1.5.0",
          "state": {
            "_dom_classes": [],
            "_model_module": "@jupyter-widgets/controls",
            "_model_module_version": "1.5.0",
            "_model_name": "HTMLModel",
            "_view_count": null,
            "_view_module": "@jupyter-widgets/controls",
            "_view_module_version": "1.5.0",
            "_view_name": "HTMLView",
            "description": "",
            "description_tooltip": null,
            "layout": "IPY_MODEL_09f433cf99c245059470a1d10874c326",
            "placeholder": "​",
            "style": "IPY_MODEL_3665175b15cf469fb762a1cfb6d70768",
            "value": " 170498071/170498071 [00:13&lt;00:00, 13812704.07it/s]"
          }
        },
        "341cfdc3a7c9486d8ccc0257d0d44a6b": {
          "model_module": "@jupyter-widgets/base",
          "model_name": "LayoutModel",
          "model_module_version": "1.2.0",
          "state": {
            "_model_module": "@jupyter-widgets/base",
            "_model_module_version": "1.2.0",
            "_model_name": "LayoutModel",
            "_view_count": null,
            "_view_module": "@jupyter-widgets/base",
            "_view_module_version": "1.2.0",
            "_view_name": "LayoutView",
            "align_content": null,
            "align_items": null,
            "align_self": null,
            "border": null,
            "bottom": null,
            "display": null,
            "flex": null,
            "flex_flow": null,
            "grid_area": null,
            "grid_auto_columns": null,
            "grid_auto_flow": null,
            "grid_auto_rows": null,
            "grid_column": null,
            "grid_gap": null,
            "grid_row": null,
            "grid_template_areas": null,
            "grid_template_columns": null,
            "grid_template_rows": null,
            "height": null,
            "justify_content": null,
            "justify_items": null,
            "left": null,
            "margin": null,
            "max_height": null,
            "max_width": null,
            "min_height": null,
            "min_width": null,
            "object_fit": null,
            "object_position": null,
            "order": null,
            "overflow": null,
            "overflow_x": null,
            "overflow_y": null,
            "padding": null,
            "right": null,
            "top": null,
            "visibility": null,
            "width": null
          }
        },
        "a337387e214d4cdab274527970a4f059": {
          "model_module": "@jupyter-widgets/base",
          "model_name": "LayoutModel",
          "model_module_version": "1.2.0",
          "state": {
            "_model_module": "@jupyter-widgets/base",
            "_model_module_version": "1.2.0",
            "_model_name": "LayoutModel",
            "_view_count": null,
            "_view_module": "@jupyter-widgets/base",
            "_view_module_version": "1.2.0",
            "_view_name": "LayoutView",
            "align_content": null,
            "align_items": null,
            "align_self": null,
            "border": null,
            "bottom": null,
            "display": null,
            "flex": null,
            "flex_flow": null,
            "grid_area": null,
            "grid_auto_columns": null,
            "grid_auto_flow": null,
            "grid_auto_rows": null,
            "grid_column": null,
            "grid_gap": null,
            "grid_row": null,
            "grid_template_areas": null,
            "grid_template_columns": null,
            "grid_template_rows": null,
            "height": null,
            "justify_content": null,
            "justify_items": null,
            "left": null,
            "margin": null,
            "max_height": null,
            "max_width": null,
            "min_height": null,
            "min_width": null,
            "object_fit": null,
            "object_position": null,
            "order": null,
            "overflow": null,
            "overflow_x": null,
            "overflow_y": null,
            "padding": null,
            "right": null,
            "top": null,
            "visibility": null,
            "width": null
          }
        },
        "f909845cda6e41eda78f25e5a814eff8": {
          "model_module": "@jupyter-widgets/controls",
          "model_name": "DescriptionStyleModel",
          "model_module_version": "1.5.0",
          "state": {
            "_model_module": "@jupyter-widgets/controls",
            "_model_module_version": "1.5.0",
            "_model_name": "DescriptionStyleModel",
            "_view_count": null,
            "_view_module": "@jupyter-widgets/base",
            "_view_module_version": "1.2.0",
            "_view_name": "StyleView",
            "description_width": ""
          }
        },
        "3e001aa2134442959926fec532e64591": {
          "model_module": "@jupyter-widgets/base",
          "model_name": "LayoutModel",
          "model_module_version": "1.2.0",
          "state": {
            "_model_module": "@jupyter-widgets/base",
            "_model_module_version": "1.2.0",
            "_model_name": "LayoutModel",
            "_view_count": null,
            "_view_module": "@jupyter-widgets/base",
            "_view_module_version": "1.2.0",
            "_view_name": "LayoutView",
            "align_content": null,
            "align_items": null,
            "align_self": null,
            "border": null,
            "bottom": null,
            "display": null,
            "flex": null,
            "flex_flow": null,
            "grid_area": null,
            "grid_auto_columns": null,
            "grid_auto_flow": null,
            "grid_auto_rows": null,
            "grid_column": null,
            "grid_gap": null,
            "grid_row": null,
            "grid_template_areas": null,
            "grid_template_columns": null,
            "grid_template_rows": null,
            "height": null,
            "justify_content": null,
            "justify_items": null,
            "left": null,
            "margin": null,
            "max_height": null,
            "max_width": null,
            "min_height": null,
            "min_width": null,
            "object_fit": null,
            "object_position": null,
            "order": null,
            "overflow": null,
            "overflow_x": null,
            "overflow_y": null,
            "padding": null,
            "right": null,
            "top": null,
            "visibility": null,
            "width": null
          }
        },
        "eaeb1159ad0540d0ab539f247ad7692c": {
          "model_module": "@jupyter-widgets/controls",
          "model_name": "ProgressStyleModel",
          "model_module_version": "1.5.0",
          "state": {
            "_model_module": "@jupyter-widgets/controls",
            "_model_module_version": "1.5.0",
            "_model_name": "ProgressStyleModel",
            "_view_count": null,
            "_view_module": "@jupyter-widgets/base",
            "_view_module_version": "1.2.0",
            "_view_name": "StyleView",
            "bar_color": null,
            "description_width": ""
          }
        },
        "09f433cf99c245059470a1d10874c326": {
          "model_module": "@jupyter-widgets/base",
          "model_name": "LayoutModel",
          "model_module_version": "1.2.0",
          "state": {
            "_model_module": "@jupyter-widgets/base",
            "_model_module_version": "1.2.0",
            "_model_name": "LayoutModel",
            "_view_count": null,
            "_view_module": "@jupyter-widgets/base",
            "_view_module_version": "1.2.0",
            "_view_name": "LayoutView",
            "align_content": null,
            "align_items": null,
            "align_self": null,
            "border": null,
            "bottom": null,
            "display": null,
            "flex": null,
            "flex_flow": null,
            "grid_area": null,
            "grid_auto_columns": null,
            "grid_auto_flow": null,
            "grid_auto_rows": null,
            "grid_column": null,
            "grid_gap": null,
            "grid_row": null,
            "grid_template_areas": null,
            "grid_template_columns": null,
            "grid_template_rows": null,
            "height": null,
            "justify_content": null,
            "justify_items": null,
            "left": null,
            "margin": null,
            "max_height": null,
            "max_width": null,
            "min_height": null,
            "min_width": null,
            "object_fit": null,
            "object_position": null,
            "order": null,
            "overflow": null,
            "overflow_x": null,
            "overflow_y": null,
            "padding": null,
            "right": null,
            "top": null,
            "visibility": null,
            "width": null
          }
        },
        "3665175b15cf469fb762a1cfb6d70768": {
          "model_module": "@jupyter-widgets/controls",
          "model_name": "DescriptionStyleModel",
          "model_module_version": "1.5.0",
          "state": {
            "_model_module": "@jupyter-widgets/controls",
            "_model_module_version": "1.5.0",
            "_model_name": "DescriptionStyleModel",
            "_view_count": null,
            "_view_module": "@jupyter-widgets/base",
            "_view_module_version": "1.2.0",
            "_view_name": "StyleView",
            "description_width": ""
          }
        }
      }
    }
  },
  "nbformat": 4,
  "nbformat_minor": 0
}