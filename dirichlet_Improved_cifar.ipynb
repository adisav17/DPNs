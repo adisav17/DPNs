{
  "cells": [
    {
      "cell_type": "markdown",
      "metadata": {
        "id": "view-in-github",
        "colab_type": "text"
      },
      "source": [
        "<a href=\"https://colab.research.google.com/github/sakshamgarg/Augmenting-Dirichlet-Network/blob/main/dirichlet_Improved_cifar.ipynb\" target=\"_parent\"><img src=\"https://colab.research.google.com/assets/colab-badge.svg\" alt=\"Open In Colab\"/></a>"
      ]
    },
    {
      "cell_type": "code",
      "execution_count": null,
      "metadata": {
        "id": "gdT3OJiV2kU5"
      },
      "outputs": [],
      "source": [
        "# Utility.py File\n",
        "import torch\n",
        "import torch.nn as nn\n",
        "import torch.nn.functional as F\n",
        "import torch.optim as optim\n",
        "import seaborn as sns\n",
        "import torch.distributions as dist\n",
        "from mpl_toolkits import mplot3d\n",
        "from torch.distributions.dirichlet import Dirichlet\n",
        "\n",
        "from scipy.stats import multivariate_normal\n",
        "from scipy.stats import norm\n",
        "\n",
        "import torchvision\n",
        "import numpy as np\n",
        "import matplotlib.pyplot as plt\n",
        "from matplotlib import cm\n",
        "import sys\n",
        "import pandas as pd\n",
        "\n",
        "import torch\n",
        "import torch.nn as nn\n",
        "import torch.nn.functional as F\n",
        "import torch.optim as optim\n",
        "import torchvision.transforms as transforms\n",
        "\n",
        "from scipy.stats import multivariate_normal\n",
        "from scipy.stats import norm\n",
        "\n",
        "import matplotlib.pyplot as plt\n",
        "from matplotlib import cm\n",
        "import sys\n",
        "\n",
        "import torch.distributions as dist\n",
        "from torch.distributions.dirichlet import Dirichlet\n",
        "import torch\n",
        "import torch.nn as nn\n",
        "import torch.nn.functional as F\n",
        "import torch.optim as optim\n",
        "\n",
        "import torch.distributions as dist\n",
        "from torch.distributions.dirichlet import Dirichlet\n",
        "\n",
        "from sklearn.metrics import roc_auc_score, roc_curve\n",
        "from sklearn.metrics import precision_recall_curve, auc\n",
        "\n",
        "device = torch.device('cuda' if torch.cuda.is_available() else 'cpu')"
      ]
    },
    {
      "cell_type": "code",
      "execution_count": null,
      "metadata": {
        "id": "r46pM1SQ2y8R"
      },
      "outputs": [],
      "source": [
        "\n",
        "def plot_dir(alpha, size):\n",
        "  model = Dirichlet(torch.tensor(alpha))\n",
        "  sample = model.sample(torch.Size([size])).data\n",
        "  fig = plt.figure()\n",
        "  ax = plt.axes(projection='3d')\n",
        "  ax.scatter3D(sample[:, 0], sample[:, 1], sample[:, 2], color='red')\n",
        "  ax.plot([0, 0], [1, 0], [0, 1], linewidth=3, color='purple')\n",
        "  ax.plot([0, 1], [0, 0], [1, 0], linewidth=3, color='purple')\n",
        "  ax.plot([0, 1], [1, 0], [0, 0], linewidth=3, color='purple')\n",
        "  ax.set_xlim((0, 1))\n",
        "  ax.set_ylim((0, 1))\n",
        "  ax.set_zlim((0, 1))\n",
        "  ax.view_init(60, 35)\n",
        "\n",
        "\n",
        "def numpy_to_tensor(arr):\n",
        "  ret = torch.Tensor([arr])\n",
        "  return ret"
      ]
    },
    {
      "cell_type": "code",
      "execution_count": null,
      "metadata": {
        "id": "uEvCxWbi3IEX"
      },
      "outputs": [],
      "source": [
        "def target_alpha(targets):\n",
        "  target = targets.numpy()\n",
        "  def gen_onehot(category, total_cat=10):\n",
        "    label = np.ones(total_cat)\n",
        "    label[category] = 20\n",
        "    return label\n",
        "  target_alphas = []\n",
        "  for i in target:\n",
        "    if i==10:\n",
        "      target_alphas.append(torch.tensor(np.ones(10)))\n",
        "    else:\n",
        "      target_alphas.append(torch.tensor(gen_onehot(i)))\n",
        "  return torch.stack(target_alphas)"
      ]
    },
    {
      "cell_type": "code",
      "execution_count": null,
      "metadata": {
        "id": "xJDsz9GZ3RF8"
      },
      "outputs": [],
      "source": [
        "class PriorNet(nn.Module):\n",
        "    def __init__(self, input_dim=1, hidden_dim=1):\n",
        "        super().__init__()\n",
        "        self.fc1 = nn.Linear(input_dim, hidden_dim)\n",
        "        self.fc2 = nn.Linear(hidden_dim, 3)         # output_dim = 4\n",
        "\n",
        "    def forward(self, x):\n",
        "        x = F.relu(self.fc1(x))\n",
        "        x = self.fc2(x)\n",
        "        return x #F.softmax(x, dim=1)\n",
        "\n",
        "    def predict_alpha(self, x):\n",
        "      src = torch.Tensor(x).to(device)\n",
        "      output = torch.exp(self.forward(src))\n",
        "      return output\n",
        "\n",
        "    def predict_dir(self, x):\n",
        "      alpha = self.predict_alpha(x)\n",
        "      dirichlet = Dirichlet(alpha)\n",
        "      return dirichlet\n",
        "\n",
        "    def fit(self, epoch_num, optimizer, train_X, train_Y):\n",
        "      self.train()\n",
        "\n",
        "      n_train = len(train_X)\n",
        "\n",
        "      # Shuffle the input\n",
        "      index = np.arange(n_train)\n",
        "      np.random.shuffle(index)\n",
        "      train_x = train_X[index]\n",
        "      train_y = train_Y[index]\n",
        "\n",
        "      for epoch in range(epoch_num):\n",
        "        for i in range(n_train):\n",
        "          optimizer.zero_grad()\n",
        "          src = torch.Tensor(train_x[i:i+1]).to(device)\n",
        "          target = torch.Tensor(train_y[i:i+1]).to(device)\n",
        "          # Predicted alpha\n",
        "          output = torch.exp(self.forward(src))\n",
        "          dirichlet1 = Dirichlet(output)\n",
        "          dirichlet2 = Dirichlet(target)\n",
        "          loss = dist.kl.kl_divergence(dirichlet1, dirichlet2)\n",
        "          loss.backward()\n",
        "          optimizer.step()\n",
        "        print('Train Epoch: {} \\t Loss: {:.6f}'.format(epoch, loss.item()))\n",
        "    \n",
        "    def expected_entropy_from_alphas(self, alphas, alpha0):\n",
        "        return -torch.sum((alphas/alpha0)*(torch.digamma(alphas+1)-torch.digamma(alpha0+1)), dim=1)\n",
        "    \n",
        "    def categorical_entropy_torch(self, probs):\n",
        "        log_probs = torch.log(probs)\n",
        "        log_probs = torch.where(torch.isfinite(log_probs), log_probs, torch.zeros_like(log_probs))\n",
        "        entropy = -torch.sum(probs*log_probs, dim=1, keepdim=False)\n",
        "        return entropy\n",
        "\n",
        "    def mutual_information(self, x):\n",
        "        \n",
        "        alphas = self.predict_alpha(x)\n",
        "        alpha0 = torch.sum(alphas, dim=1, keepdim=True)\n",
        "        probs = alphas / alpha0\n",
        "\n",
        "        expected_entropy = self.expected_entropy_from_alphas(alphas, alpha0)\n",
        "        entropy_of_exp = self.categorical_entropy_torch(probs)\n",
        "        mutual_info = entropy_of_exp - expected_entropy\n",
        "        return mutual_info\n",
        "\n",
        "    def diffenrential_entropy(self, x):\n",
        "        alphas = self.predict_alpha(x)\n",
        "        alpha0 = torch.sum(alphas, dim=1, keepdim=True)\n",
        "        return torch.sum(\n",
        "            torch.lgamma(alphas)-(alphas-1)*(torch.digamma(alphas)-torch.digamma(alpha0)),\n",
        "            dim=1) - torch.lgamma(alpha0)\n",
        "\n",
        "    def entropy(self, x):\n",
        "        alphas = self.predict_alpha(x)\n",
        "        alpha0 = torch.sum(alphas, dim=1, keepdim=True)\n",
        "        probs = alphas / alpha0\n",
        "        ret = -torch.sum(probs*torch.log(probs), dim=1)\n",
        "        return ret\n"
      ]
    },
    {
      "cell_type": "code",
      "execution_count": null,
      "metadata": {
        "id": "7c5wtChz3XHF"
      },
      "outputs": [],
      "source": [
        "class PriorNet_CNN(PriorNet):\n",
        "    def __init__(self):\n",
        "        super().__init__()\n",
        "        # self.conv1 = nn.Conv2d(3, 10, kernel_size=5)\n",
        "        # self.conv2 = nn.Conv2d(10, 20, kernel_size=5)\n",
        "        # self.conv2_drop = nn.Dropout2d()\n",
        "        # self.fc1 = nn.Linear(16000, 50)\n",
        "        # self.fc2 = nn.Linear(50, 20)\n",
        "        # self.fc3 = nn.Linear(20, 10)\n",
        "        self.conv1 = nn.Conv2d(3, 32, kernel_size=3)\n",
        "        self.conv2 = nn.Conv2d(32, 64, kernel_size=3)\n",
        "        self.conv3 = nn.Conv2d(64, 128, kernel_size=3)\n",
        "        self.conv4 = nn.Conv2d(128, 256, kernel_size=3)\n",
        "        self.batchnorm1 = nn.BatchNorm2d(32)\n",
        "        self.batchnorm2 = nn.BatchNorm2d(64)\n",
        "        self.batchnorm3 = nn.BatchNorm2d(128)\n",
        "        self.batchnorm4 = nn.BatchNorm2d(256)\n",
        "        self.batchnormfc1 = nn.BatchNorm1d(512)\n",
        "        self.batchnormfc1 = nn.BatchNorm1d(256)\n",
        "        self.fc1 = nn.Linear(1024, 512)\n",
        "        self.fc3 = nn.Linear(512, 256)\n",
        "        self.fc2 = nn.Linear(256, 10)\n",
        "\n",
        "    def forward(self, x):\n",
        "        # x = F.relu(F.max_pool2d(self.conv1(x), 2))\n",
        "        # x = F.relu(F.max_pool2d(self.conv2_drop(self.conv2(x)), 2))\n",
        "        # x = x.view(-1, 16000)\n",
        "        # x = F.relu(self.fc1(x))\n",
        "        # x = F.dropout(x, training=self.training)\n",
        "        # x = self.fc2(x)\n",
        "        # x = self.fc3(x)\n",
        "        # return x\n",
        "        x = self.batchnorm1(F.relu((self.conv1(x))))\n",
        "        x = self.batchnorm2(F.relu(F.max_pool2d((self.conv2(x)), 2)))\n",
        "        x = self.batchnorm3(F.relu(F.max_pool2d((self.conv3(x)), 2)))\n",
        "        x = self.batchnorm4(F.relu(F.max_pool2d((self.conv4(x)), 2)))\n",
        "        x = torch.flatten(x, 1)\n",
        "        x = F.relu(self.fc1(x))\n",
        "        x = F.dropout(x, training=self.training)\n",
        "        x = F.relu(self.fc3(x))\n",
        "        x = F.dropout(x, training=self.training)\n",
        "        x = self.fc2(x)\n",
        "        return x\n",
        "\n",
        "    def fit(self, epoch_num, optimizer, train_all):\n",
        "      self.train()\n",
        "\n",
        "      # Shuffle the input\n",
        "      train_loader = torch.utils.data.DataLoader(train_all, \n",
        "                                                 batch_size=32, \n",
        "                                                 shuffle=True)\n",
        "\n",
        "      for epoch in range(epoch_num):\n",
        "        loss_total = 0\n",
        "        for batch_idx, (data, target) in enumerate(train_loader):\n",
        "\n",
        "          optimizer.zero_grad()\n",
        "\n",
        "          data = data.to(device)\n",
        "\n",
        "          # predict alpha\n",
        "          target_a = target_alpha(target)\n",
        "          target_a = target_a.to(device)\n",
        "          output_alpha = torch.exp(self.forward(data))\n",
        "          dirichlet1 = Dirichlet(output_alpha)\n",
        "          dirichlet2 = Dirichlet(target_a)\n",
        "\n",
        "          loss = torch.sum(dist.kl.kl_divergence(dirichlet1, dirichlet2))\n",
        "          loss_total += loss.item()\n",
        "          loss.backward()\n",
        "          optimizer.step()\n",
        "        print('Train Epoch: {} \\t Loss: {:.6f}'.format(epoch, loss_total/120000))\n",
        "    \n",
        "    def max_prob(self, x):\n",
        "        alphas = self.predict_alpha(x)\n",
        "        alpha0 = torch.sum(alphas, dim=1, keepdim=True)\n",
        "        probs = alphas / alpha0\n",
        "        conf = torch.max(probs, dim=1)\n",
        "        return conf.values\n"
      ]
    },
    {
      "cell_type": "code",
      "source": [
        "cifar_mean = (0.4914, 0.4822, 0.4465)\n",
        "cifar_std = (0.2470, 0.2435, 0.2616)                                             \n",
        "cifar_transform =  transforms.Compose(\n",
        "      [transforms.ToTensor(),\n",
        "     transforms.Normalize(cifar_mean, cifar_std)])"
      ],
      "metadata": {
        "id": "QCAzYkCzOJDb"
      },
      "execution_count": null,
      "outputs": []
    },
    {
      "cell_type": "code",
      "execution_count": null,
      "metadata": {
        "id": "lFL48Sr73m5A"
      },
      "outputs": [],
      "source": [
        "class DNN(nn.Module):\n",
        "    def __init__(self):\n",
        "        super().__init__()\n",
        "        # self.conv1 = nn.Conv2d(3, 6, 5)\n",
        "        # self.conv2 = nn.Conv2d(6, 16, 5)\n",
        "        # self.fc1   = nn.Linear(16*5*5, 120)\n",
        "        # self.fc2   = nn.Linear(120, 84)\n",
        "        # self.fc3   = nn.Linear(84, 10)\n",
        "\n",
        "        self.conv1 = nn.Conv2d(3, 32, kernel_size=3)\n",
        "        self.conv2 = nn.Conv2d(32, 64, kernel_size=3)\n",
        "        self.conv3 = nn.Conv2d(64, 128, kernel_size=3)\n",
        "        self.conv4 = nn.Conv2d(128, 256, kernel_size=3)\n",
        "        self.batchnorm1 = nn.BatchNorm2d(32)\n",
        "        self.batchnorm2 = nn.BatchNorm2d(64)\n",
        "        self.batchnorm3 = nn.BatchNorm2d(128)\n",
        "        self.batchnorm4 = nn.BatchNorm2d(256)\n",
        "        self.batchnormfc1 = nn.BatchNorm1d(512)\n",
        "        self.batchnormfc1 = nn.BatchNorm1d(256)\n",
        "        self.fc1 = nn.Linear(1024, 512)\n",
        "        self.fc3 = nn.Linear(512, 256)\n",
        "        self.fc2 = nn.Linear(256, 10)\n",
        "\n",
        "    def forward(self, x):\n",
        "        x = self.batchnorm1(F.relu((self.conv1(x))))\n",
        "        x = self.batchnorm2(F.relu(F.max_pool2d((self.conv2(x)), 2)))\n",
        "        x = self.batchnorm3(F.relu(F.max_pool2d((self.conv3(x)), 2)))\n",
        "        x = self.batchnorm4(F.relu(F.max_pool2d((self.conv4(x)), 2)))\n",
        "        x = torch.flatten(x, 1)\n",
        "        x = F.relu(self.fc1(x))\n",
        "        x = F.dropout(x, training=self.training)\n",
        "        x = F.relu(self.fc3(x))\n",
        "        x = F.dropout(x, training=self.training)\n",
        "        x = self.fc2(x)\n",
        "        # out = F.relu(self.conv1(x))\n",
        "        # out = F.max_pool2d(out, 2)\n",
        "        # out = F.relu(self.conv2(out))\n",
        "        # out = F.max_pool2d(out, 2)\n",
        "        # out = out.view(out.size(0), -1)\n",
        "        # out = F.relu(self.fc1(out))\n",
        "        # out = F.relu(self.fc2(out))\n",
        "        # out = self.fc3(out)\n",
        "        # return F.log_softmax(out)\n",
        "        return F.log_softmax(x,dim=1)\n",
        "\n",
        "        # x = F.relu(F.max_pool2d(self.conv1(x), 2))\n",
        "        # x = F.relu(F.max_pool2d(self.conv2_drop(self.conv2(x)), 2))\n",
        "        # x = x.view(-1, 20 * 5 * 5)\n",
        "        # x = F.relu(self.fc1(x))\n",
        "        # x = F.dropout(x, training=self.training)\n",
        "        # x = self.fc2(x)\n",
        "        # x = self.fc3(x)\n",
        "        # return F.log_softmax(x)\n",
        "\n",
        "    def fit(self, optimizer, epoch):\n",
        "      train_in = torchvision.datasets.CIFAR10('/files/', train=True, download=True,\n",
        "                                      transform=cifar_transform)\n",
        "      train_loader = torch.utils.data.DataLoader(train_in, batch_size=32, shuffle=True)\n",
        "      self.train()\n",
        "      for epoch_num in range(epoch):\n",
        "        loss_total = 0\n",
        "        for batch_idx, (data, target) in enumerate(train_loader):\n",
        "          optimizer.zero_grad()\n",
        "\n",
        "          data = data.to(device)\n",
        "          target = target.to(device)\n",
        "            \n",
        "          output = self.forward(data)\n",
        "          loss = F.nll_loss(output, target)\n",
        "          loss_total += loss.item()\n",
        "          loss.backward()\n",
        "          optimizer.step()\n",
        "        print('Train Epoch: {} \\t Loss: {:.6f}'.format(epoch_num, loss_total/120000))\n",
        "        \n",
        "\n",
        "    def test(self):\n",
        "      self.eval()\n",
        "      test_loss = 0\n",
        "      correct = 0\n",
        "      test_in_ = torchvision.datasets.CIFAR10('/files/', train=False, download=True,\n",
        "                                        transform=cifar_transform)\n",
        "      # print(test_in.data.shape)\n",
        "      test_loader = torch.utils.data.DataLoader(test_in_, batch_size=32, shuffle=True)\n",
        "      with torch.no_grad():\n",
        "        for data, target in test_loader:\n",
        "\n",
        "          data = data.to(device)\n",
        "          target = target.to(device)\n",
        "          output = self.forward(data)\n",
        "          # print(output)\n",
        "          # print(target)\n",
        "          # print(data.shape)\n",
        "          # print(output.shape)\n",
        "          # print(target.shape)\n",
        "          test_loss += F.nll_loss(output, target, size_average=False).item()\n",
        "          pred = output.data.max(1, keepdim=True)[1]\n",
        "          correct += pred.eq(target.data.view_as(pred)).sum()\n",
        "      test_loss /= len(test_loader.dataset)\n",
        "\n",
        "      print('\\nTest set: Avg. loss: {:.4f}, Accuracy: {}/{} ({:.0f}%)\\n'.format(\n",
        "          test_loss, correct, len(test_loader.dataset), 100. * correct / len(test_loader.dataset))\n",
        "      )\n",
        "\n",
        "    def predict_alpha(self, x):\n",
        "      self.eval()\n",
        "      src = torch.Tensor(x).to(device)\n",
        "      output = torch.exp(self.forward(src))\n",
        "      return output\n",
        "\n",
        "    def max_prob(self, x):\n",
        "        alphas = self.predict_alpha(x)\n",
        "        alpha0 = torch.sum(alphas, dim=1, keepdim=True)\n",
        "        probs = alphas / alpha0\n",
        "        conf = torch.max(probs, dim=1)\n",
        "        return conf.values\n",
        "\n",
        "    def entropy(self, x):\n",
        "        alphas = self.predict_alpha(x)\n",
        "        alpha0 = torch.sum(alphas, dim=1, keepdim=True)\n",
        "        probs = alphas / alpha0\n",
        "        ret = -torch.sum(probs*torch.log(probs), dim=1)\n",
        "        return ret\n"
      ]
    },
    {
      "cell_type": "code",
      "execution_count": null,
      "metadata": {
        "id": "s3zZapU731sI",
        "colab": {
          "base_uri": "https://localhost:8080/"
        },
        "outputId": "71025009-850b-4757-f311-0def220cf38e"
      },
      "outputs": [
        {
          "output_type": "stream",
          "name": "stdout",
          "text": [
            "Files already downloaded and verified\n",
            "Files already downloaded and verified\n",
            "Using downloaded and verified file: ./data/train_32x32.mat\n",
            "Using downloaded and verified file: ./data/test_32x32.mat\n"
          ]
        }
      ],
      "source": [
        "train_in = torchvision.datasets.CIFAR10('/files/', train=True, download=True,\n",
        "                                        transform=cifar_transform)\n",
        "\n",
        "test_in = torchvision.datasets.CIFAR10('/files/', train=False, download=True,\n",
        "                                        transform=cifar_transform)\n",
        "train_out = torchvision.datasets.SVHN('./data', split ='train', download=True,\n",
        "                                        transform=cifar_transform)\n",
        "test_out = torchvision.datasets.SVHN('./data', split ='test', download=True,\n",
        "                                        transform=cifar_transform)\n",
        "\n"
      ]
    },
    {
      "cell_type": "code",
      "source": [
        "print(torch.from_numpy(train_out.data).shape)\n",
        "print(torch.from_numpy(train_in.data).shape)\n",
        "\n",
        "print(torch.from_numpy(test_out.data).shape)\n",
        "print(torch.from_numpy(test_in.data).shape)"
      ],
      "metadata": {
        "colab": {
          "base_uri": "https://localhost:8080/"
        },
        "id": "qpSLDRTYd4f4",
        "outputId": "ad6e8b3f-55c2-44a4-8237-3525fcee157a"
      },
      "execution_count": null,
      "outputs": [
        {
          "output_type": "stream",
          "name": "stdout",
          "text": [
            "torch.Size([73257, 3, 32, 32])\n",
            "torch.Size([50000, 32, 32, 3])\n",
            "torch.Size([26032, 3, 32, 32])\n",
            "torch.Size([10000, 32, 32, 3])\n"
          ]
        }
      ]
    },
    {
      "cell_type": "code",
      "source": [
        "train_out.data = np.vstack(train_out.data).reshape(-1, 32, 32, 3)\n",
        "# test_out.data = np.vstack(test_out.data).reshape(-1, 32, 32, 3)\n",
        "print(torch.from_numpy(train_out.data).shape)\n",
        "print(torch.from_numpy(train_in.data).shape)\n",
        "\n",
        "print(torch.from_numpy(test_out.data).shape)\n",
        "print(torch.from_numpy(test_in.data).shape)"
      ],
      "metadata": {
        "colab": {
          "base_uri": "https://localhost:8080/"
        },
        "id": "fN2hndecOyC8",
        "outputId": "40eb0394-9e5d-4c53-93da-f4386916105f"
      },
      "execution_count": null,
      "outputs": [
        {
          "output_type": "stream",
          "name": "stdout",
          "text": [
            "torch.Size([73257, 32, 32, 3])\n",
            "torch.Size([50000, 32, 32, 3])\n",
            "torch.Size([26032, 3, 32, 32])\n",
            "torch.Size([10000, 32, 32, 3])\n"
          ]
        }
      ]
    },
    {
      "cell_type": "code",
      "source": [
        "train_in.data = torch.from_numpy(train_in.data)\n",
        "train_out.data = torch.from_numpy(train_out.data)"
      ],
      "metadata": {
        "id": "BNawK5OTdEVJ"
      },
      "execution_count": null,
      "outputs": []
    },
    {
      "cell_type": "code",
      "execution_count": null,
      "metadata": {
        "id": "CU_uTXTl36wm"
      },
      "outputs": [],
      "source": [
        "train_out.targets = torch.tensor(np.ones(len(train_out.labels))*10, dtype=torch.long)\n",
        "test_out.targets = torch.tensor(np.ones(len(test_out.labels))*10, dtype=torch.long)\n",
        "\n",
        "train_all = train_in\n",
        "train_all.data = torch.cat((train_in.data, train_out.data))\n",
        "train_all.targets = torch.cat((torch.IntTensor(np.array(train_in.targets)), train_out.targets)))\n",
        "train_all.data = train_all.data.cpu().detach().numpy()\n",
        "train_all.targets = train_all.targets.data.cpu().detach().numpy()"
      ]
    },
    {
      "cell_type": "code",
      "source": [
        "print(train_all.data.shape)"
      ],
      "metadata": {
        "colab": {
          "base_uri": "https://localhost:8080/"
        },
        "id": "ffeG5DRe0AtY",
        "outputId": "534dece2-8ca7-4bbd-8849-7d664bce0be3"
      },
      "execution_count": null,
      "outputs": [
        {
          "output_type": "stream",
          "name": "stdout",
          "text": [
            "(123257, 32, 32, 3)\n"
          ]
        }
      ]
    },
    {
      "cell_type": "code",
      "execution_count": null,
      "metadata": {
        "colab": {
          "base_uri": "https://localhost:8080/"
        },
        "id": "xEftRGVB3_EY",
        "outputId": "7d05d210-b94a-4454-aff8-22b4802b3d0e"
      },
      "outputs": [
        {
          "output_type": "stream",
          "name": "stdout",
          "text": [
            "Train Epoch: 0 \t Loss: 18.013435\n",
            "Train Epoch: 1 \t Loss: 11.836093\n",
            "Train Epoch: 2 \t Loss: 10.020044\n",
            "Train Epoch: 3 \t Loss: 8.581430\n",
            "Train Epoch: 4 \t Loss: 7.612537\n",
            "Train Epoch: 5 \t Loss: 6.824464\n",
            "Train Epoch: 6 \t Loss: 6.244492\n",
            "Train Epoch: 7 \t Loss: 5.744707\n",
            "Train Epoch: 8 \t Loss: 5.308050\n",
            "Train Epoch: 9 \t Loss: 4.947062\n",
            "Train Epoch: 10 \t Loss: 4.650488\n",
            "Train Epoch: 11 \t Loss: 4.378797\n",
            "Train Epoch: 12 \t Loss: 4.148765\n",
            "Train Epoch: 13 \t Loss: 3.916915\n",
            "Train Epoch: 14 \t Loss: 3.716497\n",
            "Train Epoch: 15 \t Loss: 3.606133\n",
            "Train Epoch: 16 \t Loss: 3.453809\n",
            "Train Epoch: 17 \t Loss: 3.318701\n",
            "Train Epoch: 18 \t Loss: 3.222665\n",
            "Train Epoch: 19 \t Loss: 3.077884\n",
            "Train Epoch: 20 \t Loss: 3.022358\n",
            "Train Epoch: 21 \t Loss: 2.944889\n",
            "Train Epoch: 22 \t Loss: 2.851599\n",
            "Train Epoch: 23 \t Loss: 2.800676\n",
            "Train Epoch: 24 \t Loss: 2.715148\n",
            "Train Epoch: 25 \t Loss: 2.660139\n",
            "Train Epoch: 26 \t Loss: 2.661542\n",
            "Train Epoch: 27 \t Loss: 2.588333\n",
            "Train Epoch: 28 \t Loss: 2.564966\n",
            "Train Epoch: 29 \t Loss: 2.529615\n"
          ]
        }
      ],
      "source": [
        "dpn = PriorNet_CNN()\n",
        "if torch.cuda.is_available(): dpn.cuda()\n",
        "optimizer = optim.Adam(dpn.parameters(), lr=0.001)\n",
        "\n",
        "dpn.fit(30, optimizer, train_all)"
      ]
    },
    {
      "cell_type": "code",
      "execution_count": null,
      "metadata": {
        "colab": {
          "base_uri": "https://localhost:8080/"
        },
        "id": "alDv3Rt_6-Zg",
        "outputId": "4f74672a-a030-4976-874b-d288f5fe2dc5"
      },
      "outputs": [
        {
          "output_type": "stream",
          "name": "stdout",
          "text": [
            "Files already downloaded and verified\n"
          ]
        },
        {
          "output_type": "stream",
          "name": "stderr",
          "text": [
            "/usr/local/lib/python3.7/dist-packages/torch/nn/_reduction.py:42: UserWarning: size_average and reduce args will be deprecated, please use reduction='sum' instead.\n",
            "  warnings.warn(warning.format(ret))\n"
          ]
        },
        {
          "output_type": "stream",
          "name": "stdout",
          "text": [
            "\n",
            "Test set: Avg. loss: 2.3032, Accuracy: 1000/10000 (10%)\n",
            "\n",
            "Files already downloaded and verified\n",
            "Train Epoch: 0 \t Loss: 0.016997\n",
            "Train Epoch: 1 \t Loss: 0.012087\n",
            "Train Epoch: 2 \t Loss: 0.010026\n",
            "Train Epoch: 3 \t Loss: 0.008592\n",
            "Train Epoch: 4 \t Loss: 0.007449\n",
            "Train Epoch: 5 \t Loss: 0.006512\n",
            "Train Epoch: 6 \t Loss: 0.005743\n",
            "Train Epoch: 7 \t Loss: 0.005165\n",
            "Train Epoch: 8 \t Loss: 0.004608\n",
            "Train Epoch: 9 \t Loss: 0.004296\n",
            "Train Epoch: 10 \t Loss: 0.003914\n",
            "Train Epoch: 11 \t Loss: 0.003427\n",
            "Train Epoch: 12 \t Loss: 0.003310\n",
            "Train Epoch: 13 \t Loss: 0.003010\n",
            "Train Epoch: 14 \t Loss: 0.002885\n",
            "Train Epoch: 15 \t Loss: 0.002642\n",
            "Train Epoch: 16 \t Loss: 0.002516\n",
            "Train Epoch: 17 \t Loss: 0.002298\n",
            "Train Epoch: 18 \t Loss: 0.002282\n",
            "Train Epoch: 19 \t Loss: 0.002189\n",
            "Train Epoch: 20 \t Loss: 0.002018\n",
            "Train Epoch: 21 \t Loss: 0.001945\n",
            "Train Epoch: 22 \t Loss: 0.001942\n",
            "Train Epoch: 23 \t Loss: 0.001767\n",
            "Train Epoch: 24 \t Loss: 0.001793\n",
            "Train Epoch: 25 \t Loss: 0.001734\n",
            "Train Epoch: 26 \t Loss: 0.001609\n",
            "Train Epoch: 27 \t Loss: 0.001581\n",
            "Train Epoch: 28 \t Loss: 0.001560\n",
            "Train Epoch: 29 \t Loss: 0.001541\n",
            "Files already downloaded and verified\n",
            "\n",
            "Test set: Avg. loss: 0.9473, Accuracy: 8102/10000 (81%)\n",
            "\n"
          ]
        }
      ],
      "source": [
        "dnn = DNN()\n",
        "if torch.cuda.is_available(): dnn.cuda()\n",
        "optimizer = optim.Adam(dnn.parameters(), lr=0.001)\n",
        "\n",
        "dnn.test()\n",
        "dnn.fit(optimizer, 30)\n",
        "dnn.test()"
      ]
    },
    {
      "cell_type": "code",
      "source": [
        "# train_in = torchvision.datasets.CIFAR10('/files/', train=True, download=True,\n",
        "#                                         transform=cifar_transform)\n",
        "\n",
        "# test_in = torchvision.datasets.CIFAR10('/files/', train=False, download=True,\n",
        "#                                         transform=cifar_transform)\n",
        "# train_out = torchvision.datasets.SVHN('./data', split ='train', download=True,\n",
        "#                                         transform=cifar_transform)\n",
        "# test_out = torchvision.datasets.SVHN('./data', split ='test', download=True,\n",
        "#                                         transform=cifar_transform)"
      ],
      "metadata": {
        "id": "juZHU7EJQ7To"
      },
      "execution_count": null,
      "outputs": []
    },
    {
      "cell_type": "code",
      "source": [
        "test_in.data = np.vstack(test_in.data).reshape(-1, 3, 32, 32)\n",
        "test_in.targets = torch.IntTensor(np.array(test_in.targets))"
      ],
      "metadata": {
        "id": "FrZgu_BW1_uj"
      },
      "execution_count": null,
      "outputs": []
    },
    {
      "cell_type": "code",
      "source": [
        "print(type(test_in.targets))"
      ],
      "metadata": {
        "colab": {
          "base_uri": "https://localhost:8080/"
        },
        "id": "gX4B2vTO4FsY",
        "outputId": "8048e9ac-f79f-427b-9493-d8373f91f953"
      },
      "execution_count": null,
      "outputs": [
        {
          "output_type": "stream",
          "name": "stdout",
          "text": [
            "<class 'torch.Tensor'>\n"
          ]
        }
      ]
    },
    {
      "cell_type": "code",
      "execution_count": null,
      "metadata": {
        "id": "Jq3k9nph4IKa"
      },
      "outputs": [],
      "source": [
        "# miscood.py\n",
        "\n",
        "def uncertainty_score(model, test_data, metrics):\n",
        "  model.eval()\n",
        "  score_lst = []\n",
        "  for x in test_data:\n",
        "    x = [x]\n",
        "    with torch.no_grad():\n",
        "      if metrics=='DE':\n",
        "        score = model.diffenrential_entropy(x).data.cpu().numpy()[0][0]\n",
        "      elif metrics=='MI':\n",
        "        score = model.mutual_information(x).data.cpu().numpy()[0]\n",
        "      elif metrics=='MAXP':\n",
        "        score = model.max_prob(x).data.cpu().numpy()[0]\n",
        "      elif metrics=='ENT':\n",
        "        score = model.entropy(x).data.cpu().numpy()[0]\n",
        "    score_lst.append(score)\n",
        "  return score_lst\n",
        "\n",
        "\n",
        "def get_ood_label_score(test_in_score, test_out_score):\n",
        "  score = np.concatenate([test_in_score, test_out_score])\n",
        "  label = np.concatenate((np.zeros(len(test_in_score)), np.ones(len(test_out_score))))\n",
        "  return label, score\n",
        "  \n",
        "def get_misc_label_score(model, test_data, test_label, test_in_score):\n",
        "  misc_label = np.zeros(len(test_label))\n",
        "\n",
        "  for i in range(len(test_data)):\n",
        "    x = test_data[i]\n",
        "    x = [x]\n",
        "    with torch.no_grad():\n",
        "      pred = model.predict_alpha(x)\n",
        "      pred_class = torch.max(pred[0], 0).indices\n",
        "      misc_label[i] = 1-torch.eq(test_label[i], pred_class).sum().cpu().numpy()\n",
        "\n",
        "  return misc_label, np.array(test_in_score)\n",
        "\n",
        "def plot_roc(label, score, label_name):\n",
        "  fpr, tpr, thresholds = roc_curve(label, score)\n",
        "  plt.plot(fpr, tpr, label=label_name)\n",
        "  plt.xlabel('False Positive')\n",
        "  plt.ylabel('True Positive')\n",
        "  plt.title('ROC')\n",
        "  plt.ylim(0.0, 1.0)\n",
        "  plt.xlim(0.0, 1.0)\n",
        "\n",
        "def plot_pr(label, score, label_name):\n",
        "  precision, recall, thresholds = precision_recall_curve(label, score)\n",
        "  plt.plot(recall, precision, label=label_name)\n",
        "  plt.xlabel('Recall')\n",
        "  plt.ylabel('Precision')\n",
        "  plt.title('Precision-Recall Curve')\n",
        "  plt.ylim(0.0, 1.0)\n",
        "  plt.xlim(0.0, 1.0)\n",
        "\n",
        "\n",
        "def get_auroc_aupr(label, score):\n",
        "  #score[score==-np.inf] = -100\n",
        "  #score[score==np.inf] = 100\n",
        "\n",
        "  auroc = roc_auc_score(label, score)\n",
        "  precision, recall, thresholds = precision_recall_curve(label, score)\n",
        "  aupr = auc(recall, precision)\n",
        "  return auroc, aupr\n",
        "\n",
        "\n",
        "def get_test_roc_pr(network, metrics, detect='ood'):\n",
        "  test_in_score = uncertainty_score(network, test_in.data, metrics)\n",
        "  test_out_score = uncertainty_score(network, test_out.data, metrics)\n",
        "  if detect=='ood':\n",
        "    label_dp, score_dp = get_ood_label_score(test_in_score, test_out_score)\n",
        "  elif detect=='misc':\n",
        "    label_dp, score_dp = get_misc_label_score(network, test_in.data,\n",
        "                                              test_in.targets, test_in_score)\n",
        "  if metrics=='MAXP':\n",
        "    score_dp = -score_dp\n",
        "\n",
        "  index = np.isposinf(score_dp)\n",
        "  score_dp[np.isposinf(score_dp)] = 1e9\n",
        "  maximum = np.amax(score_dp)\n",
        "  score_dp[np.isposinf(score_dp)] = maximum + 1\n",
        "\n",
        "  index = np.isneginf(score_dp)\n",
        "  score_dp[np.isneginf(score_dp)] = -1e9\n",
        "  minimum = np.amin(score_dp)\n",
        "  score_dp[np.isneginf(score_dp)] = minimum - 1\n",
        "\n",
        "  score_dp[np.isnan(score_dp)] = 0\n",
        "\n",
        "  auroc, aupr = get_auroc_aupr(label_dp, score_dp)\n",
        "  return auroc, aupr, label_dp, score_dp"
      ]
    },
    {
      "cell_type": "code",
      "execution_count": null,
      "metadata": {
        "id": "oS8E0fjl44Cs"
      },
      "outputs": [],
      "source": [
        "auroc_mp, aupr_mp, label_mp, score_mp = get_test_roc_pr(dpn, 'MAXP', 'misc')\n",
        "auroc_ent, aupr_ent, label_ent, score_ent = get_test_roc_pr(dpn, 'ENT', 'misc')\n",
        "auroc_mi, aupr_mi, label_mi, score_mi = get_test_roc_pr(dpn, 'MI', 'misc')\n",
        "auroc_de, aupr_de, label_de, score_de = get_test_roc_pr(dpn, 'DE', 'misc')"
      ]
    },
    {
      "cell_type": "code",
      "execution_count": null,
      "metadata": {
        "colab": {
          "base_uri": "https://localhost:8080/",
          "height": 112
        },
        "id": "UyvPA0n-7eOv",
        "outputId": "b5bc953d-3dc0-4443-afd0-2424cdc86757"
      },
      "outputs": [
        {
          "output_type": "execute_result",
          "data": {
            "text/plain": [
              "          Max.P       Ent        MI     D.Ent\n",
              "AUROC  0.497249  0.496140  0.496264  0.496304\n",
              "AUPR   0.904678  0.904823  0.905064  0.904746"
            ],
            "text/html": [
              "\n",
              "  <div id=\"df-5488676e-99fc-4482-87b6-348fdde110f0\">\n",
              "    <div class=\"colab-df-container\">\n",
              "      <div>\n",
              "<style scoped>\n",
              "    .dataframe tbody tr th:only-of-type {\n",
              "        vertical-align: middle;\n",
              "    }\n",
              "\n",
              "    .dataframe tbody tr th {\n",
              "        vertical-align: top;\n",
              "    }\n",
              "\n",
              "    .dataframe thead th {\n",
              "        text-align: right;\n",
              "    }\n",
              "</style>\n",
              "<table border=\"1\" class=\"dataframe\">\n",
              "  <thead>\n",
              "    <tr style=\"text-align: right;\">\n",
              "      <th></th>\n",
              "      <th>Max.P</th>\n",
              "      <th>Ent</th>\n",
              "      <th>MI</th>\n",
              "      <th>D.Ent</th>\n",
              "    </tr>\n",
              "  </thead>\n",
              "  <tbody>\n",
              "    <tr>\n",
              "      <th>AUROC</th>\n",
              "      <td>0.497249</td>\n",
              "      <td>0.496140</td>\n",
              "      <td>0.496264</td>\n",
              "      <td>0.496304</td>\n",
              "    </tr>\n",
              "    <tr>\n",
              "      <th>AUPR</th>\n",
              "      <td>0.904678</td>\n",
              "      <td>0.904823</td>\n",
              "      <td>0.905064</td>\n",
              "      <td>0.904746</td>\n",
              "    </tr>\n",
              "  </tbody>\n",
              "</table>\n",
              "</div>\n",
              "      <button class=\"colab-df-convert\" onclick=\"convertToInteractive('df-5488676e-99fc-4482-87b6-348fdde110f0')\"\n",
              "              title=\"Convert this dataframe to an interactive table.\"\n",
              "              style=\"display:none;\">\n",
              "        \n",
              "  <svg xmlns=\"http://www.w3.org/2000/svg\" height=\"24px\"viewBox=\"0 0 24 24\"\n",
              "       width=\"24px\">\n",
              "    <path d=\"M0 0h24v24H0V0z\" fill=\"none\"/>\n",
              "    <path d=\"M18.56 5.44l.94 2.06.94-2.06 2.06-.94-2.06-.94-.94-2.06-.94 2.06-2.06.94zm-11 1L8.5 8.5l.94-2.06 2.06-.94-2.06-.94L8.5 2.5l-.94 2.06-2.06.94zm10 10l.94 2.06.94-2.06 2.06-.94-2.06-.94-.94-2.06-.94 2.06-2.06.94z\"/><path d=\"M17.41 7.96l-1.37-1.37c-.4-.4-.92-.59-1.43-.59-.52 0-1.04.2-1.43.59L10.3 9.45l-7.72 7.72c-.78.78-.78 2.05 0 2.83L4 21.41c.39.39.9.59 1.41.59.51 0 1.02-.2 1.41-.59l7.78-7.78 2.81-2.81c.8-.78.8-2.07 0-2.86zM5.41 20L4 18.59l7.72-7.72 1.47 1.35L5.41 20z\"/>\n",
              "  </svg>\n",
              "      </button>\n",
              "      \n",
              "  <style>\n",
              "    .colab-df-container {\n",
              "      display:flex;\n",
              "      flex-wrap:wrap;\n",
              "      gap: 12px;\n",
              "    }\n",
              "\n",
              "    .colab-df-convert {\n",
              "      background-color: #E8F0FE;\n",
              "      border: none;\n",
              "      border-radius: 50%;\n",
              "      cursor: pointer;\n",
              "      display: none;\n",
              "      fill: #1967D2;\n",
              "      height: 32px;\n",
              "      padding: 0 0 0 0;\n",
              "      width: 32px;\n",
              "    }\n",
              "\n",
              "    .colab-df-convert:hover {\n",
              "      background-color: #E2EBFA;\n",
              "      box-shadow: 0px 1px 2px rgba(60, 64, 67, 0.3), 0px 1px 3px 1px rgba(60, 64, 67, 0.15);\n",
              "      fill: #174EA6;\n",
              "    }\n",
              "\n",
              "    [theme=dark] .colab-df-convert {\n",
              "      background-color: #3B4455;\n",
              "      fill: #D2E3FC;\n",
              "    }\n",
              "\n",
              "    [theme=dark] .colab-df-convert:hover {\n",
              "      background-color: #434B5C;\n",
              "      box-shadow: 0px 1px 3px 1px rgba(0, 0, 0, 0.15);\n",
              "      filter: drop-shadow(0px 1px 2px rgba(0, 0, 0, 0.3));\n",
              "      fill: #FFFFFF;\n",
              "    }\n",
              "  </style>\n",
              "\n",
              "      <script>\n",
              "        const buttonEl =\n",
              "          document.querySelector('#df-5488676e-99fc-4482-87b6-348fdde110f0 button.colab-df-convert');\n",
              "        buttonEl.style.display =\n",
              "          google.colab.kernel.accessAllowed ? 'block' : 'none';\n",
              "\n",
              "        async function convertToInteractive(key) {\n",
              "          const element = document.querySelector('#df-5488676e-99fc-4482-87b6-348fdde110f0');\n",
              "          const dataTable =\n",
              "            await google.colab.kernel.invokeFunction('convertToInteractive',\n",
              "                                                     [key], {});\n",
              "          if (!dataTable) return;\n",
              "\n",
              "          const docLinkHtml = 'Like what you see? Visit the ' +\n",
              "            '<a target=\"_blank\" href=https://colab.research.google.com/notebooks/data_table.ipynb>data table notebook</a>'\n",
              "            + ' to learn more about interactive tables.';\n",
              "          element.innerHTML = '';\n",
              "          dataTable['output_type'] = 'display_data';\n",
              "          await google.colab.output.renderOutput(dataTable, element);\n",
              "          const docLink = document.createElement('div');\n",
              "          docLink.innerHTML = docLinkHtml;\n",
              "          element.appendChild(docLink);\n",
              "        }\n",
              "      </script>\n",
              "    </div>\n",
              "  </div>\n",
              "  "
            ]
          },
          "metadata": {},
          "execution_count": 179
        }
      ],
      "source": [
        "auroc_lst = [auroc_mp, auroc_ent, auroc_mi, auroc_de]\n",
        "aupr_lst = [aupr_mp, aupr_ent, aupr_mi, aupr_de]\n",
        "\n",
        "pd.DataFrame(data=np.array([auroc_lst, aupr_lst]), \n",
        "             columns=['Max.P', 'Ent', 'MI', 'D.Ent'], \n",
        "             index=['AUROC', 'AUPR'])"
      ]
    },
    {
      "cell_type": "markdown",
      "metadata": {
        "id": "6_aBCtjY4wV_"
      },
      "source": [
        "ROC curve for DPN"
      ]
    },
    {
      "cell_type": "code",
      "execution_count": null,
      "metadata": {
        "colab": {
          "base_uri": "https://localhost:8080/",
          "height": 295
        },
        "id": "wPwtYoxm4qjc",
        "outputId": "a080f155-f0ac-45b7-eadf-3df4ad706afe"
      },
      "outputs": [
        {
          "output_type": "display_data",
          "data": {
            "text/plain": [
              "<Figure size 432x288 with 1 Axes>"
            ],
            "image/png": "[encoded data removed]"
          },
          "metadata": {
            "needs_background": "light"
          }
        }
      ],
      "source": [
        "plot_roc(label_mp, score_mp, label_name='MAX.P')\n",
        "plot_roc(label_ent, score_ent, label_name='ENT')\n",
        "plot_roc(label_mi, score_mi, label_name='MI')\n",
        "plot_roc(label_de, score_de, label_name='D.ENT')\n",
        "plt.legend()\n",
        "plt.show()"
      ]
    },
    {
      "cell_type": "markdown",
      "metadata": {
        "id": "UaR118vX4ylg"
      },
      "source": [
        "Precision-Recall for DPN"
      ]
    },
    {
      "cell_type": "code",
      "execution_count": null,
      "metadata": {
        "colab": {
          "base_uri": "https://localhost:8080/",
          "height": 295
        },
        "id": "Jz6yKSS94vph",
        "outputId": "d5722197-6d9b-4937-9049-d61e6feb1d64"
      },
      "outputs": [
        {
          "output_type": "display_data",
          "data": {
            "text/plain": [
              "<Figure size 432x288 with 1 Axes>"
            ],
            "image/png": "[encoded data removed]"
          },
          "metadata": {
            "needs_background": "light"
          }
        }
      ],
      "source": [
        "plot_pr(label_mp, score_mp, label_name='MAX.P')\n",
        "plot_pr(label_ent, score_ent, label_name='ENT')\n",
        "plot_pr(label_mi, score_mi, label_name='MI')\n",
        "plot_pr(label_de, score_de, label_name='D.ENT')\n",
        "plt.legend()\n",
        "plt.show()"
      ]
    },
    {
      "cell_type": "markdown",
      "metadata": {
        "id": "v4NEI2Vf720b"
      },
      "source": [
        "**DNN**"
      ]
    },
    {
      "cell_type": "code",
      "execution_count": null,
      "metadata": {
        "colab": {
          "base_uri": "https://localhost:8080/",
          "height": 112
        },
        "id": "KxM8UCfa716Y",
        "outputId": "987f514b-fa4e-4e69-b99c-2c0f3e542167"
      },
      "outputs": [
        {
          "output_type": "execute_result",
          "data": {
            "text/plain": [
              "          Max.P       Ent\n",
              "AUROC  0.501848  0.509599\n",
              "AUPR   0.918580  0.921924"
            ],
            "text/html": [
              "\n",
              "  <div id=\"df-58522795-ec11-412d-ad7f-4d670767c8ed\">\n",
              "    <div class=\"colab-df-container\">\n",
              "      <div>\n",
              "<style scoped>\n",
              "    .dataframe tbody tr th:only-of-type {\n",
              "        vertical-align: middle;\n",
              "    }\n",
              "\n",
              "    .dataframe tbody tr th {\n",
              "        vertical-align: top;\n",
              "    }\n",
              "\n",
              "    .dataframe thead th {\n",
              "        text-align: right;\n",
              "    }\n",
              "</style>\n",
              "<table border=\"1\" class=\"dataframe\">\n",
              "  <thead>\n",
              "    <tr style=\"text-align: right;\">\n",
              "      <th></th>\n",
              "      <th>Max.P</th>\n",
              "      <th>Ent</th>\n",
              "    </tr>\n",
              "  </thead>\n",
              "  <tbody>\n",
              "    <tr>\n",
              "      <th>AUROC</th>\n",
              "      <td>0.501848</td>\n",
              "      <td>0.509599</td>\n",
              "    </tr>\n",
              "    <tr>\n",
              "      <th>AUPR</th>\n",
              "      <td>0.918580</td>\n",
              "      <td>0.921924</td>\n",
              "    </tr>\n",
              "  </tbody>\n",
              "</table>\n",
              "</div>\n",
              "      <button class=\"colab-df-convert\" onclick=\"convertToInteractive('df-58522795-ec11-412d-ad7f-4d670767c8ed')\"\n",
              "              title=\"Convert this dataframe to an interactive table.\"\n",
              "              style=\"display:none;\">\n",
              "        \n",
              "  <svg xmlns=\"http://www.w3.org/2000/svg\" height=\"24px\"viewBox=\"0 0 24 24\"\n",
              "       width=\"24px\">\n",
              "    <path d=\"M0 0h24v24H0V0z\" fill=\"none\"/>\n",
              "    <path d=\"M18.56 5.44l.94 2.06.94-2.06 2.06-.94-2.06-.94-.94-2.06-.94 2.06-2.06.94zm-11 1L8.5 8.5l.94-2.06 2.06-.94-2.06-.94L8.5 2.5l-.94 2.06-2.06.94zm10 10l.94 2.06.94-2.06 2.06-.94-2.06-.94-.94-2.06-.94 2.06-2.06.94z\"/><path d=\"M17.41 7.96l-1.37-1.37c-.4-.4-.92-.59-1.43-.59-.52 0-1.04.2-1.43.59L10.3 9.45l-7.72 7.72c-.78.78-.78 2.05 0 2.83L4 21.41c.39.39.9.59 1.41.59.51 0 1.02-.2 1.41-.59l7.78-7.78 2.81-2.81c.8-.78.8-2.07 0-2.86zM5.41 20L4 18.59l7.72-7.72 1.47 1.35L5.41 20z\"/>\n",
              "  </svg>\n",
              "      </button>\n",
              "      \n",
              "  <style>\n",
              "    .colab-df-container {\n",
              "      display:flex;\n",
              "      flex-wrap:wrap;\n",
              "      gap: 12px;\n",
              "    }\n",
              "\n",
              "    .colab-df-convert {\n",
              "      background-color: #E8F0FE;\n",
              "      border: none;\n",
              "      border-radius: 50%;\n",
              "      cursor: pointer;\n",
              "      display: none;\n",
              "      fill: #1967D2;\n",
              "      height: 32px;\n",
              "      padding: 0 0 0 0;\n",
              "      width: 32px;\n",
              "    }\n",
              "\n",
              "    .colab-df-convert:hover {\n",
              "      background-color: #E2EBFA;\n",
              "      box-shadow: 0px 1px 2px rgba(60, 64, 67, 0.3), 0px 1px 3px 1px rgba(60, 64, 67, 0.15);\n",
              "      fill: #174EA6;\n",
              "    }\n",
              "\n",
              "    [theme=dark] .colab-df-convert {\n",
              "      background-color: #3B4455;\n",
              "      fill: #D2E3FC;\n",
              "    }\n",
              "\n",
              "    [theme=dark] .colab-df-convert:hover {\n",
              "      background-color: #434B5C;\n",
              "      box-shadow: 0px 1px 3px 1px rgba(0, 0, 0, 0.15);\n",
              "      filter: drop-shadow(0px 1px 2px rgba(0, 0, 0, 0.3));\n",
              "      fill: #FFFFFF;\n",
              "    }\n",
              "  </style>\n",
              "\n",
              "      <script>\n",
              "        const buttonEl =\n",
              "          document.querySelector('#df-58522795-ec11-412d-ad7f-4d670767c8ed button.colab-df-convert');\n",
              "        buttonEl.style.display =\n",
              "          google.colab.kernel.accessAllowed ? 'block' : 'none';\n",
              "\n",
              "        async function convertToInteractive(key) {\n",
              "          const element = document.querySelector('#df-58522795-ec11-412d-ad7f-4d670767c8ed');\n",
              "          const dataTable =\n",
              "            await google.colab.kernel.invokeFunction('convertToInteractive',\n",
              "                                                     [key], {});\n",
              "          if (!dataTable) return;\n",
              "\n",
              "          const docLinkHtml = 'Like what you see? Visit the ' +\n",
              "            '<a target=\"_blank\" href=https://colab.research.google.com/notebooks/data_table.ipynb>data table notebook</a>'\n",
              "            + ' to learn more about interactive tables.';\n",
              "          element.innerHTML = '';\n",
              "          dataTable['output_type'] = 'display_data';\n",
              "          await google.colab.output.renderOutput(dataTable, element);\n",
              "          const docLink = document.createElement('div');\n",
              "          docLink.innerHTML = docLinkHtml;\n",
              "          element.appendChild(docLink);\n",
              "        }\n",
              "      </script>\n",
              "    </div>\n",
              "  </div>\n",
              "  "
            ]
          },
          "metadata": {},
          "execution_count": 182
        }
      ],
      "source": [
        "auroc_mp, aupr_mp, _, _ = get_test_roc_pr(dnn, 'MAXP', 'misc')\n",
        "auroc_ent, aupr_ent, _, _ = get_test_roc_pr(dnn, 'ENT', 'misc')\n",
        "\n",
        "auroc_lst = [auroc_mp, auroc_ent]\n",
        "aupr_lst = [aupr_mp, aupr_ent]\n",
        "\n",
        "pd.DataFrame(data=np.array([auroc_lst, aupr_lst]), \n",
        "             columns=['Max.P', 'Ent'], \n",
        "             index=['AUROC', 'AUPR'])"
      ]
    },
    {
      "cell_type": "code",
      "execution_count": null,
      "metadata": {
        "id": "Hv6aM3kL9FFy",
        "colab": {
          "base_uri": "https://localhost:8080/"
        },
        "outputId": "eb39aac8-646f-4710-f5a3-4b6d0e4ff69e"
      },
      "outputs": [
        {
          "output_type": "stream",
          "name": "stdout",
          "text": [
            "Mounted at /content/drive\n"
          ]
        }
      ],
      "source": [
        "from google.colab import drive\n",
        "drive.mount('/content/drive')\n",
        "model_save_name_dpn = 'dpn_cifar.pt'\n",
        "path_dpn = F\"/content/drive/MyDrive/{model_save_name_dpn}\" \n",
        "torch.save(dpn.state_dict(), path_dpn)"
      ]
    },
    {
      "cell_type": "code",
      "source": [
        "model_save_name_dnn = 'dnn_cifar.pt'\n",
        "path_dnn = F\"/content/drive/MyDrive/{model_save_name_dnn}\" \n",
        "torch.save(dnn.state_dict(), path_dnn)"
      ],
      "metadata": {
        "id": "l387XTmGPR_j"
      },
      "execution_count": null,
      "outputs": []
    },
    {
      "cell_type": "code",
      "execution_count": null,
      "metadata": {
        "id": "GTPm7EK9-hbL"
      },
      "outputs": [],
      "source": [
        "# dpn.save('/content/drive/MyDrive/dpn_entire.pt')\n",
        "torch.save(dnn, '/content/drive/MyDrive/dnn_entire_cifar.pt')"
      ]
    },
    {
      "cell_type": "code",
      "source": [
        "torch.save(dpn, '/content/drive/MyDrive/dpn_entire_cifar.pt')"
      ],
      "metadata": {
        "id": "6RljHiswnS2_"
      },
      "execution_count": null,
      "outputs": []
    }
  ],
  "metadata": {
    "accelerator": "GPU",
    "colab": {
      "provenance": [],
      "include_colab_link": true
    },
    "gpuClass": "standard",
    "kernelspec": {
      "display_name": "Python 3",
      "name": "python3"
    },
    "language_info": {
      "name": "python"
    }
  },
  "nbformat": 4,
  "nbformat_minor": 0
}